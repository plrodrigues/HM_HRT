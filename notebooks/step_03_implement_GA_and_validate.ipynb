{
 "cells": [
  {
   "attachments": {},
   "cell_type": "markdown",
   "metadata": {},
   "source": [
    "# Implement the different parts and validations of GA"
   ]
  },
  {
   "cell_type": "code",
   "execution_count": 1,
   "metadata": {},
   "outputs": [],
   "source": [
    "%load_ext autoreload\n",
    "%autoreload 2\n",
    "%matplotlib inline\n",
    "\n",
    "%matplotlib widget"
   ]
  },
  {
   "cell_type": "code",
   "execution_count": 2,
   "metadata": {},
   "outputs": [
    {
     "data": {
      "text/html": [
       "\n",
       "                <script type=\"application/javascript\" id=\"jupyter_black\">\n",
       "                (function() {\n",
       "                    if (window.IPython === undefined) {\n",
       "                        return\n",
       "                    }\n",
       "                    var msg = \"WARNING: it looks like you might have loaded \" +\n",
       "                        \"jupyter_black in a non-lab notebook with \" +\n",
       "                        \"`is_lab=True`. Please double check, and if \" +\n",
       "                        \"loading with `%load_ext` please review the README!\"\n",
       "                    console.log(msg)\n",
       "                    alert(msg)\n",
       "                })()\n",
       "                </script>\n",
       "                "
      ],
      "text/plain": [
       "<IPython.core.display.HTML object>"
      ]
     },
     "metadata": {},
     "output_type": "display_data"
    }
   ],
   "source": [
    "import os\n",
    "import numpy as np\n",
    "import matplotlib.pyplot as plt\n",
    "import jupyter_black\n",
    "\n",
    "jupyter_black.load()\n",
    "\n",
    "# Project\n",
    "from src.data_connectors import read_input_files"
   ]
  },
  {
   "cell_type": "code",
   "execution_count": 3,
   "metadata": {},
   "outputs": [],
   "source": [
    "instance = 333\n",
    "instances_path = \"../data/input/HRTInstances\"\n",
    "ins_x = read_input_files.read_file(os.path.join(instances_path, f\"Instance_{instance}.txt\"))"
   ]
  },
  {
   "cell_type": "code",
   "execution_count": 4,
   "metadata": {},
   "outputs": [
    {
     "data": {
      "text/html": [
       "<div>\n",
       "<style scoped>\n",
       "    .dataframe tbody tr th:only-of-type {\n",
       "        vertical-align: middle;\n",
       "    }\n",
       "\n",
       "    .dataframe tbody tr th {\n",
       "        vertical-align: top;\n",
       "    }\n",
       "\n",
       "    .dataframe thead th {\n",
       "        text-align: right;\n",
       "    }\n",
       "</style>\n",
       "<table border=\"1\" class=\"dataframe\">\n",
       "  <thead>\n",
       "    <tr style=\"text-align: right;\">\n",
       "      <th></th>\n",
       "      <th>Humans</th>\n",
       "      <th>Robots</th>\n",
       "      <th>WorkingSpaces</th>\n",
       "    </tr>\n",
       "  </thead>\n",
       "  <tbody>\n",
       "    <tr>\n",
       "      <th>0</th>\n",
       "      <td>2</td>\n",
       "      <td>3</td>\n",
       "      <td>3</td>\n",
       "    </tr>\n",
       "  </tbody>\n",
       "</table>\n",
       "</div>"
      ],
      "text/plain": [
       "  Humans Robots WorkingSpaces\n",
       "0      2      3             3"
      ]
     },
     "execution_count": 4,
     "metadata": {},
     "output_type": "execute_result"
    }
   ],
   "source": [
    "ins_x.df_setup"
   ]
  },
  {
   "cell_type": "code",
   "execution_count": 5,
   "metadata": {},
   "outputs": [
    {
     "data": {
      "text/html": [
       "<div>\n",
       "<style scoped>\n",
       "    .dataframe tbody tr th:only-of-type {\n",
       "        vertical-align: middle;\n",
       "    }\n",
       "\n",
       "    .dataframe tbody tr th {\n",
       "        vertical-align: top;\n",
       "    }\n",
       "\n",
       "    .dataframe thead th {\n",
       "        text-align: right;\n",
       "    }\n",
       "</style>\n",
       "<table border=\"1\" class=\"dataframe\">\n",
       "  <thead>\n",
       "    <tr style=\"text-align: right;\">\n",
       "      <th></th>\n",
       "      <th>Type</th>\n",
       "      <th>Id</th>\n",
       "    </tr>\n",
       "  </thead>\n",
       "  <tbody>\n",
       "    <tr>\n",
       "      <th>0</th>\n",
       "      <td>H</td>\n",
       "      <td>0</td>\n",
       "    </tr>\n",
       "    <tr>\n",
       "      <th>1</th>\n",
       "      <td>H</td>\n",
       "      <td>1</td>\n",
       "    </tr>\n",
       "    <tr>\n",
       "      <th>2</th>\n",
       "      <td>R</td>\n",
       "      <td>2</td>\n",
       "    </tr>\n",
       "    <tr>\n",
       "      <th>3</th>\n",
       "      <td>R</td>\n",
       "      <td>3</td>\n",
       "    </tr>\n",
       "    <tr>\n",
       "      <th>4</th>\n",
       "      <td>R</td>\n",
       "      <td>4</td>\n",
       "    </tr>\n",
       "  </tbody>\n",
       "</table>\n",
       "</div>"
      ],
      "text/plain": [
       "  Type  Id\n",
       "0    H   0\n",
       "1    H   1\n",
       "2    R   2\n",
       "3    R   3\n",
       "4    R   4"
      ]
     },
     "execution_count": 5,
     "metadata": {},
     "output_type": "execute_result"
    }
   ],
   "source": [
    "ins_x.df_resources"
   ]
  },
  {
   "cell_type": "code",
   "execution_count": 6,
   "metadata": {},
   "outputs": [
    {
     "data": {
      "text/html": [
       "<div>\n",
       "<style scoped>\n",
       "    .dataframe tbody tr th:only-of-type {\n",
       "        vertical-align: middle;\n",
       "    }\n",
       "\n",
       "    .dataframe tbody tr th {\n",
       "        vertical-align: top;\n",
       "    }\n",
       "\n",
       "    .dataframe thead th {\n",
       "        text-align: right;\n",
       "    }\n",
       "</style>\n",
       "<table border=\"1\" class=\"dataframe\">\n",
       "  <thead>\n",
       "    <tr style=\"text-align: right;\">\n",
       "      <th></th>\n",
       "      <th>WorkingSpace</th>\n",
       "      <th>Resource</th>\n",
       "    </tr>\n",
       "  </thead>\n",
       "  <tbody>\n",
       "    <tr>\n",
       "      <th>0</th>\n",
       "      <td>1</td>\n",
       "      <td>2</td>\n",
       "    </tr>\n",
       "    <tr>\n",
       "      <th>1</th>\n",
       "      <td>1</td>\n",
       "      <td>0</td>\n",
       "    </tr>\n",
       "    <tr>\n",
       "      <th>2</th>\n",
       "      <td>1</td>\n",
       "      <td>1</td>\n",
       "    </tr>\n",
       "    <tr>\n",
       "      <th>3</th>\n",
       "      <td>2</td>\n",
       "      <td>3</td>\n",
       "    </tr>\n",
       "    <tr>\n",
       "      <th>4</th>\n",
       "      <td>2</td>\n",
       "      <td>0</td>\n",
       "    </tr>\n",
       "    <tr>\n",
       "      <th>5</th>\n",
       "      <td>2</td>\n",
       "      <td>1</td>\n",
       "    </tr>\n",
       "    <tr>\n",
       "      <th>6</th>\n",
       "      <td>3</td>\n",
       "      <td>4</td>\n",
       "    </tr>\n",
       "    <tr>\n",
       "      <th>7</th>\n",
       "      <td>3</td>\n",
       "      <td>0</td>\n",
       "    </tr>\n",
       "    <tr>\n",
       "      <th>8</th>\n",
       "      <td>3</td>\n",
       "      <td>1</td>\n",
       "    </tr>\n",
       "  </tbody>\n",
       "</table>\n",
       "</div>"
      ],
      "text/plain": [
       "   WorkingSpace  Resource\n",
       "0             1         2\n",
       "1             1         0\n",
       "2             1         1\n",
       "3             2         3\n",
       "4             2         0\n",
       "5             2         1\n",
       "6             3         4\n",
       "7             3         0\n",
       "8             3         1"
      ]
     },
     "execution_count": 6,
     "metadata": {},
     "output_type": "execute_result"
    }
   ],
   "source": [
    "ins_x.df_workingspace_resources"
   ]
  },
  {
   "cell_type": "code",
   "execution_count": 7,
   "metadata": {},
   "outputs": [
    {
     "data": {
      "text/html": [
       "<div>\n",
       "<style scoped>\n",
       "    .dataframe tbody tr th:only-of-type {\n",
       "        vertical-align: middle;\n",
       "    }\n",
       "\n",
       "    .dataframe tbody tr th {\n",
       "        vertical-align: top;\n",
       "    }\n",
       "\n",
       "    .dataframe thead th {\n",
       "        text-align: right;\n",
       "    }\n",
       "</style>\n",
       "<table border=\"1\" class=\"dataframe\">\n",
       "  <thead>\n",
       "    <tr style=\"text-align: right;\">\n",
       "      <th></th>\n",
       "      <th>WorkingSpace</th>\n",
       "      <th>Id</th>\n",
       "    </tr>\n",
       "  </thead>\n",
       "  <tbody>\n",
       "    <tr>\n",
       "      <th>0</th>\n",
       "      <td>1</td>\n",
       "      <td>1</td>\n",
       "    </tr>\n",
       "    <tr>\n",
       "      <th>1</th>\n",
       "      <td>1</td>\n",
       "      <td>2</td>\n",
       "    </tr>\n",
       "    <tr>\n",
       "      <th>2</th>\n",
       "      <td>1</td>\n",
       "      <td>3</td>\n",
       "    </tr>\n",
       "    <tr>\n",
       "      <th>3</th>\n",
       "      <td>1</td>\n",
       "      <td>4</td>\n",
       "    </tr>\n",
       "    <tr>\n",
       "      <th>4</th>\n",
       "      <td>1</td>\n",
       "      <td>5</td>\n",
       "    </tr>\n",
       "  </tbody>\n",
       "</table>\n",
       "</div>"
      ],
      "text/plain": [
       "   WorkingSpace  Id\n",
       "0             1   1\n",
       "1             1   2\n",
       "2             1   3\n",
       "3             1   4\n",
       "4             1   5"
      ]
     },
     "execution_count": 7,
     "metadata": {},
     "output_type": "execute_result"
    }
   ],
   "source": [
    "ins_x.df_workingspace_id.head()"
   ]
  },
  {
   "attachments": {},
   "cell_type": "markdown",
   "metadata": {},
   "source": [
    "## [Flow](https://miro.com/app/board/uXjVPyl00iw=/)\n",
    "\n",
    "1. Generate **Initial Population**\n",
    "2. Verify if order of genes is violating the precedence\n",
    "    1. Discard those that are violating the precedence\n",
    "3. Duplicate it for all the jobs in the same instance (SAC)\n",
    "4. Create the array of times (start and end), using the resources time estimator for the respective mode allocation\n",
    "5. **Fitness Function**: Compute the total time to complete all the jobs in all working spaces of same instance $\\Longrightarrow C$ \n",
    "6. **Selection**: Retain the genes with lower C (at maximum X)\n",
    "    1. Discard those that have larger C\n",
    "    2. Verify if new population has a significant improvement in total C from previous population.\n",
    "7. **Generate next population**:\n",
    "    1. **Crossover**: from survival chromosomes, create offsprings \n",
    "    2. **Mutation**: add mutation to the created offsprings (initially larger %, and decreases over time).\n",
    "8. Return to point **2**."
   ]
  },
  {
   "attachments": {},
   "cell_type": "markdown",
   "metadata": {},
   "source": [
    "### 0. The chromosome\n",
    "\n",
    "```python\n",
    "chromosome = {\n",
    "    'mode': [0, 1, 2, 2, 1, ... ], # resource ID\n",
    "    'order': [2, 3, 1, 4, 5, ...], # order of tasks of each position\n",
    "    }\n",
    "\n",
    "```"
   ]
  },
  {
   "cell_type": "code",
   "execution_count": 8,
   "metadata": {},
   "outputs": [],
   "source": [
    "from src.genetic_algorithm.chromosome import Chromosome"
   ]
  },
  {
   "attachments": {},
   "cell_type": "markdown",
   "metadata": {},
   "source": [
    "### 1. Generate initial population"
   ]
  },
  {
   "attachments": {},
   "cell_type": "markdown",
   "metadata": {},
   "source": [
    "By default, it generates population for 1 working space:\n",
    "\n",
    "**Note**:\n",
    "- *It is important to generate a large first population, because a lot chromosomes might not survived due to feasibility of solutions.*"
   ]
  },
  {
   "cell_type": "code",
   "execution_count": 9,
   "metadata": {},
   "outputs": [],
   "source": [
    "from src.genetic_algorithm import first_population\n",
    "\n",
    "# Modes\n",
    "possible_modes = first_population.get_possible_modes(ins_x)\n",
    "\n",
    "# Tasks\n",
    "n_tasks = first_population.get_total_number_of_tasks_per_working_space(ins_x)\n",
    "\n",
    "# Chromosomes\n",
    "chromosomes = first_population.get_first_population(possible_modes, n_tasks)"
   ]
  },
  {
   "cell_type": "code",
   "execution_count": null,
   "metadata": {},
   "outputs": [],
   "source": []
  },
  {
   "cell_type": "code",
   "execution_count": 26,
   "metadata": {},
   "outputs": [],
   "source": [
    "import random\n",
    "\n",
    "\n",
    "def sample_group(grp):\n",
    "    return grp.sample(1)\n",
    "\n",
    "\n",
    "sampled_rows = ins_x.df_resource_job_time.groupby(\"Job\").apply(sample_group)\n",
    "sampled_rows = sampled_rows.reset_index(level=1, drop=True)"
   ]
  },
  {
   "cell_type": "code",
   "execution_count": 27,
   "metadata": {},
   "outputs": [
    {
     "data": {
      "text/html": [
       "<div>\n",
       "<style scoped>\n",
       "    .dataframe tbody tr th:only-of-type {\n",
       "        vertical-align: middle;\n",
       "    }\n",
       "\n",
       "    .dataframe tbody tr th {\n",
       "        vertical-align: top;\n",
       "    }\n",
       "\n",
       "    .dataframe thead th {\n",
       "        text-align: right;\n",
       "    }\n",
       "</style>\n",
       "<table border=\"1\" class=\"dataframe\">\n",
       "  <thead>\n",
       "    <tr style=\"text-align: right;\">\n",
       "      <th></th>\n",
       "      <th>Resource</th>\n",
       "      <th>Job</th>\n",
       "      <th>Time</th>\n",
       "    </tr>\n",
       "    <tr>\n",
       "      <th>Job</th>\n",
       "      <th></th>\n",
       "      <th></th>\n",
       "      <th></th>\n",
       "    </tr>\n",
       "  </thead>\n",
       "  <tbody>\n",
       "    <tr>\n",
       "      <th>1</th>\n",
       "      <td>1</td>\n",
       "      <td>1</td>\n",
       "      <td>68</td>\n",
       "    </tr>\n",
       "    <tr>\n",
       "      <th>2</th>\n",
       "      <td>1</td>\n",
       "      <td>2</td>\n",
       "      <td>30</td>\n",
       "    </tr>\n",
       "    <tr>\n",
       "      <th>3</th>\n",
       "      <td>1</td>\n",
       "      <td>3</td>\n",
       "      <td>43</td>\n",
       "    </tr>\n",
       "    <tr>\n",
       "      <th>4</th>\n",
       "      <td>0</td>\n",
       "      <td>4</td>\n",
       "      <td>56</td>\n",
       "    </tr>\n",
       "    <tr>\n",
       "      <th>5</th>\n",
       "      <td>2</td>\n",
       "      <td>5</td>\n",
       "      <td>39</td>\n",
       "    </tr>\n",
       "    <tr>\n",
       "      <th>6</th>\n",
       "      <td>2</td>\n",
       "      <td>6</td>\n",
       "      <td>96</td>\n",
       "    </tr>\n",
       "    <tr>\n",
       "      <th>7</th>\n",
       "      <td>2</td>\n",
       "      <td>7</td>\n",
       "      <td>26</td>\n",
       "    </tr>\n",
       "    <tr>\n",
       "      <th>8</th>\n",
       "      <td>0</td>\n",
       "      <td>8</td>\n",
       "      <td>21</td>\n",
       "    </tr>\n",
       "    <tr>\n",
       "      <th>9</th>\n",
       "      <td>1</td>\n",
       "      <td>9</td>\n",
       "      <td>23</td>\n",
       "    </tr>\n",
       "    <tr>\n",
       "      <th>10</th>\n",
       "      <td>2</td>\n",
       "      <td>10</td>\n",
       "      <td>67</td>\n",
       "    </tr>\n",
       "    <tr>\n",
       "      <th>11</th>\n",
       "      <td>1</td>\n",
       "      <td>11</td>\n",
       "      <td>51</td>\n",
       "    </tr>\n",
       "    <tr>\n",
       "      <th>12</th>\n",
       "      <td>0</td>\n",
       "      <td>12</td>\n",
       "      <td>37</td>\n",
       "    </tr>\n",
       "    <tr>\n",
       "      <th>13</th>\n",
       "      <td>1</td>\n",
       "      <td>13</td>\n",
       "      <td>41</td>\n",
       "    </tr>\n",
       "    <tr>\n",
       "      <th>14</th>\n",
       "      <td>0</td>\n",
       "      <td>14</td>\n",
       "      <td>83</td>\n",
       "    </tr>\n",
       "    <tr>\n",
       "      <th>15</th>\n",
       "      <td>2</td>\n",
       "      <td>15</td>\n",
       "      <td>36</td>\n",
       "    </tr>\n",
       "    <tr>\n",
       "      <th>16</th>\n",
       "      <td>1</td>\n",
       "      <td>16</td>\n",
       "      <td>54</td>\n",
       "    </tr>\n",
       "    <tr>\n",
       "      <th>17</th>\n",
       "      <td>1</td>\n",
       "      <td>17</td>\n",
       "      <td>14</td>\n",
       "    </tr>\n",
       "    <tr>\n",
       "      <th>18</th>\n",
       "      <td>0</td>\n",
       "      <td>18</td>\n",
       "      <td>42</td>\n",
       "    </tr>\n",
       "    <tr>\n",
       "      <th>19</th>\n",
       "      <td>2</td>\n",
       "      <td>19</td>\n",
       "      <td>158</td>\n",
       "    </tr>\n",
       "    <tr>\n",
       "      <th>20</th>\n",
       "      <td>1</td>\n",
       "      <td>20</td>\n",
       "      <td>13</td>\n",
       "    </tr>\n",
       "    <tr>\n",
       "      <th>21</th>\n",
       "      <td>1</td>\n",
       "      <td>21</td>\n",
       "      <td>68</td>\n",
       "    </tr>\n",
       "    <tr>\n",
       "      <th>22</th>\n",
       "      <td>0</td>\n",
       "      <td>22</td>\n",
       "      <td>30</td>\n",
       "    </tr>\n",
       "    <tr>\n",
       "      <th>23</th>\n",
       "      <td>0</td>\n",
       "      <td>23</td>\n",
       "      <td>43</td>\n",
       "    </tr>\n",
       "    <tr>\n",
       "      <th>24</th>\n",
       "      <td>1</td>\n",
       "      <td>24</td>\n",
       "      <td>56</td>\n",
       "    </tr>\n",
       "    <tr>\n",
       "      <th>25</th>\n",
       "      <td>0</td>\n",
       "      <td>25</td>\n",
       "      <td>100</td>\n",
       "    </tr>\n",
       "    <tr>\n",
       "      <th>26</th>\n",
       "      <td>3</td>\n",
       "      <td>26</td>\n",
       "      <td>96</td>\n",
       "    </tr>\n",
       "    <tr>\n",
       "      <th>27</th>\n",
       "      <td>1</td>\n",
       "      <td>27</td>\n",
       "      <td>61</td>\n",
       "    </tr>\n",
       "    <tr>\n",
       "      <th>28</th>\n",
       "      <td>3</td>\n",
       "      <td>28</td>\n",
       "      <td>39</td>\n",
       "    </tr>\n",
       "    <tr>\n",
       "      <th>29</th>\n",
       "      <td>0</td>\n",
       "      <td>29</td>\n",
       "      <td>23</td>\n",
       "    </tr>\n",
       "    <tr>\n",
       "      <th>30</th>\n",
       "      <td>0</td>\n",
       "      <td>30</td>\n",
       "      <td>25</td>\n",
       "    </tr>\n",
       "    <tr>\n",
       "      <th>31</th>\n",
       "      <td>0</td>\n",
       "      <td>31</td>\n",
       "      <td>51</td>\n",
       "    </tr>\n",
       "    <tr>\n",
       "      <th>32</th>\n",
       "      <td>3</td>\n",
       "      <td>32</td>\n",
       "      <td>39</td>\n",
       "    </tr>\n",
       "    <tr>\n",
       "      <th>33</th>\n",
       "      <td>3</td>\n",
       "      <td>33</td>\n",
       "      <td>9</td>\n",
       "    </tr>\n",
       "    <tr>\n",
       "      <th>34</th>\n",
       "      <td>1</td>\n",
       "      <td>34</td>\n",
       "      <td>83</td>\n",
       "    </tr>\n",
       "    <tr>\n",
       "      <th>35</th>\n",
       "      <td>3</td>\n",
       "      <td>35</td>\n",
       "      <td>36</td>\n",
       "    </tr>\n",
       "    <tr>\n",
       "      <th>36</th>\n",
       "      <td>0</td>\n",
       "      <td>36</td>\n",
       "      <td>54</td>\n",
       "    </tr>\n",
       "    <tr>\n",
       "      <th>37</th>\n",
       "      <td>0</td>\n",
       "      <td>37</td>\n",
       "      <td>14</td>\n",
       "    </tr>\n",
       "    <tr>\n",
       "      <th>38</th>\n",
       "      <td>0</td>\n",
       "      <td>38</td>\n",
       "      <td>42</td>\n",
       "    </tr>\n",
       "    <tr>\n",
       "      <th>39</th>\n",
       "      <td>1</td>\n",
       "      <td>39</td>\n",
       "      <td>95</td>\n",
       "    </tr>\n",
       "    <tr>\n",
       "      <th>40</th>\n",
       "      <td>3</td>\n",
       "      <td>40</td>\n",
       "      <td>4</td>\n",
       "    </tr>\n",
       "    <tr>\n",
       "      <th>41</th>\n",
       "      <td>1</td>\n",
       "      <td>41</td>\n",
       "      <td>68</td>\n",
       "    </tr>\n",
       "    <tr>\n",
       "      <th>42</th>\n",
       "      <td>4</td>\n",
       "      <td>42</td>\n",
       "      <td>120</td>\n",
       "    </tr>\n",
       "    <tr>\n",
       "      <th>43</th>\n",
       "      <td>1</td>\n",
       "      <td>43</td>\n",
       "      <td>43</td>\n",
       "    </tr>\n",
       "    <tr>\n",
       "      <th>44</th>\n",
       "      <td>0</td>\n",
       "      <td>44</td>\n",
       "      <td>56</td>\n",
       "    </tr>\n",
       "    <tr>\n",
       "      <th>45</th>\n",
       "      <td>1</td>\n",
       "      <td>45</td>\n",
       "      <td>100</td>\n",
       "    </tr>\n",
       "    <tr>\n",
       "      <th>46</th>\n",
       "      <td>4</td>\n",
       "      <td>46</td>\n",
       "      <td>96</td>\n",
       "    </tr>\n",
       "    <tr>\n",
       "      <th>47</th>\n",
       "      <td>4</td>\n",
       "      <td>47</td>\n",
       "      <td>26</td>\n",
       "    </tr>\n",
       "    <tr>\n",
       "      <th>48</th>\n",
       "      <td>0</td>\n",
       "      <td>48</td>\n",
       "      <td>21</td>\n",
       "    </tr>\n",
       "    <tr>\n",
       "      <th>49</th>\n",
       "      <td>4</td>\n",
       "      <td>49</td>\n",
       "      <td>1</td>\n",
       "    </tr>\n",
       "    <tr>\n",
       "      <th>50</th>\n",
       "      <td>1</td>\n",
       "      <td>50</td>\n",
       "      <td>25</td>\n",
       "    </tr>\n",
       "    <tr>\n",
       "      <th>51</th>\n",
       "      <td>4</td>\n",
       "      <td>51</td>\n",
       "      <td>88</td>\n",
       "    </tr>\n",
       "    <tr>\n",
       "      <th>52</th>\n",
       "      <td>1</td>\n",
       "      <td>52</td>\n",
       "      <td>37</td>\n",
       "    </tr>\n",
       "    <tr>\n",
       "      <th>53</th>\n",
       "      <td>0</td>\n",
       "      <td>53</td>\n",
       "      <td>41</td>\n",
       "    </tr>\n",
       "    <tr>\n",
       "      <th>54</th>\n",
       "      <td>4</td>\n",
       "      <td>54</td>\n",
       "      <td>8</td>\n",
       "    </tr>\n",
       "    <tr>\n",
       "      <th>55</th>\n",
       "      <td>0</td>\n",
       "      <td>55</td>\n",
       "      <td>98</td>\n",
       "    </tr>\n",
       "    <tr>\n",
       "      <th>56</th>\n",
       "      <td>1</td>\n",
       "      <td>56</td>\n",
       "      <td>54</td>\n",
       "    </tr>\n",
       "    <tr>\n",
       "      <th>57</th>\n",
       "      <td>0</td>\n",
       "      <td>57</td>\n",
       "      <td>14</td>\n",
       "    </tr>\n",
       "    <tr>\n",
       "      <th>58</th>\n",
       "      <td>4</td>\n",
       "      <td>58</td>\n",
       "      <td>48</td>\n",
       "    </tr>\n",
       "    <tr>\n",
       "      <th>59</th>\n",
       "      <td>1</td>\n",
       "      <td>59</td>\n",
       "      <td>95</td>\n",
       "    </tr>\n",
       "    <tr>\n",
       "      <th>60</th>\n",
       "      <td>1</td>\n",
       "      <td>60</td>\n",
       "      <td>13</td>\n",
       "    </tr>\n",
       "  </tbody>\n",
       "</table>\n",
       "</div>"
      ],
      "text/plain": [
       "     Resource  Job  Time\n",
       "Job                     \n",
       "1           1    1    68\n",
       "2           1    2    30\n",
       "3           1    3    43\n",
       "4           0    4    56\n",
       "5           2    5    39\n",
       "6           2    6    96\n",
       "7           2    7    26\n",
       "8           0    8    21\n",
       "9           1    9    23\n",
       "10          2   10    67\n",
       "11          1   11    51\n",
       "12          0   12    37\n",
       "13          1   13    41\n",
       "14          0   14    83\n",
       "15          2   15    36\n",
       "16          1   16    54\n",
       "17          1   17    14\n",
       "18          0   18    42\n",
       "19          2   19   158\n",
       "20          1   20    13\n",
       "21          1   21    68\n",
       "22          0   22    30\n",
       "23          0   23    43\n",
       "24          1   24    56\n",
       "25          0   25   100\n",
       "26          3   26    96\n",
       "27          1   27    61\n",
       "28          3   28    39\n",
       "29          0   29    23\n",
       "30          0   30    25\n",
       "31          0   31    51\n",
       "32          3   32    39\n",
       "33          3   33     9\n",
       "34          1   34    83\n",
       "35          3   35    36\n",
       "36          0   36    54\n",
       "37          0   37    14\n",
       "38          0   38    42\n",
       "39          1   39    95\n",
       "40          3   40     4\n",
       "41          1   41    68\n",
       "42          4   42   120\n",
       "43          1   43    43\n",
       "44          0   44    56\n",
       "45          1   45   100\n",
       "46          4   46    96\n",
       "47          4   47    26\n",
       "48          0   48    21\n",
       "49          4   49     1\n",
       "50          1   50    25\n",
       "51          4   51    88\n",
       "52          1   52    37\n",
       "53          0   53    41\n",
       "54          4   54     8\n",
       "55          0   55    98\n",
       "56          1   56    54\n",
       "57          0   57    14\n",
       "58          4   58    48\n",
       "59          1   59    95\n",
       "60          1   60    13"
      ]
     },
     "execution_count": 27,
     "metadata": {},
     "output_type": "execute_result"
    }
   ],
   "source": [
    "sampled_rows"
   ]
  },
  {
   "cell_type": "code",
   "execution_count": 21,
   "metadata": {},
   "outputs": [
    {
     "data": {
      "text/html": [
       "<div>\n",
       "<style scoped>\n",
       "    .dataframe tbody tr th:only-of-type {\n",
       "        vertical-align: middle;\n",
       "    }\n",
       "\n",
       "    .dataframe tbody tr th {\n",
       "        vertical-align: top;\n",
       "    }\n",
       "\n",
       "    .dataframe thead th {\n",
       "        text-align: right;\n",
       "    }\n",
       "</style>\n",
       "<table border=\"1\" class=\"dataframe\">\n",
       "  <thead>\n",
       "    <tr style=\"text-align: right;\">\n",
       "      <th></th>\n",
       "      <th>x</th>\n",
       "      <th>y</th>\n",
       "    </tr>\n",
       "    <tr>\n",
       "      <th>x</th>\n",
       "      <th></th>\n",
       "      <th></th>\n",
       "    </tr>\n",
       "  </thead>\n",
       "  <tbody>\n",
       "    <tr>\n",
       "      <th>a</th>\n",
       "      <td>a</td>\n",
       "      <td>1</td>\n",
       "    </tr>\n",
       "    <tr>\n",
       "      <th>b</th>\n",
       "      <td>b</td>\n",
       "      <td>4</td>\n",
       "    </tr>\n",
       "  </tbody>\n",
       "</table>\n",
       "</div>"
      ],
      "text/plain": [
       "   x  y\n",
       "x      \n",
       "a  a  1\n",
       "b  b  4"
      ]
     },
     "execution_count": 21,
     "metadata": {},
     "output_type": "execute_result"
    }
   ],
   "source": [
    "import pandas as pd\n",
    "import random\n",
    "\n",
    "# create a DataFrame\n",
    "df = pd.DataFrame({\"x\": [\"a\", \"b\", \"a\", \"b\", \"a\", \"b\"], \"y\": [1, 2, 3, 4, 5, 6]})\n",
    "\n",
    "# define a function to sample a random row from a group\n",
    "def sample_group(grp):\n",
    "    return grp.sample(1)\n",
    "\n",
    "\n",
    "# group by 'x' and apply the function to each group\n",
    "sampled_rows = df.groupby(\"x\").apply(sample_group)\n",
    "\n",
    "# reset the index and drop the 'x' level from the index\n",
    "sampled_rows = sampled_rows.reset_index(level=1, drop=True)\n",
    "sampled_rows"
   ]
  },
  {
   "attachments": {},
   "cell_type": "markdown",
   "metadata": {},
   "source": [
    "### 2. Verify feasibility of solutions\n",
    "\n",
    "We need to verify:\n",
    "- the precedence is valid\n",
    "- the combination of modes and tasks is possible (the selected mode can perform the associated task) "
   ]
  },
  {
   "cell_type": "code",
   "execution_count": 10,
   "metadata": {},
   "outputs": [],
   "source": [
    "from src.genetic_algorithm import feasibility"
   ]
  },
  {
   "cell_type": "code",
   "execution_count": 11,
   "metadata": {},
   "outputs": [
    {
     "data": {
      "text/html": [
       "<div>\n",
       "<style scoped>\n",
       "    .dataframe tbody tr th:only-of-type {\n",
       "        vertical-align: middle;\n",
       "    }\n",
       "\n",
       "    .dataframe tbody tr th {\n",
       "        vertical-align: top;\n",
       "    }\n",
       "\n",
       "    .dataframe thead th {\n",
       "        text-align: right;\n",
       "    }\n",
       "</style>\n",
       "<table border=\"1\" class=\"dataframe\">\n",
       "  <thead>\n",
       "    <tr style=\"text-align: right;\">\n",
       "      <th></th>\n",
       "      <th>Predecessor</th>\n",
       "      <th>Sucessor</th>\n",
       "    </tr>\n",
       "  </thead>\n",
       "  <tbody>\n",
       "    <tr>\n",
       "      <th>0</th>\n",
       "      <td>1</td>\n",
       "      <td>2</td>\n",
       "    </tr>\n",
       "    <tr>\n",
       "      <th>1</th>\n",
       "      <td>2</td>\n",
       "      <td>3</td>\n",
       "    </tr>\n",
       "    <tr>\n",
       "      <th>2</th>\n",
       "      <td>3</td>\n",
       "      <td>4</td>\n",
       "    </tr>\n",
       "    <tr>\n",
       "      <th>3</th>\n",
       "      <td>1</td>\n",
       "      <td>4</td>\n",
       "    </tr>\n",
       "    <tr>\n",
       "      <th>4</th>\n",
       "      <td>1</td>\n",
       "      <td>5</td>\n",
       "    </tr>\n",
       "  </tbody>\n",
       "</table>\n",
       "</div>"
      ],
      "text/plain": [
       "   Predecessor  Sucessor\n",
       "0            1         2\n",
       "1            2         3\n",
       "2            3         4\n",
       "3            1         4\n",
       "4            1         5"
      ]
     },
     "execution_count": 11,
     "metadata": {},
     "output_type": "execute_result"
    }
   ],
   "source": [
    "ins_x.df_predecessor_sucessor.head()"
   ]
  },
  {
   "cell_type": "code",
   "execution_count": 12,
   "metadata": {},
   "outputs": [
    {
     "name": "stdout",
     "output_type": "stream",
     "text": [
      "From 6600 to 110\n"
     ]
    }
   ],
   "source": [
    "precedence_feasible_chromosomes = []\n",
    "for i in range(len(chromosomes)):\n",
    "    chrom = chromosomes[i]\n",
    "    if feasibility.is_chromosome_precedence_feasible(ins_x, chrom):\n",
    "        precedence_feasible_chromosomes.append(chrom)\n",
    "\n",
    "print(f\"From {len(chromosomes)} to {len(precedence_feasible_chromosomes)}\")"
   ]
  },
  {
   "cell_type": "code",
   "execution_count": 13,
   "metadata": {},
   "outputs": [
    {
     "name": "stdout",
     "output_type": "stream",
     "text": [
      "From 110 to 110\n"
     ]
    }
   ],
   "source": [
    "task_mode_feasible_chromosomes = []\n",
    "for i in range(len(precedence_feasible_chromosomes)):\n",
    "    chrom = precedence_feasible_chromosomes[i]\n",
    "    if feasibility.is_chromosome_task_mode_feasible(ins_x, chrom):\n",
    "        task_mode_feasible_chromosomes.append(chrom)\n",
    "\n",
    "print(f\"From {len(precedence_feasible_chromosomes)} to {len(task_mode_feasible_chromosomes)}\")"
   ]
  },
  {
   "cell_type": "code",
   "execution_count": null,
   "metadata": {},
   "outputs": [],
   "source": []
  },
  {
   "attachments": {},
   "cell_type": "markdown",
   "metadata": {},
   "source": [
    "### 3. Increment duplication with possible extra working spaces\n",
    "\n",
    "1. e.g. if other working spaces exist, duplicate the working modes, and duplicate the orders"
   ]
  },
  {
   "cell_type": "code",
   "execution_count": 14,
   "metadata": {},
   "outputs": [],
   "source": [
    "from src.genetic_algorithm import replication"
   ]
  },
  {
   "cell_type": "code",
   "execution_count": 15,
   "metadata": {},
   "outputs": [
    {
     "data": {
      "text/plain": [
       "Chromosome(mode=['0', '0', '0', '0', '0', '0', '0', '0', '0', '0', '0', '0', '0', '0', '0', '0', '0', '0', '0', '0'], order=[0, 1, 2, 3, 4, 5, 6, 7, 8, 9, 10, 11, 12, 13, 14, 15, 16, 17, 18, 19])"
      ]
     },
     "execution_count": 15,
     "metadata": {},
     "output_type": "execute_result"
    }
   ],
   "source": [
    "# Generate new orders\n",
    "chromosome = task_mode_feasible_chromosomes[0]\n",
    "chromosome"
   ]
  },
  {
   "cell_type": "code",
   "execution_count": 16,
   "metadata": {},
   "outputs": [],
   "source": [
    "chromosome_with_replication = replication.update_chromosome_with_replication(ins_x, chromosome)"
   ]
  },
  {
   "cell_type": "code",
   "execution_count": 17,
   "metadata": {},
   "outputs": [
    {
     "data": {
      "text/plain": [
       "Chromosome(mode=['0', '0', '0', '0', '0', '0', '0', '0', '0', '0', '0', '0', '0', '0', '0', '0', '0', '0', '0', '0', '0', '0', '0', '0', '0', '0', '0', '0', '0', '0', '0', '0', '0', '0', '0', '0', '0', '0', '0', '0', '0', '0', '0', '0', '0', '0', '0', '0', '0', '0', '0', '0', '0', '0', '0', '0', '0', '0', '0', '0'], order=[0, 3, 6, 9, 12, 15, 18, 21, 24, 27, 30, 33, 36, 39, 42, 45, 48, 51, 54, 57, 1, 4, 7, 10, 13, 16, 19, 22, 25, 28, 31, 34, 37, 40, 43, 46, 49, 52, 55, 58, 2, 5, 8, 11, 14, 17, 20, 23, 26, 29, 32, 35, 38, 41, 44, 47, 50, 53, 56, 59])"
      ]
     },
     "execution_count": 17,
     "metadata": {},
     "output_type": "execute_result"
    }
   ],
   "source": [
    "chromosome_with_replication"
   ]
  },
  {
   "cell_type": "code",
   "execution_count": 18,
   "metadata": {},
   "outputs": [
    {
     "data": {
      "text/plain": [
       "110"
      ]
     },
     "execution_count": 18,
     "metadata": {},
     "output_type": "execute_result"
    }
   ],
   "source": [
    "# for all feasible chromosomes\n",
    "replicated_chromosomes = []\n",
    "for chromosome in task_mode_feasible_chromosomes:\n",
    "    replicated_chromosomes.append(replication.update_chromosome_with_replication(ins_x, chromosome))\n",
    "\n",
    "len(replicated_chromosomes)"
   ]
  },
  {
   "cell_type": "code",
   "execution_count": 19,
   "metadata": {},
   "outputs": [
    {
     "data": {
      "text/plain": [
       "[Chromosome(mode=['0', '0', '0', '0', '0', '0', '0', '0', '0', '0', '0', '0', '0', '0', '0', '0', '0', '0', '0', '0', '0', '0', '0', '0', '0', '0', '0', '0', '0', '0', '0', '0', '0', '0', '0', '0', '0', '0', '0', '0', '0', '0', '0', '0', '0', '0', '0', '0', '0', '0', '0', '0', '0', '0', '0', '0', '0', '0', '0', '0'], order=[0, 3, 6, 9, 12, 15, 18, 21, 24, 27, 30, 33, 36, 39, 42, 45, 48, 51, 54, 57, 1, 4, 7, 10, 13, 16, 19, 22, 25, 28, 31, 34, 37, 40, 43, 46, 49, 52, 55, 58, 2, 5, 8, 11, 14, 17, 20, 23, 26, 29, 32, 35, 38, 41, 44, 47, 50, 53, 56, 59]),\n",
       " Chromosome(mode=['1', '1', '1', '1', '1', '1', '1', '1', '1', '1', '1', '1', '1', '1', '1', '1', '1', '1', '1', '1', '1', '1', '1', '1', '1', '1', '1', '1', '1', '1', '1', '1', '1', '1', '1', '1', '1', '1', '1', '1', '1', '1', '1', '1', '1', '1', '1', '1', '1', '1', '1', '1', '1', '1', '1', '1', '1', '1', '1', '1'], order=[0, 3, 6, 9, 12, 15, 18, 21, 24, 27, 30, 33, 36, 39, 42, 45, 48, 51, 54, 57, 1, 4, 7, 10, 13, 16, 19, 22, 25, 28, 31, 34, 37, 40, 43, 46, 49, 52, 55, 58, 2, 5, 8, 11, 14, 17, 20, 23, 26, 29, 32, 35, 38, 41, 44, 47, 50, 53, 56, 59]),\n",
       " Chromosome(mode=['2', '2', '2', '2', '2', '2', '2', '2', '2', '2', '2', '2', '2', '2', '2', '2', '2', '2', '2', '2', '3', '3', '3', '3', '3', '3', '3', '3', '3', '3', '3', '3', '3', '3', '3', '3', '3', '3', '3', '3', '4', '4', '4', '4', '4', '4', '4', '4', '4', '4', '4', '4', '4', '4', '4', '4', '4', '4', '4', '4'], order=[0, 3, 6, 9, 12, 15, 18, 21, 24, 27, 30, 33, 36, 39, 42, 45, 48, 51, 54, 57, 1, 4, 7, 10, 13, 16, 19, 22, 25, 28, 31, 34, 37, 40, 43, 46, 49, 52, 55, 58, 2, 5, 8, 11, 14, 17, 20, 23, 26, 29, 32, 35, 38, 41, 44, 47, 50, 53, 56, 59]),\n",
       " Chromosome(mode=['0-2', '0-2', '0-2', '0-2', '0-2', '0-2', '0-2', '0-2', '0-2', '0-2', '0-2', '0-2', '0-2', '0-2', '0-2', '0-2', '0-2', '0-2', '0-2', '0-2', '0-3', '0-3', '0-3', '0-3', '0-3', '0-3', '0-3', '0-3', '0-3', '0-3', '0-3', '0-3', '0-3', '0-3', '0-3', '0-3', '0-3', '0-3', '0-3', '0-3', '0-4', '0-4', '0-4', '0-4', '0-4', '0-4', '0-4', '0-4', '0-4', '0-4', '0-4', '0-4', '0-4', '0-4', '0-4', '0-4', '0-4', '0-4', '0-4', '0-4'], order=[0, 3, 6, 9, 12, 15, 18, 21, 24, 27, 30, 33, 36, 39, 42, 45, 48, 51, 54, 57, 1, 4, 7, 10, 13, 16, 19, 22, 25, 28, 31, 34, 37, 40, 43, 46, 49, 52, 55, 58, 2, 5, 8, 11, 14, 17, 20, 23, 26, 29, 32, 35, 38, 41, 44, 47, 50, 53, 56, 59]),\n",
       " Chromosome(mode=['1-2', '1-2', '1-2', '1-2', '1-2', '1-2', '1-2', '1-2', '1-2', '1-2', '1-2', '1-2', '1-2', '1-2', '1-2', '1-2', '1-2', '1-2', '1-2', '1-2', '1-3', '1-3', '1-3', '1-3', '1-3', '1-3', '1-3', '1-3', '1-3', '1-3', '1-3', '1-3', '1-3', '1-3', '1-3', '1-3', '1-3', '1-3', '1-3', '1-3', '1-4', '1-4', '1-4', '1-4', '1-4', '1-4', '1-4', '1-4', '1-4', '1-4', '1-4', '1-4', '1-4', '1-4', '1-4', '1-4', '1-4', '1-4', '1-4', '1-4'], order=[0, 3, 6, 9, 12, 15, 18, 21, 24, 27, 30, 33, 36, 39, 42, 45, 48, 51, 54, 57, 1, 4, 7, 10, 13, 16, 19, 22, 25, 28, 31, 34, 37, 40, 43, 46, 49, 52, 55, 58, 2, 5, 8, 11, 14, 17, 20, 23, 26, 29, 32, 35, 38, 41, 44, 47, 50, 53, 56, 59]),\n",
       " Chromosome(mode=['0', '0', '0', '0', '0', '0', '0', '0', '0', '0', '0', '0', '0', '0', '0', '0', '0', '0', '0', '0', '0', '0', '0', '0', '0', '0', '0', '0', '0', '0', '0', '0', '0', '0', '0', '0', '0', '0', '0', '0', '0', '0', '0', '0', '0', '0', '0', '0', '0', '0', '0', '0', '0', '0', '0', '0', '0', '0', '0', '0'], order=[0, 3, 6, 12, 9, 15, 18, 21, 27, 24, 30, 33, 36, 42, 39, 45, 48, 51, 57, 54, 1, 4, 7, 13, 10, 16, 19, 22, 28, 25, 31, 34, 37, 43, 40, 46, 49, 52, 58, 55, 2, 5, 8, 14, 11, 17, 20, 23, 29, 26, 32, 35, 38, 44, 41, 47, 50, 53, 59, 56]),\n",
       " Chromosome(mode=['1', '1', '1', '1', '1', '1', '1', '1', '1', '1', '1', '1', '1', '1', '1', '1', '1', '1', '1', '1', '1', '1', '1', '1', '1', '1', '1', '1', '1', '1', '1', '1', '1', '1', '1', '1', '1', '1', '1', '1', '1', '1', '1', '1', '1', '1', '1', '1', '1', '1', '1', '1', '1', '1', '1', '1', '1', '1', '1', '1'], order=[0, 3, 6, 12, 9, 15, 18, 21, 27, 24, 30, 33, 36, 42, 39, 45, 48, 51, 57, 54, 1, 4, 7, 13, 10, 16, 19, 22, 28, 25, 31, 34, 37, 43, 40, 46, 49, 52, 58, 55, 2, 5, 8, 14, 11, 17, 20, 23, 29, 26, 32, 35, 38, 44, 41, 47, 50, 53, 59, 56]),\n",
       " Chromosome(mode=['2', '2', '2', '2', '2', '2', '2', '2', '2', '2', '2', '2', '2', '2', '2', '2', '2', '2', '2', '2', '3', '3', '3', '3', '3', '3', '3', '3', '3', '3', '3', '3', '3', '3', '3', '3', '3', '3', '3', '3', '4', '4', '4', '4', '4', '4', '4', '4', '4', '4', '4', '4', '4', '4', '4', '4', '4', '4', '4', '4'], order=[0, 3, 6, 12, 9, 15, 18, 21, 27, 24, 30, 33, 36, 42, 39, 45, 48, 51, 57, 54, 1, 4, 7, 13, 10, 16, 19, 22, 28, 25, 31, 34, 37, 43, 40, 46, 49, 52, 58, 55, 2, 5, 8, 14, 11, 17, 20, 23, 29, 26, 32, 35, 38, 44, 41, 47, 50, 53, 59, 56]),\n",
       " Chromosome(mode=['0-2', '0-2', '0-2', '0-2', '0-2', '0-2', '0-2', '0-2', '0-2', '0-2', '0-2', '0-2', '0-2', '0-2', '0-2', '0-2', '0-2', '0-2', '0-2', '0-2', '0-3', '0-3', '0-3', '0-3', '0-3', '0-3', '0-3', '0-3', '0-3', '0-3', '0-3', '0-3', '0-3', '0-3', '0-3', '0-3', '0-3', '0-3', '0-3', '0-3', '0-4', '0-4', '0-4', '0-4', '0-4', '0-4', '0-4', '0-4', '0-4', '0-4', '0-4', '0-4', '0-4', '0-4', '0-4', '0-4', '0-4', '0-4', '0-4', '0-4'], order=[0, 3, 6, 12, 9, 15, 18, 21, 27, 24, 30, 33, 36, 42, 39, 45, 48, 51, 57, 54, 1, 4, 7, 13, 10, 16, 19, 22, 28, 25, 31, 34, 37, 43, 40, 46, 49, 52, 58, 55, 2, 5, 8, 14, 11, 17, 20, 23, 29, 26, 32, 35, 38, 44, 41, 47, 50, 53, 59, 56]),\n",
       " Chromosome(mode=['1-2', '1-2', '1-2', '1-2', '1-2', '1-2', '1-2', '1-2', '1-2', '1-2', '1-2', '1-2', '1-2', '1-2', '1-2', '1-2', '1-2', '1-2', '1-2', '1-2', '1-3', '1-3', '1-3', '1-3', '1-3', '1-3', '1-3', '1-3', '1-3', '1-3', '1-3', '1-3', '1-3', '1-3', '1-3', '1-3', '1-3', '1-3', '1-3', '1-3', '1-4', '1-4', '1-4', '1-4', '1-4', '1-4', '1-4', '1-4', '1-4', '1-4', '1-4', '1-4', '1-4', '1-4', '1-4', '1-4', '1-4', '1-4', '1-4', '1-4'], order=[0, 3, 6, 12, 9, 15, 18, 21, 27, 24, 30, 33, 36, 42, 39, 45, 48, 51, 57, 54, 1, 4, 7, 13, 10, 16, 19, 22, 28, 25, 31, 34, 37, 43, 40, 46, 49, 52, 58, 55, 2, 5, 8, 14, 11, 17, 20, 23, 29, 26, 32, 35, 38, 44, 41, 47, 50, 53, 59, 56])]"
      ]
     },
     "execution_count": 19,
     "metadata": {},
     "output_type": "execute_result"
    }
   ],
   "source": [
    "replicated_chromosomes[:10]"
   ]
  },
  {
   "cell_type": "code",
   "execution_count": null,
   "metadata": {},
   "outputs": [],
   "source": []
  },
  {
   "attachments": {},
   "cell_type": "markdown",
   "metadata": {},
   "source": [
    "### 4. Get notion of start and end times\n",
    "\n",
    "1. Go task by task, and get the start and end time, based on allocation of current mode, and based on precedence\n",
    "2. Compute total timespan - which is the maximum value of endtimes"
   ]
  },
  {
   "cell_type": "code",
   "execution_count": 20,
   "metadata": {},
   "outputs": [],
   "source": [
    "from src.genetic_algorithm import time_allocation"
   ]
  },
  {
   "cell_type": "code",
   "execution_count": 21,
   "metadata": {},
   "outputs": [
    {
     "data": {
      "text/plain": [
       "110"
      ]
     },
     "execution_count": 21,
     "metadata": {},
     "output_type": "execute_result"
    }
   ],
   "source": [
    "# for all replicated chromosomes\n",
    "time_allocated_chromosomes = []\n",
    "for chromosome in replicated_chromosomes:\n",
    "    time_allocated_chromosomes.append(time_allocation.get_all_time_allocations(ins_x, chromosome))\n",
    "\n",
    "len(time_allocated_chromosomes)"
   ]
  },
  {
   "cell_type": "code",
   "execution_count": 22,
   "metadata": {},
   "outputs": [
    {
     "data": {
      "text/plain": [
       "110"
      ]
     },
     "execution_count": 22,
     "metadata": {},
     "output_type": "execute_result"
    }
   ],
   "source": [
    "# for all results\n",
    "makespan_all_chromosomes = []\n",
    "for chromosome_time_allocation in time_allocated_chromosomes:\n",
    "    makespan_all_chromosomes.append(time_allocation.find_makespan(chromosome_time_allocation))\n",
    "\n",
    "len(makespan_all_chromosomes)"
   ]
  },
  {
   "cell_type": "code",
   "execution_count": 23,
   "metadata": {},
   "outputs": [
    {
     "data": {
      "text/plain": [
       "1213"
      ]
     },
     "execution_count": 23,
     "metadata": {},
     "output_type": "execute_result"
    }
   ],
   "source": [
    "min(makespan_all_chromosomes)"
   ]
  },
  {
   "cell_type": "code",
   "execution_count": 24,
   "metadata": {},
   "outputs": [
    {
     "data": {
      "application/vnd.jupyter.widget-view+json": {
       "model_id": "f42021a13d634bb5a2d1137aba8411b2",
       "version_major": 2,
       "version_minor": 0
      },
      "image/png": "[encoded data removed]",
      "text/html": [
       "\n",
       "            <div style=\"display: inline-block;\">\n",
       "                <div class=\"jupyter-widgets widget-label\" style=\"text-align: center;\">\n",
       "                    Figure\n",
       "                </div>\n",
       "                <img src='data:image/png;base64,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' width=640.0/>\n",
       "            </div>\n",
       "        "
      ],
      "text/plain": [
       "Canvas(toolbar=Toolbar(toolitems=[('Home', 'Reset original view', 'home', 'home'), ('Back', 'Back to previous …"
      ]
     },
     "metadata": {},
     "output_type": "display_data"
    }
   ],
   "source": [
    "plt.figure()\n",
    "plt.hist(makespan_all_chromosomes, bins=len(makespan_all_chromosomes))\n",
    "plt.show()"
   ]
  },
  {
   "cell_type": "code",
   "execution_count": null,
   "metadata": {},
   "outputs": [],
   "source": []
  },
  {
   "attachments": {},
   "cell_type": "markdown",
   "metadata": {},
   "source": [
    "### 5. Keep fittest chromosomes \n",
    "\n",
    "Let's keep the best 100"
   ]
  },
  {
   "cell_type": "code",
   "execution_count": 25,
   "metadata": {},
   "outputs": [],
   "source": [
    "from src.genetic_algorithm import fitness"
   ]
  },
  {
   "cell_type": "code",
   "execution_count": 26,
   "metadata": {},
   "outputs": [
    {
     "data": {
      "text/plain": [
       "99"
      ]
     },
     "execution_count": 26,
     "metadata": {},
     "output_type": "execute_result"
    }
   ],
   "source": [
    "fittest_chromosomes, fittest_makespan = fitness.keep_fittest_n_chromosomes(\n",
    "    task_mode_feasible_chromosomes, makespan_all_chromosomes, 100\n",
    ")\n",
    "len(fittest_chromosomes)"
   ]
  },
  {
   "cell_type": "code",
   "execution_count": null,
   "metadata": {},
   "outputs": [],
   "source": []
  },
  {
   "attachments": {},
   "cell_type": "markdown",
   "metadata": {},
   "source": [
    "### 6. Is new population better than previous one?"
   ]
  },
  {
   "cell_type": "code",
   "execution_count": 27,
   "metadata": {},
   "outputs": [
    {
     "name": "stdout",
     "output_type": "stream",
     "text": [
      "Should we continue iterating? True\n"
     ]
    }
   ],
   "source": [
    "# if this is the first population\n",
    "previous_population_makespan = None\n",
    "this_population_makespan = fittest_chromosomes\n",
    "\n",
    "should_we_continue = fitness.is_this_population_better_than_previous_one(\n",
    "    previous_population_makespan, this_population_makespan\n",
    ")\n",
    "print(f\"Should we continue iterating? {should_we_continue}\")"
   ]
  },
  {
   "cell_type": "code",
   "execution_count": null,
   "metadata": {},
   "outputs": [],
   "source": []
  },
  {
   "attachments": {},
   "cell_type": "markdown",
   "metadata": {},
   "source": [
    "### 7. Generate next population\n",
    "\n",
    "with: \n",
    "1. Crossover\n",
    "2. Mutation"
   ]
  },
  {
   "cell_type": "code",
   "execution_count": 28,
   "metadata": {},
   "outputs": [],
   "source": [
    "from src.genetic_algorithm import next_population"
   ]
  },
  {
   "attachments": {},
   "cell_type": "markdown",
   "metadata": {},
   "source": [
    "#### 7.1. Crossover\n",
    "\n",
    "- **One-Point Crossover**:\n",
    "    1. select a random crossover point along the length of the chromosomes \n",
    "    2. split into 2 proportions on that point, and swapp them between the two parent chromosomes to generate the 2 offsprings.\n",
    "\n",
    "- **Two-Point Crossover**: similar to one-point crossover, but with two crossover points.\n",
    "\n",
    "- **Uniform Crossover**: \n",
    "    1. Given a probability, select points from each parent and populate for the offsprings.\n",
    "\n",
    "- **Arithmetic Crossover** is not possible given the current experiment.\n"
   ]
  },
  {
   "cell_type": "code",
   "execution_count": 32,
   "metadata": {},
   "outputs": [],
   "source": [
    "new_generation = next_population.generate_next_population_with_crossover(\n",
    "    fittest_chromosomes, fittest_makespan\n",
    ")"
   ]
  },
  {
   "cell_type": "code",
   "execution_count": 33,
   "metadata": {},
   "outputs": [
    {
     "data": {
      "text/plain": [
       "196"
      ]
     },
     "execution_count": 33,
     "metadata": {},
     "output_type": "execute_result"
    }
   ],
   "source": [
    "len(new_generation)"
   ]
  },
  {
   "attachments": {},
   "cell_type": "markdown",
   "metadata": {},
   "source": [
    "#### 7.2. Mutation\n",
    "\n",
    "Swap mutation: This technique randomly selects two genes within a chromosome and swaps their positions.\n",
    "\n",
    "Scramble mutation: This technique randomly selects a subset of genes within a chromosome and shuffles their order.\n",
    "\n",
    "Inversion mutation: This technique randomly selects a subset of genes within a chromosome and reverses their order."
   ]
  },
  {
   "cell_type": "code",
   "execution_count": 31,
   "metadata": {},
   "outputs": [],
   "source": [
    "new_mutated_population = []\n",
    "probability = 0.4\n",
    "for chromosome in new_generation:\n",
    "    new_mutated_population.append(\n",
    "        next_population.swap_mutation_at_probability(chromosome, probability)\n",
    "    )"
   ]
  },
  {
   "cell_type": "code",
   "execution_count": null,
   "metadata": {},
   "outputs": [],
   "source": []
  },
  {
   "cell_type": "code",
   "execution_count": null,
   "metadata": {},
   "outputs": [],
   "source": []
  }
 ],
 "metadata": {
  "kernelspec": {
   "display_name": ".venv_hm_hrt",
   "language": "python",
   "name": "python3"
  },
  "language_info": {
   "codemirror_mode": {
    "name": "ipython",
    "version": 3
   },
   "file_extension": ".py",
   "mimetype": "text/x-python",
   "name": "python",
   "nbconvert_exporter": "python",
   "pygments_lexer": "ipython3",
   "version": "3.10.4"
  },
  "orig_nbformat": 4,
  "vscode": {
   "interpreter": {
    "hash": "a6289d96d3a41a28093af2b7ef3d7cfe930fbd01b56829a017029cf1de3096c1"
   }
  }
 },
 "nbformat": 4,
 "nbformat_minor": 2
}
