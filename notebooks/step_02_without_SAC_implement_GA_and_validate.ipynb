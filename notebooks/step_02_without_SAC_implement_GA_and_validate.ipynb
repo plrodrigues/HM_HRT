{
 "cells": [
  {
   "attachments": {},
   "cell_type": "markdown",
   "metadata": {},
   "source": [
    "# Development | Implement the different parts and validations of GA without the SAC condition"
   ]
  },
  {
   "cell_type": "code",
   "execution_count": 1,
   "metadata": {},
   "outputs": [],
   "source": [
    "%load_ext autoreload\n",
    "%autoreload 2\n",
    "%matplotlib inline\n",
    "\n",
    "%matplotlib widget"
   ]
  },
  {
   "cell_type": "code",
   "execution_count": 2,
   "metadata": {},
   "outputs": [
    {
     "data": {
      "text/html": [
       "\n",
       "                <script type=\"application/javascript\" id=\"jupyter_black\">\n",
       "                (function() {\n",
       "                    if (window.IPython === undefined) {\n",
       "                        return\n",
       "                    }\n",
       "                    var msg = \"WARNING: it looks like you might have loaded \" +\n",
       "                        \"jupyter_black in a non-lab notebook with \" +\n",
       "                        \"`is_lab=True`. Please double check, and if \" +\n",
       "                        \"loading with `%load_ext` please review the README!\"\n",
       "                    console.log(msg)\n",
       "                    alert(msg)\n",
       "                })()\n",
       "                </script>\n",
       "                "
      ],
      "text/plain": [
       "<IPython.core.display.HTML object>"
      ]
     },
     "metadata": {},
     "output_type": "display_data"
    }
   ],
   "source": [
    "import os\n",
    "import logging\n",
    "import numpy as np\n",
    "import matplotlib.pyplot as plt\n",
    "import jupyter_black\n",
    "\n",
    "jupyter_black.load()\n",
    "\n",
    "# Project\n",
    "from src.data_connectors import read_input_files"
   ]
  },
  {
   "cell_type": "code",
   "execution_count": 3,
   "metadata": {},
   "outputs": [],
   "source": [
    "instance = 333\n",
    "instances_path = \"../data/input/HRTInstances\"\n",
    "ins_x = read_input_files.read_file(os.path.join(instances_path, f\"Instance_{instance}.txt\"))"
   ]
  },
  {
   "cell_type": "code",
   "execution_count": 4,
   "metadata": {},
   "outputs": [
    {
     "data": {
      "text/html": [
       "<div>\n",
       "<style scoped>\n",
       "    .dataframe tbody tr th:only-of-type {\n",
       "        vertical-align: middle;\n",
       "    }\n",
       "\n",
       "    .dataframe tbody tr th {\n",
       "        vertical-align: top;\n",
       "    }\n",
       "\n",
       "    .dataframe thead th {\n",
       "        text-align: right;\n",
       "    }\n",
       "</style>\n",
       "<table border=\"1\" class=\"dataframe\">\n",
       "  <thead>\n",
       "    <tr style=\"text-align: right;\">\n",
       "      <th></th>\n",
       "      <th>Humans</th>\n",
       "      <th>Robots</th>\n",
       "      <th>WorkingSpaces</th>\n",
       "    </tr>\n",
       "  </thead>\n",
       "  <tbody>\n",
       "    <tr>\n",
       "      <th>0</th>\n",
       "      <td>2</td>\n",
       "      <td>3</td>\n",
       "      <td>3</td>\n",
       "    </tr>\n",
       "  </tbody>\n",
       "</table>\n",
       "</div>"
      ],
      "text/plain": [
       "  Humans Robots WorkingSpaces\n",
       "0      2      3             3"
      ]
     },
     "execution_count": 4,
     "metadata": {},
     "output_type": "execute_result"
    }
   ],
   "source": [
    "ins_x.df_setup"
   ]
  },
  {
   "cell_type": "code",
   "execution_count": 5,
   "metadata": {},
   "outputs": [
    {
     "data": {
      "text/html": [
       "<div>\n",
       "<style scoped>\n",
       "    .dataframe tbody tr th:only-of-type {\n",
       "        vertical-align: middle;\n",
       "    }\n",
       "\n",
       "    .dataframe tbody tr th {\n",
       "        vertical-align: top;\n",
       "    }\n",
       "\n",
       "    .dataframe thead th {\n",
       "        text-align: right;\n",
       "    }\n",
       "</style>\n",
       "<table border=\"1\" class=\"dataframe\">\n",
       "  <thead>\n",
       "    <tr style=\"text-align: right;\">\n",
       "      <th></th>\n",
       "      <th>Type</th>\n",
       "      <th>Id</th>\n",
       "    </tr>\n",
       "  </thead>\n",
       "  <tbody>\n",
       "    <tr>\n",
       "      <th>0</th>\n",
       "      <td>H</td>\n",
       "      <td>0</td>\n",
       "    </tr>\n",
       "    <tr>\n",
       "      <th>1</th>\n",
       "      <td>H</td>\n",
       "      <td>1</td>\n",
       "    </tr>\n",
       "    <tr>\n",
       "      <th>2</th>\n",
       "      <td>R</td>\n",
       "      <td>2</td>\n",
       "    </tr>\n",
       "    <tr>\n",
       "      <th>3</th>\n",
       "      <td>R</td>\n",
       "      <td>3</td>\n",
       "    </tr>\n",
       "    <tr>\n",
       "      <th>4</th>\n",
       "      <td>R</td>\n",
       "      <td>4</td>\n",
       "    </tr>\n",
       "  </tbody>\n",
       "</table>\n",
       "</div>"
      ],
      "text/plain": [
       "  Type  Id\n",
       "0    H   0\n",
       "1    H   1\n",
       "2    R   2\n",
       "3    R   3\n",
       "4    R   4"
      ]
     },
     "execution_count": 5,
     "metadata": {},
     "output_type": "execute_result"
    }
   ],
   "source": [
    "ins_x.df_resources"
   ]
  },
  {
   "cell_type": "code",
   "execution_count": 6,
   "metadata": {},
   "outputs": [
    {
     "data": {
      "text/html": [
       "<div>\n",
       "<style scoped>\n",
       "    .dataframe tbody tr th:only-of-type {\n",
       "        vertical-align: middle;\n",
       "    }\n",
       "\n",
       "    .dataframe tbody tr th {\n",
       "        vertical-align: top;\n",
       "    }\n",
       "\n",
       "    .dataframe thead th {\n",
       "        text-align: right;\n",
       "    }\n",
       "</style>\n",
       "<table border=\"1\" class=\"dataframe\">\n",
       "  <thead>\n",
       "    <tr style=\"text-align: right;\">\n",
       "      <th></th>\n",
       "      <th>WorkingSpace</th>\n",
       "      <th>Resource</th>\n",
       "    </tr>\n",
       "  </thead>\n",
       "  <tbody>\n",
       "    <tr>\n",
       "      <th>0</th>\n",
       "      <td>1</td>\n",
       "      <td>2</td>\n",
       "    </tr>\n",
       "    <tr>\n",
       "      <th>1</th>\n",
       "      <td>1</td>\n",
       "      <td>0</td>\n",
       "    </tr>\n",
       "    <tr>\n",
       "      <th>2</th>\n",
       "      <td>1</td>\n",
       "      <td>1</td>\n",
       "    </tr>\n",
       "    <tr>\n",
       "      <th>3</th>\n",
       "      <td>2</td>\n",
       "      <td>3</td>\n",
       "    </tr>\n",
       "    <tr>\n",
       "      <th>4</th>\n",
       "      <td>2</td>\n",
       "      <td>0</td>\n",
       "    </tr>\n",
       "    <tr>\n",
       "      <th>5</th>\n",
       "      <td>2</td>\n",
       "      <td>1</td>\n",
       "    </tr>\n",
       "    <tr>\n",
       "      <th>6</th>\n",
       "      <td>3</td>\n",
       "      <td>4</td>\n",
       "    </tr>\n",
       "    <tr>\n",
       "      <th>7</th>\n",
       "      <td>3</td>\n",
       "      <td>0</td>\n",
       "    </tr>\n",
       "    <tr>\n",
       "      <th>8</th>\n",
       "      <td>3</td>\n",
       "      <td>1</td>\n",
       "    </tr>\n",
       "  </tbody>\n",
       "</table>\n",
       "</div>"
      ],
      "text/plain": [
       "   WorkingSpace  Resource\n",
       "0             1         2\n",
       "1             1         0\n",
       "2             1         1\n",
       "3             2         3\n",
       "4             2         0\n",
       "5             2         1\n",
       "6             3         4\n",
       "7             3         0\n",
       "8             3         1"
      ]
     },
     "execution_count": 6,
     "metadata": {},
     "output_type": "execute_result"
    }
   ],
   "source": [
    "ins_x.df_workingspace_resources"
   ]
  },
  {
   "cell_type": "code",
   "execution_count": 7,
   "metadata": {},
   "outputs": [
    {
     "data": {
      "text/html": [
       "<div>\n",
       "<style scoped>\n",
       "    .dataframe tbody tr th:only-of-type {\n",
       "        vertical-align: middle;\n",
       "    }\n",
       "\n",
       "    .dataframe tbody tr th {\n",
       "        vertical-align: top;\n",
       "    }\n",
       "\n",
       "    .dataframe thead th {\n",
       "        text-align: right;\n",
       "    }\n",
       "</style>\n",
       "<table border=\"1\" class=\"dataframe\">\n",
       "  <thead>\n",
       "    <tr style=\"text-align: right;\">\n",
       "      <th></th>\n",
       "      <th>WorkingSpace</th>\n",
       "      <th>Id</th>\n",
       "    </tr>\n",
       "  </thead>\n",
       "  <tbody>\n",
       "    <tr>\n",
       "      <th>0</th>\n",
       "      <td>1</td>\n",
       "      <td>1</td>\n",
       "    </tr>\n",
       "    <tr>\n",
       "      <th>1</th>\n",
       "      <td>1</td>\n",
       "      <td>2</td>\n",
       "    </tr>\n",
       "    <tr>\n",
       "      <th>2</th>\n",
       "      <td>1</td>\n",
       "      <td>3</td>\n",
       "    </tr>\n",
       "    <tr>\n",
       "      <th>3</th>\n",
       "      <td>1</td>\n",
       "      <td>4</td>\n",
       "    </tr>\n",
       "    <tr>\n",
       "      <th>4</th>\n",
       "      <td>1</td>\n",
       "      <td>5</td>\n",
       "    </tr>\n",
       "  </tbody>\n",
       "</table>\n",
       "</div>"
      ],
      "text/plain": [
       "   WorkingSpace  Id\n",
       "0             1   1\n",
       "1             1   2\n",
       "2             1   3\n",
       "3             1   4\n",
       "4             1   5"
      ]
     },
     "execution_count": 7,
     "metadata": {},
     "output_type": "execute_result"
    }
   ],
   "source": [
    "ins_x.df_workingspace_id.head()"
   ]
  },
  {
   "attachments": {},
   "cell_type": "markdown",
   "metadata": {},
   "source": [
    "## 0. The Chromosome"
   ]
  },
  {
   "cell_type": "code",
   "execution_count": 8,
   "metadata": {},
   "outputs": [],
   "source": [
    "from src.genetic_algorithm.chromosome import Chromosome"
   ]
  },
  {
   "attachments": {},
   "cell_type": "markdown",
   "metadata": {},
   "source": [
    "## 1. Generate initial population"
   ]
  },
  {
   "cell_type": "code",
   "execution_count": null,
   "metadata": {},
   "outputs": [],
   "source": [
    "from src.genetic_algorithm import first_population\n",
    "\n",
    "# Modes\n",
    "possible_modes = first_population.get_possible_modes(ins_x)\n",
    "\n",
    "# Tasks\n",
    "n_tasks = first_population.get_total_number_of_tasks_per_working_space(ins_x)\n",
    "\n",
    "# Chromosomes\n",
    "chromosomes = first_population.get_first_population(ins_x, possible_modes, n_tasks)"
   ]
  },
  {
   "attachments": {},
   "cell_type": "markdown",
   "metadata": {},
   "source": [
    "## 2. Verify feasibility of solutions"
   ]
  },
  {
   "cell_type": "code",
   "execution_count": null,
   "metadata": {},
   "outputs": [],
   "source": [
    "from src.genetic_algorithm import feasibility"
   ]
  },
  {
   "cell_type": "code",
   "execution_count": null,
   "metadata": {},
   "outputs": [],
   "source": [
    "ins_x.df_predecessor_sucessor.head()"
   ]
  },
  {
   "cell_type": "code",
   "execution_count": null,
   "metadata": {},
   "outputs": [],
   "source": [
    "precedence_feasible_chromosomes = []\n",
    "for i in range(len(chromosomes)):\n",
    "    chrom = chromosomes[i]\n",
    "    if feasibility.is_chromosome_precedence_feasible(ins_x, chrom):\n",
    "        precedence_feasible_chromosomes.append(chrom)\n",
    "\n",
    "print(f\"From {len(chromosomes)} to {len(precedence_feasible_chromosomes)}\")"
   ]
  },
  {
   "cell_type": "code",
   "execution_count": null,
   "metadata": {},
   "outputs": [],
   "source": [
    "task_mode_feasible_chromosomes = []\n",
    "for i in range(len(precedence_feasible_chromosomes)):\n",
    "    chrom = precedence_feasible_chromosomes[i]\n",
    "    if feasibility.is_chromosome_task_mode_feasible(ins_x, chrom):\n",
    "        task_mode_feasible_chromosomes.append(chrom)\n",
    "\n",
    "print(f\"From {len(precedence_feasible_chromosomes)} to {len(task_mode_feasible_chromosomes)}\")"
   ]
  },
  {
   "attachments": {},
   "cell_type": "markdown",
   "metadata": {},
   "source": [
    "## 3. Duplication of the remaining workspaces"
   ]
  },
  {
   "cell_type": "code",
   "execution_count": null,
   "metadata": {},
   "outputs": [],
   "source": [
    "from src.genetic_algorithm import replication"
   ]
  },
  {
   "cell_type": "code",
   "execution_count": null,
   "metadata": {},
   "outputs": [],
   "source": [
    "# Generate new orders\n",
    "chromosome = task_mode_feasible_chromosomes[0]\n",
    "chromosome"
   ]
  },
  {
   "cell_type": "code",
   "execution_count": null,
   "metadata": {},
   "outputs": [],
   "source": [
    "chromosome_with_replication = replication.update_chromosome_with_replication(ins_x, chromosome)"
   ]
  },
  {
   "cell_type": "code",
   "execution_count": null,
   "metadata": {},
   "outputs": [],
   "source": [
    "chromosome_with_replication"
   ]
  },
  {
   "cell_type": "code",
   "execution_count": null,
   "metadata": {},
   "outputs": [],
   "source": [
    "# for all feasible chromosomes\n",
    "replicated_chromosomes = []\n",
    "for chromosome in task_mode_feasible_chromosomes:\n",
    "    replicated_chromosomes.append(replication.update_chromosome_with_replication(ins_x, chromosome))\n",
    "\n",
    "len(replicated_chromosomes)"
   ]
  },
  {
   "attachments": {},
   "cell_type": "markdown",
   "metadata": {},
   "source": [
    "## 4. Check feasibility of all workspaces independently"
   ]
  },
  {
   "cell_type": "code",
   "execution_count": null,
   "metadata": {},
   "outputs": [],
   "source": [
    "precedence_feasible_chromosomes = []\n",
    "for i in range(len(replicated_chromosomes)):\n",
    "    chrom = replicated_chromosomes[i]\n",
    "    if feasibility.is_chromosome_precedence_feasible(ins_x, chrom):\n",
    "        precedence_feasible_chromosomes.append(chrom)\n",
    "\n",
    "print(f\"From {len(replicated_chromosomes)} to {len(precedence_feasible_chromosomes)}\")"
   ]
  },
  {
   "cell_type": "code",
   "execution_count": null,
   "metadata": {},
   "outputs": [],
   "source": [
    "task_mode_feasible_chromosomes = []\n",
    "for i in range(len(precedence_feasible_chromosomes)):\n",
    "    chrom = precedence_feasible_chromosomes[i]\n",
    "    if feasibility.is_chromosome_task_mode_feasible(ins_x, chrom):\n",
    "        task_mode_feasible_chromosomes.append(chrom)\n",
    "\n",
    "print(f\"From {len(precedence_feasible_chromosomes)} to {len(task_mode_feasible_chromosomes)}\")"
   ]
  },
  {
   "attachments": {},
   "cell_type": "markdown",
   "metadata": {},
   "source": [
    "## 5. Generate next population"
   ]
  },
  {
   "cell_type": "code",
   "execution_count": null,
   "metadata": {},
   "outputs": [],
   "source": [
    "from src.genetic_algorithm import time_allocation\n",
    "from src.genetic_algorithm import fitness\n",
    "from src.genetic_algorithm import next_population"
   ]
  },
  {
   "cell_type": "code",
   "execution_count": null,
   "metadata": {},
   "outputs": [],
   "source": [
    "# for all replicated chromosomes\n",
    "time_allocated_chromosomes = []\n",
    "for chromosome in replicated_chromosomes:\n",
    "    time_allocated_chromosomes.append(time_allocation.get_all_time_allocations(ins_x, chromosome))\n",
    "\n",
    "print(len(time_allocated_chromosomes))\n",
    "\n",
    "# for all results\n",
    "makespan_all_chromosomes = []\n",
    "for chromosome_time_allocation in time_allocated_chromosomes:\n",
    "    makespan_all_chromosomes.append(time_allocation.find_makespan(chromosome_time_allocation))\n",
    "\n",
    "print(len(makespan_all_chromosomes))\n",
    "\n",
    "fittest_chromosomes, fittest_makespan = fitness.keep_fittest_n_chromosomes(\n",
    "    task_mode_feasible_chromosomes, makespan_all_chromosomes, 100\n",
    ")\n",
    "\n",
    "print(len(fittest_chromosomes))"
   ]
  },
  {
   "cell_type": "code",
   "execution_count": null,
   "metadata": {},
   "outputs": [],
   "source": [
    "fittest_chromosomes[0]"
   ]
  },
  {
   "cell_type": "code",
   "execution_count": null,
   "metadata": {},
   "outputs": [],
   "source": [
    "new_generation = next_population.generate_next_population_with_crossover(\n",
    "    fittest_chromosomes, fittest_makespan\n",
    ")"
   ]
  },
  {
   "cell_type": "code",
   "execution_count": null,
   "metadata": {},
   "outputs": [],
   "source": [
    "new_generation[0]"
   ]
  },
  {
   "cell_type": "code",
   "execution_count": null,
   "metadata": {},
   "outputs": [],
   "source": [
    "import copy\n",
    "\n",
    "logging.debug(f\"generate_next_population() - 0 {len(fittest_chromosomes)}\")\n",
    "new_chromosomes = copy.deepcopy(fittest_chromosomes)"
   ]
  },
  {
   "cell_type": "code",
   "execution_count": null,
   "metadata": {},
   "outputs": [],
   "source": [
    "logging.debug(f\"generate_next_population() - 1 {len(new_chromosomes)}\")\n",
    "original_fittest_chromosomes = copy.deepcopy(fittest_chromosomes)\n",
    "new_generation = next_population.generate_next_population_with_crossover(\n",
    "    original_fittest_chromosomes, fittest_makespan\n",
    ")\n",
    "generation_to_mutate = copy.deepcopy(new_generation)\n",
    "new_chromosomes.extend(new_generation)\n",
    "logging.debug(f\"generate_next_population() - 2 {len(new_chromosomes)}\")"
   ]
  },
  {
   "cell_type": "code",
   "execution_count": null,
   "metadata": {},
   "outputs": [],
   "source": [
    "probability = 0.8\n",
    "\n",
    "new_mutated_population = []\n",
    "for chromosome in generation_to_mutate:\n",
    "    mutated_chromosome = copy.deepcopy(chromosome)\n",
    "    mutated_chromosome = next_population.swap_mutation_at_probability(\n",
    "        mutated_chromosome, probability\n",
    "    )\n",
    "    new_mutated_population.append(mutated_chromosome)\n",
    "new_chromosomes.extend(new_mutated_population)\n",
    "logging.debug(f\"generate_next_population() - 3 {len(new_chromosomes)}\")"
   ]
  },
  {
   "cell_type": "code",
   "execution_count": null,
   "metadata": {},
   "outputs": [],
   "source": [
    "new_chromosomes = next_population.remove_duplicated_chromosomes(copy.deepcopy(new_chromosomes))\n",
    "logging.debug(f\"generate_next_population() - 4 {len(new_chromosomes)}\")"
   ]
  },
  {
   "cell_type": "code",
   "execution_count": null,
   "metadata": {},
   "outputs": [],
   "source": [
    "new_chromosomes[0]"
   ]
  },
  {
   "attachments": {},
   "cell_type": "markdown",
   "metadata": {},
   "source": [
    "### Check feasibility of complete new generation\n"
   ]
  },
  {
   "cell_type": "code",
   "execution_count": null,
   "metadata": {},
   "outputs": [],
   "source": [
    "precedence_feasible_chromosomes = []\n",
    "for i in range(len(new_chromosomes)):\n",
    "    chrom = new_chromosomes[i]\n",
    "    if feasibility.is_chromosome_precedence_feasible(ins_x, chrom):\n",
    "        precedence_feasible_chromosomes.append(chrom)\n",
    "\n",
    "print(f\"From {len(new_chromosomes)} to {len(precedence_feasible_chromosomes)}\")"
   ]
  },
  {
   "cell_type": "code",
   "execution_count": null,
   "metadata": {},
   "outputs": [],
   "source": [
    "task_mode_feasible_chromosomes = []\n",
    "for i in range(len(precedence_feasible_chromosomes)):\n",
    "    chrom = precedence_feasible_chromosomes[i]\n",
    "    if feasibility.is_chromosome_task_mode_feasible(ins_x, chrom):\n",
    "        task_mode_feasible_chromosomes.append(chrom)\n",
    "\n",
    "print(f\"From {len(precedence_feasible_chromosomes)} to {len(task_mode_feasible_chromosomes)}\")"
   ]
  },
  {
   "attachments": {},
   "cell_type": "markdown",
   "metadata": {},
   "source": [
    "# Complete GA"
   ]
  },
  {
   "cell_type": "code",
   "execution_count": 9,
   "metadata": {},
   "outputs": [],
   "source": [
    "from src.genetic_algorithm.genetic_algorithm import *"
   ]
  },
  {
   "cell_type": "code",
   "execution_count": 47,
   "metadata": {},
   "outputs": [],
   "source": [
    "instance_number = 217\n",
    "instances_path = \"../data/input/HRTInstances\"\n",
    "instance = read_input_files.read_file(\n",
    "    os.path.join(instances_path, f\"Instance_{instance_number}.txt\")\n",
    ")"
   ]
  },
  {
   "cell_type": "code",
   "execution_count": 48,
   "metadata": {},
   "outputs": [],
   "source": [
    "max_limit_time_sec = 3\n",
    "\n",
    "\n",
    "population = generate_first_population(instance)\n",
    "logging.info(f\"Size first population: {len(population)}\")\n",
    "previous_population = None\n",
    "is_better_than_previous = True\n",
    "start_time = datetime.datetime.now()\n",
    "iteration_time = 0\n",
    "probability = 0.9\n",
    "iteration = 0\n",
    "# for latency assessment\n",
    "min_makespan = float(\"inf\")\n",
    "better_times_seconds = max_limit_time_sec\n",
    "feasible_population = keep_feasible_chromosomes(instance, population)\n",
    "logging.info(f\"Size of feasible population: {len(feasible_population)}\")"
   ]
  },
  {
   "cell_type": "code",
   "execution_count": 66,
   "metadata": {},
   "outputs": [],
   "source": [
    "import itertools\n",
    "import logging\n",
    "\n",
    "from src.data_connectors.read_input_files import Instance\n",
    "from src.genetic_algorithm.chromosome import Chromosome\n",
    "\n",
    "\n",
    "def flatten(lst: list) -> list:\n",
    "    return list(itertools.chain(*lst))\n",
    "\n",
    "\n",
    "def is_int(string: str) -> bool:\n",
    "    try:\n",
    "        int(string)\n",
    "        return True\n",
    "    except ValueError:\n",
    "        return False\n",
    "\n",
    "\n",
    "def split_collaboration_into_ints(collab_str: str) -> tuple[int, int]:\n",
    "    val_1, val_2 = collab_str.split(\"-\")\n",
    "    return int(val_1), int(val_2)\n",
    "\n",
    "\n",
    "def generate_modes_of_working_space(\n",
    "    instance: Instance,\n",
    "    initial_working_space: int,\n",
    "    working_space: int,\n",
    "    modes: list[str],\n",
    ") -> list[str]:\n",
    "    initial_ws_resources = instance.df_workingspace_resources[\n",
    "        instance.df_workingspace_resources.WorkingSpace == initial_working_space\n",
    "    ].Resource.unique()\n",
    "    ws_resources = instance.df_workingspace_resources[\n",
    "        instance.df_workingspace_resources.WorkingSpace == working_space\n",
    "    ].Resource.unique()\n",
    "    resources_exclusively_in_new_ws = [m for m in ws_resources if m not in initial_ws_resources]\n",
    "\n",
    "    new_ws_mode = []\n",
    "    for m in modes:\n",
    "        if is_int(m):\n",
    "            if int(m) in ws_resources:\n",
    "                new_ws_mode.append(m)\n",
    "            elif len(resources_exclusively_in_new_ws) == 1:\n",
    "                new_ws_mode.append(str(resources_exclusively_in_new_ws[0]))\n",
    "            elif len(resources_exclusively_in_new_ws) > 1:\n",
    "                logging.warning(\"WHAT TO DO?\")\n",
    "        else:\n",
    "            m1, m2 = split_collaboration_into_ints(m)\n",
    "            if (m1 in ws_resources) and (m2 in ws_resources):\n",
    "                new_ws_mode.append(m)\n",
    "            elif (m1 in ws_resources) and (m2 not in ws_resources):\n",
    "                if len(resources_exclusively_in_new_ws) == 1:\n",
    "                    updated_m = str(m1) + \"-\" + str(resources_exclusively_in_new_ws[0])\n",
    "                    new_ws_mode.append(updated_m)\n",
    "            elif (m2 in ws_resources) and (m1 not in ws_resources):\n",
    "                if len(resources_exclusively_in_new_ws) == 1:\n",
    "                    updated_m = str(resources_exclusively_in_new_ws[0]) + \"-\" + str(m2)\n",
    "                    new_ws_mode.append(updated_m)\n",
    "    return new_ws_mode\n",
    "\n",
    "\n",
    "def generate_new_mode_with_replication(instance: Instance, chromosome: Chromosome) -> list[str]:\n",
    "    # Generate modes for remaining working spaces\n",
    "    all_new_modes = []\n",
    "    logging.debug(\n",
    "        f\"generate_new_mode_with_replication(): Non replicated chromosome: {len(chromosome.mode)}\"\n",
    "    )\n",
    "    for ws in instance.df_workingspace_resources.WorkingSpace.unique():\n",
    "        if ws == 1:\n",
    "            all_new_modes.append(chromosome.mode)\n",
    "        else:\n",
    "            mode_for_ws = generate_modes_of_working_space(instance, 1, ws, chromosome.mode)\n",
    "            all_new_modes.append(mode_for_ws)\n",
    "    logging.debug(\n",
    "        f\"generate_new_mode_with_replication(): Replicated crhomosome: {len(flatten(all_new_modes))}\"\n",
    "    )\n",
    "    return flatten(all_new_modes)\n",
    "\n",
    "\n",
    "def generate_new_orders_with_replication(instance: Instance, chromosome: Chromosome) -> list[int]:\n",
    "    # Generate orders for remaining working spaces, knowing that they have\n",
    "    # to follow a replication SAC method\n",
    "    new_orders = []\n",
    "    working_spaces = instance.df_workingspace_resources.WorkingSpace.unique()\n",
    "    for i in range(len(working_spaces)):\n",
    "        ws_order = [(x * len(working_spaces)) + i for x in chromosome.order]\n",
    "        new_orders.append(ws_order)\n",
    "    return flatten(new_orders)"
   ]
  },
  {
   "cell_type": "code",
   "execution_count": 67,
   "metadata": {},
   "outputs": [],
   "source": [
    "replicated_chromosomes = []\n",
    "logging.debug(\n",
    "    f\"add_replication_of_remaining_working_spaces(): Non replicated chromosomes: {len(feasible_population)}\"\n",
    ")\n",
    "for chromosome in feasible_population:\n",
    "    replicated_chromosomes.append(\n",
    "        Chromosome(\n",
    "            mode=generate_new_mode_with_replication(instance, chromosome),\n",
    "            order=generate_new_orders_with_replication(instance, chromosome),\n",
    "        )\n",
    "    )"
   ]
  },
  {
   "cell_type": "code",
   "execution_count": 68,
   "metadata": {},
   "outputs": [
    {
     "data": {
      "text/plain": [
       "Chromosome(mode=['0', '0', '0', '0', '0', '0', '0', '0', '0', '0', '0', '0', '0', '0', '0', '0', '0', '0', '0', '0'], order=[0, 1, 2, 3, 4, 5, 6, 7, 8, 9, 10, 11, 12, 13, 14, 15, 16, 17, 18, 19])"
      ]
     },
     "execution_count": 68,
     "metadata": {},
     "output_type": "execute_result"
    }
   ],
   "source": [
    "feasible_population[0]"
   ]
  },
  {
   "cell_type": "code",
   "execution_count": 69,
   "metadata": {},
   "outputs": [
    {
     "data": {
      "text/plain": [
       "Chromosome(mode=['0', '0', '0', '0', '0', '0', '0', '0', '0', '0', '0', '0', '0', '0', '0', '0', '0', '0', '0', '0', '0', '0', '0', '0', '0', '0', '0', '0', '0', '0', '0', '0', '0', '0', '0', '0', '0', '0', '0', '0'], order=[0, 2, 4, 6, 8, 10, 12, 14, 16, 18, 20, 22, 24, 26, 28, 30, 32, 34, 36, 38, 1, 3, 5, 7, 9, 11, 13, 15, 17, 19, 21, 23, 25, 27, 29, 31, 33, 35, 37, 39])"
      ]
     },
     "execution_count": 69,
     "metadata": {},
     "output_type": "execute_result"
    }
   ],
   "source": [
    "replicated_chromosomes[0]"
   ]
  },
  {
   "cell_type": "code",
   "execution_count": 70,
   "metadata": {},
   "outputs": [
    {
     "data": {
      "text/plain": [
       "array([ 0,  1,  2,  3,  4,  5,  6,  7,  8,  9, 10, 11, 12, 13, 14, 15, 16,\n",
       "       17, 18, 19, 20, 21, 22, 23, 24, 25, 26, 27, 28, 29, 30, 31, 32, 33,\n",
       "       34, 35, 36, 37, 38, 39])"
      ]
     },
     "execution_count": 70,
     "metadata": {},
     "output_type": "execute_result"
    }
   ],
   "source": [
    "np.sort(replicated_chromosomes[0].order)"
   ]
  },
  {
   "cell_type": "code",
   "execution_count": 43,
   "metadata": {},
   "outputs": [
    {
     "name": "stdout",
     "output_type": "stream",
     "text": [
      "0\n",
      "20\n"
     ]
    },
    {
     "ename": "ValueError",
     "evalue": "2 is not in list",
     "output_type": "error",
     "traceback": [
      "\u001b[0;31m---------------------------------------------------------------------------\u001b[0m",
      "\u001b[0;31mValueError\u001b[0m                                Traceback (most recent call last)",
      "Cell \u001b[0;32mIn[43], line 7\u001b[0m\n\u001b[1;32m      5\u001b[0m allocated_prior_tasks \u001b[39m=\u001b[39m []\n\u001b[1;32m      6\u001b[0m \u001b[39mfor\u001b[39;00m n \u001b[39min\u001b[39;00m \u001b[39mrange\u001b[39m(\u001b[39mlen\u001b[39m(chromosome\u001b[39m.\u001b[39morder)):\n\u001b[0;32m----> 7\u001b[0m     \u001b[39mprint\u001b[39m(chromosome\u001b[39m.\u001b[39;49morder\u001b[39m.\u001b[39;49mindex(n))\n\u001b[1;32m      8\u001b[0m     sucessor \u001b[39m=\u001b[39m tasks[chromosome\u001b[39m.\u001b[39morder\u001b[39m.\u001b[39mindex(n)]\n\u001b[1;32m      9\u001b[0m     predecessors \u001b[39m=\u001b[39m instance\u001b[39m.\u001b[39mdf_predecessor_sucessor[\n\u001b[1;32m     10\u001b[0m         instance\u001b[39m.\u001b[39mdf_predecessor_sucessor[\u001b[39m\"\u001b[39m\u001b[39mSucessor\u001b[39m\u001b[39m\"\u001b[39m] \u001b[39m==\u001b[39m sucessor\n\u001b[1;32m     11\u001b[0m     ]\u001b[39m.\u001b[39mPredecessor\u001b[39m.\u001b[39munique()\n",
      "\u001b[0;31mValueError\u001b[0m: 2 is not in list"
     ]
    }
   ],
   "source": [
    "chromosome = replicated_population[0]\n",
    "\n",
    "tasks = [x for x in range(1, len(chromosome.order) + 1)]\n",
    "\n",
    "allocated_prior_tasks = []\n",
    "for n in range(len(chromosome.order)):\n",
    "    print(chromosome.order.index(n))\n",
    "    sucessor = tasks[chromosome.order.index(n)]\n",
    "    predecessors = instance.df_predecessor_sucessor[\n",
    "        instance.df_predecessor_sucessor[\"Sucessor\"] == sucessor\n",
    "    ].Predecessor.unique()\n",
    "    if len([x for x in predecessors if x not in allocated_prior_tasks]) > 0:\n",
    "        print(False)\n",
    "    allocated_prior_tasks.append(sucessor)"
   ]
  },
  {
   "cell_type": "code",
   "execution_count": 40,
   "metadata": {},
   "outputs": [
    {
     "ename": "ValueError",
     "evalue": "2 is not in list",
     "output_type": "error",
     "traceback": [
      "\u001b[0;31m---------------------------------------------------------------------------\u001b[0m",
      "\u001b[0;31mValueError\u001b[0m                                Traceback (most recent call last)",
      "Cell \u001b[0;32mIn[40], line 4\u001b[0m\n\u001b[1;32m      2\u001b[0m \u001b[39mfor\u001b[39;00m i \u001b[39min\u001b[39;00m \u001b[39mrange\u001b[39m(\u001b[39mlen\u001b[39m(replicated_population)):\n\u001b[1;32m      3\u001b[0m     chrom \u001b[39m=\u001b[39m replicated_population[i]\n\u001b[0;32m----> 4\u001b[0m     \u001b[39mif\u001b[39;00m feasibility\u001b[39m.\u001b[39;49mis_chromosome_precedence_feasible(instance, chrom):\n\u001b[1;32m      5\u001b[0m         precedence_feasible_chromosomes\u001b[39m.\u001b[39mappend(chrom)\n\u001b[1;32m      6\u001b[0m logging\u001b[39m.\u001b[39mdebug(\u001b[39mf\u001b[39m\u001b[39m\"\u001b[39m\u001b[39mFrom \u001b[39m\u001b[39m{\u001b[39;00m\u001b[39mlen\u001b[39m(replicated_population)\u001b[39m}\u001b[39;00m\u001b[39m to \u001b[39m\u001b[39m{\u001b[39;00m\u001b[39mlen\u001b[39m(precedence_feasible_chromosomes)\u001b[39m}\u001b[39;00m\u001b[39m\"\u001b[39m)\n",
      "File \u001b[0;32m~/Documents/GitHubPhD/HM_HRT/src/genetic_algorithm/feasibility.py:17\u001b[0m, in \u001b[0;36mis_chromosome_precedence_feasible\u001b[0;34m(instance, chromosome)\u001b[0m\n\u001b[1;32m     14\u001b[0m allocated_prior_tasks \u001b[39m=\u001b[39m []\n\u001b[1;32m     16\u001b[0m \u001b[39mfor\u001b[39;00m n \u001b[39min\u001b[39;00m \u001b[39mrange\u001b[39m(\u001b[39mlen\u001b[39m(chromosome\u001b[39m.\u001b[39morder)):\n\u001b[0;32m---> 17\u001b[0m     sucessor \u001b[39m=\u001b[39m tasks[chromosome\u001b[39m.\u001b[39;49morder\u001b[39m.\u001b[39;49mindex(n)]\n\u001b[1;32m     18\u001b[0m     predecessors \u001b[39m=\u001b[39m instance\u001b[39m.\u001b[39mdf_predecessor_sucessor[\n\u001b[1;32m     19\u001b[0m         instance\u001b[39m.\u001b[39mdf_predecessor_sucessor[\u001b[39m\"\u001b[39m\u001b[39mSucessor\u001b[39m\u001b[39m\"\u001b[39m] \u001b[39m==\u001b[39m sucessor\n\u001b[1;32m     20\u001b[0m     ]\u001b[39m.\u001b[39mPredecessor\u001b[39m.\u001b[39munique()\n\u001b[1;32m     22\u001b[0m     \u001b[39mif\u001b[39;00m \u001b[39mlen\u001b[39m([x \u001b[39mfor\u001b[39;00m x \u001b[39min\u001b[39;00m predecessors \u001b[39mif\u001b[39;00m x \u001b[39mnot\u001b[39;00m \u001b[39min\u001b[39;00m allocated_prior_tasks]) \u001b[39m>\u001b[39m \u001b[39m0\u001b[39m:\n",
      "\u001b[0;31mValueError\u001b[0m: 2 is not in list"
     ]
    }
   ],
   "source": [
    "precedence_feasible_chromosomes = []\n",
    "for i in range(len(replicated_population)):\n",
    "    chrom = replicated_population[i]\n",
    "    if feasibility.is_chromosome_precedence_feasible(instance, chrom):\n",
    "        precedence_feasible_chromosomes.append(chrom)\n",
    "logging.debug(f\"From {len(replicated_population)} to {len(precedence_feasible_chromosomes)}\")"
   ]
  },
  {
   "cell_type": "code",
   "execution_count": null,
   "metadata": {},
   "outputs": [],
   "source": [
    "task_mode_feasible_chromosomes = []\n",
    "for i in range(len(precedence_feasible_chromosomes)):\n",
    "    chrom = precedence_feasible_chromosomes[i]\n",
    "    if feasibility.is_chromosome_task_mode_feasible(instance, chrom):\n",
    "        task_mode_feasible_chromosomes.append(chrom)\n",
    "logging.debug(\n",
    "    f\"From {len(precedence_feasible_chromosomes)} to {len(task_mode_feasible_chromosomes)}\"\n",
    ")"
   ]
  },
  {
   "cell_type": "code",
   "execution_count": 38,
   "metadata": {},
   "outputs": [
    {
     "data": {
      "text/plain": [
       "12"
      ]
     },
     "execution_count": 38,
     "metadata": {},
     "output_type": "execute_result"
    }
   ],
   "source": [
    "len(feasible_population)"
   ]
  },
  {
   "cell_type": "code",
   "execution_count": 18,
   "metadata": {},
   "outputs": [],
   "source": [
    "times_of_populations = add_times_and_find_makespan(instance, feasible_population)"
   ]
  },
  {
   "cell_type": "code",
   "execution_count": 19,
   "metadata": {},
   "outputs": [
    {
     "data": {
      "text/plain": [
       "2996"
      ]
     },
     "execution_count": 19,
     "metadata": {},
     "output_type": "execute_result"
    }
   ],
   "source": [
    "times_of_populations[0]"
   ]
  },
  {
   "cell_type": "code",
   "execution_count": 20,
   "metadata": {},
   "outputs": [],
   "source": [
    "(\n",
    "    fittest_population,\n",
    "    fittest_makespan,\n",
    "    _,\n",
    ") = keep_fittest_chromosomes(replicated_population, times_of_populations, feasible_population)"
   ]
  },
  {
   "cell_type": "code",
   "execution_count": 21,
   "metadata": {},
   "outputs": [
    {
     "data": {
      "text/plain": [
       "Chromosome(mode=['2', '2', '2', '2', '2', '2', '2', '2', '2', '2', '2', '2', '2', '2', '2', '2', '2', '2', '2', '2', '3', '3', '3', '3', '3', '3', '3', '3', '3', '3', '3', '3', '3', '3', '3', '3', '3', '3', '3', '3', '4', '4', '4', '4', '4', '4', '4', '4', '4', '4', '4', '4', '4', '4', '4', '4', '4', '4', '4', '4'], order=[0, 3, 6, 9, 12, 15, 18, 21, 24, 27, 30, 33, 36, 39, 42, 45, 48, 51, 54, 57, 1, 4, 7, 10, 13, 16, 19, 22, 25, 28, 31, 34, 37, 40, 43, 46, 49, 52, 55, 58, 2, 5, 8, 11, 14, 17, 20, 23, 26, 29, 32, 35, 38, 41, 44, 47, 50, 53, 56, 59])"
      ]
     },
     "execution_count": 21,
     "metadata": {},
     "output_type": "execute_result"
    }
   ],
   "source": [
    "fittest_population[0]"
   ]
  },
  {
   "cell_type": "code",
   "execution_count": 22,
   "metadata": {},
   "outputs": [
    {
     "data": {
      "text/plain": [
       "1212"
      ]
     },
     "execution_count": 22,
     "metadata": {},
     "output_type": "execute_result"
    }
   ],
   "source": [
    "fittest_makespan[0]"
   ]
  },
  {
   "cell_type": "code",
   "execution_count": 28,
   "metadata": {},
   "outputs": [],
   "source": [
    "replicated_population = generate_next_population(fittest_population, fittest_makespan, probability)"
   ]
  },
  {
   "cell_type": "code",
   "execution_count": 29,
   "metadata": {},
   "outputs": [
    {
     "data": {
      "text/plain": [
       "Chromosome(mode=['2', '2', '2', '2', '2', '2', '2', '2', '2', '2', '2', '2', '2', '2', '2', '2', '2', '2', '2', '2', '3', '3', '3', '3', '3', '3', '3', '3', '3', '3', '3', '3', '3', '3', '3', '3', '3', '3', '3', '3', '4', '4', '4', '4', '4', '4', '4', '4', '4', '4', '4', '4', '4', '4', '4', '4', '4', '4', '4', '4'], order=[0, 3, 6, 9, 12, 15, 18, 21, 24, 27, 30, 33, 36, 39, 42, 45, 48, 51, 54, 57, 1, 4, 7, 10, 13, 16, 19, 22, 25, 28, 31, 34, 37, 40, 43, 46, 49, 52, 55, 58, 2, 5, 8, 11, 14, 17, 20, 23, 26, 29, 32, 35, 38, 41, 44, 47, 50, 53, 56, 59])"
      ]
     },
     "execution_count": 29,
     "metadata": {},
     "output_type": "execute_result"
    }
   ],
   "source": [
    "replicated_population[0]"
   ]
  },
  {
   "cell_type": "code",
   "execution_count": 30,
   "metadata": {},
   "outputs": [
    {
     "data": {
      "text/plain": [
       "Chromosome(mode=['2', '1', '1', '0-2', '1', '0', '0-3', '0-2', '0-2', '1-2', '0-2', '0-2', '0-2', '1-2', '0', '2', '0', '3', '1', '1', '1-3', '1', '0', '0-3', '3', '0-4', '1-3', '1', '0-3', '2', '1', '0', '4', '0', '0', '3', '1', '0', '1-4', '1', '4', '4', '4', '2', '4', '0', '1-4', '1', '1-3', '1-4', '0-4', '0', '4', '1', '0', '4', '1', '0', '1', '1'], order=[0, 12, 6, 9, 58, 15, 45, 21, 24, 27, 30, 33, 36, 7, 42, 18, 48, 51, 44, 57, 1, 4, 39, 10, 13, 16, 19, 22, 25, 28, 26, 34, 37, 52, 43, 46, 49, 40, 55, 56, 2, 5, 8, 11, 3, 53, 20, 23, 31, 29, 32, 35, 38, 41, 54, 47, 50, 17, 14, 59])"
      ]
     },
     "execution_count": 30,
     "metadata": {},
     "output_type": "execute_result"
    }
   ],
   "source": [
    "replicated_population[-1]"
   ]
  },
  {
   "cell_type": "code",
   "execution_count": 31,
   "metadata": {},
   "outputs": [],
   "source": [
    "feasible_population = keep_feasible_chromosomes(instance, replicated_population)"
   ]
  },
  {
   "cell_type": "code",
   "execution_count": 32,
   "metadata": {},
   "outputs": [
    {
     "data": {
      "text/plain": [
       "285"
      ]
     },
     "execution_count": 32,
     "metadata": {},
     "output_type": "execute_result"
    }
   ],
   "source": [
    "len(feasible_population)"
   ]
  },
  {
   "cell_type": "code",
   "execution_count": null,
   "metadata": {},
   "outputs": [],
   "source": [
    "while is_better_than_previous and (iteration_time < max_limit_time_sec):\n",
    "    feasible_population = keep_feasible_chromosomes(instance, replicated_population)\n",
    "    logging.info(f\"Size of feasible population: {len(feasible_population)}\")\n",
    "    if len(feasible_population) < 2:\n",
    "        logging.warning(f\"Population size: {len(feasible_population)}! Everything died!\")\n",
    "        logging.warning(f\"Returning results.\")\n",
    "\n",
    "    times_of_populations = add_times_and_find_makespan(instance, feasible_population)\n",
    "    (\n",
    "        fittest_population,\n",
    "        fittest_makespan,\n",
    "        _,\n",
    "    ) = keep_fittest_chromosomes(replicated_population, times_of_populations, feasible_population)\n",
    "    logging.info(f\"Fittest replicated: {len(fittest_population)}\")\n",
    "    is_better_than_previous = is_new_population_better_than_previous(\n",
    "        fittest_population, previous_population\n",
    "    )\n",
    "    if is_better_than_previous:\n",
    "        population = generate_next_population(fittest_population, fittest_makespan, probability)\n",
    "        logging.info(f\"Size new population: {len(population)}\")\n",
    "    if np.min(fittest_makespan) < min_makespan:\n",
    "        min_makespan = np.min(fittest_makespan)\n",
    "        better_times_seconds = (datetime.datetime.now() - start_time).total_seconds()\n",
    "    end_time = datetime.datetime.now()\n",
    "    iteration_time = (end_time - start_time).total_seconds()\n",
    "    probability = exponential_mutation_probability(iteration)\n",
    "    iteration += 1\n",
    "    logging.info(\n",
    "        f\"==> Iteration: {iteration} Time: {iteration_time:.2f} seconds. Fittest solution: {np.min(fittest_makespan)}\"\n",
    "    )\n",
    "    logging.info(f\"Next iteration will have: probability = {probability:.4f}\")"
   ]
  }
 ],
 "metadata": {
  "kernelspec": {
   "display_name": ".venv_hm_hrt",
   "language": "python",
   "name": "python3"
  },
  "language_info": {
   "codemirror_mode": {
    "name": "ipython",
    "version": 3
   },
   "file_extension": ".py",
   "mimetype": "text/x-python",
   "name": "python",
   "nbconvert_exporter": "python",
   "pygments_lexer": "ipython3",
   "version": "3.10.4"
  },
  "orig_nbformat": 4,
  "vscode": {
   "interpreter": {
    "hash": "a6289d96d3a41a28093af2b7ef3d7cfe930fbd01b56829a017029cf1de3096c1"
   }
  }
 },
 "nbformat": 4,
 "nbformat_minor": 2
}
