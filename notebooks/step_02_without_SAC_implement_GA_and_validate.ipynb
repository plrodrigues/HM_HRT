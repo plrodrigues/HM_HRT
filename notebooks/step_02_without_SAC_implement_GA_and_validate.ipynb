{
 "cells": [
  {
   "attachments": {},
   "cell_type": "markdown",
   "metadata": {},
   "source": [
    "# Development | Implement the different parts and validations of GA without the SAC condition"
   ]
  },
  {
   "cell_type": "code",
   "execution_count": null,
   "metadata": {},
   "outputs": [],
   "source": [
    "%load_ext autoreload\n",
    "%autoreload 2\n",
    "%matplotlib inline\n",
    "\n",
    "%matplotlib widget"
   ]
  },
  {
   "cell_type": "code",
   "execution_count": null,
   "metadata": {},
   "outputs": [],
   "source": [
    "import os\n",
    "import logging\n",
    "import numpy as np\n",
    "import matplotlib.pyplot as plt\n",
    "import jupyter_black\n",
    "\n",
    "jupyter_black.load()\n",
    "\n",
    "# Project\n",
    "from src.data_connectors import read_input_files"
   ]
  },
  {
   "cell_type": "code",
   "execution_count": null,
   "metadata": {},
   "outputs": [],
   "source": [
    "instance = 333\n",
    "instances_path = \"../data/input/HRTInstances\"\n",
    "ins_x = read_input_files.read_file(os.path.join(instances_path, f\"Instance_{instance}.txt\"))"
   ]
  },
  {
   "cell_type": "code",
   "execution_count": null,
   "metadata": {},
   "outputs": [],
   "source": [
    "ins_x.df_setup"
   ]
  },
  {
   "cell_type": "code",
   "execution_count": null,
   "metadata": {},
   "outputs": [],
   "source": [
    "ins_x.df_resources"
   ]
  },
  {
   "cell_type": "code",
   "execution_count": null,
   "metadata": {},
   "outputs": [],
   "source": [
    "ins_x.df_workingspace_resources"
   ]
  },
  {
   "cell_type": "code",
   "execution_count": null,
   "metadata": {},
   "outputs": [],
   "source": [
    "ins_x.df_workingspace_id.head()"
   ]
  },
  {
   "attachments": {},
   "cell_type": "markdown",
   "metadata": {},
   "source": [
    "## 0. The Chromosome"
   ]
  },
  {
   "cell_type": "code",
   "execution_count": null,
   "metadata": {},
   "outputs": [],
   "source": [
    "from src.genetic_algorithm.chromosome import Chromosome"
   ]
  },
  {
   "attachments": {},
   "cell_type": "markdown",
   "metadata": {},
   "source": [
    "## 1. Generate initial population"
   ]
  },
  {
   "cell_type": "code",
   "execution_count": null,
   "metadata": {},
   "outputs": [],
   "source": [
    "from src.genetic_algorithm import first_population\n",
    "\n",
    "# Modes\n",
    "possible_modes = first_population.get_possible_modes(ins_x)\n",
    "\n",
    "# Tasks\n",
    "n_tasks = first_population.get_total_number_of_tasks_per_working_space(ins_x)\n",
    "\n",
    "# Chromosomes\n",
    "chromosomes = first_population.get_first_population(ins_x, possible_modes, n_tasks)"
   ]
  },
  {
   "attachments": {},
   "cell_type": "markdown",
   "metadata": {},
   "source": [
    "## 2. Verify feasibility of solutions"
   ]
  },
  {
   "cell_type": "code",
   "execution_count": null,
   "metadata": {},
   "outputs": [],
   "source": [
    "from src.genetic_algorithm import feasibility"
   ]
  },
  {
   "cell_type": "code",
   "execution_count": null,
   "metadata": {},
   "outputs": [],
   "source": [
    "ins_x.df_predecessor_sucessor.head()"
   ]
  },
  {
   "cell_type": "code",
   "execution_count": null,
   "metadata": {},
   "outputs": [],
   "source": [
    "precedence_feasible_chromosomes = []\n",
    "for i in range(len(chromosomes)):\n",
    "    chrom = chromosomes[i]\n",
    "    if feasibility.is_chromosome_precedence_feasible(ins_x, chrom):\n",
    "        precedence_feasible_chromosomes.append(chrom)\n",
    "\n",
    "print(f\"From {len(chromosomes)} to {len(precedence_feasible_chromosomes)}\")"
   ]
  },
  {
   "cell_type": "code",
   "execution_count": null,
   "metadata": {},
   "outputs": [],
   "source": [
    "task_mode_feasible_chromosomes = []\n",
    "for i in range(len(precedence_feasible_chromosomes)):\n",
    "    chrom = precedence_feasible_chromosomes[i]\n",
    "    if feasibility.is_chromosome_task_mode_feasible(ins_x, chrom):\n",
    "        task_mode_feasible_chromosomes.append(chrom)\n",
    "\n",
    "print(f\"From {len(precedence_feasible_chromosomes)} to {len(task_mode_feasible_chromosomes)}\")"
   ]
  },
  {
   "attachments": {},
   "cell_type": "markdown",
   "metadata": {},
   "source": [
    "## 3. Duplication of the remaining workspaces"
   ]
  },
  {
   "cell_type": "code",
   "execution_count": null,
   "metadata": {},
   "outputs": [],
   "source": [
    "from src.genetic_algorithm import replication"
   ]
  },
  {
   "cell_type": "code",
   "execution_count": null,
   "metadata": {},
   "outputs": [],
   "source": [
    "# Generate new orders\n",
    "chromosome = task_mode_feasible_chromosomes[0]\n",
    "chromosome"
   ]
  },
  {
   "cell_type": "code",
   "execution_count": null,
   "metadata": {},
   "outputs": [],
   "source": [
    "chromosome_with_replication = replication.update_chromosome_with_replication(ins_x, chromosome)"
   ]
  },
  {
   "cell_type": "code",
   "execution_count": null,
   "metadata": {},
   "outputs": [],
   "source": [
    "chromosome_with_replication"
   ]
  },
  {
   "cell_type": "code",
   "execution_count": null,
   "metadata": {},
   "outputs": [],
   "source": [
    "# for all feasible chromosomes\n",
    "replicated_chromosomes = []\n",
    "for chromosome in task_mode_feasible_chromosomes:\n",
    "    replicated_chromosomes.append(replication.update_chromosome_with_replication(ins_x, chromosome))\n",
    "\n",
    "len(replicated_chromosomes)"
   ]
  },
  {
   "attachments": {},
   "cell_type": "markdown",
   "metadata": {},
   "source": [
    "## 4. Check feasibility of all workspaces independently"
   ]
  },
  {
   "cell_type": "code",
   "execution_count": null,
   "metadata": {},
   "outputs": [],
   "source": [
    "precedence_feasible_chromosomes = []\n",
    "for i in range(len(replicated_chromosomes)):\n",
    "    chrom = replicated_chromosomes[i]\n",
    "    if feasibility.is_chromosome_precedence_feasible(ins_x, chrom):\n",
    "        precedence_feasible_chromosomes.append(chrom)\n",
    "\n",
    "print(f\"From {len(replicated_chromosomes)} to {len(precedence_feasible_chromosomes)}\")"
   ]
  },
  {
   "cell_type": "code",
   "execution_count": null,
   "metadata": {},
   "outputs": [],
   "source": [
    "task_mode_feasible_chromosomes = []\n",
    "for i in range(len(precedence_feasible_chromosomes)):\n",
    "    chrom = precedence_feasible_chromosomes[i]\n",
    "    if feasibility.is_chromosome_task_mode_feasible(ins_x, chrom):\n",
    "        task_mode_feasible_chromosomes.append(chrom)\n",
    "\n",
    "print(f\"From {len(precedence_feasible_chromosomes)} to {len(task_mode_feasible_chromosomes)}\")"
   ]
  },
  {
   "attachments": {},
   "cell_type": "markdown",
   "metadata": {},
   "source": [
    "## 5. Generate next population"
   ]
  },
  {
   "cell_type": "code",
   "execution_count": null,
   "metadata": {},
   "outputs": [],
   "source": [
    "from src.genetic_algorithm import time_allocation\n",
    "from src.genetic_algorithm import fitness\n",
    "from src.genetic_algorithm import next_population"
   ]
  },
  {
   "cell_type": "code",
   "execution_count": null,
   "metadata": {},
   "outputs": [],
   "source": [
    "# for all replicated chromosomes\n",
    "time_allocated_chromosomes = []\n",
    "for chromosome in replicated_chromosomes:\n",
    "    time_allocated_chromosomes.append(time_allocation.get_all_time_allocations(ins_x, chromosome))\n",
    "\n",
    "print(len(time_allocated_chromosomes))\n",
    "\n",
    "# for all results\n",
    "makespan_all_chromosomes = []\n",
    "for chromosome_time_allocation in time_allocated_chromosomes:\n",
    "    makespan_all_chromosomes.append(time_allocation.find_makespan(chromosome_time_allocation))\n",
    "\n",
    "print(len(makespan_all_chromosomes))\n",
    "\n",
    "fittest_chromosomes, fittest_makespan = fitness.keep_fittest_n_chromosomes(\n",
    "    task_mode_feasible_chromosomes, makespan_all_chromosomes, 100\n",
    ")\n",
    "\n",
    "print(len(fittest_chromosomes))"
   ]
  },
  {
   "cell_type": "code",
   "execution_count": null,
   "metadata": {},
   "outputs": [],
   "source": [
    "fittest_chromosomes[0]"
   ]
  },
  {
   "cell_type": "code",
   "execution_count": null,
   "metadata": {},
   "outputs": [],
   "source": [
    "new_generation = next_population.generate_next_population_with_crossover(\n",
    "    fittest_chromosomes, fittest_makespan\n",
    ")"
   ]
  },
  {
   "cell_type": "code",
   "execution_count": null,
   "metadata": {},
   "outputs": [],
   "source": [
    "new_generation[0]"
   ]
  },
  {
   "cell_type": "code",
   "execution_count": null,
   "metadata": {},
   "outputs": [],
   "source": [
    "import copy\n",
    "\n",
    "logging.debug(f\"generate_next_population() - 0 {len(fittest_chromosomes)}\")\n",
    "new_chromosomes = copy.deepcopy(fittest_chromosomes)"
   ]
  },
  {
   "cell_type": "code",
   "execution_count": null,
   "metadata": {},
   "outputs": [],
   "source": [
    "logging.debug(f\"generate_next_population() - 1 {len(new_chromosomes)}\")\n",
    "original_fittest_chromosomes = copy.deepcopy(fittest_chromosomes)\n",
    "new_generation = next_population.generate_next_population_with_crossover(\n",
    "    original_fittest_chromosomes, fittest_makespan\n",
    ")\n",
    "generation_to_mutate = copy.deepcopy(new_generation)\n",
    "new_chromosomes.extend(new_generation)\n",
    "logging.debug(f\"generate_next_population() - 2 {len(new_chromosomes)}\")"
   ]
  },
  {
   "cell_type": "code",
   "execution_count": null,
   "metadata": {},
   "outputs": [],
   "source": [
    "probability = 0.8\n",
    "\n",
    "new_mutated_population = []\n",
    "for chromosome in generation_to_mutate:\n",
    "    mutated_chromosome = copy.deepcopy(chromosome)\n",
    "    mutated_chromosome = next_population.swap_mutation_at_probability(\n",
    "        mutated_chromosome, probability\n",
    "    )\n",
    "    new_mutated_population.append(mutated_chromosome)\n",
    "new_chromosomes.extend(new_mutated_population)\n",
    "logging.debug(f\"generate_next_population() - 3 {len(new_chromosomes)}\")"
   ]
  },
  {
   "cell_type": "code",
   "execution_count": null,
   "metadata": {},
   "outputs": [],
   "source": [
    "new_chromosomes = next_population.remove_duplicated_chromosomes(copy.deepcopy(new_chromosomes))\n",
    "logging.debug(f\"generate_next_population() - 4 {len(new_chromosomes)}\")"
   ]
  },
  {
   "cell_type": "code",
   "execution_count": null,
   "metadata": {},
   "outputs": [],
   "source": [
    "new_chromosomes[0]"
   ]
  },
  {
   "attachments": {},
   "cell_type": "markdown",
   "metadata": {},
   "source": [
    "### Check feasibility of complete new generation\n"
   ]
  },
  {
   "cell_type": "code",
   "execution_count": null,
   "metadata": {},
   "outputs": [],
   "source": [
    "precedence_feasible_chromosomes = []\n",
    "for i in range(len(new_chromosomes)):\n",
    "    chrom = new_chromosomes[i]\n",
    "    if feasibility.is_chromosome_precedence_feasible(ins_x, chrom):\n",
    "        precedence_feasible_chromosomes.append(chrom)\n",
    "\n",
    "print(f\"From {len(new_chromosomes)} to {len(precedence_feasible_chromosomes)}\")"
   ]
  },
  {
   "cell_type": "code",
   "execution_count": null,
   "metadata": {},
   "outputs": [],
   "source": [
    "task_mode_feasible_chromosomes = []\n",
    "for i in range(len(precedence_feasible_chromosomes)):\n",
    "    chrom = precedence_feasible_chromosomes[i]\n",
    "    if feasibility.is_chromosome_task_mode_feasible(ins_x, chrom):\n",
    "        task_mode_feasible_chromosomes.append(chrom)\n",
    "\n",
    "print(f\"From {len(precedence_feasible_chromosomes)} to {len(task_mode_feasible_chromosomes)}\")"
   ]
  },
  {
   "attachments": {},
   "cell_type": "markdown",
   "metadata": {},
   "source": [
    "# Complete GA"
   ]
  },
  {
   "cell_type": "code",
   "execution_count": null,
   "metadata": {},
   "outputs": [],
   "source": [
    "from src.genetic_algorithm.genetic_algorithm import *"
   ]
  },
  {
   "cell_type": "code",
   "execution_count": null,
   "metadata": {},
   "outputs": [],
   "source": [
    "instance_number = 217\n",
    "instances_path = \"../data/input/HRTInstances\"\n",
    "instance = read_input_files.read_file(\n",
    "    os.path.join(instances_path, f\"Instance_{instance_number}.txt\")\n",
    ")"
   ]
  },
  {
   "cell_type": "code",
   "execution_count": null,
   "metadata": {},
   "outputs": [],
   "source": [
    "max_limit_time_sec = 3\n",
    "\n",
    "\n",
    "population = generate_first_population(instance)\n",
    "logging.info(f\"Size first population: {len(population)}\")\n",
    "previous_population = None\n",
    "is_better_than_previous = True\n",
    "start_time = datetime.datetime.now()\n",
    "iteration_time = 0\n",
    "probability = 0.9\n",
    "iteration = 0\n",
    "# for latency assessment\n",
    "min_makespan = float(\"inf\")\n",
    "better_times_seconds = max_limit_time_sec\n",
    "feasible_population = keep_feasible_chromosomes(instance, population)\n",
    "logging.info(f\"Size of feasible population: {len(feasible_population)}\")"
   ]
  },
  {
   "cell_type": "code",
   "execution_count": null,
   "metadata": {},
   "outputs": [],
   "source": [
    "import itertools\n",
    "import logging\n",
    "\n",
    "from src.data_connectors.read_input_files import Instance\n",
    "from src.genetic_algorithm.chromosome import Chromosome\n",
    "\n",
    "\n",
    "def flatten(lst: list) -> list:\n",
    "    return list(itertools.chain(*lst))\n",
    "\n",
    "\n",
    "def is_int(string: str) -> bool:\n",
    "    try:\n",
    "        int(string)\n",
    "        return True\n",
    "    except ValueError:\n",
    "        return False\n",
    "\n",
    "\n",
    "def split_collaboration_into_ints(collab_str: str) -> tuple[int, int]:\n",
    "    val_1, val_2 = collab_str.split(\"-\")\n",
    "    return int(val_1), int(val_2)\n",
    "\n",
    "\n",
    "def generate_modes_of_working_space(\n",
    "    instance: Instance,\n",
    "    initial_working_space: int,\n",
    "    working_space: int,\n",
    "    modes: list[str],\n",
    ") -> list[str]:\n",
    "    initial_ws_resources = instance.df_workingspace_resources[\n",
    "        instance.df_workingspace_resources.WorkingSpace == initial_working_space\n",
    "    ].Resource.unique()\n",
    "    ws_resources = instance.df_workingspace_resources[\n",
    "        instance.df_workingspace_resources.WorkingSpace == working_space\n",
    "    ].Resource.unique()\n",
    "    resources_exclusively_in_new_ws = [m for m in ws_resources if m not in initial_ws_resources]\n",
    "\n",
    "    new_ws_mode = []\n",
    "    for m in modes:\n",
    "        if is_int(m):\n",
    "            if int(m) in ws_resources:\n",
    "                new_ws_mode.append(m)\n",
    "            elif len(resources_exclusively_in_new_ws) == 1:\n",
    "                new_ws_mode.append(str(resources_exclusively_in_new_ws[0]))\n",
    "            elif len(resources_exclusively_in_new_ws) > 1:\n",
    "                logging.warning(\"WHAT TO DO?\")\n",
    "        else:\n",
    "            m1, m2 = split_collaboration_into_ints(m)\n",
    "            if (m1 in ws_resources) and (m2 in ws_resources):\n",
    "                new_ws_mode.append(m)\n",
    "            elif (m1 in ws_resources) and (m2 not in ws_resources):\n",
    "                if len(resources_exclusively_in_new_ws) == 1:\n",
    "                    updated_m = str(m1) + \"-\" + str(resources_exclusively_in_new_ws[0])\n",
    "                    new_ws_mode.append(updated_m)\n",
    "            elif (m2 in ws_resources) and (m1 not in ws_resources):\n",
    "                if len(resources_exclusively_in_new_ws) == 1:\n",
    "                    updated_m = str(resources_exclusively_in_new_ws[0]) + \"-\" + str(m2)\n",
    "                    new_ws_mode.append(updated_m)\n",
    "    return new_ws_mode\n",
    "\n",
    "\n",
    "def generate_new_mode_with_replication(instance: Instance, chromosome: Chromosome) -> list[str]:\n",
    "    # Generate modes for remaining working spaces\n",
    "    all_new_modes = []\n",
    "    logging.debug(\n",
    "        f\"generate_new_mode_with_replication(): Non replicated chromosome: {len(chromosome.mode)}\"\n",
    "    )\n",
    "    for ws in instance.df_workingspace_resources.WorkingSpace.unique():\n",
    "        if ws == 1:\n",
    "            all_new_modes.append(chromosome.mode)\n",
    "        else:\n",
    "            mode_for_ws = generate_modes_of_working_space(instance, 1, ws, chromosome.mode)\n",
    "            all_new_modes.append(mode_for_ws)\n",
    "    logging.debug(\n",
    "        f\"generate_new_mode_with_replication(): Replicated crhomosome: {len(flatten(all_new_modes))}\"\n",
    "    )\n",
    "    return flatten(all_new_modes)\n",
    "\n",
    "\n",
    "def generate_new_orders_with_replication(instance: Instance, chromosome: Chromosome) -> list[int]:\n",
    "    # Generate orders for remaining working spaces, knowing that they have\n",
    "    # to follow a replication SAC method\n",
    "    new_orders = []\n",
    "    working_spaces = instance.df_workingspace_resources.WorkingSpace.unique()\n",
    "    for i in range(len(working_spaces)):\n",
    "        ws_order = [(x * len(working_spaces)) + i for x in chromosome.order]\n",
    "        new_orders.append(ws_order)\n",
    "    return flatten(new_orders)"
   ]
  },
  {
   "cell_type": "code",
   "execution_count": null,
   "metadata": {},
   "outputs": [],
   "source": [
    "replicated_chromosomes = []\n",
    "logging.debug(\n",
    "    f\"add_replication_of_remaining_working_spaces(): Non replicated chromosomes: {len(feasible_population)}\"\n",
    ")\n",
    "for chromosome in feasible_population:\n",
    "    replicated_chromosomes.append(\n",
    "        Chromosome(\n",
    "            mode=generate_new_mode_with_replication(instance, chromosome),\n",
    "            order=generate_new_orders_with_replication(instance, chromosome),\n",
    "        )\n",
    "    )"
   ]
  },
  {
   "cell_type": "code",
   "execution_count": null,
   "metadata": {},
   "outputs": [],
   "source": [
    "feasible_population[0]"
   ]
  },
  {
   "cell_type": "code",
   "execution_count": null,
   "metadata": {},
   "outputs": [],
   "source": [
    "replicated_chromosomes[0]"
   ]
  },
  {
   "cell_type": "code",
   "execution_count": null,
   "metadata": {},
   "outputs": [],
   "source": [
    "np.sort(replicated_chromosomes[0].order)"
   ]
  },
  {
   "cell_type": "code",
   "execution_count": null,
   "metadata": {},
   "outputs": [],
   "source": [
    "chromosome = replicated_population[0]\n",
    "\n",
    "tasks = [x for x in range(1, len(chromosome.order) + 1)]\n",
    "\n",
    "allocated_prior_tasks = []\n",
    "for n in range(len(chromosome.order)):\n",
    "    print(chromosome.order.index(n))\n",
    "    sucessor = tasks[chromosome.order.index(n)]\n",
    "    predecessors = instance.df_predecessor_sucessor[\n",
    "        instance.df_predecessor_sucessor[\"Sucessor\"] == sucessor\n",
    "    ].Predecessor.unique()\n",
    "    if len([x for x in predecessors if x not in allocated_prior_tasks]) > 0:\n",
    "        print(False)\n",
    "    allocated_prior_tasks.append(sucessor)"
   ]
  },
  {
   "cell_type": "code",
   "execution_count": null,
   "metadata": {},
   "outputs": [],
   "source": [
    "precedence_feasible_chromosomes = []\n",
    "for i in range(len(replicated_population)):\n",
    "    chrom = replicated_population[i]\n",
    "    if feasibility.is_chromosome_precedence_feasible(instance, chrom):\n",
    "        precedence_feasible_chromosomes.append(chrom)\n",
    "logging.debug(f\"From {len(replicated_population)} to {len(precedence_feasible_chromosomes)}\")"
   ]
  },
  {
   "cell_type": "code",
   "execution_count": null,
   "metadata": {},
   "outputs": [],
   "source": [
    "task_mode_feasible_chromosomes = []\n",
    "for i in range(len(precedence_feasible_chromosomes)):\n",
    "    chrom = precedence_feasible_chromosomes[i]\n",
    "    if feasibility.is_chromosome_task_mode_feasible(instance, chrom):\n",
    "        task_mode_feasible_chromosomes.append(chrom)\n",
    "logging.debug(\n",
    "    f\"From {len(precedence_feasible_chromosomes)} to {len(task_mode_feasible_chromosomes)}\"\n",
    ")"
   ]
  },
  {
   "cell_type": "code",
   "execution_count": null,
   "metadata": {},
   "outputs": [],
   "source": [
    "len(feasible_population)"
   ]
  },
  {
   "cell_type": "code",
   "execution_count": null,
   "metadata": {},
   "outputs": [],
   "source": [
    "times_of_populations = add_times_and_find_makespan(instance, feasible_population)"
   ]
  },
  {
   "cell_type": "code",
   "execution_count": null,
   "metadata": {},
   "outputs": [],
   "source": [
    "times_of_populations[0]"
   ]
  },
  {
   "cell_type": "code",
   "execution_count": null,
   "metadata": {},
   "outputs": [],
   "source": [
    "(\n",
    "    fittest_population,\n",
    "    fittest_makespan,\n",
    "    _,\n",
    ") = keep_fittest_chromosomes(replicated_population, times_of_populations, feasible_population)"
   ]
  },
  {
   "cell_type": "code",
   "execution_count": null,
   "metadata": {},
   "outputs": [],
   "source": [
    "fittest_population[0]"
   ]
  },
  {
   "cell_type": "code",
   "execution_count": null,
   "metadata": {},
   "outputs": [],
   "source": [
    "fittest_makespan[0]"
   ]
  },
  {
   "cell_type": "code",
   "execution_count": null,
   "metadata": {},
   "outputs": [],
   "source": [
    "replicated_population = generate_next_population(fittest_population, fittest_makespan, probability)"
   ]
  },
  {
   "cell_type": "code",
   "execution_count": null,
   "metadata": {},
   "outputs": [],
   "source": [
    "replicated_population[0]"
   ]
  },
  {
   "cell_type": "code",
   "execution_count": null,
   "metadata": {},
   "outputs": [],
   "source": [
    "replicated_population[-1]"
   ]
  },
  {
   "cell_type": "code",
   "execution_count": null,
   "metadata": {},
   "outputs": [],
   "source": [
    "feasible_population = keep_feasible_chromosomes(instance, replicated_population)"
   ]
  },
  {
   "cell_type": "code",
   "execution_count": null,
   "metadata": {},
   "outputs": [],
   "source": [
    "len(feasible_population)"
   ]
  },
  {
   "cell_type": "code",
   "execution_count": null,
   "metadata": {},
   "outputs": [],
   "source": [
    "while is_better_than_previous and (iteration_time < max_limit_time_sec):\n",
    "    feasible_population = keep_feasible_chromosomes(instance, replicated_population)\n",
    "    logging.info(f\"Size of feasible population: {len(feasible_population)}\")\n",
    "    if len(feasible_population) < 2:\n",
    "        logging.warning(f\"Population size: {len(feasible_population)}! Everything died!\")\n",
    "        logging.warning(f\"Returning results.\")\n",
    "\n",
    "    times_of_populations = add_times_and_find_makespan(instance, feasible_population)\n",
    "    (\n",
    "        fittest_population,\n",
    "        fittest_makespan,\n",
    "        _,\n",
    "    ) = keep_fittest_chromosomes(replicated_population, times_of_populations, feasible_population)\n",
    "    logging.info(f\"Fittest replicated: {len(fittest_population)}\")\n",
    "    is_better_than_previous = is_new_population_better_than_previous(\n",
    "        fittest_population, previous_population\n",
    "    )\n",
    "    if is_better_than_previous:\n",
    "        population = generate_next_population(fittest_population, fittest_makespan, probability)\n",
    "        logging.info(f\"Size new population: {len(population)}\")\n",
    "    if np.min(fittest_makespan) < min_makespan:\n",
    "        min_makespan = np.min(fittest_makespan)\n",
    "        better_times_seconds = (datetime.datetime.now() - start_time).total_seconds()\n",
    "    end_time = datetime.datetime.now()\n",
    "    iteration_time = (end_time - start_time).total_seconds()\n",
    "    probability = exponential_mutation_probability(iteration)\n",
    "    iteration += 1\n",
    "    logging.info(\n",
    "        f\"==> Iteration: {iteration} Time: {iteration_time:.2f} seconds. Fittest solution: {np.min(fittest_makespan)}\"\n",
    "    )\n",
    "    logging.info(f\"Next iteration will have: probability = {probability:.4f}\")"
   ]
  }
 ],
 "metadata": {
  "kernelspec": {
   "display_name": ".venv_hm_hrt",
   "language": "python",
   "name": "python3"
  },
  "language_info": {
   "codemirror_mode": {
    "name": "ipython",
    "version": 3
   },
   "file_extension": ".py",
   "mimetype": "text/x-python",
   "name": "python",
   "nbconvert_exporter": "python",
   "pygments_lexer": "ipython3",
   "version": "3.10.4"
  },
  "orig_nbformat": 4,
  "vscode": {
   "interpreter": {
    "hash": "a6289d96d3a41a28093af2b7ef3d7cfe930fbd01b56829a017029cf1de3096c1"
   }
  }
 },
 "nbformat": 4,
 "nbformat_minor": 2
}
