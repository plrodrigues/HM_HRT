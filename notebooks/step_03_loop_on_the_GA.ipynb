{
 "cells": [
  {
   "attachments": {},
   "cell_type": "markdown",
   "metadata": {},
   "source": [
    "# Development | Loop 1 instance with the Genetic Algorithm"
   ]
  },
  {
   "cell_type": "code",
   "execution_count": 9,
   "metadata": {},
   "outputs": [
    {
     "name": "stdout",
     "output_type": "stream",
     "text": [
      "The autoreload extension is already loaded. To reload it, use:\n",
      "  %reload_ext autoreload\n"
     ]
    }
   ],
   "source": [
    "%load_ext autoreload\n",
    "%autoreload 2\n",
    "%matplotlib inline\n",
    "\n",
    "%matplotlib widget"
   ]
  },
  {
   "attachments": {},
   "cell_type": "markdown",
   "metadata": {},
   "source": [
    "## [Flow](https://miro.com/app/board/uXjVPyl00iw=/)\n",
    "\n",
    "1. Generate **Initial Population**\n",
    "2. Verify if order of genes is violating the precedence\n",
    "    1. Discard those that are violating the precedence\n",
    "3. Duplicate it for all the jobs in the same instance (SAC)\n",
    "4. Create the array of times (start and end), using the resources time estimator for the respective mode allocation\n",
    "5. **Fitness Function**: Compute the total time to complete all the jobs in all working spaces of same instance $\\Longrightarrow C$ \n",
    "6. **Selection**: Retain the genes with lower C (at maximum X)\n",
    "    1. Discard those that have larger C\n",
    "    2. Verify if new population has a significant improvement in total C from previous population.\n",
    "7. **Generate next population**:\n",
    "    1. **Crossover**: from survival chromosomes, create offsprings \n",
    "    2. **Mutation**: add mutation to the created offsprings (initially larger %, and decreases over time).\n",
    "8. Return to point **2**."
   ]
  },
  {
   "cell_type": "code",
   "execution_count": 10,
   "metadata": {},
   "outputs": [],
   "source": [
    "import os\n",
    "import numpy as np\n",
    "import logging\n",
    "import jupyter_black\n",
    "\n",
    "jupyter_black.load()\n",
    "\n",
    "logging.basicConfig()\n",
    "logging.getLogger().setLevel(logging.INFO)"
   ]
  },
  {
   "attachments": {},
   "cell_type": "markdown",
   "metadata": {},
   "source": [
    "## 1. The instance to be explored"
   ]
  },
  {
   "cell_type": "code",
   "execution_count": 11,
   "metadata": {},
   "outputs": [],
   "source": [
    "from src.data_connectors import read_input_files"
   ]
  },
  {
   "cell_type": "code",
   "execution_count": 12,
   "metadata": {},
   "outputs": [],
   "source": [
    "instance = 217\n",
    "instances_path = \"../data/input/HRTInstances\"\n",
    "ins_x = read_input_files.read_file(os.path.join(instances_path, f\"Instance_{instance}.txt\"))"
   ]
  },
  {
   "attachments": {},
   "cell_type": "markdown",
   "metadata": {},
   "source": [
    "## 2. Run GA"
   ]
  },
  {
   "cell_type": "code",
   "execution_count": 13,
   "metadata": {},
   "outputs": [],
   "source": [
    "from src.genetic_algorithm import genetic_algorithm"
   ]
  },
  {
   "cell_type": "code",
   "execution_count": 14,
   "metadata": {},
   "outputs": [
    {
     "name": "stderr",
     "output_type": "stream",
     "text": [
      "INFO:root:Size first population: 12600\n",
      "INFO:root:Size of feasible population: 12\n",
      "INFO:root:Population replicated: 12\n",
      "INFO:root:Fittest replicated: 12\n",
      "INFO:root:generate_next_population() - 4 30\n",
      "INFO:root:Size new population: 30\n",
      "INFO:root:==> Iteration: 1 Time: 3.291497 seconds. Fittest solution: 1427\n",
      "INFO:root:Next iteration will have: probability = 0.9\n",
      "INFO:root:Size of feasible population: 6\n",
      "INFO:root:Population replicated: 6\n",
      "INFO:root:Fittest replicated: 6\n",
      "INFO:root:generate_next_population() - 4 26\n",
      "INFO:root:Size new population: 26\n",
      "INFO:root:==> Iteration: 2 Time: 3.407645 seconds. Fittest solution: 1427\n",
      "INFO:root:Next iteration will have: probability = 0.855\n",
      "INFO:root:Size of feasible population: 14\n",
      "INFO:root:Population replicated: 14\n",
      "INFO:root:Fittest replicated: 14\n",
      "INFO:root:generate_next_population() - 4 50\n",
      "INFO:root:Size new population: 50\n",
      "INFO:root:==> Iteration: 3 Time: 3.664574 seconds. Fittest solution: 1427\n",
      "INFO:root:Next iteration will have: probability = 0.81225\n",
      "INFO:root:Size of feasible population: 23\n",
      "INFO:root:Population replicated: 23\n",
      "INFO:root:Fittest replicated: 23\n",
      "INFO:root:generate_next_population() - 4 77\n",
      "INFO:root:Size new population: 77\n",
      "INFO:root:==> Iteration: 4 Time: 4.088265 seconds. Fittest solution: 1427\n",
      "INFO:root:Next iteration will have: probability = 0.7716374999999999\n",
      "INFO:root:Size of feasible population: 34\n",
      "INFO:root:Population replicated: 34\n",
      "INFO:root:Fittest replicated: 34\n",
      "INFO:root:generate_next_population() - 4 106\n",
      "INFO:root:Size new population: 106\n",
      "INFO:root:==> Iteration: 5 Time: 4.708362 seconds. Fittest solution: 1427\n",
      "INFO:root:Next iteration will have: probability = 0.7330556249999999\n",
      "INFO:root:Size of feasible population: 46\n",
      "INFO:root:Population replicated: 46\n",
      "INFO:root:Fittest replicated: 46\n",
      "INFO:root:generate_next_population() - 4 149\n",
      "INFO:root:Size new population: 149\n",
      "INFO:root:==> Iteration: 6 Time: 5.575893 seconds. Fittest solution: 1427\n",
      "INFO:root:Next iteration will have: probability = 0.6964028437499998\n",
      "INFO:root:Size of feasible population: 60\n",
      "INFO:root:Population replicated: 60\n",
      "INFO:root:Fittest replicated: 60\n",
      "INFO:root:generate_next_population() - 4 184\n",
      "INFO:root:Size new population: 184\n",
      "INFO:root:==> Iteration: 7 Time: 6.706930 seconds. Fittest solution: 1427\n",
      "INFO:root:Next iteration will have: probability = 0.6615827015624999\n",
      "INFO:root:Size of feasible population: 71\n",
      "INFO:root:Population replicated: 71\n",
      "INFO:root:Fittest replicated: 71\n",
      "INFO:root:generate_next_population() - 4 214\n",
      "INFO:root:Size new population: 214\n",
      "INFO:root:==> Iteration: 8 Time: 8.057325 seconds. Fittest solution: 1427\n",
      "INFO:root:Next iteration will have: probability = 0.6285035664843748\n",
      "INFO:root:Size of feasible population: 82\n",
      "INFO:root:Population replicated: 82\n",
      "INFO:root:Fittest replicated: 82\n",
      "INFO:root:generate_next_population() - 4 250\n",
      "INFO:root:Size new population: 250\n",
      "INFO:root:==> Iteration: 9 Time: 9.594559 seconds. Fittest solution: 1427\n",
      "INFO:root:Next iteration will have: probability = 0.597078388160156\n",
      "INFO:root:Size of feasible population: 97\n",
      "INFO:root:Population replicated: 97\n",
      "INFO:root:Fittest replicated: 97\n",
      "INFO:root:generate_next_population() - 4 290\n",
      "INFO:root:Size new population: 290\n",
      "INFO:root:==> Iteration: 10 Time: 11.407978 seconds. Fittest solution: 1427\n",
      "INFO:root:Next iteration will have: probability = 0.5672244687521482\n",
      "INFO:root:Size of feasible population: 108\n",
      "INFO:root:Population replicated: 108\n",
      "INFO:root:Fittest replicated: 102\n",
      "INFO:root:generate_next_population() - 4 306\n",
      "INFO:root:Size new population: 306\n",
      "INFO:root:==> Iteration: 11 Time: 13.432686 seconds. Fittest solution: 1427\n",
      "INFO:root:Next iteration will have: probability = 0.5388632453145408\n",
      "INFO:root:Size of feasible population: 119\n",
      "INFO:root:Population replicated: 119\n",
      "INFO:root:Fittest replicated: 102\n",
      "INFO:root:generate_next_population() - 4 318\n",
      "INFO:root:Size new population: 318\n",
      "INFO:root:==> Iteration: 12 Time: 15.647129 seconds. Fittest solution: 1427\n",
      "INFO:root:Next iteration will have: probability = 0.5119200830488138\n",
      "INFO:root:Size of feasible population: 128\n",
      "INFO:root:Population replicated: 128\n",
      "INFO:root:Fittest replicated: 104\n",
      "INFO:root:generate_next_population() - 4 325\n",
      "INFO:root:Size new population: 325\n",
      "INFO:root:==> Iteration: 13 Time: 18.041192 seconds. Fittest solution: 1427\n",
      "INFO:root:Next iteration will have: probability = 0.486324078896373\n",
      "INFO:root:Size of feasible population: 128\n",
      "INFO:root:Population replicated: 128\n",
      "INFO:root:Fittest replicated: 101\n",
      "INFO:root:generate_next_population() - 4 308\n",
      "INFO:root:Size new population: 308\n",
      "INFO:root:==> Iteration: 14 Time: 20.404024 seconds. Fittest solution: 1427\n",
      "INFO:root:Next iteration will have: probability = 0.4620078749515543\n",
      "INFO:root:Size of feasible population: 125\n",
      "INFO:root:Population replicated: 125\n",
      "INFO:root:Fittest replicated: 104\n",
      "INFO:root:generate_next_population() - 4 327\n",
      "INFO:root:Size new population: 327\n",
      "INFO:root:==> Iteration: 15 Time: 22.760057 seconds. Fittest solution: 1427\n",
      "INFO:root:Next iteration will have: probability = 0.4389074812039766\n",
      "INFO:root:Size of feasible population: 134\n",
      "INFO:root:Population replicated: 134\n",
      "INFO:root:Fittest replicated: 104\n",
      "INFO:root:generate_next_population() - 4 302\n",
      "INFO:root:Size new population: 302\n",
      "INFO:root:==> Iteration: 16 Time: 25.290705 seconds. Fittest solution: 1427\n",
      "INFO:root:Next iteration will have: probability = 0.41696210714377774\n",
      "INFO:root:Size of feasible population: 113\n",
      "INFO:root:Population replicated: 113\n",
      "INFO:root:Fittest replicated: 103\n",
      "INFO:root:generate_next_population() - 4 302\n",
      "INFO:root:Size new population: 302\n",
      "INFO:root:==> Iteration: 17 Time: 27.422109 seconds. Fittest solution: 1427\n",
      "INFO:root:Next iteration will have: probability = 0.39611400178658884\n",
      "INFO:root:Size of feasible population: 119\n",
      "INFO:root:Population replicated: 119\n",
      "INFO:root:Fittest replicated: 104\n",
      "INFO:root:generate_next_population() - 4 300\n",
      "INFO:root:Size new population: 300\n",
      "INFO:root:==> Iteration: 18 Time: 29.660001 seconds. Fittest solution: 1427\n",
      "INFO:root:Next iteration will have: probability = 0.3763083016972594\n",
      "INFO:root:Size of feasible population: 110\n",
      "INFO:root:Population replicated: 110\n",
      "INFO:root:Fittest replicated: 101\n",
      "INFO:root:generate_next_population() - 4 293\n",
      "INFO:root:Size new population: 293\n",
      "INFO:root:==> Iteration: 19 Time: 31.712377 seconds. Fittest solution: 1427\n",
      "INFO:root:Next iteration will have: probability = 0.35749288661239637\n"
     ]
    }
   ],
   "source": [
    "result = genetic_algorithm.genetic_algorithm(ins_x, max_limit_time_sec=5)"
   ]
  },
  {
   "attachments": {},
   "cell_type": "markdown",
   "metadata": {},
   "source": [
    "## Save results"
   ]
  },
  {
   "cell_type": "code",
   "execution_count": 15,
   "metadata": {},
   "outputs": [],
   "source": [
    "from src.data_connectors import write_solution_files"
   ]
  },
  {
   "cell_type": "code",
   "execution_count": 16,
   "metadata": {},
   "outputs": [],
   "source": [
    "write_solution_files.write_solution_to_file(ins_x, instance, result)"
   ]
  },
  {
   "cell_type": "code",
   "execution_count": null,
   "metadata": {},
   "outputs": [],
   "source": []
  }
 ],
 "metadata": {
  "kernelspec": {
   "display_name": ".venv_hm_hrt",
   "language": "python",
   "name": "python3"
  },
  "language_info": {
   "codemirror_mode": {
    "name": "ipython",
    "version": 3
   },
   "file_extension": ".py",
   "mimetype": "text/x-python",
   "name": "python",
   "nbconvert_exporter": "python",
   "pygments_lexer": "ipython3",
   "version": "3.10.4"
  },
  "orig_nbformat": 4,
  "vscode": {
   "interpreter": {
    "hash": "a6289d96d3a41a28093af2b7ef3d7cfe930fbd01b56829a017029cf1de3096c1"
   }
  }
 },
 "nbformat": 4,
 "nbformat_minor": 2
}
