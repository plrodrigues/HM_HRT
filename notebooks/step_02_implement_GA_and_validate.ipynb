{
 "cells": [
  {
   "attachments": {},
   "cell_type": "markdown",
   "metadata": {},
   "source": [
    "# Development | Implement the different parts and validations of GA"
   ]
  },
  {
   "cell_type": "code",
   "execution_count": 1,
   "metadata": {},
   "outputs": [],
   "source": [
    "%load_ext autoreload\n",
    "%autoreload 2\n",
    "%matplotlib inline\n",
    "\n",
    "%matplotlib widget"
   ]
  },
  {
   "cell_type": "code",
   "execution_count": 2,
   "metadata": {},
   "outputs": [
    {
     "data": {
      "text/html": [
       "\n",
       "                <script type=\"application/javascript\" id=\"jupyter_black\">\n",
       "                (function() {\n",
       "                    if (window.IPython === undefined) {\n",
       "                        return\n",
       "                    }\n",
       "                    var msg = \"WARNING: it looks like you might have loaded \" +\n",
       "                        \"jupyter_black in a non-lab notebook with \" +\n",
       "                        \"`is_lab=True`. Please double check, and if \" +\n",
       "                        \"loading with `%load_ext` please review the README!\"\n",
       "                    console.log(msg)\n",
       "                    alert(msg)\n",
       "                })()\n",
       "                </script>\n",
       "                "
      ],
      "text/plain": [
       "<IPython.core.display.HTML object>"
      ]
     },
     "metadata": {},
     "output_type": "display_data"
    }
   ],
   "source": [
    "import os\n",
    "import numpy as np\n",
    "import matplotlib.pyplot as plt\n",
    "import jupyter_black\n",
    "\n",
    "jupyter_black.load()\n",
    "\n",
    "# Project\n",
    "from src.data_connectors import read_input_files"
   ]
  },
  {
   "cell_type": "code",
   "execution_count": 3,
   "metadata": {},
   "outputs": [],
   "source": [
    "instance = 333\n",
    "instances_path = \"../data/input/HRTInstances\"\n",
    "ins_x = read_input_files.read_file(os.path.join(instances_path, f\"Instance_{instance}.txt\"))"
   ]
  },
  {
   "cell_type": "code",
   "execution_count": 4,
   "metadata": {},
   "outputs": [
    {
     "data": {
      "text/html": [
       "<div>\n",
       "<style scoped>\n",
       "    .dataframe tbody tr th:only-of-type {\n",
       "        vertical-align: middle;\n",
       "    }\n",
       "\n",
       "    .dataframe tbody tr th {\n",
       "        vertical-align: top;\n",
       "    }\n",
       "\n",
       "    .dataframe thead th {\n",
       "        text-align: right;\n",
       "    }\n",
       "</style>\n",
       "<table border=\"1\" class=\"dataframe\">\n",
       "  <thead>\n",
       "    <tr style=\"text-align: right;\">\n",
       "      <th></th>\n",
       "      <th>Humans</th>\n",
       "      <th>Robots</th>\n",
       "      <th>WorkingSpaces</th>\n",
       "    </tr>\n",
       "  </thead>\n",
       "  <tbody>\n",
       "    <tr>\n",
       "      <th>0</th>\n",
       "      <td>2</td>\n",
       "      <td>3</td>\n",
       "      <td>3</td>\n",
       "    </tr>\n",
       "  </tbody>\n",
       "</table>\n",
       "</div>"
      ],
      "text/plain": [
       "  Humans Robots WorkingSpaces\n",
       "0      2      3             3"
      ]
     },
     "execution_count": 4,
     "metadata": {},
     "output_type": "execute_result"
    }
   ],
   "source": [
    "ins_x.df_setup"
   ]
  },
  {
   "cell_type": "code",
   "execution_count": 5,
   "metadata": {},
   "outputs": [
    {
     "data": {
      "text/html": [
       "<div>\n",
       "<style scoped>\n",
       "    .dataframe tbody tr th:only-of-type {\n",
       "        vertical-align: middle;\n",
       "    }\n",
       "\n",
       "    .dataframe tbody tr th {\n",
       "        vertical-align: top;\n",
       "    }\n",
       "\n",
       "    .dataframe thead th {\n",
       "        text-align: right;\n",
       "    }\n",
       "</style>\n",
       "<table border=\"1\" class=\"dataframe\">\n",
       "  <thead>\n",
       "    <tr style=\"text-align: right;\">\n",
       "      <th></th>\n",
       "      <th>Type</th>\n",
       "      <th>Id</th>\n",
       "    </tr>\n",
       "  </thead>\n",
       "  <tbody>\n",
       "    <tr>\n",
       "      <th>0</th>\n",
       "      <td>H</td>\n",
       "      <td>0</td>\n",
       "    </tr>\n",
       "    <tr>\n",
       "      <th>1</th>\n",
       "      <td>H</td>\n",
       "      <td>1</td>\n",
       "    </tr>\n",
       "    <tr>\n",
       "      <th>2</th>\n",
       "      <td>R</td>\n",
       "      <td>2</td>\n",
       "    </tr>\n",
       "    <tr>\n",
       "      <th>3</th>\n",
       "      <td>R</td>\n",
       "      <td>3</td>\n",
       "    </tr>\n",
       "    <tr>\n",
       "      <th>4</th>\n",
       "      <td>R</td>\n",
       "      <td>4</td>\n",
       "    </tr>\n",
       "  </tbody>\n",
       "</table>\n",
       "</div>"
      ],
      "text/plain": [
       "  Type  Id\n",
       "0    H   0\n",
       "1    H   1\n",
       "2    R   2\n",
       "3    R   3\n",
       "4    R   4"
      ]
     },
     "execution_count": 5,
     "metadata": {},
     "output_type": "execute_result"
    }
   ],
   "source": [
    "ins_x.df_resources"
   ]
  },
  {
   "cell_type": "code",
   "execution_count": 6,
   "metadata": {},
   "outputs": [
    {
     "data": {
      "text/html": [
       "<div>\n",
       "<style scoped>\n",
       "    .dataframe tbody tr th:only-of-type {\n",
       "        vertical-align: middle;\n",
       "    }\n",
       "\n",
       "    .dataframe tbody tr th {\n",
       "        vertical-align: top;\n",
       "    }\n",
       "\n",
       "    .dataframe thead th {\n",
       "        text-align: right;\n",
       "    }\n",
       "</style>\n",
       "<table border=\"1\" class=\"dataframe\">\n",
       "  <thead>\n",
       "    <tr style=\"text-align: right;\">\n",
       "      <th></th>\n",
       "      <th>WorkingSpace</th>\n",
       "      <th>Resource</th>\n",
       "    </tr>\n",
       "  </thead>\n",
       "  <tbody>\n",
       "    <tr>\n",
       "      <th>0</th>\n",
       "      <td>1</td>\n",
       "      <td>2</td>\n",
       "    </tr>\n",
       "    <tr>\n",
       "      <th>1</th>\n",
       "      <td>1</td>\n",
       "      <td>0</td>\n",
       "    </tr>\n",
       "    <tr>\n",
       "      <th>2</th>\n",
       "      <td>1</td>\n",
       "      <td>1</td>\n",
       "    </tr>\n",
       "    <tr>\n",
       "      <th>3</th>\n",
       "      <td>2</td>\n",
       "      <td>3</td>\n",
       "    </tr>\n",
       "    <tr>\n",
       "      <th>4</th>\n",
       "      <td>2</td>\n",
       "      <td>0</td>\n",
       "    </tr>\n",
       "    <tr>\n",
       "      <th>5</th>\n",
       "      <td>2</td>\n",
       "      <td>1</td>\n",
       "    </tr>\n",
       "    <tr>\n",
       "      <th>6</th>\n",
       "      <td>3</td>\n",
       "      <td>4</td>\n",
       "    </tr>\n",
       "    <tr>\n",
       "      <th>7</th>\n",
       "      <td>3</td>\n",
       "      <td>0</td>\n",
       "    </tr>\n",
       "    <tr>\n",
       "      <th>8</th>\n",
       "      <td>3</td>\n",
       "      <td>1</td>\n",
       "    </tr>\n",
       "  </tbody>\n",
       "</table>\n",
       "</div>"
      ],
      "text/plain": [
       "   WorkingSpace  Resource\n",
       "0             1         2\n",
       "1             1         0\n",
       "2             1         1\n",
       "3             2         3\n",
       "4             2         0\n",
       "5             2         1\n",
       "6             3         4\n",
       "7             3         0\n",
       "8             3         1"
      ]
     },
     "execution_count": 6,
     "metadata": {},
     "output_type": "execute_result"
    }
   ],
   "source": [
    "ins_x.df_workingspace_resources"
   ]
  },
  {
   "cell_type": "code",
   "execution_count": 7,
   "metadata": {},
   "outputs": [
    {
     "data": {
      "text/html": [
       "<div>\n",
       "<style scoped>\n",
       "    .dataframe tbody tr th:only-of-type {\n",
       "        vertical-align: middle;\n",
       "    }\n",
       "\n",
       "    .dataframe tbody tr th {\n",
       "        vertical-align: top;\n",
       "    }\n",
       "\n",
       "    .dataframe thead th {\n",
       "        text-align: right;\n",
       "    }\n",
       "</style>\n",
       "<table border=\"1\" class=\"dataframe\">\n",
       "  <thead>\n",
       "    <tr style=\"text-align: right;\">\n",
       "      <th></th>\n",
       "      <th>WorkingSpace</th>\n",
       "      <th>Id</th>\n",
       "    </tr>\n",
       "  </thead>\n",
       "  <tbody>\n",
       "    <tr>\n",
       "      <th>0</th>\n",
       "      <td>1</td>\n",
       "      <td>1</td>\n",
       "    </tr>\n",
       "    <tr>\n",
       "      <th>1</th>\n",
       "      <td>1</td>\n",
       "      <td>2</td>\n",
       "    </tr>\n",
       "    <tr>\n",
       "      <th>2</th>\n",
       "      <td>1</td>\n",
       "      <td>3</td>\n",
       "    </tr>\n",
       "    <tr>\n",
       "      <th>3</th>\n",
       "      <td>1</td>\n",
       "      <td>4</td>\n",
       "    </tr>\n",
       "    <tr>\n",
       "      <th>4</th>\n",
       "      <td>1</td>\n",
       "      <td>5</td>\n",
       "    </tr>\n",
       "  </tbody>\n",
       "</table>\n",
       "</div>"
      ],
      "text/plain": [
       "   WorkingSpace  Id\n",
       "0             1   1\n",
       "1             1   2\n",
       "2             1   3\n",
       "3             1   4\n",
       "4             1   5"
      ]
     },
     "execution_count": 7,
     "metadata": {},
     "output_type": "execute_result"
    }
   ],
   "source": [
    "ins_x.df_workingspace_id.head()"
   ]
  },
  {
   "attachments": {},
   "cell_type": "markdown",
   "metadata": {},
   "source": [
    "## [Flow](https://miro.com/app/board/uXjVPyl00iw=/)\n",
    "\n",
    "1. Generate **Initial Population**\n",
    "2. Verify if order of genes is violating the precedence\n",
    "    1. Discard those that are violating the precedence\n",
    "3. Duplicate it for all the jobs in the same instance (SAC)\n",
    "4. Create the array of times (start and end), using the resources time estimator for the respective mode allocation\n",
    "5. **Fitness Function**: Compute the total time to complete all the jobs in all working spaces of same instance $\\Longrightarrow C$ \n",
    "6. **Selection**: Retain the genes with lower C (at maximum X)\n",
    "    1. Discard those that have larger C\n",
    "    2. Verify if new population has a significant improvement in total C from previous population.\n",
    "7. **Generate next population**:\n",
    "    1. **Crossover**: from survival chromosomes, create offsprings \n",
    "    2. **Mutation**: add mutation to the created offsprings (initially larger %, and decreases over time).\n",
    "8. Return to point **2**."
   ]
  },
  {
   "attachments": {},
   "cell_type": "markdown",
   "metadata": {},
   "source": [
    "### 0. The chromosome\n",
    "\n",
    "```python\n",
    "chromosome = {\n",
    "    'mode': [0, 1, 2, 2, 1, ... ], # resource ID\n",
    "    'order': [2, 3, 1, 4, 5, ...], # order of tasks of each position\n",
    "    }\n",
    "\n",
    "```"
   ]
  },
  {
   "cell_type": "code",
   "execution_count": 8,
   "metadata": {},
   "outputs": [],
   "source": [
    "from src.genetic_algorithm.chromosome import Chromosome"
   ]
  },
  {
   "attachments": {},
   "cell_type": "markdown",
   "metadata": {},
   "source": [
    "### 1. Generate initial population"
   ]
  },
  {
   "attachments": {},
   "cell_type": "markdown",
   "metadata": {},
   "source": [
    "By default, it generates population for 1 working space:\n",
    "\n",
    "**Note**:\n",
    "- *It is important to generate a large first population, because a lot chromosomes might not survived due to feasibility of solutions.*"
   ]
  },
  {
   "cell_type": "code",
   "execution_count": 10,
   "metadata": {},
   "outputs": [],
   "source": [
    "from src.genetic_algorithm import first_population\n",
    "\n",
    "# Modes\n",
    "possible_modes = first_population.get_possible_modes(ins_x)\n",
    "\n",
    "# Tasks\n",
    "n_tasks = first_population.get_total_number_of_tasks_per_working_space(ins_x)\n",
    "\n",
    "# Chromosomes\n",
    "chromosomes = first_population.get_first_population(ins_x, possible_modes, n_tasks)"
   ]
  },
  {
   "attachments": {},
   "cell_type": "markdown",
   "metadata": {},
   "source": [
    "### 2. Verify feasibility of solutions\n",
    "\n",
    "We need to verify:\n",
    "- the precedence is valid\n",
    "- the combination of modes and tasks is possible (the selected mode can perform the associated task) "
   ]
  },
  {
   "cell_type": "code",
   "execution_count": 11,
   "metadata": {},
   "outputs": [],
   "source": [
    "from src.genetic_algorithm import feasibility"
   ]
  },
  {
   "cell_type": "code",
   "execution_count": 12,
   "metadata": {},
   "outputs": [
    {
     "data": {
      "text/html": [
       "<div>\n",
       "<style scoped>\n",
       "    .dataframe tbody tr th:only-of-type {\n",
       "        vertical-align: middle;\n",
       "    }\n",
       "\n",
       "    .dataframe tbody tr th {\n",
       "        vertical-align: top;\n",
       "    }\n",
       "\n",
       "    .dataframe thead th {\n",
       "        text-align: right;\n",
       "    }\n",
       "</style>\n",
       "<table border=\"1\" class=\"dataframe\">\n",
       "  <thead>\n",
       "    <tr style=\"text-align: right;\">\n",
       "      <th></th>\n",
       "      <th>Predecessor</th>\n",
       "      <th>Sucessor</th>\n",
       "    </tr>\n",
       "  </thead>\n",
       "  <tbody>\n",
       "    <tr>\n",
       "      <th>0</th>\n",
       "      <td>1</td>\n",
       "      <td>2</td>\n",
       "    </tr>\n",
       "    <tr>\n",
       "      <th>1</th>\n",
       "      <td>2</td>\n",
       "      <td>3</td>\n",
       "    </tr>\n",
       "    <tr>\n",
       "      <th>2</th>\n",
       "      <td>3</td>\n",
       "      <td>4</td>\n",
       "    </tr>\n",
       "    <tr>\n",
       "      <th>3</th>\n",
       "      <td>1</td>\n",
       "      <td>4</td>\n",
       "    </tr>\n",
       "    <tr>\n",
       "      <th>4</th>\n",
       "      <td>1</td>\n",
       "      <td>5</td>\n",
       "    </tr>\n",
       "  </tbody>\n",
       "</table>\n",
       "</div>"
      ],
      "text/plain": [
       "   Predecessor  Sucessor\n",
       "0            1         2\n",
       "1            2         3\n",
       "2            3         4\n",
       "3            1         4\n",
       "4            1         5"
      ]
     },
     "execution_count": 12,
     "metadata": {},
     "output_type": "execute_result"
    }
   ],
   "source": [
    "ins_x.df_predecessor_sucessor.head()"
   ]
  },
  {
   "cell_type": "code",
   "execution_count": 13,
   "metadata": {},
   "outputs": [
    {
     "name": "stdout",
     "output_type": "stream",
     "text": [
      "From 12960 to 216\n"
     ]
    }
   ],
   "source": [
    "precedence_feasible_chromosomes = []\n",
    "for i in range(len(chromosomes)):\n",
    "    chrom = chromosomes[i]\n",
    "    if feasibility.is_chromosome_precedence_feasible(ins_x, chrom):\n",
    "        precedence_feasible_chromosomes.append(chrom)\n",
    "\n",
    "print(f\"From {len(chromosomes)} to {len(precedence_feasible_chromosomes)}\")"
   ]
  },
  {
   "cell_type": "code",
   "execution_count": 14,
   "metadata": {},
   "outputs": [
    {
     "name": "stdout",
     "output_type": "stream",
     "text": [
      "From 216 to 216\n"
     ]
    }
   ],
   "source": [
    "task_mode_feasible_chromosomes = []\n",
    "for i in range(len(precedence_feasible_chromosomes)):\n",
    "    chrom = precedence_feasible_chromosomes[i]\n",
    "    if feasibility.is_chromosome_task_mode_feasible(ins_x, chrom):\n",
    "        task_mode_feasible_chromosomes.append(chrom)\n",
    "\n",
    "print(f\"From {len(precedence_feasible_chromosomes)} to {len(task_mode_feasible_chromosomes)}\")"
   ]
  },
  {
   "cell_type": "code",
   "execution_count": null,
   "metadata": {},
   "outputs": [],
   "source": []
  },
  {
   "attachments": {},
   "cell_type": "markdown",
   "metadata": {},
   "source": [
    "### 3. Increment duplication with possible extra working spaces\n",
    "\n",
    "1. e.g. if other working spaces exist, duplicate the working modes, and duplicate the orders"
   ]
  },
  {
   "cell_type": "code",
   "execution_count": 15,
   "metadata": {},
   "outputs": [],
   "source": [
    "from src.genetic_algorithm import replication"
   ]
  },
  {
   "cell_type": "code",
   "execution_count": 16,
   "metadata": {},
   "outputs": [
    {
     "data": {
      "text/plain": [
       "Chromosome(mode=['0', '0', '0', '0', '0', '0', '0', '0', '0', '0', '0', '0', '0', '0', '0', '0', '0', '0', '0', '0'], order=[0, 1, 2, 3, 4, 5, 6, 7, 8, 9, 10, 11, 12, 13, 14, 15, 16, 17, 18, 19])"
      ]
     },
     "execution_count": 16,
     "metadata": {},
     "output_type": "execute_result"
    }
   ],
   "source": [
    "# Generate new orders\n",
    "chromosome = task_mode_feasible_chromosomes[0]\n",
    "chromosome"
   ]
  },
  {
   "cell_type": "code",
   "execution_count": 17,
   "metadata": {},
   "outputs": [],
   "source": [
    "chromosome_with_replication = replication.update_chromosome_with_replication(ins_x, chromosome)"
   ]
  },
  {
   "cell_type": "code",
   "execution_count": 18,
   "metadata": {},
   "outputs": [
    {
     "data": {
      "text/plain": [
       "Chromosome(mode=['0', '0', '0', '0', '0', '0', '0', '0', '0', '0', '0', '0', '0', '0', '0', '0', '0', '0', '0', '0', '0', '0', '0', '0', '0', '0', '0', '0', '0', '0', '0', '0', '0', '0', '0', '0', '0', '0', '0', '0', '0', '0', '0', '0', '0', '0', '0', '0', '0', '0', '0', '0', '0', '0', '0', '0', '0', '0', '0', '0'], order=[0, 3, 6, 9, 12, 15, 18, 21, 24, 27, 30, 33, 36, 39, 42, 45, 48, 51, 54, 57, 1, 4, 7, 10, 13, 16, 19, 22, 25, 28, 31, 34, 37, 40, 43, 46, 49, 52, 55, 58, 2, 5, 8, 11, 14, 17, 20, 23, 26, 29, 32, 35, 38, 41, 44, 47, 50, 53, 56, 59])"
      ]
     },
     "execution_count": 18,
     "metadata": {},
     "output_type": "execute_result"
    }
   ],
   "source": [
    "chromosome_with_replication"
   ]
  },
  {
   "cell_type": "code",
   "execution_count": 19,
   "metadata": {},
   "outputs": [
    {
     "data": {
      "text/plain": [
       "216"
      ]
     },
     "execution_count": 19,
     "metadata": {},
     "output_type": "execute_result"
    }
   ],
   "source": [
    "# for all feasible chromosomes\n",
    "replicated_chromosomes = []\n",
    "for chromosome in task_mode_feasible_chromosomes:\n",
    "    replicated_chromosomes.append(replication.update_chromosome_with_replication(ins_x, chromosome))\n",
    "\n",
    "len(replicated_chromosomes)"
   ]
  },
  {
   "cell_type": "code",
   "execution_count": 20,
   "metadata": {},
   "outputs": [
    {
     "data": {
      "text/plain": [
       "[Chromosome(mode=['0', '0', '0', '0', '0', '0', '0', '0', '0', '0', '0', '0', '0', '0', '0', '0', '0', '0', '0', '0', '0', '0', '0', '0', '0', '0', '0', '0', '0', '0', '0', '0', '0', '0', '0', '0', '0', '0', '0', '0', '0', '0', '0', '0', '0', '0', '0', '0', '0', '0', '0', '0', '0', '0', '0', '0', '0', '0', '0', '0'], order=[0, 3, 6, 9, 12, 15, 18, 21, 24, 27, 30, 33, 36, 39, 42, 45, 48, 51, 54, 57, 1, 4, 7, 10, 13, 16, 19, 22, 25, 28, 31, 34, 37, 40, 43, 46, 49, 52, 55, 58, 2, 5, 8, 11, 14, 17, 20, 23, 26, 29, 32, 35, 38, 41, 44, 47, 50, 53, 56, 59]),\n",
       " Chromosome(mode=['0', '0', '0', '0', '0', '0', '0', '0', '0', '0', '0', '0', '0', '0', '0', '0', '0', '0', '0', '0', '0', '0', '0', '0', '0', '0', '0', '0', '0', '0', '0', '0', '0', '0', '0', '0', '0', '0', '0', '0', '0', '0', '0', '0', '0', '0', '0', '0', '0', '0', '0', '0', '0', '0', '0', '0', '0', '0', '0', '0'], order=[0, 3, 6, 12, 9, 15, 18, 21, 27, 24, 30, 33, 36, 42, 39, 45, 48, 51, 57, 54, 1, 4, 7, 13, 10, 16, 19, 22, 28, 25, 31, 34, 37, 43, 40, 46, 49, 52, 58, 55, 2, 5, 8, 14, 11, 17, 20, 23, 29, 26, 32, 35, 38, 44, 41, 47, 50, 53, 59, 56]),\n",
       " Chromosome(mode=['2', '2', '2', '2', '2', '2', '2', '2', '2', '2', '2', '2', '2', '2', '2', '2', '2', '2', '2', '2', '3', '3', '3', '3', '3', '3', '3', '3', '3', '3', '3', '3', '3', '3', '3', '3', '3', '3', '3', '3', '4', '4', '4', '4', '4', '4', '4', '4', '4', '4', '4', '4', '4', '4', '4', '4', '4', '4', '4', '4'], order=[0, 3, 6, 9, 12, 15, 18, 21, 24, 27, 30, 33, 36, 39, 42, 45, 48, 51, 54, 57, 1, 4, 7, 10, 13, 16, 19, 22, 25, 28, 31, 34, 37, 40, 43, 46, 49, 52, 55, 58, 2, 5, 8, 11, 14, 17, 20, 23, 26, 29, 32, 35, 38, 41, 44, 47, 50, 53, 56, 59]),\n",
       " Chromosome(mode=['2', '2', '2', '2', '2', '2', '2', '2', '2', '2', '2', '2', '2', '2', '2', '2', '2', '2', '2', '2', '3', '3', '3', '3', '3', '3', '3', '3', '3', '3', '3', '3', '3', '3', '3', '3', '3', '3', '3', '3', '4', '4', '4', '4', '4', '4', '4', '4', '4', '4', '4', '4', '4', '4', '4', '4', '4', '4', '4', '4'], order=[0, 3, 6, 12, 9, 15, 18, 21, 27, 24, 30, 33, 36, 42, 39, 45, 48, 51, 57, 54, 1, 4, 7, 13, 10, 16, 19, 22, 28, 25, 31, 34, 37, 43, 40, 46, 49, 52, 58, 55, 2, 5, 8, 14, 11, 17, 20, 23, 29, 26, 32, 35, 38, 44, 41, 47, 50, 53, 59, 56]),\n",
       " Chromosome(mode=['1', '1', '0', '0', '2', '0', '1', '1', '0', '1', '0', '0', '2', '0', '0', '0', '0', '2', '2', '0', '1', '1', '0', '0', '3', '0', '1', '1', '0', '1', '0', '0', '3', '0', '0', '0', '0', '3', '3', '0', '1', '1', '0', '0', '4', '0', '1', '1', '0', '1', '0', '0', '4', '0', '0', '0', '0', '4', '4', '0'], order=[0, 3, 6, 9, 12, 15, 18, 21, 24, 27, 30, 33, 36, 39, 42, 45, 48, 51, 54, 57, 1, 4, 7, 10, 13, 16, 19, 22, 25, 28, 31, 34, 37, 40, 43, 46, 49, 52, 55, 58, 2, 5, 8, 11, 14, 17, 20, 23, 26, 29, 32, 35, 38, 41, 44, 47, 50, 53, 56, 59]),\n",
       " Chromosome(mode=['1', '1', '0', '0', '2', '0', '1', '1', '0', '1', '0', '0', '2', '0', '0', '0', '0', '2', '2', '0', '1', '1', '0', '0', '3', '0', '1', '1', '0', '1', '0', '0', '3', '0', '0', '0', '0', '3', '3', '0', '1', '1', '0', '0', '4', '0', '1', '1', '0', '1', '0', '0', '4', '0', '0', '0', '0', '4', '4', '0'], order=[0, 3, 6, 12, 9, 15, 18, 21, 27, 24, 30, 33, 36, 42, 39, 45, 48, 51, 57, 54, 1, 4, 7, 13, 10, 16, 19, 22, 28, 25, 31, 34, 37, 43, 40, 46, 49, 52, 58, 55, 2, 5, 8, 14, 11, 17, 20, 23, 29, 26, 32, 35, 38, 44, 41, 47, 50, 53, 59, 56]),\n",
       " Chromosome(mode=['0', '0', '0', '0', '0', '0', '0', '0', '0', '0', '0', '0', '0', '0', '0', '0', '0', '0', '0', '0', '0', '0', '0', '0', '0', '0', '0', '0', '0', '0', '0', '0', '0', '0', '0', '0', '0', '0', '0', '0', '0', '0', '0', '0', '0', '0', '0', '0', '0', '0', '0', '0', '0', '0', '0', '0', '0', '0', '0', '0'], order=[0, 3, 6, 9, 12, 15, 18, 21, 24, 27, 30, 33, 36, 39, 42, 45, 48, 51, 54, 57, 1, 4, 7, 10, 13, 16, 19, 22, 25, 28, 31, 34, 37, 40, 43, 46, 49, 52, 55, 58, 2, 5, 8, 11, 14, 17, 20, 23, 26, 29, 32, 35, 38, 41, 44, 47, 50, 53, 56, 59]),\n",
       " Chromosome(mode=['1', '1', '1', '1', '1', '1', '1', '1', '1', '1', '1', '1', '1', '1', '1', '1', '1', '1', '1', '1', '1', '1', '1', '1', '1', '1', '1', '1', '1', '1', '1', '1', '1', '1', '1', '1', '1', '1', '1', '1', '1', '1', '1', '1', '1', '1', '1', '1', '1', '1', '1', '1', '1', '1', '1', '1', '1', '1', '1', '1'], order=[0, 3, 6, 9, 12, 15, 18, 21, 24, 27, 30, 33, 36, 39, 42, 45, 48, 51, 54, 57, 1, 4, 7, 10, 13, 16, 19, 22, 25, 28, 31, 34, 37, 40, 43, 46, 49, 52, 55, 58, 2, 5, 8, 11, 14, 17, 20, 23, 26, 29, 32, 35, 38, 41, 44, 47, 50, 53, 56, 59]),\n",
       " Chromosome(mode=['2', '2', '2', '2', '2', '2', '2', '2', '2', '2', '2', '2', '2', '2', '2', '2', '2', '2', '2', '2', '3', '3', '3', '3', '3', '3', '3', '3', '3', '3', '3', '3', '3', '3', '3', '3', '3', '3', '3', '3', '4', '4', '4', '4', '4', '4', '4', '4', '4', '4', '4', '4', '4', '4', '4', '4', '4', '4', '4', '4'], order=[0, 3, 6, 9, 12, 15, 18, 21, 24, 27, 30, 33, 36, 39, 42, 45, 48, 51, 54, 57, 1, 4, 7, 10, 13, 16, 19, 22, 25, 28, 31, 34, 37, 40, 43, 46, 49, 52, 55, 58, 2, 5, 8, 11, 14, 17, 20, 23, 26, 29, 32, 35, 38, 41, 44, 47, 50, 53, 56, 59]),\n",
       " Chromosome(mode=['0-2', '0-2', '0-2', '0-2', '0-2', '0-2', '0-2', '0-2', '0-2', '0-2', '0-2', '0-2', '0-2', '0-2', '0-2', '0-2', '0-2', '0-2', '0-2', '0-2', '0-3', '0-3', '0-3', '0-3', '0-3', '0-3', '0-3', '0-3', '0-3', '0-3', '0-3', '0-3', '0-3', '0-3', '0-3', '0-3', '0-3', '0-3', '0-3', '0-3', '0-4', '0-4', '0-4', '0-4', '0-4', '0-4', '0-4', '0-4', '0-4', '0-4', '0-4', '0-4', '0-4', '0-4', '0-4', '0-4', '0-4', '0-4', '0-4', '0-4'], order=[0, 3, 6, 9, 12, 15, 18, 21, 24, 27, 30, 33, 36, 39, 42, 45, 48, 51, 54, 57, 1, 4, 7, 10, 13, 16, 19, 22, 25, 28, 31, 34, 37, 40, 43, 46, 49, 52, 55, 58, 2, 5, 8, 11, 14, 17, 20, 23, 26, 29, 32, 35, 38, 41, 44, 47, 50, 53, 56, 59])]"
      ]
     },
     "execution_count": 20,
     "metadata": {},
     "output_type": "execute_result"
    }
   ],
   "source": [
    "replicated_chromosomes[:10]"
   ]
  },
  {
   "cell_type": "code",
   "execution_count": null,
   "metadata": {},
   "outputs": [],
   "source": []
  },
  {
   "attachments": {},
   "cell_type": "markdown",
   "metadata": {},
   "source": [
    "### 4. Get notion of start and end times\n",
    "\n",
    "1. Go task by task, and get the start and end time, based on allocation of current mode, and based on precedence\n",
    "2. Compute total timespan - which is the maximum value of endtimes"
   ]
  },
  {
   "cell_type": "code",
   "execution_count": 21,
   "metadata": {},
   "outputs": [],
   "source": [
    "from src.genetic_algorithm import time_allocation"
   ]
  },
  {
   "cell_type": "code",
   "execution_count": 22,
   "metadata": {},
   "outputs": [
    {
     "data": {
      "text/plain": [
       "216"
      ]
     },
     "execution_count": 22,
     "metadata": {},
     "output_type": "execute_result"
    }
   ],
   "source": [
    "# for all replicated chromosomes\n",
    "time_allocated_chromosomes = []\n",
    "for chromosome in replicated_chromosomes:\n",
    "    time_allocated_chromosomes.append(time_allocation.get_all_time_allocations(ins_x, chromosome))\n",
    "\n",
    "len(time_allocated_chromosomes)"
   ]
  },
  {
   "cell_type": "code",
   "execution_count": 23,
   "metadata": {},
   "outputs": [
    {
     "data": {
      "text/plain": [
       "216"
      ]
     },
     "execution_count": 23,
     "metadata": {},
     "output_type": "execute_result"
    }
   ],
   "source": [
    "# for all results\n",
    "makespan_all_chromosomes = []\n",
    "for chromosome_time_allocation in time_allocated_chromosomes:\n",
    "    makespan_all_chromosomes.append(time_allocation.find_makespan(chromosome_time_allocation))\n",
    "\n",
    "len(makespan_all_chromosomes)"
   ]
  },
  {
   "cell_type": "code",
   "execution_count": 24,
   "metadata": {},
   "outputs": [
    {
     "data": {
      "text/plain": [
       "1212"
      ]
     },
     "execution_count": 24,
     "metadata": {},
     "output_type": "execute_result"
    }
   ],
   "source": [
    "min(makespan_all_chromosomes)"
   ]
  },
  {
   "cell_type": "code",
   "execution_count": 25,
   "metadata": {},
   "outputs": [
    {
     "data": {
      "application/vnd.jupyter.widget-view+json": {
       "model_id": "e4b5cb1eb96e4042bc460fd82019bab0",
       "version_major": 2,
       "version_minor": 0
      },
      "image/png": "[encoded data removed]",
      "text/html": [
       "\n",
       "            <div style=\"display: inline-block;\">\n",
       "                <div class=\"jupyter-widgets widget-label\" style=\"text-align: center;\">\n",
       "                    Figure\n",
       "                </div>\n",
       "                <img src='data:image/png;base64,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' width=640.0/>\n",
       "            </div>\n",
       "        "
      ],
      "text/plain": [
       "Canvas(toolbar=Toolbar(toolitems=[('Home', 'Reset original view', 'home', 'home'), ('Back', 'Back to previous …"
      ]
     },
     "metadata": {},
     "output_type": "display_data"
    }
   ],
   "source": [
    "plt.figure()\n",
    "plt.hist(makespan_all_chromosomes, bins=len(makespan_all_chromosomes))\n",
    "plt.show()"
   ]
  },
  {
   "cell_type": "code",
   "execution_count": null,
   "metadata": {},
   "outputs": [],
   "source": []
  },
  {
   "attachments": {},
   "cell_type": "markdown",
   "metadata": {},
   "source": [
    "### 5. Keep fittest chromosomes \n",
    "\n",
    "Let's keep the best 100"
   ]
  },
  {
   "cell_type": "code",
   "execution_count": 26,
   "metadata": {},
   "outputs": [],
   "source": [
    "from src.genetic_algorithm import fitness"
   ]
  },
  {
   "cell_type": "code",
   "execution_count": 27,
   "metadata": {},
   "outputs": [
    {
     "data": {
      "text/plain": [
       "101"
      ]
     },
     "execution_count": 27,
     "metadata": {},
     "output_type": "execute_result"
    }
   ],
   "source": [
    "fittest_chromosomes, fittest_makespan = fitness.keep_fittest_n_chromosomes(\n",
    "    task_mode_feasible_chromosomes, makespan_all_chromosomes, 100\n",
    ")\n",
    "len(fittest_chromosomes)"
   ]
  },
  {
   "cell_type": "code",
   "execution_count": null,
   "metadata": {},
   "outputs": [],
   "source": []
  },
  {
   "attachments": {},
   "cell_type": "markdown",
   "metadata": {},
   "source": [
    "### 6. Is new population better than previous one?"
   ]
  },
  {
   "cell_type": "code",
   "execution_count": 28,
   "metadata": {},
   "outputs": [
    {
     "name": "stdout",
     "output_type": "stream",
     "text": [
      "Should we continue iterating? True\n"
     ]
    }
   ],
   "source": [
    "# if this is the first population\n",
    "previous_population_makespan = None\n",
    "this_population_makespan = fittest_chromosomes\n",
    "\n",
    "should_we_continue = fitness.is_this_population_better_than_previous_one(\n",
    "    previous_population_makespan, this_population_makespan\n",
    ")\n",
    "print(f\"Should we continue iterating? {should_we_continue}\")"
   ]
  },
  {
   "cell_type": "code",
   "execution_count": null,
   "metadata": {},
   "outputs": [],
   "source": []
  },
  {
   "attachments": {},
   "cell_type": "markdown",
   "metadata": {},
   "source": [
    "### 7. Generate next population\n",
    "\n",
    "with: \n",
    "1. Crossover\n",
    "2. Mutation"
   ]
  },
  {
   "cell_type": "code",
   "execution_count": 29,
   "metadata": {},
   "outputs": [],
   "source": [
    "from src.genetic_algorithm import next_population"
   ]
  },
  {
   "attachments": {},
   "cell_type": "markdown",
   "metadata": {},
   "source": [
    "#### 7.1. Crossover\n",
    "\n",
    "- **One-Point Crossover**:\n",
    "    1. select a random crossover point along the length of the chromosomes \n",
    "    2. split into 2 proportions on that point, and swapp them between the two parent chromosomes to generate the 2 offsprings.\n",
    "\n",
    "- **Two-Point Crossover**: similar to one-point crossover, but with two crossover points.\n",
    "\n",
    "- **Uniform Crossover**: \n",
    "    1. Given a probability, select points from each parent and populate for the offsprings.\n",
    "\n",
    "- **Arithmetic Crossover** is not possible given the current experiment.\n"
   ]
  },
  {
   "cell_type": "code",
   "execution_count": 30,
   "metadata": {},
   "outputs": [],
   "source": [
    "new_generation = next_population.generate_next_population_with_crossover(\n",
    "    fittest_chromosomes, fittest_makespan\n",
    ")"
   ]
  },
  {
   "cell_type": "code",
   "execution_count": 31,
   "metadata": {},
   "outputs": [
    {
     "data": {
      "text/plain": [
       "200"
      ]
     },
     "execution_count": 31,
     "metadata": {},
     "output_type": "execute_result"
    }
   ],
   "source": [
    "len(new_generation)"
   ]
  },
  {
   "attachments": {},
   "cell_type": "markdown",
   "metadata": {},
   "source": [
    "#### 7.2. Mutation\n",
    "\n",
    "Swap mutation: This technique randomly selects two genes within a chromosome and swaps their positions.\n",
    "\n",
    "Scramble mutation: This technique randomly selects a subset of genes within a chromosome and shuffles their order.\n",
    "\n",
    "Inversion mutation: This technique randomly selects a subset of genes within a chromosome and reverses their order."
   ]
  },
  {
   "cell_type": "code",
   "execution_count": 32,
   "metadata": {},
   "outputs": [],
   "source": [
    "new_mutated_population = []\n",
    "probability = 0.4\n",
    "for chromosome in new_generation:\n",
    "    new_mutated_population.append(\n",
    "        next_population.swap_mutation_at_probability(chromosome, probability)\n",
    "    )"
   ]
  },
  {
   "cell_type": "code",
   "execution_count": null,
   "metadata": {},
   "outputs": [],
   "source": []
  },
  {
   "cell_type": "code",
   "execution_count": null,
   "metadata": {},
   "outputs": [],
   "source": []
  }
 ],
 "metadata": {
  "kernelspec": {
   "display_name": ".venv_hm_hrt",
   "language": "python",
   "name": "python3"
  },
  "language_info": {
   "codemirror_mode": {
    "name": "ipython",
    "version": 3
   },
   "file_extension": ".py",
   "mimetype": "text/x-python",
   "name": "python",
   "nbconvert_exporter": "python",
   "pygments_lexer": "ipython3",
   "version": "3.10.4"
  },
  "orig_nbformat": 4,
  "vscode": {
   "interpreter": {
    "hash": "a6289d96d3a41a28093af2b7ef3d7cfe930fbd01b56829a017029cf1de3096c1"
   }
  }
 },
 "nbformat": 4,
 "nbformat_minor": 2
}
