{
 "cells": [
  {
   "attachments": {},
   "cell_type": "markdown",
   "metadata": {},
   "source": [
    "# Loop on the GA"
   ]
  },
  {
   "cell_type": "code",
   "execution_count": 1,
   "metadata": {},
   "outputs": [],
   "source": [
    "%load_ext autoreload\n",
    "%autoreload 2\n",
    "%matplotlib inline\n",
    "\n",
    "%matplotlib widget"
   ]
  },
  {
   "attachments": {},
   "cell_type": "markdown",
   "metadata": {},
   "source": [
    "## [Flow](https://miro.com/app/board/uXjVPyl00iw=/)\n",
    "\n",
    "1. Generate **Initial Population**\n",
    "2. Verify if order of genes is violating the precedence\n",
    "    1. Discard those that are violating the precedence\n",
    "3. Duplicate it for all the jobs in the same instance (SAC)\n",
    "4. Create the array of times (start and end), using the resources time estimator for the respective mode allocation\n",
    "5. **Fitness Function**: Compute the total time to complete all the jobs in all working spaces of same instance $\\Longrightarrow C$ \n",
    "6. **Selection**: Retain the genes with lower C (at maximum X)\n",
    "    1. Discard those that have larger C\n",
    "    2. Verify if new population has a significant improvement in total C from previous population.\n",
    "7. **Generate next population**:\n",
    "    1. **Crossover**: from survival chromosomes, create offsprings \n",
    "    2. **Mutation**: add mutation to the created offsprings (initially larger %, and decreases over time).\n",
    "8. Return to point **2**."
   ]
  },
  {
   "cell_type": "code",
   "execution_count": 3,
   "metadata": {},
   "outputs": [],
   "source": [
    "import jupyter_black\n",
    "\n",
    "jupyter_black.load()"
   ]
  },
  {
   "attachments": {},
   "cell_type": "markdown",
   "metadata": {},
   "source": [
    "## 1. The instance to be explored"
   ]
  },
  {
   "cell_type": "code",
   "execution_count": 4,
   "metadata": {},
   "outputs": [],
   "source": [
    "from src.data_connectors import read_input_files"
   ]
  },
  {
   "cell_type": "code",
   "execution_count": 5,
   "metadata": {},
   "outputs": [],
   "source": [
    "instance = 333\n",
    "instances_path = \"../data/input/HRTInstances\"\n",
    "ins_x = read_input_files.read_file(os.path.join(instances_path, f\"Instance_{instance}.txt\"))"
   ]
  },
  {
   "attachments": {},
   "cell_type": "markdown",
   "metadata": {},
   "source": [
    "## 2. Run GA"
   ]
  },
  {
   "cell_type": "code",
   "execution_count": 6,
   "metadata": {},
   "outputs": [],
   "source": [
    "from src.genetic_algorithm import genetic_algorithm"
   ]
  },
  {
   "cell_type": "code",
   "execution_count": 10,
   "metadata": {},
   "outputs": [
    {
     "name": "stdout",
     "output_type": "stream",
     "text": [
      "Possible modes: ['0' '1' '2' '0-2' '1-2']\n",
      "Number of tasks: 20\n",
      "Total size of first population: 6600\n",
      "From 6600 to 110\n",
      "From 110 to 110\n",
      "add_replication_of_remaining_working_spaces: 110\n",
      "add_times_and_find_makespan with time: 110\n",
      "add_times_and_find_makespan, makespan: 110\n",
      "How many fittest chromosomes: 97\n",
      "Should we continue iterating? True\n",
      "in generation [Chromosome(mode=['1', '0-2', '0', '2', '1-2', '2', '1', '0', '0-2', '1-2', '1-2', '0', '1', '0', '0-2', '2', '0-2', '2', '0-2', '0', '0', '0-3', '3', '0-3', '1-3', '3', '0', '1-3', '0', '0', '1-3', '3', '3', '1', '1', '3', '0-3', '3', '0-3', '0', '0', '0-4', '4', '0-4', '1-4', '4', '0', '1-4', '0', '0', '1-4', '4', '4', '1', '1', '4', '0-4', '4', '0-4', '0'], order=[0, 3, 6, 9, 12, 15, 18, 21, 24, 27, 30, 33, 36, 39, 42, 45, 48, 51, 54, 57, 1, 4, 7, 10, 13, 16, 19, 22, 25, 28, 31, 34, 37, 40, 43, 46, 49, 52, 55, 58, 2, 5, 8, 11, 14, 17, 20, 23, 26, 29, 32, 35, 38, 41, 44, 47, 50, 53, 56, 59]), Chromosome(mode=['0', '0-2', '2', '2', '1-2', '2', '0', '1-2', '0-2', '1-2', '1-2', '2', '2', '1', '0-2', '2', '1', '2', '0-2', '0-2', '1', '0-3', '3', '0-3', '1-3', '3', '0', '0', '0-3', '0', '1-3', '3', '1', '1', '0-3', '0', '0-3', '0', '1-3', '0', '0', '0-4', '4', '4', '1-4', '4', '0', '0', '0', '0', '1-4', '4', '1', '1', '1', '0', '0-4', '0', '1-4', '0-4'], order=[0, 3, 6, 12, 9, 15, 18, 21, 27, 24, 30, 33, 36, 42, 39, 45, 48, 51, 57, 54, 1, 4, 7, 13, 10, 16, 19, 22, 28, 25, 31, 34, 37, 43, 40, 46, 49, 52, 58, 55, 2, 5, 8, 14, 11, 17, 20, 23, 29, 26, 32, 35, 38, 44, 41, 47, 50, 53, 59, 56]), Chromosome(mode=['1', '0-2', '0', '0-2', '1-2', '2', '1', '0', '0', '0', '1-2', '0', '1', '0', '1', '0', '0-2', '0', '1-2', '0', '0', '0-3', '0', '3', '1-3', '3', '1', '1-3', '0', '1-3', '1-3', '0', '3', '0', '1', '3', '1', '3', '0-3', '0-3', '1', '0-4', '0', '0-4', '1-4', '4', '1', '1-4', '0-4', '1-4', '1-4', '0', '4', '0', '0-4', '4', '1', '4', '0-4', '0'], order=[0, 3, 6, 9, 12, 15, 18, 21, 24, 27, 30, 33, 36, 39, 42, 45, 48, 51, 54, 57, 1, 4, 7, 10, 13, 16, 19, 22, 25, 28, 31, 34, 37, 40, 43, 46, 49, 52, 55, 58, 2, 5, 8, 11, 14, 17, 20, 23, 26, 29, 32, 35, 38, 41, 44, 47, 50, 53, 56, 59])]\n",
      "new mutated:  [Chromosome(mode=['1', '0-2', '0', '2', '1-2', '2', '1', '0', '0-2', '1-2', '1-2', '0', '1', '0', '0-2', '2', '0-2', '2', '0-2', '0', '0', '0-3', '3', '0-3', '1-3', '3', '0', '1-3', '0', '0', '1-3', '3', '3', '1', '1', '3', '0-3', '3', '0-3', '0', '0', '0-4', '4', '0-4', '1-4', '4', '0', '1-4', '0', '0', '1-4', '4', '4', '1', '1', '4', '0-4', '4', '0-4', '0'], order=[19, 3, 22, 9, 7, 36, 40, 56, 11, 59, 1, 21, 15, 39, 42, 28, 48, 51, 18, 50, 13, 55, 12, 6, 10, 24, 26, 29, 34, 41, 23, 54, 30, 38, 53, 57, 4, 52, 33, 58, 35, 5, 45, 27, 16, 20, 2, 8, 44, 47, 49, 17, 31, 32, 0, 46, 14, 25, 37, 43]), Chromosome(mode=['0', '0-2', '2', '2', '1-2', '2', '0', '1-2', '0-2', '1-2', '1-2', '2', '2', '1', '0-2', '2', '1', '2', '0-2', '0-2', '1', '0-3', '3', '0-3', '1-3', '3', '0', '0', '0-3', '0', '1-3', '3', '1', '1', '0-3', '0', '0-3', '0', '1-3', '0', '0', '0-4', '4', '4', '1-4', '4', '0', '0', '0', '0', '1-4', '4', '1', '1', '1', '0', '0-4', '0', '1-4', '0-4'], order=[28, 2, 55, 5, 39, 32, 42, 21, 27, 6, 0, 33, 12, 46, 23, 24, 36, 50, 57, 37, 59, 9, 14, 1, 26, 49, 19, 15, 53, 30, 31, 34, 54, 47, 13, 29, 16, 52, 25, 40, 35, 22, 8, 44, 18, 17, 51, 3, 45, 56, 48, 4, 11, 41, 7, 20, 58, 10, 43, 38]), Chromosome(mode=['1', '0-2', '0', '0-2', '1-2', '2', '1', '0', '0', '0', '1-2', '0', '1', '0', '1', '0', '0-2', '0', '1-2', '0', '0', '0-3', '0', '3', '1-3', '3', '1', '1-3', '0', '1-3', '1-3', '0', '3', '0', '1', '3', '1', '3', '0-3', '0-3', '1', '0-4', '0', '0-4', '1-4', '4', '1', '1-4', '0-4', '1-4', '1-4', '0', '4', '0', '0-4', '4', '1', '4', '0-4', '0'], order=[19, 3, 22, 9, 7, 36, 40, 56, 11, 59, 1, 21, 15, 39, 42, 28, 48, 51, 18, 50, 13, 55, 12, 6, 10, 24, 26, 29, 34, 41, 23, 54, 30, 38, 53, 57, 4, 52, 33, 58, 35, 5, 45, 27, 16, 20, 2, 8, 44, 47, 49, 17, 31, 32, 0, 46, 14, 25, 37, 43])]\n",
      "97 192 289\n",
      "Size new population: 289\n",
      "Preview it: [Chromosome(mode=['2', '2', '2', '2', '2', '2', '2', '2', '2', '2', '2', '2', '2', '2', '2', '2', '2', '2', '2', '2', '3', '3', '3', '3', '3', '3', '3', '3', '3', '3', '3', '3', '3', '3', '3', '3', '3', '3', '3', '3', '4', '4', '4', '4', '4', '4', '4', '4', '4', '4', '4', '4', '4', '4', '4', '4', '4', '4', '4', '4'], order=[58, 38, 9, 14, 12, 47, 18, 29, 42, 27, 37, 24, 11, 51, 8, 2, 22, 48, 54, 3, 15, 10, 7, 56, 53, 16, 57, 21, 20, 43, 49, 1, 23, 0, 40, 17, 31, 52, 26, 13, 39, 50, 35, 32, 34, 55, 30, 4, 28, 33, 6, 36, 46, 41, 19, 45, 44, 25, 5, 59]), Chromosome(mode=['0-2', '0-2', '2', '0', '2', '0-2', '0', '0-2', '0-2', '1-2', '0-2', '1', '0-2', '1', '0-2', '0-2', '1-2', '1', '0-2', '0-2', '0-3', '0-3', '3', '0-3', '3', '3', '0', '0', '1-3', '1-3', '0-3', '0-3', '0-3', '0-3', '0-3', '0-3', '0-3', '1', '0-3', '3', '0-4', '0-4', '0-4', '0', '0-4', '0-4', '0-4', '0-4', '1-4', '1-4', '0-4', '1', '0-4', '1', '0-4', '0-4', '1-4', '0-4', '0-4', '4'], order=[35, 4, 50, 21, 5, 22, 18, 57, 8, 40, 0, 26, 36, 33, 55, 30, 48, 56, 43, 11, 37, 15, 58, 54, 19, 16, 46, 41, 25, 9, 3, 23, 1, 52, 13, 20, 31, 28, 12, 27, 42, 49, 39, 24, 2, 17, 10, 47, 14, 29, 7, 34, 38, 45, 44, 32, 6, 53, 51, 59]), Chromosome(mode=['0-2', '1-2', '1-2', '1-2', '0-2', '1-2', '1-2', '0-2', '1-2', '1-2', '1-2', '1-2', '0-2', '0-2', '0-2', '0-2', '1-2', '1-2', '1-2', '1-2', '1-3', '0-3', '1-3', '1-3', '1-3', '0-3', '0-3', '0-3', '1-3', '0-3', '0-3', '0-3', '1-3', '1-3', '0-3', '1-3', '1-3', '1-3', '0-3', '0-3', '1-4', '0-4', '0-4', '0-4', '0-4', '1-4', '1-4', '0-4', '0-4', '0-4', '0-4', '0-4', '1-4', '0-4', '1-4', '1-4', '0-4', '0-4', '1-4', '0-4'], order=[45, 5, 3, 34, 39, 9, 58, 53, 27, 12, 47, 8, 2, 33, 52, 17, 37, 51, 19, 48, 38, 20, 7, 23, 21, 32, 10, 43, 30, 26, 13, 24, 25, 14, 29, 46, 49, 42, 16, 36, 11, 0, 22, 57, 40, 56, 50, 31, 4, 55, 1, 35, 18, 41, 44, 54, 28, 6, 15, 59])]\n",
      "Preview it last elements: [Chromosome(mode=['1', '0-2', '0', '2', '1-2', '2', '1', '0', '0-2', '1-2', '1-2', '0', '1', '0', '0-2', '2', '0-2', '2', '0-2', '0', '0', '0-3', '3', '0-3', '1-3', '3', '0', '1-3', '0', '0', '1-3', '3', '3', '1', '1', '3', '0-3', '3', '0-3', '0', '0', '0-4', '4', '0-4', '1-4', '4', '0', '1-4', '0', '0', '1-4', '4', '4', '1', '1', '4', '0-4', '4', '0-4', '0'], order=[19, 3, 22, 9, 7, 36, 40, 56, 11, 59, 1, 21, 15, 39, 42, 28, 48, 51, 18, 50, 13, 55, 12, 6, 10, 24, 26, 29, 34, 41, 23, 54, 30, 38, 53, 57, 4, 52, 33, 58, 35, 5, 45, 27, 16, 20, 2, 8, 44, 47, 49, 17, 31, 32, 0, 46, 14, 25, 37, 43]), Chromosome(mode=['0', '0-2', '2', '2', '1-2', '2', '0', '1-2', '0-2', '1-2', '1-2', '2', '2', '1', '0-2', '2', '1', '2', '0-2', '0-2', '1', '0-3', '3', '0-3', '1-3', '3', '0', '0', '0-3', '0', '1-3', '3', '1', '1', '0-3', '0', '0-3', '0', '1-3', '0', '0', '0-4', '4', '4', '1-4', '4', '0', '0', '0', '0', '1-4', '4', '1', '1', '1', '0', '0-4', '0', '1-4', '0-4'], order=[28, 2, 55, 5, 39, 32, 42, 21, 27, 6, 0, 33, 12, 46, 23, 24, 36, 50, 57, 37, 59, 9, 14, 1, 26, 49, 19, 15, 53, 30, 31, 34, 54, 47, 13, 29, 16, 52, 25, 40, 35, 22, 8, 44, 18, 17, 51, 3, 45, 56, 48, 4, 11, 41, 7, 20, 58, 10, 43, 38]), Chromosome(mode=['1', '0-2', '0', '0-2', '1-2', '2', '1', '0', '0', '0', '1-2', '0', '1', '0', '1', '0', '0-2', '0', '1-2', '0', '0', '0-3', '0', '3', '1-3', '3', '1', '1-3', '0', '1-3', '1-3', '0', '3', '0', '1', '3', '1', '3', '0-3', '0-3', '1', '0-4', '0', '0-4', '1-4', '4', '1', '1-4', '0-4', '1-4', '1-4', '0', '4', '0', '0-4', '4', '1', '4', '0-4', '0'], order=[19, 3, 22, 9, 7, 36, 40, 56, 11, 59, 1, 21, 15, 39, 42, 28, 48, 51, 18, 50, 13, 55, 12, 6, 10, 24, 26, 29, 34, 41, 23, 54, 30, 38, 53, 57, 4, 52, 33, 58, 35, 5, 45, 27, 16, 20, 2, 8, 44, 47, 49, 17, 31, 32, 0, 46, 14, 25, 37, 43])]\n",
      "From 289 to 1\n",
      "From 1 to 1\n",
      "add_replication_of_remaining_working_spaces: 1\n"
     ]
    },
    {
     "ename": "IndexError",
     "evalue": "index 60 is out of bounds for axis 0 with size 60",
     "output_type": "error",
     "traceback": [
      "\u001b[0;31m---------------------------------------------------------------------------\u001b[0m",
      "\u001b[0;31mIndexError\u001b[0m                                Traceback (most recent call last)",
      "Cell \u001b[0;32mIn[10], line 1\u001b[0m\n\u001b[0;32m----> 1\u001b[0m result \u001b[39m=\u001b[39m genetic_algorithm\u001b[39m.\u001b[39;49mgenetic_algorithm(ins_x, max_limit_time_sec\u001b[39m=\u001b[39;49m\u001b[39m30\u001b[39;49m)\n",
      "File \u001b[0;32m~/Documents/GitHubPhD/HM_HRT/src/genetic_algorithm/genetic_algorithm.py:142\u001b[0m, in \u001b[0;36mgenetic_algorithm\u001b[0;34m(instance, max_limit_time_sec)\u001b[0m\n\u001b[1;32m    138\u001b[0m feasible_population \u001b[39m=\u001b[39m keep_feasible_chromosomes(instance, population)\n\u001b[1;32m    139\u001b[0m replicated_population \u001b[39m=\u001b[39m add_replication_of_remaining_working_spaces(\n\u001b[1;32m    140\u001b[0m     instance, feasible_population\n\u001b[1;32m    141\u001b[0m )\n\u001b[0;32m--> 142\u001b[0m times_of_populations \u001b[39m=\u001b[39m add_times_and_find_makespan(instance, replicated_population)\n\u001b[1;32m    143\u001b[0m fittest_population, fittest_makespan \u001b[39m=\u001b[39m keep_fittest_chromosomes(\n\u001b[1;32m    144\u001b[0m     replicated_population, times_of_populations\n\u001b[1;32m    145\u001b[0m )\n\u001b[1;32m    146\u001b[0m is_better_than_previous \u001b[39m=\u001b[39m is_new_population_better_than_previous(\n\u001b[1;32m    147\u001b[0m     fittest_population, previous_population\n\u001b[1;32m    148\u001b[0m )\n",
      "File \u001b[0;32m~/Documents/GitHubPhD/HM_HRT/src/genetic_algorithm/genetic_algorithm.py:68\u001b[0m, in \u001b[0;36madd_times_and_find_makespan\u001b[0;34m(instance, all_chromosomes)\u001b[0m\n\u001b[1;32m     65\u001b[0m time_allocated_chromosomes \u001b[39m=\u001b[39m []\n\u001b[1;32m     66\u001b[0m \u001b[39mfor\u001b[39;00m chromosome \u001b[39min\u001b[39;00m all_chromosomes:\n\u001b[1;32m     67\u001b[0m     time_allocated_chromosomes\u001b[39m.\u001b[39mappend(\n\u001b[0;32m---> 68\u001b[0m         time_allocation\u001b[39m.\u001b[39;49mget_all_time_allocations(instance, chromosome)\n\u001b[1;32m     69\u001b[0m     )\n\u001b[1;32m     71\u001b[0m \u001b[39mprint\u001b[39m(\u001b[39mf\u001b[39m\u001b[39m\"\u001b[39m\u001b[39madd_times_and_find_makespan with time: \u001b[39m\u001b[39m{\u001b[39;00m\u001b[39mlen\u001b[39m(time_allocated_chromosomes)\u001b[39m}\u001b[39;00m\u001b[39m\"\u001b[39m)\n\u001b[1;32m     73\u001b[0m \u001b[39m# for all results\u001b[39;00m\n",
      "File \u001b[0;32m~/Documents/GitHubPhD/HM_HRT/src/genetic_algorithm/time_allocation.py:80\u001b[0m, in \u001b[0;36mget_all_time_allocations\u001b[0;34m(instance, chromosome)\u001b[0m\n\u001b[1;32m     77\u001b[0m times_allocated \u001b[39m=\u001b[39m {k: {} \u001b[39mfor\u001b[39;00m k \u001b[39min\u001b[39;00m all_modes}\n\u001b[1;32m     79\u001b[0m \u001b[39mfor\u001b[39;00m i \u001b[39min\u001b[39;00m chromosome\u001b[39m.\u001b[39morder:\n\u001b[0;32m---> 80\u001b[0m     task \u001b[39m=\u001b[39m tasks[chromosome\u001b[39m.\u001b[39;49morder\u001b[39m.\u001b[39;49mindex(i)]\n\u001b[1;32m     81\u001b[0m     mode_of_class \u001b[39m=\u001b[39m chromosome\u001b[39m.\u001b[39mmode[task \u001b[39m-\u001b[39m \u001b[39m1\u001b[39m]\n\u001b[1;32m     82\u001b[0m     \u001b[39mif\u001b[39;00m replication\u001b[39m.\u001b[39mis_int(mode_of_class):\n",
      "\u001b[0;31mIndexError\u001b[0m: index 60 is out of bounds for axis 0 with size 60"
     ]
    }
   ],
   "source": [
    "result = genetic_algorithm.genetic_algorithm(ins_x, max_limit_time_sec=30)"
   ]
  },
  {
   "cell_type": "code",
   "execution_count": null,
   "metadata": {},
   "outputs": [],
   "source": []
  }
 ],
 "metadata": {
  "kernelspec": {
   "display_name": ".venv_hm_hrt",
   "language": "python",
   "name": "python3"
  },
  "language_info": {
   "codemirror_mode": {
    "name": "ipython",
    "version": 3
   },
   "file_extension": ".py",
   "mimetype": "text/x-python",
   "name": "python",
   "nbconvert_exporter": "python",
   "pygments_lexer": "ipython3",
   "version": "3.10.4"
  },
  "orig_nbformat": 4,
  "vscode": {
   "interpreter": {
    "hash": "a6289d96d3a41a28093af2b7ef3d7cfe930fbd01b56829a017029cf1de3096c1"
   }
  }
 },
 "nbformat": 4,
 "nbformat_minor": 2
}
