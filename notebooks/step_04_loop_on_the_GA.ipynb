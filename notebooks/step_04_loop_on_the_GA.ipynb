{
 "cells": [
  {
   "attachments": {},
   "cell_type": "markdown",
   "metadata": {},
   "source": [
    "# Loop on the GA"
   ]
  },
  {
   "cell_type": "code",
   "execution_count": 1,
   "metadata": {},
   "outputs": [],
   "source": [
    "%load_ext autoreload\n",
    "%autoreload 2\n",
    "%matplotlib inline\n",
    "\n",
    "%matplotlib widget"
   ]
  },
  {
   "attachments": {},
   "cell_type": "markdown",
   "metadata": {},
   "source": [
    "## [Flow](https://miro.com/app/board/uXjVPyl00iw=/)\n",
    "\n",
    "1. Generate **Initial Population**\n",
    "2. Verify if order of genes is violating the precedence\n",
    "    1. Discard those that are violating the precedence\n",
    "3. Duplicate it for all the jobs in the same instance (SAC)\n",
    "4. Create the array of times (start and end), using the resources time estimator for the respective mode allocation\n",
    "5. **Fitness Function**: Compute the total time to complete all the jobs in all working spaces of same instance $\\Longrightarrow C$ \n",
    "6. **Selection**: Retain the genes with lower C (at maximum X)\n",
    "    1. Discard those that have larger C\n",
    "    2. Verify if new population has a significant improvement in total C from previous population.\n",
    "7. **Generate next population**:\n",
    "    1. **Crossover**: from survival chromosomes, create offsprings \n",
    "    2. **Mutation**: add mutation to the created offsprings (initially larger %, and decreases over time).\n",
    "8. Return to point **2**."
   ]
  },
  {
   "cell_type": "code",
   "execution_count": 2,
   "metadata": {},
   "outputs": [
    {
     "data": {
      "text/html": [
       "\n",
       "                <script type=\"application/javascript\" id=\"jupyter_black\">\n",
       "                (function() {\n",
       "                    if (window.IPython === undefined) {\n",
       "                        return\n",
       "                    }\n",
       "                    var msg = \"WARNING: it looks like you might have loaded \" +\n",
       "                        \"jupyter_black in a non-lab notebook with \" +\n",
       "                        \"`is_lab=True`. Please double check, and if \" +\n",
       "                        \"loading with `%load_ext` please review the README!\"\n",
       "                    console.log(msg)\n",
       "                    alert(msg)\n",
       "                })()\n",
       "                </script>\n",
       "                "
      ],
      "text/plain": [
       "<IPython.core.display.HTML object>"
      ]
     },
     "metadata": {},
     "output_type": "display_data"
    }
   ],
   "source": [
    "import os\n",
    "import numpy as np\n",
    "import logging\n",
    "import jupyter_black\n",
    "\n",
    "jupyter_black.load()\n",
    "\n",
    "logging.basicConfig()\n",
    "logging.getLogger().setLevel(logging.INFO)"
   ]
  },
  {
   "attachments": {},
   "cell_type": "markdown",
   "metadata": {},
   "source": [
    "## 1. The instance to be explored"
   ]
  },
  {
   "cell_type": "code",
   "execution_count": 3,
   "metadata": {},
   "outputs": [],
   "source": [
    "from src.data_connectors import read_input_files"
   ]
  },
  {
   "cell_type": "code",
   "execution_count": 22,
   "metadata": {},
   "outputs": [],
   "source": [
    "instance = 222\n",
    "instances_path = \"../data/input/HRTInstances\"\n",
    "ins_x = read_input_files.read_file(os.path.join(instances_path, f\"Instance_{instance}.txt\"))"
   ]
  },
  {
   "attachments": {},
   "cell_type": "markdown",
   "metadata": {},
   "source": [
    "## 2. Run GA"
   ]
  },
  {
   "cell_type": "code",
   "execution_count": 23,
   "metadata": {},
   "outputs": [],
   "source": [
    "from src.genetic_algorithm import genetic_algorithm"
   ]
  },
  {
   "cell_type": "code",
   "execution_count": 24,
   "metadata": {},
   "outputs": [
    {
     "name": "stderr",
     "output_type": "stream",
     "text": [
      "INFO:root:Size first population: 12240\n",
      "INFO:root:Size new population: 500\n",
      "INFO:root:==> Iteration: 1 Time: 5.758089 seconds. Fittest solution: 3600\n",
      "INFO:root:Next iteration will have: probability = 0.7\n",
      "INFO:root:Size new population: 500\n",
      "INFO:root:==> Iteration: 2 Time: 17.788795 seconds. Fittest solution: 3215\n",
      "INFO:root:Next iteration will have: probability = 0.69\n",
      "INFO:root:Size new population: 500\n",
      "INFO:root:==> Iteration: 3 Time: 29.914081 seconds. Fittest solution: 3195\n",
      "INFO:root:Next iteration will have: probability = 0.6699999999999999\n",
      "INFO:root:Size new population: 500\n",
      "INFO:root:==> Iteration: 4 Time: 42.135405 seconds. Fittest solution: 3025\n",
      "INFO:root:Next iteration will have: probability = 0.6399999999999999\n",
      "INFO:root:Size new population: 491\n",
      "INFO:root:==> Iteration: 5 Time: 54.338205 seconds. Fittest solution: 2848\n",
      "INFO:root:Next iteration will have: probability = 0.5999999999999999\n",
      "INFO:root:Size new population: 500\n",
      "INFO:root:==> Iteration: 6 Time: 66.336196 seconds. Fittest solution: 2771\n",
      "INFO:root:Next iteration will have: probability = 0.5499999999999998\n",
      "INFO:root:Size new population: 500\n",
      "INFO:root:==> Iteration: 7 Time: 78.532561 seconds. Fittest solution: 2606\n",
      "INFO:root:Next iteration will have: probability = 0.4899999999999998\n",
      "INFO:root:Size new population: 500\n",
      "INFO:root:==> Iteration: 8 Time: 90.696279 seconds. Fittest solution: 2431\n",
      "INFO:root:Next iteration will have: probability = 0.4199999999999998\n",
      "INFO:root:Size new population: 490\n",
      "INFO:root:==> Iteration: 9 Time: 102.857319 seconds. Fittest solution: 2431\n",
      "INFO:root:Next iteration will have: probability = 0.3399999999999998\n",
      "INFO:root:Size new population: 500\n",
      "INFO:root:==> Iteration: 10 Time: 114.874598 seconds. Fittest solution: 2398\n",
      "INFO:root:Next iteration will have: probability = 0.2499999999999998\n",
      "INFO:root:Size new population: 500\n",
      "INFO:root:==> Iteration: 11 Time: 127.358000 seconds. Fittest solution: 2253\n",
      "INFO:root:Next iteration will have: probability = 0.1499999999999998\n",
      "INFO:root:Size new population: 500\n",
      "INFO:root:==> Iteration: 12 Time: 139.840037 seconds. Fittest solution: 2225\n",
      "INFO:root:Next iteration will have: probability = 0.05\n",
      "INFO:root:Size new population: 500\n",
      "INFO:root:==> Iteration: 13 Time: 152.579220 seconds. Fittest solution: 2225\n",
      "INFO:root:Next iteration will have: probability = 0.05\n",
      "INFO:root:Size new population: 491\n",
      "INFO:root:==> Iteration: 14 Time: 165.298002 seconds. Fittest solution: 2217\n",
      "INFO:root:Next iteration will have: probability = 0.05\n",
      "INFO:root:Size new population: 421\n",
      "INFO:root:==> Iteration: 15 Time: 177.611871 seconds. Fittest solution: 2217\n",
      "INFO:root:Next iteration will have: probability = 0.05\n",
      "INFO:root:Size new population: 31\n",
      "INFO:root:==> Iteration: 16 Time: 188.440014 seconds. Fittest solution: 2217\n",
      "INFO:root:Next iteration will have: probability = 0.05\n",
      "INFO:root:Size new population: 90\n",
      "INFO:root:==> Iteration: 17 Time: 189.241285 seconds. Fittest solution: 2217\n",
      "INFO:root:Next iteration will have: probability = 0.05\n",
      "INFO:root:Size new population: 271\n",
      "INFO:root:==> Iteration: 18 Time: 191.588439 seconds. Fittest solution: 2217\n",
      "INFO:root:Next iteration will have: probability = 0.05\n",
      "INFO:root:Size new population: 450\n",
      "INFO:root:==> Iteration: 19 Time: 198.436282 seconds. Fittest solution: 2217\n",
      "INFO:root:Next iteration will have: probability = 0.05\n",
      "INFO:root:Size new population: 0\n",
      "INFO:root:==> Iteration: 20 Time: 209.963988 seconds. Fittest solution: 2217\n",
      "INFO:root:Next iteration will have: probability = 0.05\n",
      "WARNING:root:Everything died!\n"
     ]
    }
   ],
   "source": [
    "result = genetic_algorithm.genetic_algorithm(ins_x, max_limit_time_sec=60 * 10)"
   ]
  },
  {
   "cell_type": "code",
   "execution_count": null,
   "metadata": {},
   "outputs": [
    {
     "data": {
      "text/plain": [
       "961"
      ]
     },
     "execution_count": 133,
     "metadata": {},
     "output_type": "execute_result"
    }
   ],
   "source": [
    "np.min(result[2])"
   ]
  },
  {
   "cell_type": "code",
   "execution_count": null,
   "metadata": {},
   "outputs": [],
   "source": []
  }
 ],
 "metadata": {
  "kernelspec": {
   "display_name": ".venv_hm_hrt",
   "language": "python",
   "name": "python3"
  },
  "language_info": {
   "codemirror_mode": {
    "name": "ipython",
    "version": 3
   },
   "file_extension": ".py",
   "mimetype": "text/x-python",
   "name": "python",
   "nbconvert_exporter": "python",
   "pygments_lexer": "ipython3",
   "version": "3.10.4"
  },
  "orig_nbformat": 4,
  "vscode": {
   "interpreter": {
    "hash": "a6289d96d3a41a28093af2b7ef3d7cfe930fbd01b56829a017029cf1de3096c1"
   }
  }
 },
 "nbformat": 4,
 "nbformat_minor": 2
}
