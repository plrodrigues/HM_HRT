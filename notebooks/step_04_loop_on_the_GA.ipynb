{
 "cells": [
  {
   "attachments": {},
   "cell_type": "markdown",
   "metadata": {},
   "source": [
    "# Loop 1 instance with the Genetic Algorithm"
   ]
  },
  {
   "cell_type": "code",
   "execution_count": 1,
   "metadata": {},
   "outputs": [],
   "source": [
    "%load_ext autoreload\n",
    "%autoreload 2\n",
    "%matplotlib inline\n",
    "\n",
    "%matplotlib widget"
   ]
  },
  {
   "attachments": {},
   "cell_type": "markdown",
   "metadata": {},
   "source": [
    "## [Flow](https://miro.com/app/board/uXjVPyl00iw=/)\n",
    "\n",
    "1. Generate **Initial Population**\n",
    "2. Verify if order of genes is violating the precedence\n",
    "    1. Discard those that are violating the precedence\n",
    "3. Duplicate it for all the jobs in the same instance (SAC)\n",
    "4. Create the array of times (start and end), using the resources time estimator for the respective mode allocation\n",
    "5. **Fitness Function**: Compute the total time to complete all the jobs in all working spaces of same instance $\\Longrightarrow C$ \n",
    "6. **Selection**: Retain the genes with lower C (at maximum X)\n",
    "    1. Discard those that have larger C\n",
    "    2. Verify if new population has a significant improvement in total C from previous population.\n",
    "7. **Generate next population**:\n",
    "    1. **Crossover**: from survival chromosomes, create offsprings \n",
    "    2. **Mutation**: add mutation to the created offsprings (initially larger %, and decreases over time).\n",
    "8. Return to point **2**."
   ]
  },
  {
   "cell_type": "code",
   "execution_count": 2,
   "metadata": {},
   "outputs": [
    {
     "data": {
      "text/html": [
       "\n",
       "                <script type=\"application/javascript\" id=\"jupyter_black\">\n",
       "                (function() {\n",
       "                    if (window.IPython === undefined) {\n",
       "                        return\n",
       "                    }\n",
       "                    var msg = \"WARNING: it looks like you might have loaded \" +\n",
       "                        \"jupyter_black in a non-lab notebook with \" +\n",
       "                        \"`is_lab=True`. Please double check, and if \" +\n",
       "                        \"loading with `%load_ext` please review the README!\"\n",
       "                    console.log(msg)\n",
       "                    alert(msg)\n",
       "                })()\n",
       "                </script>\n",
       "                "
      ],
      "text/plain": [
       "<IPython.core.display.HTML object>"
      ]
     },
     "metadata": {},
     "output_type": "display_data"
    }
   ],
   "source": [
    "import os\n",
    "import numpy as np\n",
    "import logging\n",
    "import jupyter_black\n",
    "\n",
    "jupyter_black.load()\n",
    "\n",
    "logging.basicConfig()\n",
    "logging.getLogger().setLevel(logging.INFO)"
   ]
  },
  {
   "attachments": {},
   "cell_type": "markdown",
   "metadata": {},
   "source": [
    "## 1. The instance to be explored"
   ]
  },
  {
   "cell_type": "code",
   "execution_count": 3,
   "metadata": {},
   "outputs": [],
   "source": [
    "from src.data_connectors import read_input_files"
   ]
  },
  {
   "cell_type": "code",
   "execution_count": 4,
   "metadata": {},
   "outputs": [],
   "source": [
    "instance = 219\n",
    "instances_path = \"../data/input/HRTInstances\"\n",
    "ins_x = read_input_files.read_file(os.path.join(instances_path, f\"Instance_{instance}.txt\"))"
   ]
  },
  {
   "attachments": {},
   "cell_type": "markdown",
   "metadata": {},
   "source": [
    "## 2. Run GA"
   ]
  },
  {
   "cell_type": "code",
   "execution_count": 5,
   "metadata": {},
   "outputs": [],
   "source": [
    "from src.genetic_algorithm import genetic_algorithm"
   ]
  },
  {
   "cell_type": "code",
   "execution_count": 6,
   "metadata": {},
   "outputs": [
    {
     "name": "stderr",
     "output_type": "stream",
     "text": [
      "INFO:root:Size first population: 12600\n",
      "INFO:root:Size of feasible population: 210\n",
      "INFO:root:Population replicated: 210\n",
      "INFO:root:Fittest replicated: 101\n",
      "INFO:root:generate_next_population() - 4 478\n",
      "INFO:root:Size new population: 478\n",
      "INFO:root:==> Iteration: 1 Time: 5.311011 seconds. Fittest solution: 990\n",
      "INFO:root:Next iteration will have: probability = 0.9\n",
      "INFO:root:Size of feasible population: 286\n",
      "INFO:root:Population replicated: 286\n",
      "INFO:root:Fittest replicated: 102\n",
      "INFO:root:generate_next_population() - 4 490\n",
      "INFO:root:Size new population: 490\n",
      "INFO:root:==> Iteration: 2 Time: 10.381457 seconds. Fittest solution: 787\n",
      "INFO:root:Next iteration will have: probability = 0.855\n",
      "INFO:root:Size of feasible population: 300\n",
      "INFO:root:Population replicated: 300\n",
      "INFO:root:Fittest replicated: 104\n",
      "INFO:root:generate_next_population() - 4 452\n",
      "INFO:root:Size new population: 452\n",
      "INFO:root:==> Iteration: 3 Time: 15.662072 seconds. Fittest solution: 679\n",
      "INFO:root:Next iteration will have: probability = 0.81225\n",
      "INFO:root:Size of feasible population: 255\n",
      "INFO:root:Population replicated: 255\n",
      "INFO:root:Fittest replicated: 101\n",
      "INFO:root:generate_next_population() - 4 443\n",
      "INFO:root:Size new population: 443\n",
      "INFO:root:==> Iteration: 4 Time: 20.233115 seconds. Fittest solution: 679\n",
      "INFO:root:Next iteration will have: probability = 0.7716374999999999\n",
      "INFO:root:Size of feasible population: 256\n",
      "INFO:root:Population replicated: 256\n",
      "INFO:root:Fittest replicated: 101\n",
      "INFO:root:generate_next_population() - 4 410\n",
      "INFO:root:Size new population: 410\n",
      "INFO:root:==> Iteration: 5 Time: 24.732028 seconds. Fittest solution: 679\n",
      "INFO:root:Next iteration will have: probability = 0.7330556249999999\n",
      "INFO:root:Size of feasible population: 219\n",
      "INFO:root:Population replicated: 219\n",
      "INFO:root:Fittest replicated: 103\n",
      "INFO:root:generate_next_population() - 4 409\n",
      "INFO:root:Size new population: 409\n",
      "INFO:root:==> Iteration: 6 Time: 28.579101 seconds. Fittest solution: 679\n",
      "INFO:root:Next iteration will have: probability = 0.6964028437499998\n",
      "INFO:root:Size of feasible population: 220\n",
      "INFO:root:Population replicated: 220\n",
      "INFO:root:Fittest replicated: 104\n",
      "INFO:root:generate_next_population() - 4 361\n",
      "INFO:root:Size new population: 361\n",
      "INFO:root:==> Iteration: 7 Time: 32.518716 seconds. Fittest solution: 679\n",
      "INFO:root:Next iteration will have: probability = 0.6615827015624999\n"
     ]
    }
   ],
   "source": [
    "result = genetic_algorithm.genetic_algorithm(ins_x, max_limit_time_sec=30)"
   ]
  },
  {
   "attachments": {},
   "cell_type": "markdown",
   "metadata": {},
   "source": [
    "## Save results"
   ]
  },
  {
   "cell_type": "code",
   "execution_count": 7,
   "metadata": {},
   "outputs": [],
   "source": [
    "from src.data_connectors import write_solution_files"
   ]
  },
  {
   "cell_type": "code",
   "execution_count": 8,
   "metadata": {},
   "outputs": [],
   "source": [
    "write_solution_files.write_solution_to_file(ins_x, instance, result)"
   ]
  },
  {
   "cell_type": "code",
   "execution_count": null,
   "metadata": {},
   "outputs": [],
   "source": []
  }
 ],
 "metadata": {
  "kernelspec": {
   "display_name": ".venv_hm_hrt",
   "language": "python",
   "name": "python3"
  },
  "language_info": {
   "codemirror_mode": {
    "name": "ipython",
    "version": 3
   },
   "file_extension": ".py",
   "mimetype": "text/x-python",
   "name": "python",
   "nbconvert_exporter": "python",
   "pygments_lexer": "ipython3",
   "version": "3.10.4"
  },
  "orig_nbformat": 4,
  "vscode": {
   "interpreter": {
    "hash": "a6289d96d3a41a28093af2b7ef3d7cfe930fbd01b56829a017029cf1de3096c1"
   }
  }
 },
 "nbformat": 4,
 "nbformat_minor": 2
}
