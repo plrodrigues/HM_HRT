{
 "cells": [
  {
   "attachments": {},
   "cell_type": "markdown",
   "metadata": {},
   "source": [
    "# Loop on the GA"
   ]
  },
  {
   "cell_type": "code",
   "execution_count": 1,
   "metadata": {},
   "outputs": [],
   "source": [
    "%load_ext autoreload\n",
    "%autoreload 2\n",
    "%matplotlib inline\n",
    "\n",
    "%matplotlib widget"
   ]
  },
  {
   "attachments": {},
   "cell_type": "markdown",
   "metadata": {},
   "source": [
    "## [Flow](https://miro.com/app/board/uXjVPyl00iw=/)\n",
    "\n",
    "1. Generate **Initial Population**\n",
    "2. Verify if order of genes is violating the precedence\n",
    "    1. Discard those that are violating the precedence\n",
    "3. Duplicate it for all the jobs in the same instance (SAC)\n",
    "4. Create the array of times (start and end), using the resources time estimator for the respective mode allocation\n",
    "5. **Fitness Function**: Compute the total time to complete all the jobs in all working spaces of same instance $\\Longrightarrow C$ \n",
    "6. **Selection**: Retain the genes with lower C (at maximum X)\n",
    "    1. Discard those that have larger C\n",
    "    2. Verify if new population has a significant improvement in total C from previous population.\n",
    "7. **Generate next population**:\n",
    "    1. **Crossover**: from survival chromosomes, create offsprings \n",
    "    2. **Mutation**: add mutation to the created offsprings (initially larger %, and decreases over time).\n",
    "8. Return to point **2**."
   ]
  },
  {
   "cell_type": "code",
   "execution_count": 9,
   "metadata": {},
   "outputs": [],
   "source": [
    "import os\n",
    "import jupyter_black\n",
    "\n",
    "jupyter_black.load()"
   ]
  },
  {
   "attachments": {},
   "cell_type": "markdown",
   "metadata": {},
   "source": [
    "## 1. The instance to be explored"
   ]
  },
  {
   "cell_type": "code",
   "execution_count": 21,
   "metadata": {},
   "outputs": [],
   "source": [
    "from src.data_connectors import read_input_files"
   ]
  },
  {
   "cell_type": "code",
   "execution_count": 22,
   "metadata": {},
   "outputs": [],
   "source": [
    "instance = 333\n",
    "instances_path = \"../data/input/HRTInstances\"\n",
    "ins_x = read_input_files.read_file(os.path.join(instances_path, f\"Instance_{instance}.txt\"))"
   ]
  },
  {
   "attachments": {},
   "cell_type": "markdown",
   "metadata": {},
   "source": [
    "## 2. Run GA"
   ]
  },
  {
   "cell_type": "code",
   "execution_count": 23,
   "metadata": {},
   "outputs": [],
   "source": [
    "from src.genetic_algorithm import genetic_algorithm"
   ]
  },
  {
   "cell_type": "code",
   "execution_count": 28,
   "metadata": {},
   "outputs": [
    {
     "name": "stdout",
     "output_type": "stream",
     "text": [
      "Possible modes: ['0' '1' '2' '0-2' '1-2']\n",
      "Number of tasks: 20\n",
      "Total size of first population: 6600\n",
      "From 6600 to 110\n",
      "From 110 to 110\n",
      "add_replication_of_remaining_working_spaces: 110\n",
      "add_times_and_find_makespan with time: 110\n",
      "add_times_and_find_makespan, makespan: 110\n",
      "How many fittest chromosomes: 99\n",
      "Should we continue iterating? True\n",
      "crossover:  [Chromosome(mode=['1', '0', '0', '2', '2', '0-2', '0', '0-2', '0', '1', '2', '1-2', '1-2', '1-2', '2', '1-2', '1', '2', '0', '0', '1', '0', '0', '3', '0', '1-3', '0', '0', '1-3', '0', '3', '1', '1-3', '0', '3', '1-3', '0-3', '3', '1', '0', '0-4', '0', '0', '1', '4', '0-4', '0', '0', '1-4', '1', '1-4', '1', '4', '0', '4', '1-4', '0-4', '4', '0', '1-4'], order=[0, 3, 6, 9, 12, 15, 18, 21, 24, 27, 30, 33, 36, 39, 42, 45, 48, 51, 54, 57, 1, 4, 7, 10, 13, 16, 19, 22, 25, 28, 31, 34, 37, 40, 43, 46, 49, 52, 55, 58, 2, 5, 8, 11, 14, 17, 20, 23, 26, 29, 32, 35, 38, 41, 44, 47, 50, 53, 56, 59]), Chromosome(mode=['0-2', '2', '0', '1', '0', '1-2', '0', '0', '1-2', '0', '1-2', '1', '2', '0', '2', '2', '0-2', '0-2', '1', '1-2', '0-3', '3', '0', '1', '3', '0-3', '0', '0-3', '0', '1', '1-3', '1-3', '3', '1-3', '3', '3', '1', '0-3', '0', '1-3', '1', '4', '0', '4', '0', '1-4', '0', '0-4', '0', '0', '4', '1-4', '1-4', '1-4', '4', '4', '1', '0-4', '1', '0'], order=[0, 3, 6, 9, 12, 15, 18, 21, 24, 27, 30, 33, 36, 39, 42, 45, 48, 51, 54, 57, 1, 4, 7, 10, 13, 16, 19, 22, 25, 28, 31, 34, 37, 40, 43, 46, 49, 52, 55, 58, 2, 5, 8, 11, 14, 17, 20, 23, 26, 29, 32, 35, 38, 41, 44, 47, 50, 53, 56, 59]), Chromosome(mode=['1', '1-2', '0', '0-2', '1-2', '2', '1-2', '0', '1', '0-2', '2', '1', '1', '1-2', '0-2', '1-2', '1-2', '1-2', '0-2', '0', '0-3', '0', '1-3', '3', '3', '3', '1', '1-3', '1-3', '0', '1', '1', '1', '1-3', '0-3', '1-3', '1-3', '1-3', '0-3', '0', '0-4', '0', '1-4', '4', '4', '4', '1', '1-4', '1-4', '0', '1', '1', '1', '1-4', '0-4', '1-4', '1-4', '1-4', '0-4', '0'], order=[0, 3, 6, 9, 12, 15, 18, 21, 24, 27, 30, 33, 36, 39, 42, 45, 48, 51, 54, 57, 1, 4, 7, 10, 13, 16, 19, 22, 25, 28, 31, 34, 37, 40, 43, 46, 49, 52, 55, 58, 2, 5, 8, 11, 14, 17, 20, 23, 26, 29, 32, 35, 38, 41, 44, 47, 50, 53, 56, 59]), Chromosome(mode=['0-2', '0', '1-2', '2', '2', '2', '1', '1-2', '1-2', '0', '1', '1', '2', '1', '1', '2', '0-2', '0', '1', '0-2', '1', '1-3', '0', '0-3', '1-3', '3', '1-3', '0', '1', '0-3', '3', '1', '3', '1', '1', '3', '0-3', '0', '1', '0-3', '1', '1-4', '0', '0-4', '1-4', '4', '1-4', '0', '1', '0-4', '4', '1', '4', '1', '1', '4', '0-4', '0', '1', '0-4'], order=[0, 3, 6, 12, 9, 15, 18, 21, 27, 24, 30, 33, 36, 42, 39, 45, 48, 51, 57, 54, 1, 4, 7, 13, 10, 16, 19, 22, 28, 25, 31, 34, 37, 43, 40, 46, 49, 52, 58, 55, 2, 5, 8, 14, 11, 17, 20, 23, 29, 26, 32, 35, 38, 44, 41, 47, 50, 53, 59, 56]), Chromosome(mode=['1', '0', '1-2', '0-2', '2', '2', '1', '0', '1', '0', '2', '1', '2', '1', '0-2', '1-2', '0-2', '1-2', '0-2', '0', '0-3', '1-3', '1-3', '3', '1-3', '3', '1', '1-3', '1-3', '0', '1', '1', '3', '1', '0-3', '3', '1-3', '0', '0-3', '0-3', '0-4', '1-4', '1-4', '4', '1-4', '4', '1-4', '1-4', '1-4', '0', '4', '1', '4', '1-4', '0-4', '1-4', '0-4', '1-4', '1', '0-4'], order=[0, 3, 6, 9, 12, 15, 18, 21, 24, 27, 30, 33, 36, 39, 42, 45, 48, 51, 54, 57, 1, 4, 7, 10, 13, 16, 19, 22, 25, 28, 31, 34, 37, 40, 43, 46, 49, 52, 55, 58, 2, 5, 8, 11, 14, 17, 20, 23, 26, 29, 32, 35, 38, 41, 44, 47, 50, 53, 56, 59]), Chromosome(mode=['0-2', '1-2', '0', '2', '1-2', '2', '1-2', '1-2', '1-2', '0-2', '1', '1', '1', '1-2', '1', '2', '1-2', '0', '1', '0-2', '1', '0', '0', '0-3', '3', '3', '1-3', '0', '1', '0-3', '3', '1', '1', '1-3', '1', '1-3', '0-3', '1-3', '1', '0', '1', '0', '0', '0-4', '4', '4', '1', '0', '1', '0-4', '1', '1', '1', '1', '1', '4', '1-4', '0', '0-4', '0'], order=[0, 3, 6, 12, 9, 15, 18, 21, 27, 24, 30, 33, 36, 42, 39, 45, 48, 51, 57, 54, 1, 4, 7, 13, 10, 16, 19, 22, 28, 25, 31, 34, 37, 43, 40, 46, 49, 52, 58, 55, 2, 5, 8, 14, 11, 17, 20, 23, 29, 26, 32, 35, 38, 44, 41, 47, 50, 53, 59, 56]), Chromosome(mode=['0-2', '0-2', '0', '2', '0', '0', '1', '2', '1', '1', '0', '1-2', '1-2', '0', '0', '1', '2', '1-2', '0', '1-2', '0-3', '0-3', '0', '3', '0', '0', '1', '3', '1', '1', '0', '1-3', '1-3', '0', '0', '1', '3', '1-3', '0', '1-3', '0-4', '0-4', '0', '4', '0-4', '1', '0', '0', '0-4', '0', '0', '0', '4', '0', '0', '1', '0-4', '1-4', '1-4', '0'], order=[0, 3, 6, 9, 12, 15, 18, 21, 24, 27, 30, 33, 36, 39, 42, 45, 48, 51, 54, 57, 1, 4, 7, 10, 13, 16, 19, 22, 25, 28, 31, 34, 37, 40, 43, 46, 49, 52, 55, 58, 2, 5, 8, 11, 14, 17, 20, 23, 26, 29, 32, 35, 38, 41, 44, 47, 50, 53, 56, 59]), Chromosome(mode=['1-2', '0', '0-2', '2', '0-2', '1', '0', '0', '0-2', '0', '0', '0', '2', '0', '0', '1', '0-2', '1-2', '1-2', '0', '1-3', '0', '0-3', '3', '0-3', '1', '0', '0', '0-3', '0', '0', '0', '3', '0', '0', '1', '0-3', '1-3', '1-3', '0', '1-4', '0', '0-4', '4', '0', '0', '1', '4', '1', '1', '0', '1-4', '1-4', '0', '0', '1', '4', '1-4', '0', '1-4'], order=[0, 3, 6, 9, 12, 15, 18, 21, 24, 27, 30, 33, 36, 39, 42, 45, 48, 51, 54, 57, 1, 4, 7, 10, 13, 16, 19, 22, 25, 28, 31, 34, 37, 40, 43, 46, 49, 52, 55, 58, 2, 5, 8, 11, 14, 17, 20, 23, 26, 29, 32, 35, 38, 41, 44, 47, 50, 53, 56, 59]), Chromosome(mode=['0-2', '0-2', '0-2', '2', '0-2', '1', '1', '2', '1', '0', '0', '1-2', '1-2', '0', '0', '1', '0-2', '1-2', '0', '1-2', '0-3', '0-3', '0', '3', '0', '1', '1', '0', '1', '0', '0', '1-3', '3', '0', '0', '1', '3', '1-3', '1-3', '1-3', '1-4', '0-4', '0', '4', '0', '0', '1', '4', '0-4', '0', '0', '0', '1-4', '0', '0', '1', '4', '1-4', '1-4', '1-4'], order=[0, 3, 6, 9, 12, 15, 18, 21, 24, 27, 30, 33, 36, 39, 42, 45, 48, 51, 54, 57, 1, 4, 7, 10, 13, 16, 19, 22, 25, 28, 31, 34, 37, 40, 43, 46, 49, 52, 55, 58, 2, 5, 8, 11, 14, 17, 20, 23, 26, 29, 32, 35, 38, 41, 44, 47, 50, 53, 56, 59]), Chromosome(mode=['1-2', '0', '0', '2', '0', '0', '0', '0', '0-2', '1', '0', '0', '2', '0', '0', '1', '2', '1-2', '1-2', '0', '1-3', '0', '0-3', '3', '0-3', '0', '0', '3', '0-3', '1', '0', '0', '1-3', '0', '0', '1', '0-3', '1-3', '0', '0', '0-4', '0', '0-4', '4', '0-4', '1', '0', '0', '1', '1', '0', '1-4', '4', '0', '0', '1', '0-4', '1-4', '0', '0'], order=[0, 3, 6, 9, 12, 15, 18, 21, 24, 27, 30, 33, 36, 39, 42, 45, 48, 51, 54, 57, 1, 4, 7, 10, 13, 16, 19, 22, 25, 28, 31, 34, 37, 40, 43, 46, 49, 52, 55, 58, 2, 5, 8, 11, 14, 17, 20, 23, 26, 29, 32, 35, 38, 41, 44, 47, 50, 53, 56, 59])]\n"
     ]
    },
    {
     "ename": "TypeError",
     "evalue": "list indices must be integers or slices, not tuple",
     "output_type": "error",
     "traceback": [
      "\u001b[0;31m---------------------------------------------------------------------------\u001b[0m",
      "\u001b[0;31mTypeError\u001b[0m                                 Traceback (most recent call last)",
      "Cell \u001b[0;32mIn[28], line 1\u001b[0m\n\u001b[0;32m----> 1\u001b[0m result \u001b[39m=\u001b[39m genetic_algorithm\u001b[39m.\u001b[39;49mgenetic_algorithm(ins_x, max_limit_time_sec\u001b[39m=\u001b[39;49m\u001b[39m30\u001b[39;49m)\n",
      "File \u001b[0;32m~/Documents/GitHubPhD/HM_HRT/src/genetic_algorithm/genetic_algorithm.py:124\u001b[0m, in \u001b[0;36mgenetic_algorithm\u001b[0;34m(instance, max_limit_time_sec)\u001b[0m\n\u001b[1;32m    122\u001b[0m is_better_than_previous \u001b[39m=\u001b[39m is_new_population_better_than_previous(fittest_population, previous_population)\n\u001b[1;32m    123\u001b[0m \u001b[39mif\u001b[39;00m is_better_than_previous:\n\u001b[0;32m--> 124\u001b[0m     population \u001b[39m=\u001b[39m generate_next_population(fittest_population, fittest_makespan, probability)\n\u001b[1;32m    125\u001b[0m     \u001b[39mprint\u001b[39m(\u001b[39mf\u001b[39m\u001b[39m\"\u001b[39m\u001b[39mSize new population: \u001b[39m\u001b[39m{\u001b[39;00m\u001b[39mlen\u001b[39m(population)\u001b[39m}\u001b[39;00m\u001b[39m\"\u001b[39m)\n\u001b[1;32m    126\u001b[0m     \u001b[39mprint\u001b[39m(\u001b[39mf\u001b[39m\u001b[39m\"\u001b[39m\u001b[39mPreview it: \u001b[39m\u001b[39m{\u001b[39;00mpopulation[:\u001b[39m10\u001b[39m]\u001b[39m}\u001b[39;00m\u001b[39m\"\u001b[39m)\n",
      "File \u001b[0;32m~/Documents/GitHubPhD/HM_HRT/src/genetic_algorithm/genetic_algorithm.py:94\u001b[0m, in \u001b[0;36mgenerate_next_population\u001b[0;34m(fittest_chromosomes, fittest_makespan, probability)\u001b[0m\n\u001b[1;32m     90\u001b[0m \u001b[39mdef\u001b[39;00m \u001b[39mgenerate_next_population\u001b[39m(fittest_chromosomes: \u001b[39mlist\u001b[39m[Chromosome], fittest_makespan: \u001b[39mlist\u001b[39m[\u001b[39mint\u001b[39m], probability: \u001b[39mfloat\u001b[39m \u001b[39m=\u001b[39m \u001b[39m0.4\u001b[39m) \u001b[39m-\u001b[39m\u001b[39m>\u001b[39m \u001b[39mlist\u001b[39m[Chromosome]:\n\u001b[1;32m     91\u001b[0m     new_generation \u001b[39m=\u001b[39m next_population\u001b[39m.\u001b[39mgenerate_next_population_with_crossover(\n\u001b[1;32m     92\u001b[0m         fittest_chromosomes, fittest_makespan\n\u001b[1;32m     93\u001b[0m     )\n\u001b[0;32m---> 94\u001b[0m     \u001b[39mprint\u001b[39m(\u001b[39m'\u001b[39m\u001b[39min generation\u001b[39m\u001b[39m'\u001b[39m, new_generation[\u001b[39m-\u001b[39;49m\u001b[39m10\u001b[39;49m, :])\n\u001b[1;32m     95\u001b[0m     new_mutated_population \u001b[39m=\u001b[39m []\n\u001b[1;32m     96\u001b[0m     \u001b[39mfor\u001b[39;00m chromosome \u001b[39min\u001b[39;00m new_generation:\n",
      "\u001b[0;31mTypeError\u001b[0m: list indices must be integers or slices, not tuple"
     ]
    }
   ],
   "source": [
    "result = genetic_algorithm.genetic_algorithm(ins_x, max_limit_time_sec=30)"
   ]
  },
  {
   "cell_type": "code",
   "execution_count": null,
   "metadata": {},
   "outputs": [],
   "source": []
  }
 ],
 "metadata": {
  "kernelspec": {
   "display_name": ".venv_hm_hrt",
   "language": "python",
   "name": "python3"
  },
  "language_info": {
   "codemirror_mode": {
    "name": "ipython",
    "version": 3
   },
   "file_extension": ".py",
   "mimetype": "text/x-python",
   "name": "python",
   "nbconvert_exporter": "python",
   "pygments_lexer": "ipython3",
   "version": "3.10.4"
  },
  "orig_nbformat": 4,
  "vscode": {
   "interpreter": {
    "hash": "a6289d96d3a41a28093af2b7ef3d7cfe930fbd01b56829a017029cf1de3096c1"
   }
  }
 },
 "nbformat": 4,
 "nbformat_minor": 2
}
