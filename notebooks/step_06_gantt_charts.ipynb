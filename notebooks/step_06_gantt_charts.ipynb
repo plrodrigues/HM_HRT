{
 "cells": [
  {
   "attachments": {},
   "cell_type": "markdown",
   "metadata": {},
   "source": [
    "# Gantt charts to understand results produced by Genetic Algorithm"
   ]
  },
  {
   "cell_type": "code",
   "execution_count": 1,
   "metadata": {},
   "outputs": [],
   "source": [
    "%load_ext autoreload\n",
    "%autoreload 2\n",
    "%matplotlib inline\n",
    "\n",
    "%matplotlib widget"
   ]
  },
  {
   "cell_type": "code",
   "execution_count": 2,
   "metadata": {},
   "outputs": [
    {
     "data": {
      "text/html": [
       "\n",
       "                <script type=\"application/javascript\" id=\"jupyter_black\">\n",
       "                (function() {\n",
       "                    if (window.IPython === undefined) {\n",
       "                        return\n",
       "                    }\n",
       "                    var msg = \"WARNING: it looks like you might have loaded \" +\n",
       "                        \"jupyter_black in a non-lab notebook with \" +\n",
       "                        \"`is_lab=True`. Please double check, and if \" +\n",
       "                        \"loading with `%load_ext` please review the README!\"\n",
       "                    console.log(msg)\n",
       "                    alert(msg)\n",
       "                })()\n",
       "                </script>\n",
       "                "
      ],
      "text/plain": [
       "<IPython.core.display.HTML object>"
      ]
     },
     "metadata": {},
     "output_type": "display_data"
    }
   ],
   "source": [
    "import os\n",
    "import numpy as np\n",
    "import pandas as pd\n",
    "import logging\n",
    "import pickle\n",
    "import jupyter_black\n",
    "from tqdm import tqdm\n",
    "\n",
    "from src.data_connectors import read_solutions_files\n",
    "from src.data_connectors import read_input_files\n",
    "from src.data_visualisation import gantt\n",
    "from src.data_visualisation import prepare_resources\n",
    "\n",
    "import warnings\n",
    "\n",
    "warnings.filterwarnings(\"ignore\")\n",
    "\n",
    "\n",
    "jupyter_black.load()\n",
    "\n",
    "logging.basicConfig()\n",
    "logging.getLogger().setLevel(logging.INFO)"
   ]
  },
  {
   "attachments": {},
   "cell_type": "markdown",
   "metadata": {},
   "source": [
    "## Read the results | schedules"
   ]
  },
  {
   "cell_type": "code",
   "execution_count": 112,
   "metadata": {},
   "outputs": [],
   "source": [
    "instance_number = 221"
   ]
  },
  {
   "cell_type": "code",
   "execution_count": 113,
   "metadata": {},
   "outputs": [
    {
     "data": {
      "application/vnd.plotly.v1+json": {
       "config": {
        "plotlyServerURL": "https://plot.ly"
       },
       "data": [
        {
         "alignmentgroup": "True",
         "base": [
          "2023-01-27T07:00:00",
          "2023-01-27T08:00:00",
          "2023-01-21T11:00:00",
          "2023-02-28T10:00:00",
          "2023-01-18T17:00:00",
          "2023-01-31T11:00:00",
          "2023-02-12T00:00:00",
          "2023-02-25T00:00:00",
          "2023-02-17T23:00:00",
          "2023-01-12T20:00:00",
          "2023-02-21T08:00:00",
          "2023-02-23T06:00:00",
          "2023-02-05T06:00:00",
          "2023-02-05T20:00:00",
          "2023-01-02T12:00:00",
          "2023-01-05T18:00:00",
          "2023-01-23T03:00:00",
          "2023-02-08T22:00:00",
          "2023-02-05T13:00:00",
          "2023-02-21T12:00:00",
          "2023-01-09T00:00:00",
          "2023-02-17T19:00:00",
          "2023-02-14T10:00:00",
          "2023-02-26T17:00:00",
          "2023-02-02T20:00:00",
          "2023-01-20T18:00:00",
          "2023-01-16T16:00:00",
          "2023-03-04T01:00:00",
          "2023-02-01T04:00:00",
          "2023-01-23T04:00:00",
          "2023-01-01T00:00:00",
          "2023-01-01T00:00:00",
          "2023-01-25T20:00:00",
          "2023-01-03T06:00:00",
          "2023-02-05T06:00:00",
          "2023-01-09T00:00:00",
          "2023-01-15T10:00:00",
          "2023-02-15T01:00:00",
          "2023-01-25T21:00:00",
          "2023-02-28T11:00:00",
          "2023-01-22T16:00:00",
          "2023-03-02T10:00:00",
          "2023-02-26T22:00:00",
          "2023-01-26T07:00:00",
          "2023-03-05T11:00:00",
          "2023-02-25T20:00:00",
          "2023-01-23T01:00:00",
          "2023-03-03T12:00:00",
          "2023-02-09T14:00:00",
          "2023-01-22T15:00:00",
          "2023-01-12T04:00:00",
          "2023-01-05T18:00:00",
          "2023-01-27T17:00:00",
          "2023-01-02T12:00:00",
          "2023-01-22T14:00:00",
          "2023-01-19T10:00:00"
         ],
         "customdata": [
          [
           5
          ],
          [
           6
          ],
          [
           9
          ],
          [
           12
          ],
          [
           13
          ],
          [
           15
          ],
          [
           16
          ],
          [
           22
          ],
          [
           25
          ],
          [
           3
          ],
          [
           34
          ],
          [
           37
          ],
          [
           41
          ],
          [
           43
          ],
          [
           52
          ],
          [
           2
          ],
          [
           55
          ],
          [
           93
          ],
          [
           91
          ],
          [
           87
          ],
          [
           53
          ],
          [
           84
          ],
          [
           75
          ],
          [
           72
          ],
          [
           66
          ],
          [
           65
          ],
          [
           63
          ],
          [
           62
          ],
          [
           59
          ],
          [
           56
          ],
          [
           51
          ],
          [
           1
          ],
          [
           7
          ],
          [
           8
          ],
          [
           10
          ],
          [
           11
          ],
          [
           14
          ],
          [
           17
          ],
          [
           18
          ],
          [
           23
          ],
          [
           4
          ],
          [
           28
          ],
          [
           38
          ],
          [
           24
          ],
          [
           78
          ],
          [
           88
          ],
          [
           74
          ],
          [
           73
          ],
          [
           67
          ],
          [
           68
          ],
          [
           64
          ],
          [
           61
          ],
          [
           60
          ],
          [
           58
          ],
          [
           57
          ],
          [
           54
          ]
         ],
         "hovertemplate": "has_successors=1<br>Start=%{base}<br>Finish=%{x}<br>Resource=%{y}<br>Task=%{customdata[0]}<br>Job=%{marker.color}<extra></extra>",
         "legendgroup": "1",
         "marker": {
          "color": [
           1,
           1,
           1,
           1,
           1,
           1,
           1,
           1,
           1,
           1,
           1,
           1,
           1,
           1,
           2,
           1,
           2,
           2,
           2,
           2,
           2,
           2,
           2,
           2,
           2,
           2,
           2,
           2,
           2,
           2,
           2,
           1,
           1,
           1,
           1,
           1,
           1,
           1,
           1,
           1,
           1,
           1,
           1,
           1,
           2,
           2,
           2,
           2,
           2,
           2,
           2,
           2,
           2,
           2,
           2,
           2
          ],
          "coloraxis": "coloraxis",
          "pattern": {
           "shape": ""
          }
         },
         "name": "1",
         "offsetgroup": "1",
         "orientation": "h",
         "showlegend": true,
         "text": [
          5,
          6,
          9,
          12,
          13,
          15,
          16,
          22,
          25,
          3,
          34,
          37,
          41,
          43,
          52,
          2,
          55,
          93,
          91,
          87,
          53,
          84,
          75,
          72,
          66,
          65,
          63,
          62,
          59,
          56,
          51,
          1,
          7,
          8,
          10,
          11,
          14,
          17,
          18,
          23,
          4,
          28,
          38,
          24,
          78,
          88,
          74,
          73,
          67,
          68,
          64,
          61,
          60,
          58,
          57,
          54
         ],
         "textposition": "auto",
         "type": "bar",
         "x": [
          3600000,
          356400000,
          144000000,
          313200000,
          176400000,
          61200000,
          208800000,
          147600000,
          291600000,
          331200000,
          14400000,
          151200000,
          25200000,
          266400000,
          280800000,
          280800000,
          3600000,
          266400000,
          25200000,
          151200000,
          331200000,
          14400000,
          291600000,
          147600000,
          208800000,
          61200000,
          176400000,
          313200000,
          144000000,
          356400000,
          129600000,
          194400000,
          3600000,
          122400000,
          349200000,
          554400000,
          626400000,
          3600000,
          36000000,
          169200000,
          273600000,
          100800000,
          133200000,
          403200000,
          100800000,
          133200000,
          403200000,
          169200000,
          3600000,
          36000000,
          626400000,
          554400000,
          349200000,
          122400000,
          3600000,
          273600000
         ],
         "xaxis": "x",
         "y": [
          "0",
          "0",
          "0",
          "0",
          "0",
          "0",
          "0",
          "0",
          "0",
          "0",
          "0",
          "0",
          "0",
          "0",
          "0",
          "0",
          "0",
          "0",
          "0",
          "0",
          "0",
          "0",
          "0",
          "0",
          "0",
          "0",
          "0",
          "0",
          "0",
          "0",
          "0",
          "1",
          "1",
          "1",
          "1",
          "1",
          "1",
          "1",
          "1",
          "1",
          "1",
          "1",
          "1",
          "1",
          "2",
          "2",
          "2",
          "2",
          "2",
          "2",
          "2",
          "2",
          "2",
          "2",
          "2",
          "2"
         ],
         "yaxis": "y"
        },
        {
         "alignmentgroup": "True",
         "base": [
          "2023-04-07T03:00:00",
          "2023-03-23T05:00:00",
          "2023-03-18T03:00:00",
          "2023-04-11T00:00:00",
          "2023-04-05T05:00:00",
          "2023-03-20T11:00:00",
          "2023-03-27T02:00:00",
          "2023-03-10T20:00:00",
          "2023-03-17T17:00:00",
          "2023-03-14T17:00:00",
          "2023-04-01T08:00:00",
          "2023-03-20T01:00:00",
          "2023-03-23T17:00:00",
          "2023-03-21T19:00:00",
          "2023-03-15T13:00:00",
          "2023-03-30T10:00:00",
          "2023-03-07T16:00:00",
          "2023-03-28T12:00:00",
          "2023-03-14T05:00:00",
          "2023-03-16T21:00:00",
          "2023-03-03T14:00:00",
          "2023-02-09T07:00:00",
          "2023-03-04T03:00:00",
          "2023-03-07T02:00:00",
          "2023-01-04T16:00:00",
          "2023-03-11T14:00:00",
          "2023-02-23T21:00:00",
          "2023-02-16T16:00:00",
          "2023-01-30T23:00:00",
          "2023-02-19T18:00:00",
          "2023-02-15T02:00:00",
          "2023-03-05T19:00:00",
          "2023-01-03T22:00:00",
          "2023-02-09T15:00:00",
          "2023-02-18T07:00:00",
          "2023-02-11T10:00:00",
          "2023-02-13T00:00:00",
          "2023-02-27T09:00:00",
          "2023-01-31T18:00:00",
          "2023-03-08T11:00:00",
          "2023-02-03T20:00:00",
          "2023-03-06T15:00:00",
          "2023-02-21T08:00:00",
          "2023-03-07T22:00:00"
         ],
         "customdata": [
          [
           50
          ],
          [
           27
          ],
          [
           32
          ],
          [
           35
          ],
          [
           39
          ],
          [
           42
          ],
          [
           45
          ],
          [
           46
          ],
          [
           47
          ],
          [
           33
          ],
          [
           100
          ],
          [
           97
          ],
          [
           96
          ],
          [
           95
          ],
          [
           92
          ],
          [
           89
          ],
          [
           85
          ],
          [
           82
          ],
          [
           77
          ],
          [
           83
          ],
          [
           49
          ],
          [
           19
          ],
          [
           20
          ],
          [
           21
          ],
          [
           26
          ],
          [
           29
          ],
          [
           30
          ],
          [
           31
          ],
          [
           36
          ],
          [
           40
          ],
          [
           44
          ],
          [
           48
          ],
          [
           76
          ],
          [
           79
          ],
          [
           80
          ],
          [
           94
          ],
          [
           86
          ],
          [
           90
          ],
          [
           81
          ],
          [
           70
          ],
          [
           69
          ],
          [
           98
          ],
          [
           71
          ],
          [
           99
          ]
         ],
         "hovertemplate": "has_successors=0<br>Start=%{base}<br>Finish=%{x}<br>Resource=%{y}<br>Task=%{customdata[0]}<br>Job=%{marker.color}<extra></extra>",
         "legendgroup": "0",
         "marker": {
          "color": [
           1,
           1,
           1,
           1,
           1,
           1,
           1,
           1,
           1,
           1,
           2,
           2,
           2,
           2,
           2,
           2,
           2,
           2,
           2,
           2,
           1,
           1,
           1,
           1,
           1,
           1,
           1,
           1,
           1,
           1,
           1,
           1,
           2,
           2,
           2,
           2,
           2,
           2,
           2,
           2,
           2,
           2,
           2,
           2
          ],
          "coloraxis": "coloraxis",
          "pattern": {
           "shape": "/"
          }
         },
         "name": "0",
         "offsetgroup": "0",
         "orientation": "h",
         "showlegend": true,
         "text": [
          50,
          27,
          32,
          35,
          39,
          42,
          45,
          46,
          47,
          33,
          100,
          97,
          96,
          95,
          92,
          89,
          85,
          82,
          77,
          83,
          49,
          19,
          20,
          21,
          26,
          29,
          30,
          31,
          36,
          40,
          44,
          48,
          76,
          79,
          80,
          94,
          86,
          90,
          81,
          70,
          69,
          98,
          71,
          99
         ],
         "textposition": "auto",
         "type": "bar",
         "x": [
          334800000,
          43200000,
          165600000,
          273600000,
          165600000,
          115200000,
          122400000,
          291600000,
          36000000,
          72000000,
          334800000,
          36000000,
          291600000,
          122400000,
          115200000,
          165600000,
          273600000,
          165600000,
          43200000,
          72000000,
          46800000,
          496800000,
          144000000,
          388800000,
          104400000,
          154800000,
          262800000,
          266400000,
          457200000,
          356400000,
          136800000,
          111600000,
          104400000,
          154800000,
          262800000,
          136800000,
          457200000,
          356400000,
          266400000,
          144000000,
          496800000,
          111600000,
          388800000,
          46800000
         ],
         "xaxis": "x",
         "y": [
          "0",
          "0",
          "0",
          "0",
          "0",
          "0",
          "0",
          "0",
          "0",
          "0",
          "0",
          "0",
          "0",
          "0",
          "0",
          "0",
          "0",
          "0",
          "0",
          "0",
          "1",
          "1",
          "1",
          "1",
          "1",
          "1",
          "1",
          "1",
          "1",
          "1",
          "1",
          "1",
          "2",
          "2",
          "2",
          "2",
          "2",
          "2",
          "2",
          "2",
          "2",
          "2",
          "2",
          "2"
         ],
         "yaxis": "y"
        }
       ],
       "layout": {
        "barmode": "overlay",
        "coloraxis": {
         "colorbar": {
          "title": {
           "text": "Job"
          }
         },
         "colorscale": [
          [
           0,
           "rgb(255,255,217)"
          ],
          [
           0.125,
           "rgb(237,248,177)"
          ],
          [
           0.25,
           "rgb(199,233,180)"
          ],
          [
           0.375,
           "rgb(127,205,187)"
          ],
          [
           0.5,
           "rgb(65,182,196)"
          ],
          [
           0.625,
           "rgb(29,145,192)"
          ],
          [
           0.75,
           "rgb(34,94,168)"
          ],
          [
           0.875,
           "rgb(37,52,148)"
          ],
          [
           1,
           "rgb(8,29,88)"
          ]
         ]
        },
        "legend": {
         "title": {
          "text": "has_successors"
         },
         "tracegroupgap": 0
        },
        "template": {
         "data": {
          "bar": [
           {
            "error_x": {
             "color": "#2a3f5f"
            },
            "error_y": {
             "color": "#2a3f5f"
            },
            "marker": {
             "line": {
              "color": "#E5ECF6",
              "width": 0.5
             },
             "pattern": {
              "fillmode": "overlay",
              "size": 10,
              "solidity": 0.2
             }
            },
            "type": "bar"
           }
          ],
          "barpolar": [
           {
            "marker": {
             "line": {
              "color": "#E5ECF6",
              "width": 0.5
             },
             "pattern": {
              "fillmode": "overlay",
              "size": 10,
              "solidity": 0.2
             }
            },
            "type": "barpolar"
           }
          ],
          "carpet": [
           {
            "aaxis": {
             "endlinecolor": "#2a3f5f",
             "gridcolor": "white",
             "linecolor": "white",
             "minorgridcolor": "white",
             "startlinecolor": "#2a3f5f"
            },
            "baxis": {
             "endlinecolor": "#2a3f5f",
             "gridcolor": "white",
             "linecolor": "white",
             "minorgridcolor": "white",
             "startlinecolor": "#2a3f5f"
            },
            "type": "carpet"
           }
          ],
          "choropleth": [
           {
            "colorbar": {
             "outlinewidth": 0,
             "ticks": ""
            },
            "type": "choropleth"
           }
          ],
          "contour": [
           {
            "colorbar": {
             "outlinewidth": 0,
             "ticks": ""
            },
            "colorscale": [
             [
              0,
              "#0d0887"
             ],
             [
              0.1111111111111111,
              "#46039f"
             ],
             [
              0.2222222222222222,
              "#7201a8"
             ],
             [
              0.3333333333333333,
              "#9c179e"
             ],
             [
              0.4444444444444444,
              "#bd3786"
             ],
             [
              0.5555555555555556,
              "#d8576b"
             ],
             [
              0.6666666666666666,
              "#ed7953"
             ],
             [
              0.7777777777777778,
              "#fb9f3a"
             ],
             [
              0.8888888888888888,
              "#fdca26"
             ],
             [
              1,
              "#f0f921"
             ]
            ],
            "type": "contour"
           }
          ],
          "contourcarpet": [
           {
            "colorbar": {
             "outlinewidth": 0,
             "ticks": ""
            },
            "type": "contourcarpet"
           }
          ],
          "heatmap": [
           {
            "colorbar": {
             "outlinewidth": 0,
             "ticks": ""
            },
            "colorscale": [
             [
              0,
              "#0d0887"
             ],
             [
              0.1111111111111111,
              "#46039f"
             ],
             [
              0.2222222222222222,
              "#7201a8"
             ],
             [
              0.3333333333333333,
              "#9c179e"
             ],
             [
              0.4444444444444444,
              "#bd3786"
             ],
             [
              0.5555555555555556,
              "#d8576b"
             ],
             [
              0.6666666666666666,
              "#ed7953"
             ],
             [
              0.7777777777777778,
              "#fb9f3a"
             ],
             [
              0.8888888888888888,
              "#fdca26"
             ],
             [
              1,
              "#f0f921"
             ]
            ],
            "type": "heatmap"
           }
          ],
          "heatmapgl": [
           {
            "colorbar": {
             "outlinewidth": 0,
             "ticks": ""
            },
            "colorscale": [
             [
              0,
              "#0d0887"
             ],
             [
              0.1111111111111111,
              "#46039f"
             ],
             [
              0.2222222222222222,
              "#7201a8"
             ],
             [
              0.3333333333333333,
              "#9c179e"
             ],
             [
              0.4444444444444444,
              "#bd3786"
             ],
             [
              0.5555555555555556,
              "#d8576b"
             ],
             [
              0.6666666666666666,
              "#ed7953"
             ],
             [
              0.7777777777777778,
              "#fb9f3a"
             ],
             [
              0.8888888888888888,
              "#fdca26"
             ],
             [
              1,
              "#f0f921"
             ]
            ],
            "type": "heatmapgl"
           }
          ],
          "histogram": [
           {
            "marker": {
             "pattern": {
              "fillmode": "overlay",
              "size": 10,
              "solidity": 0.2
             }
            },
            "type": "histogram"
           }
          ],
          "histogram2d": [
           {
            "colorbar": {
             "outlinewidth": 0,
             "ticks": ""
            },
            "colorscale": [
             [
              0,
              "#0d0887"
             ],
             [
              0.1111111111111111,
              "#46039f"
             ],
             [
              0.2222222222222222,
              "#7201a8"
             ],
             [
              0.3333333333333333,
              "#9c179e"
             ],
             [
              0.4444444444444444,
              "#bd3786"
             ],
             [
              0.5555555555555556,
              "#d8576b"
             ],
             [
              0.6666666666666666,
              "#ed7953"
             ],
             [
              0.7777777777777778,
              "#fb9f3a"
             ],
             [
              0.8888888888888888,
              "#fdca26"
             ],
             [
              1,
              "#f0f921"
             ]
            ],
            "type": "histogram2d"
           }
          ],
          "histogram2dcontour": [
           {
            "colorbar": {
             "outlinewidth": 0,
             "ticks": ""
            },
            "colorscale": [
             [
              0,
              "#0d0887"
             ],
             [
              0.1111111111111111,
              "#46039f"
             ],
             [
              0.2222222222222222,
              "#7201a8"
             ],
             [
              0.3333333333333333,
              "#9c179e"
             ],
             [
              0.4444444444444444,
              "#bd3786"
             ],
             [
              0.5555555555555556,
              "#d8576b"
             ],
             [
              0.6666666666666666,
              "#ed7953"
             ],
             [
              0.7777777777777778,
              "#fb9f3a"
             ],
             [
              0.8888888888888888,
              "#fdca26"
             ],
             [
              1,
              "#f0f921"
             ]
            ],
            "type": "histogram2dcontour"
           }
          ],
          "mesh3d": [
           {
            "colorbar": {
             "outlinewidth": 0,
             "ticks": ""
            },
            "type": "mesh3d"
           }
          ],
          "parcoords": [
           {
            "line": {
             "colorbar": {
              "outlinewidth": 0,
              "ticks": ""
             }
            },
            "type": "parcoords"
           }
          ],
          "pie": [
           {
            "automargin": true,
            "type": "pie"
           }
          ],
          "scatter": [
           {
            "fillpattern": {
             "fillmode": "overlay",
             "size": 10,
             "solidity": 0.2
            },
            "type": "scatter"
           }
          ],
          "scatter3d": [
           {
            "line": {
             "colorbar": {
              "outlinewidth": 0,
              "ticks": ""
             }
            },
            "marker": {
             "colorbar": {
              "outlinewidth": 0,
              "ticks": ""
             }
            },
            "type": "scatter3d"
           }
          ],
          "scattercarpet": [
           {
            "marker": {
             "colorbar": {
              "outlinewidth": 0,
              "ticks": ""
             }
            },
            "type": "scattercarpet"
           }
          ],
          "scattergeo": [
           {
            "marker": {
             "colorbar": {
              "outlinewidth": 0,
              "ticks": ""
             }
            },
            "type": "scattergeo"
           }
          ],
          "scattergl": [
           {
            "marker": {
             "colorbar": {
              "outlinewidth": 0,
              "ticks": ""
             }
            },
            "type": "scattergl"
           }
          ],
          "scattermapbox": [
           {
            "marker": {
             "colorbar": {
              "outlinewidth": 0,
              "ticks": ""
             }
            },
            "type": "scattermapbox"
           }
          ],
          "scatterpolar": [
           {
            "marker": {
             "colorbar": {
              "outlinewidth": 0,
              "ticks": ""
             }
            },
            "type": "scatterpolar"
           }
          ],
          "scatterpolargl": [
           {
            "marker": {
             "colorbar": {
              "outlinewidth": 0,
              "ticks": ""
             }
            },
            "type": "scatterpolargl"
           }
          ],
          "scatterternary": [
           {
            "marker": {
             "colorbar": {
              "outlinewidth": 0,
              "ticks": ""
             }
            },
            "type": "scatterternary"
           }
          ],
          "surface": [
           {
            "colorbar": {
             "outlinewidth": 0,
             "ticks": ""
            },
            "colorscale": [
             [
              0,
              "#0d0887"
             ],
             [
              0.1111111111111111,
              "#46039f"
             ],
             [
              0.2222222222222222,
              "#7201a8"
             ],
             [
              0.3333333333333333,
              "#9c179e"
             ],
             [
              0.4444444444444444,
              "#bd3786"
             ],
             [
              0.5555555555555556,
              "#d8576b"
             ],
             [
              0.6666666666666666,
              "#ed7953"
             ],
             [
              0.7777777777777778,
              "#fb9f3a"
             ],
             [
              0.8888888888888888,
              "#fdca26"
             ],
             [
              1,
              "#f0f921"
             ]
            ],
            "type": "surface"
           }
          ],
          "table": [
           {
            "cells": {
             "fill": {
              "color": "#EBF0F8"
             },
             "line": {
              "color": "white"
             }
            },
            "header": {
             "fill": {
              "color": "#C8D4E3"
             },
             "line": {
              "color": "white"
             }
            },
            "type": "table"
           }
          ]
         },
         "layout": {
          "annotationdefaults": {
           "arrowcolor": "#2a3f5f",
           "arrowhead": 0,
           "arrowwidth": 1
          },
          "autotypenumbers": "strict",
          "coloraxis": {
           "colorbar": {
            "outlinewidth": 0,
            "ticks": ""
           }
          },
          "colorscale": {
           "diverging": [
            [
             0,
             "#8e0152"
            ],
            [
             0.1,
             "#c51b7d"
            ],
            [
             0.2,
             "#de77ae"
            ],
            [
             0.3,
             "#f1b6da"
            ],
            [
             0.4,
             "#fde0ef"
            ],
            [
             0.5,
             "#f7f7f7"
            ],
            [
             0.6,
             "#e6f5d0"
            ],
            [
             0.7,
             "#b8e186"
            ],
            [
             0.8,
             "#7fbc41"
            ],
            [
             0.9,
             "#4d9221"
            ],
            [
             1,
             "#276419"
            ]
           ],
           "sequential": [
            [
             0,
             "#0d0887"
            ],
            [
             0.1111111111111111,
             "#46039f"
            ],
            [
             0.2222222222222222,
             "#7201a8"
            ],
            [
             0.3333333333333333,
             "#9c179e"
            ],
            [
             0.4444444444444444,
             "#bd3786"
            ],
            [
             0.5555555555555556,
             "#d8576b"
            ],
            [
             0.6666666666666666,
             "#ed7953"
            ],
            [
             0.7777777777777778,
             "#fb9f3a"
            ],
            [
             0.8888888888888888,
             "#fdca26"
            ],
            [
             1,
             "#f0f921"
            ]
           ],
           "sequentialminus": [
            [
             0,
             "#0d0887"
            ],
            [
             0.1111111111111111,
             "#46039f"
            ],
            [
             0.2222222222222222,
             "#7201a8"
            ],
            [
             0.3333333333333333,
             "#9c179e"
            ],
            [
             0.4444444444444444,
             "#bd3786"
            ],
            [
             0.5555555555555556,
             "#d8576b"
            ],
            [
             0.6666666666666666,
             "#ed7953"
            ],
            [
             0.7777777777777778,
             "#fb9f3a"
            ],
            [
             0.8888888888888888,
             "#fdca26"
            ],
            [
             1,
             "#f0f921"
            ]
           ]
          },
          "colorway": [
           "#636efa",
           "#EF553B",
           "#00cc96",
           "#ab63fa",
           "#FFA15A",
           "#19d3f3",
           "#FF6692",
           "#B6E880",
           "#FF97FF",
           "#FECB52"
          ],
          "font": {
           "color": "#2a3f5f"
          },
          "geo": {
           "bgcolor": "white",
           "lakecolor": "white",
           "landcolor": "#E5ECF6",
           "showlakes": true,
           "showland": true,
           "subunitcolor": "white"
          },
          "hoverlabel": {
           "align": "left"
          },
          "hovermode": "closest",
          "mapbox": {
           "style": "light"
          },
          "paper_bgcolor": "white",
          "plot_bgcolor": "#E5ECF6",
          "polar": {
           "angularaxis": {
            "gridcolor": "white",
            "linecolor": "white",
            "ticks": ""
           },
           "bgcolor": "#E5ECF6",
           "radialaxis": {
            "gridcolor": "white",
            "linecolor": "white",
            "ticks": ""
           }
          },
          "scene": {
           "xaxis": {
            "backgroundcolor": "#E5ECF6",
            "gridcolor": "white",
            "gridwidth": 2,
            "linecolor": "white",
            "showbackground": true,
            "ticks": "",
            "zerolinecolor": "white"
           },
           "yaxis": {
            "backgroundcolor": "#E5ECF6",
            "gridcolor": "white",
            "gridwidth": 2,
            "linecolor": "white",
            "showbackground": true,
            "ticks": "",
            "zerolinecolor": "white"
           },
           "zaxis": {
            "backgroundcolor": "#E5ECF6",
            "gridcolor": "white",
            "gridwidth": 2,
            "linecolor": "white",
            "showbackground": true,
            "ticks": "",
            "zerolinecolor": "white"
           }
          },
          "shapedefaults": {
           "line": {
            "color": "#2a3f5f"
           }
          },
          "ternary": {
           "aaxis": {
            "gridcolor": "white",
            "linecolor": "white",
            "ticks": ""
           },
           "baxis": {
            "gridcolor": "white",
            "linecolor": "white",
            "ticks": ""
           },
           "bgcolor": "#E5ECF6",
           "caxis": {
            "gridcolor": "white",
            "linecolor": "white",
            "ticks": ""
           }
          },
          "title": {
           "x": 0.05
          },
          "xaxis": {
           "automargin": true,
           "gridcolor": "white",
           "linecolor": "white",
           "ticks": "",
           "title": {
            "standoff": 15
           },
           "zerolinecolor": "white",
           "zerolinewidth": 2
          },
          "yaxis": {
           "automargin": true,
           "gridcolor": "white",
           "linecolor": "white",
           "ticks": "",
           "title": {
            "standoff": 15
           },
           "zerolinecolor": "white",
           "zerolinewidth": 2
          }
         }
        },
        "title": {
         "text": "Gantt Schedule for Instance 221 - with not predecessor tasks identifyed as different color texture"
        },
        "xaxis": {
         "anchor": "y",
         "domain": [
          0,
          1
         ],
         "type": "date"
        },
        "yaxis": {
         "anchor": "x",
         "autorange": "reversed",
         "domain": [
          0,
          1
         ],
         "title": {
          "text": "Resource"
         }
        }
       }
      }
     },
     "metadata": {},
     "output_type": "display_data"
    }
   ],
   "source": [
    "solutions_filepath = \"../data/input/HRTInstances/solutions\"\n",
    "instances_path = \"../data/input/HRTInstances\"\n",
    "\n",
    "instance = read_input_files.read_file(\n",
    "    os.path.join(instances_path, f\"Instance_{instance_number}.txt\")\n",
    ")\n",
    "\n",
    "df = read_solutions_files.get_solution_from_instance(\n",
    "    solutions_filepath, instances_path, instance_number\n",
    ").sort_values(\"Resource\")\n",
    "\n",
    "# gantt.plot_gantt_chart(df, instance_number)\n",
    "gantt.plot_gantt_chart_with_predecessor_flag(\n",
    "    prepare_resources.add_predecessor_flag(df, instance), instance_number\n",
    ")"
   ]
  },
  {
   "cell_type": "code",
   "execution_count": 114,
   "metadata": {},
   "outputs": [
    {
     "data": {
      "application/vnd.plotly.v1+json": {
       "config": {
        "plotlyServerURL": "https://plot.ly"
       },
       "data": [
        {
         "alignmentgroup": "True",
         "base": [
          "2023-01-03T07:00:00",
          "2023-03-08T16:00:00",
          "2023-03-08T21:00:00",
          "2023-03-15T12:00:00",
          "2023-03-17T07:00:00",
          "2023-03-23T00:00:00",
          "2023-03-23T08:00:00",
          "2023-03-26T10:00:00",
          "2023-03-29T13:00:00",
          "2023-01-06T14:00:00",
          "2023-01-09T21:00:00",
          "2023-01-13T18:00:00",
          "2023-01-17T15:00:00",
          "2023-01-20T20:00:00",
          "2023-01-25T02:00:00",
          "2023-01-29T06:00:00",
          "2023-01-30T23:00:00",
          "2023-02-01T16:00:00",
          "2023-02-05T08:00:00",
          "2023-01-20T22:00:00",
          "2023-02-11T02:00:00",
          "2023-02-09T00:00:00",
          "2023-02-26T12:00:00",
          "2023-02-23T02:00:00",
          "2023-02-21T08:00:00",
          "2023-02-17T03:00:00",
          "2023-02-14T16:00:00",
          "2023-02-13T22:00:00",
          "2023-02-13T04:00:00",
          "2023-02-19T14:00:00",
          "2023-03-03T17:00:00",
          "2023-03-09T16:00:00",
          "2023-03-24T06:00:00",
          "2023-03-01T17:00:00",
          "2023-02-17T05:00:00",
          "2023-02-17T03:00:00",
          "2023-02-04T15:00:00",
          "2023-01-29T04:00:00",
          "2023-01-25T02:00:00",
          "2023-01-17T01:00:00",
          "2023-01-16T23:00:00",
          "2023-01-13T18:00:00",
          "2023-01-01T00:00:00",
          "2023-03-12T03:00:00",
          "2023-03-26T17:00:00",
          "2023-03-06T04:00:00",
          "2023-03-04T04:00:00",
          "2023-02-08T19:00:00",
          "2023-02-19T16:00:00",
          "2023-02-19T14:00:00",
          "2023-02-02T08:00:00",
          "2023-01-29T06:00:00",
          "2023-01-20T22:00:00",
          "2023-01-20T20:00:00",
          "2023-01-17T15:00:00",
          "2023-01-01T00:00:00"
         ],
         "customdata": [
          [
           2
          ],
          [
           34
          ],
          [
           84
          ],
          [
           37
          ],
          [
           87
          ],
          [
           41
          ],
          [
           91
          ],
          [
           43
          ],
          [
           93
          ],
          [
           52
          ],
          [
           3
          ],
          [
           53
          ],
          [
           5
          ],
          [
           55
          ],
          [
           56
          ],
          [
           9
          ],
          [
           59
          ],
          [
           12
          ],
          [
           62
          ],
          [
           6
          ],
          [
           63
          ],
          [
           13
          ],
          [
           75
          ],
          [
           25
          ],
          [
           72
          ],
          [
           66
          ],
          [
           16
          ],
          [
           65
          ],
          [
           15
          ],
          [
           22
          ],
          [
           24
          ],
          [
           28
          ],
          [
           38
          ],
          [
           23
          ],
          [
           18
          ],
          [
           17
          ],
          [
           14
          ],
          [
           11
          ],
          [
           10
          ],
          [
           8
          ],
          [
           7
          ],
          [
           4
          ],
          [
           1
          ],
          [
           78
          ],
          [
           88
          ],
          [
           74
          ],
          [
           73
          ],
          [
           64
          ],
          [
           68
          ],
          [
           67
          ],
          [
           61
          ],
          [
           60
          ],
          [
           58
          ],
          [
           57
          ],
          [
           54
          ],
          [
           51
          ]
         ],
         "hovertemplate": "has_successors=1<br>Start=%{base}<br>Finish=%{x}<br>Resource=%{y}<br>Task=%{customdata[0]}<br>Job=%{marker.color}<extra></extra>",
         "legendgroup": "1",
         "marker": {
          "color": [
           1,
           1,
           2,
           1,
           2,
           1,
           2,
           1,
           2,
           2,
           1,
           2,
           1,
           2,
           2,
           1,
           2,
           1,
           2,
           1,
           2,
           1,
           2,
           1,
           2,
           2,
           1,
           2,
           1,
           1,
           1,
           1,
           1,
           1,
           1,
           1,
           1,
           1,
           1,
           1,
           1,
           1,
           1,
           2,
           2,
           2,
           2,
           2,
           2,
           2,
           2,
           2,
           2,
           2,
           2,
           2
          ],
          "coloraxis": "coloraxis",
          "pattern": {
           "shape": ""
          }
         },
         "name": "1",
         "offsetgroup": "1",
         "orientation": "h",
         "showlegend": true,
         "text": [
          2,
          34,
          84,
          37,
          87,
          41,
          91,
          43,
          93,
          52,
          3,
          53,
          5,
          55,
          56,
          9,
          59,
          12,
          62,
          6,
          63,
          13,
          75,
          25,
          72,
          66,
          16,
          65,
          15,
          22,
          24,
          28,
          38,
          23,
          18,
          17,
          14,
          11,
          10,
          8,
          7,
          4,
          1,
          78,
          88,
          74,
          73,
          64,
          68,
          67,
          61,
          60,
          58,
          57,
          54,
          51
         ],
         "textposition": "auto",
         "type": "bar",
         "x": [
          280800000,
          14400000,
          14400000,
          151200000,
          151200000,
          25200000,
          25200000,
          266400000,
          266400000,
          280800000,
          331200000,
          331200000,
          3600000,
          3600000,
          356400000,
          144000000,
          144000000,
          313200000,
          313200000,
          356400000,
          176400000,
          176400000,
          291600000,
          291600000,
          147600000,
          208800000,
          208800000,
          61200000,
          61200000,
          147600000,
          403200000,
          100800000,
          133200000,
          169200000,
          36000000,
          3600000,
          626400000,
          554400000,
          349200000,
          122400000,
          3600000,
          273600000,
          194400000,
          100800000,
          133200000,
          403200000,
          169200000,
          626400000,
          36000000,
          3600000,
          554400000,
          349200000,
          122400000,
          3600000,
          273600000,
          194400000
         ],
         "xaxis": "x",
         "y": [
          "0",
          "0",
          "0",
          "0",
          "0",
          "0",
          "0",
          "0",
          "0",
          "0",
          "0",
          "0",
          "0",
          "0",
          "0",
          "0",
          "0",
          "0",
          "0",
          "0",
          "0",
          "0",
          "0",
          "0",
          "0",
          "0",
          "0",
          "0",
          "0",
          "0",
          "1",
          "1",
          "1",
          "1",
          "1",
          "1",
          "1",
          "1",
          "1",
          "1",
          "1",
          "1",
          "1",
          "2",
          "2",
          "2",
          "2",
          "2",
          "2",
          "2",
          "2",
          "2",
          "2",
          "2",
          "2",
          "2"
         ],
         "yaxis": "y"
        },
        {
         "alignmentgroup": "True",
         "base": [
          "2023-03-07T19:00:00",
          "2023-03-09T02:00:00",
          "2023-03-12T07:00:00",
          "2023-03-19T02:00:00",
          "2023-03-21T01:00:00",
          "2023-03-06T22:00:00",
          "2023-03-25T01:00:00",
          "2023-04-01T16:00:00",
          "2023-04-03T03:00:00",
          "2023-04-04T14:00:00",
          "2023-04-08T00:00:00",
          "2023-04-11T10:00:00",
          "2023-04-11T21:00:00",
          "2023-04-12T08:00:00",
          "2023-03-23T16:00:00",
          "2023-03-04T23:00:00",
          "2023-04-16T06:00:00",
          "2023-03-02T11:00:00",
          "2023-03-01T22:00:00",
          "2023-03-03T00:00:00",
          "2023-03-08T10:00:00",
          "2023-03-10T21:00:00",
          "2023-03-12T17:00:00",
          "2023-03-18T22:00:00",
          "2023-03-25T20:00:00",
          "2023-03-30T00:00:00",
          "2023-03-31T15:00:00",
          "2023-03-15T19:00:00",
          "2023-04-01T23:00:00",
          "2023-02-23T11:00:00",
          "2023-02-17T16:00:00",
          "2023-02-25T04:00:00",
          "2023-03-10T21:00:00",
          "2023-03-13T08:00:00",
          "2023-03-15T04:00:00",
          "2023-04-01T11:00:00",
          "2023-03-21T09:00:00",
          "2023-03-28T07:00:00",
          "2023-03-18T06:00:00",
          "2023-02-25T22:00:00",
          "2023-02-20T03:00:00",
          "2023-04-03T02:00:00",
          "2023-02-27T15:00:00",
          "2023-04-04T10:00:00"
         ],
         "customdata": [
          [
           83
          ],
          [
           35
          ],
          [
           85
          ],
          [
           39
          ],
          [
           89
          ],
          [
           33
          ],
          [
           92
          ],
          [
           45
          ],
          [
           95
          ],
          [
           46
          ],
          [
           96
          ],
          [
           47
          ],
          [
           97
          ],
          [
           50
          ],
          [
           42
          ],
          [
           82
          ],
          [
           100
          ],
          [
           77
          ],
          [
           27
          ],
          [
           32
          ],
          [
           26
          ],
          [
           29
          ],
          [
           30
          ],
          [
           36
          ],
          [
           40
          ],
          [
           44
          ],
          [
           48
          ],
          [
           31
          ],
          [
           49
          ],
          [
           20
          ],
          [
           19
          ],
          [
           21
          ],
          [
           76
          ],
          [
           79
          ],
          [
           80
          ],
          [
           94
          ],
          [
           86
          ],
          [
           90
          ],
          [
           81
          ],
          [
           70
          ],
          [
           69
          ],
          [
           98
          ],
          [
           71
          ],
          [
           99
          ]
         ],
         "hovertemplate": "has_successors=0<br>Start=%{base}<br>Finish=%{x}<br>Resource=%{y}<br>Task=%{customdata[0]}<br>Job=%{marker.color}<extra></extra>",
         "legendgroup": "0",
         "marker": {
          "color": [
           2,
           1,
           2,
           1,
           2,
           1,
           2,
           1,
           2,
           1,
           2,
           1,
           2,
           1,
           1,
           2,
           2,
           2,
           1,
           1,
           1,
           1,
           1,
           1,
           1,
           1,
           1,
           1,
           1,
           1,
           1,
           1,
           2,
           2,
           2,
           2,
           2,
           2,
           2,
           2,
           2,
           2,
           2,
           2
          ],
          "coloraxis": "coloraxis",
          "pattern": {
           "shape": "/"
          }
         },
         "name": "0",
         "offsetgroup": "0",
         "orientation": "h",
         "showlegend": true,
         "text": [
          83,
          35,
          85,
          39,
          89,
          33,
          92,
          45,
          95,
          46,
          96,
          47,
          97,
          50,
          42,
          82,
          100,
          77,
          27,
          32,
          26,
          29,
          30,
          36,
          40,
          44,
          48,
          31,
          49,
          20,
          19,
          21,
          76,
          79,
          80,
          94,
          86,
          90,
          81,
          70,
          69,
          98,
          71,
          99
         ],
         "textposition": "auto",
         "type": "bar",
         "x": [
          72000000,
          273600000,
          273600000,
          165600000,
          165600000,
          72000000,
          115200000,
          122400000,
          122400000,
          291600000,
          291600000,
          36000000,
          36000000,
          334800000,
          115200000,
          165600000,
          334800000,
          43200000,
          43200000,
          165600000,
          104400000,
          154800000,
          262800000,
          457200000,
          356400000,
          136800000,
          111600000,
          266400000,
          46800000,
          144000000,
          496800000,
          388800000,
          104400000,
          154800000,
          262800000,
          136800000,
          457200000,
          356400000,
          266400000,
          144000000,
          496800000,
          111600000,
          388800000,
          46800000
         ],
         "xaxis": "x",
         "y": [
          "0",
          "0",
          "0",
          "0",
          "0",
          "0",
          "0",
          "0",
          "0",
          "0",
          "0",
          "0",
          "0",
          "0",
          "0",
          "0",
          "0",
          "0",
          "0",
          "0",
          "1",
          "1",
          "1",
          "1",
          "1",
          "1",
          "1",
          "1",
          "1",
          "1",
          "1",
          "1",
          "2",
          "2",
          "2",
          "2",
          "2",
          "2",
          "2",
          "2",
          "2",
          "2",
          "2",
          "2"
         ],
         "yaxis": "y"
        }
       ],
       "layout": {
        "barmode": "overlay",
        "coloraxis": {
         "colorbar": {
          "title": {
           "text": "Job"
          }
         },
         "colorscale": [
          [
           0,
           "rgb(255,255,217)"
          ],
          [
           0.125,
           "rgb(237,248,177)"
          ],
          [
           0.25,
           "rgb(199,233,180)"
          ],
          [
           0.375,
           "rgb(127,205,187)"
          ],
          [
           0.5,
           "rgb(65,182,196)"
          ],
          [
           0.625,
           "rgb(29,145,192)"
          ],
          [
           0.75,
           "rgb(34,94,168)"
          ],
          [
           0.875,
           "rgb(37,52,148)"
          ],
          [
           1,
           "rgb(8,29,88)"
          ]
         ]
        },
        "legend": {
         "title": {
          "text": "has_successors"
         },
         "tracegroupgap": 0
        },
        "template": {
         "data": {
          "bar": [
           {
            "error_x": {
             "color": "#2a3f5f"
            },
            "error_y": {
             "color": "#2a3f5f"
            },
            "marker": {
             "line": {
              "color": "#E5ECF6",
              "width": 0.5
             },
             "pattern": {
              "fillmode": "overlay",
              "size": 10,
              "solidity": 0.2
             }
            },
            "type": "bar"
           }
          ],
          "barpolar": [
           {
            "marker": {
             "line": {
              "color": "#E5ECF6",
              "width": 0.5
             },
             "pattern": {
              "fillmode": "overlay",
              "size": 10,
              "solidity": 0.2
             }
            },
            "type": "barpolar"
           }
          ],
          "carpet": [
           {
            "aaxis": {
             "endlinecolor": "#2a3f5f",
             "gridcolor": "white",
             "linecolor": "white",
             "minorgridcolor": "white",
             "startlinecolor": "#2a3f5f"
            },
            "baxis": {
             "endlinecolor": "#2a3f5f",
             "gridcolor": "white",
             "linecolor": "white",
             "minorgridcolor": "white",
             "startlinecolor": "#2a3f5f"
            },
            "type": "carpet"
           }
          ],
          "choropleth": [
           {
            "colorbar": {
             "outlinewidth": 0,
             "ticks": ""
            },
            "type": "choropleth"
           }
          ],
          "contour": [
           {
            "colorbar": {
             "outlinewidth": 0,
             "ticks": ""
            },
            "colorscale": [
             [
              0,
              "#0d0887"
             ],
             [
              0.1111111111111111,
              "#46039f"
             ],
             [
              0.2222222222222222,
              "#7201a8"
             ],
             [
              0.3333333333333333,
              "#9c179e"
             ],
             [
              0.4444444444444444,
              "#bd3786"
             ],
             [
              0.5555555555555556,
              "#d8576b"
             ],
             [
              0.6666666666666666,
              "#ed7953"
             ],
             [
              0.7777777777777778,
              "#fb9f3a"
             ],
             [
              0.8888888888888888,
              "#fdca26"
             ],
             [
              1,
              "#f0f921"
             ]
            ],
            "type": "contour"
           }
          ],
          "contourcarpet": [
           {
            "colorbar": {
             "outlinewidth": 0,
             "ticks": ""
            },
            "type": "contourcarpet"
           }
          ],
          "heatmap": [
           {
            "colorbar": {
             "outlinewidth": 0,
             "ticks": ""
            },
            "colorscale": [
             [
              0,
              "#0d0887"
             ],
             [
              0.1111111111111111,
              "#46039f"
             ],
             [
              0.2222222222222222,
              "#7201a8"
             ],
             [
              0.3333333333333333,
              "#9c179e"
             ],
             [
              0.4444444444444444,
              "#bd3786"
             ],
             [
              0.5555555555555556,
              "#d8576b"
             ],
             [
              0.6666666666666666,
              "#ed7953"
             ],
             [
              0.7777777777777778,
              "#fb9f3a"
             ],
             [
              0.8888888888888888,
              "#fdca26"
             ],
             [
              1,
              "#f0f921"
             ]
            ],
            "type": "heatmap"
           }
          ],
          "heatmapgl": [
           {
            "colorbar": {
             "outlinewidth": 0,
             "ticks": ""
            },
            "colorscale": [
             [
              0,
              "#0d0887"
             ],
             [
              0.1111111111111111,
              "#46039f"
             ],
             [
              0.2222222222222222,
              "#7201a8"
             ],
             [
              0.3333333333333333,
              "#9c179e"
             ],
             [
              0.4444444444444444,
              "#bd3786"
             ],
             [
              0.5555555555555556,
              "#d8576b"
             ],
             [
              0.6666666666666666,
              "#ed7953"
             ],
             [
              0.7777777777777778,
              "#fb9f3a"
             ],
             [
              0.8888888888888888,
              "#fdca26"
             ],
             [
              1,
              "#f0f921"
             ]
            ],
            "type": "heatmapgl"
           }
          ],
          "histogram": [
           {
            "marker": {
             "pattern": {
              "fillmode": "overlay",
              "size": 10,
              "solidity": 0.2
             }
            },
            "type": "histogram"
           }
          ],
          "histogram2d": [
           {
            "colorbar": {
             "outlinewidth": 0,
             "ticks": ""
            },
            "colorscale": [
             [
              0,
              "#0d0887"
             ],
             [
              0.1111111111111111,
              "#46039f"
             ],
             [
              0.2222222222222222,
              "#7201a8"
             ],
             [
              0.3333333333333333,
              "#9c179e"
             ],
             [
              0.4444444444444444,
              "#bd3786"
             ],
             [
              0.5555555555555556,
              "#d8576b"
             ],
             [
              0.6666666666666666,
              "#ed7953"
             ],
             [
              0.7777777777777778,
              "#fb9f3a"
             ],
             [
              0.8888888888888888,
              "#fdca26"
             ],
             [
              1,
              "#f0f921"
             ]
            ],
            "type": "histogram2d"
           }
          ],
          "histogram2dcontour": [
           {
            "colorbar": {
             "outlinewidth": 0,
             "ticks": ""
            },
            "colorscale": [
             [
              0,
              "#0d0887"
             ],
             [
              0.1111111111111111,
              "#46039f"
             ],
             [
              0.2222222222222222,
              "#7201a8"
             ],
             [
              0.3333333333333333,
              "#9c179e"
             ],
             [
              0.4444444444444444,
              "#bd3786"
             ],
             [
              0.5555555555555556,
              "#d8576b"
             ],
             [
              0.6666666666666666,
              "#ed7953"
             ],
             [
              0.7777777777777778,
              "#fb9f3a"
             ],
             [
              0.8888888888888888,
              "#fdca26"
             ],
             [
              1,
              "#f0f921"
             ]
            ],
            "type": "histogram2dcontour"
           }
          ],
          "mesh3d": [
           {
            "colorbar": {
             "outlinewidth": 0,
             "ticks": ""
            },
            "type": "mesh3d"
           }
          ],
          "parcoords": [
           {
            "line": {
             "colorbar": {
              "outlinewidth": 0,
              "ticks": ""
             }
            },
            "type": "parcoords"
           }
          ],
          "pie": [
           {
            "automargin": true,
            "type": "pie"
           }
          ],
          "scatter": [
           {
            "fillpattern": {
             "fillmode": "overlay",
             "size": 10,
             "solidity": 0.2
            },
            "type": "scatter"
           }
          ],
          "scatter3d": [
           {
            "line": {
             "colorbar": {
              "outlinewidth": 0,
              "ticks": ""
             }
            },
            "marker": {
             "colorbar": {
              "outlinewidth": 0,
              "ticks": ""
             }
            },
            "type": "scatter3d"
           }
          ],
          "scattercarpet": [
           {
            "marker": {
             "colorbar": {
              "outlinewidth": 0,
              "ticks": ""
             }
            },
            "type": "scattercarpet"
           }
          ],
          "scattergeo": [
           {
            "marker": {
             "colorbar": {
              "outlinewidth": 0,
              "ticks": ""
             }
            },
            "type": "scattergeo"
           }
          ],
          "scattergl": [
           {
            "marker": {
             "colorbar": {
              "outlinewidth": 0,
              "ticks": ""
             }
            },
            "type": "scattergl"
           }
          ],
          "scattermapbox": [
           {
            "marker": {
             "colorbar": {
              "outlinewidth": 0,
              "ticks": ""
             }
            },
            "type": "scattermapbox"
           }
          ],
          "scatterpolar": [
           {
            "marker": {
             "colorbar": {
              "outlinewidth": 0,
              "ticks": ""
             }
            },
            "type": "scatterpolar"
           }
          ],
          "scatterpolargl": [
           {
            "marker": {
             "colorbar": {
              "outlinewidth": 0,
              "ticks": ""
             }
            },
            "type": "scatterpolargl"
           }
          ],
          "scatterternary": [
           {
            "marker": {
             "colorbar": {
              "outlinewidth": 0,
              "ticks": ""
             }
            },
            "type": "scatterternary"
           }
          ],
          "surface": [
           {
            "colorbar": {
             "outlinewidth": 0,
             "ticks": ""
            },
            "colorscale": [
             [
              0,
              "#0d0887"
             ],
             [
              0.1111111111111111,
              "#46039f"
             ],
             [
              0.2222222222222222,
              "#7201a8"
             ],
             [
              0.3333333333333333,
              "#9c179e"
             ],
             [
              0.4444444444444444,
              "#bd3786"
             ],
             [
              0.5555555555555556,
              "#d8576b"
             ],
             [
              0.6666666666666666,
              "#ed7953"
             ],
             [
              0.7777777777777778,
              "#fb9f3a"
             ],
             [
              0.8888888888888888,
              "#fdca26"
             ],
             [
              1,
              "#f0f921"
             ]
            ],
            "type": "surface"
           }
          ],
          "table": [
           {
            "cells": {
             "fill": {
              "color": "#EBF0F8"
             },
             "line": {
              "color": "white"
             }
            },
            "header": {
             "fill": {
              "color": "#C8D4E3"
             },
             "line": {
              "color": "white"
             }
            },
            "type": "table"
           }
          ]
         },
         "layout": {
          "annotationdefaults": {
           "arrowcolor": "#2a3f5f",
           "arrowhead": 0,
           "arrowwidth": 1
          },
          "autotypenumbers": "strict",
          "coloraxis": {
           "colorbar": {
            "outlinewidth": 0,
            "ticks": ""
           }
          },
          "colorscale": {
           "diverging": [
            [
             0,
             "#8e0152"
            ],
            [
             0.1,
             "#c51b7d"
            ],
            [
             0.2,
             "#de77ae"
            ],
            [
             0.3,
             "#f1b6da"
            ],
            [
             0.4,
             "#fde0ef"
            ],
            [
             0.5,
             "#f7f7f7"
            ],
            [
             0.6,
             "#e6f5d0"
            ],
            [
             0.7,
             "#b8e186"
            ],
            [
             0.8,
             "#7fbc41"
            ],
            [
             0.9,
             "#4d9221"
            ],
            [
             1,
             "#276419"
            ]
           ],
           "sequential": [
            [
             0,
             "#0d0887"
            ],
            [
             0.1111111111111111,
             "#46039f"
            ],
            [
             0.2222222222222222,
             "#7201a8"
            ],
            [
             0.3333333333333333,
             "#9c179e"
            ],
            [
             0.4444444444444444,
             "#bd3786"
            ],
            [
             0.5555555555555556,
             "#d8576b"
            ],
            [
             0.6666666666666666,
             "#ed7953"
            ],
            [
             0.7777777777777778,
             "#fb9f3a"
            ],
            [
             0.8888888888888888,
             "#fdca26"
            ],
            [
             1,
             "#f0f921"
            ]
           ],
           "sequentialminus": [
            [
             0,
             "#0d0887"
            ],
            [
             0.1111111111111111,
             "#46039f"
            ],
            [
             0.2222222222222222,
             "#7201a8"
            ],
            [
             0.3333333333333333,
             "#9c179e"
            ],
            [
             0.4444444444444444,
             "#bd3786"
            ],
            [
             0.5555555555555556,
             "#d8576b"
            ],
            [
             0.6666666666666666,
             "#ed7953"
            ],
            [
             0.7777777777777778,
             "#fb9f3a"
            ],
            [
             0.8888888888888888,
             "#fdca26"
            ],
            [
             1,
             "#f0f921"
            ]
           ]
          },
          "colorway": [
           "#636efa",
           "#EF553B",
           "#00cc96",
           "#ab63fa",
           "#FFA15A",
           "#19d3f3",
           "#FF6692",
           "#B6E880",
           "#FF97FF",
           "#FECB52"
          ],
          "font": {
           "color": "#2a3f5f"
          },
          "geo": {
           "bgcolor": "white",
           "lakecolor": "white",
           "landcolor": "#E5ECF6",
           "showlakes": true,
           "showland": true,
           "subunitcolor": "white"
          },
          "hoverlabel": {
           "align": "left"
          },
          "hovermode": "closest",
          "mapbox": {
           "style": "light"
          },
          "paper_bgcolor": "white",
          "plot_bgcolor": "#E5ECF6",
          "polar": {
           "angularaxis": {
            "gridcolor": "white",
            "linecolor": "white",
            "ticks": ""
           },
           "bgcolor": "#E5ECF6",
           "radialaxis": {
            "gridcolor": "white",
            "linecolor": "white",
            "ticks": ""
           }
          },
          "scene": {
           "xaxis": {
            "backgroundcolor": "#E5ECF6",
            "gridcolor": "white",
            "gridwidth": 2,
            "linecolor": "white",
            "showbackground": true,
            "ticks": "",
            "zerolinecolor": "white"
           },
           "yaxis": {
            "backgroundcolor": "#E5ECF6",
            "gridcolor": "white",
            "gridwidth": 2,
            "linecolor": "white",
            "showbackground": true,
            "ticks": "",
            "zerolinecolor": "white"
           },
           "zaxis": {
            "backgroundcolor": "#E5ECF6",
            "gridcolor": "white",
            "gridwidth": 2,
            "linecolor": "white",
            "showbackground": true,
            "ticks": "",
            "zerolinecolor": "white"
           }
          },
          "shapedefaults": {
           "line": {
            "color": "#2a3f5f"
           }
          },
          "ternary": {
           "aaxis": {
            "gridcolor": "white",
            "linecolor": "white",
            "ticks": ""
           },
           "baxis": {
            "gridcolor": "white",
            "linecolor": "white",
            "ticks": ""
           },
           "bgcolor": "#E5ECF6",
           "caxis": {
            "gridcolor": "white",
            "linecolor": "white",
            "ticks": ""
           }
          },
          "title": {
           "x": 0.05
          },
          "xaxis": {
           "automargin": true,
           "gridcolor": "white",
           "linecolor": "white",
           "ticks": "",
           "title": {
            "standoff": 15
           },
           "zerolinecolor": "white",
           "zerolinewidth": 2
          },
          "yaxis": {
           "automargin": true,
           "gridcolor": "white",
           "linecolor": "white",
           "ticks": "",
           "title": {
            "standoff": 15
           },
           "zerolinecolor": "white",
           "zerolinewidth": 2
          }
         }
        },
        "title": {
         "text": "Gantt Schedule for Instance 221 - with not predecessor tasks identifyed as different color texture"
        },
        "xaxis": {
         "anchor": "y",
         "domain": [
          0,
          1
         ],
         "type": "date"
        },
        "yaxis": {
         "anchor": "x",
         "autorange": "reversed",
         "domain": [
          0,
          1
         ],
         "title": {
          "text": "Resource"
         }
        }
       }
      }
     },
     "metadata": {},
     "output_type": "display_data"
    }
   ],
   "source": [
    "solutions_filepath = \"../data/solutions/MMTSP-SAC_swap/\"\n",
    "instances_path = \"../data/input/HRTInstances\"\n",
    "\n",
    "instance = read_input_files.read_file(\n",
    "    os.path.join(instances_path, f\"Instance_{instance_number}.txt\")\n",
    ")\n",
    "\n",
    "df = read_solutions_files.get_solution_from_instance(\n",
    "    solutions_filepath, instances_path, instance_number\n",
    ").sort_values(\"Resource\")\n",
    "# gantt.plot_gantt_chart(df, instance_number)\n",
    "gantt.plot_gantt_chart_with_predecessor_flag(\n",
    "    prepare_resources.add_predecessor_flag(df, instance), instance_number\n",
    ")"
   ]
  },
  {
   "attachments": {},
   "cell_type": "markdown",
   "metadata": {},
   "source": [
    "# See teams"
   ]
  },
  {
   "cell_type": "code",
   "execution_count": 217,
   "metadata": {},
   "outputs": [
    {
     "data": {
      "application/vnd.plotly.v1+json": {
       "config": {
        "plotlyServerURL": "https://plot.ly"
       },
       "data": [
        {
         "alignmentgroup": "True",
         "base": [
          "2023-02-04T03:00:00",
          "2023-01-01T00:00:00",
          "2023-01-02T09:00:00",
          "2023-01-03T18:00:00",
          "2023-01-05T06:00:00",
          "2023-01-06T18:00:00",
          "2023-01-09T03:00:00",
          "2023-01-11T12:00:00",
          "2023-01-13T07:00:00",
          "2023-01-16T20:00:00",
          "2023-01-18T14:00:00",
          "2023-01-20T00:00:00",
          "2023-01-21T10:00:00",
          "2023-01-22T13:00:00",
          "2023-01-23T16:00:00",
          "2023-01-27T07:00:00",
          "2023-01-15T02:00:00",
          "2023-01-30T22:00:00",
          "2023-02-04T09:00:00",
          "2023-02-06T08:00:00",
          "2023-02-01T22:00:00",
          "2023-01-30T03:00:00",
          "2023-01-30T11:00:00",
          "2023-01-06T10:00:00",
          "2023-01-10T11:00:00",
          "2023-01-14T10:00:00",
          "2023-01-02T09:00:00",
          "2023-01-21T19:00:00",
          "2023-01-25T05:00:00",
          "2023-01-27T12:00:00",
          "2023-01-29T19:00:00",
          "2023-01-18T09:00:00",
          "2023-01-22T13:00:00",
          "2023-01-16T19:00:00",
          "2023-01-11T08:00:00",
          "2023-01-09T03:00:00",
          "2023-01-23T16:00:00",
          "2023-01-19T04:00:00",
          "2023-01-13T17:00:00",
          "2023-01-11T12:00:00"
         ],
         "customdata": [
          [
           35
          ],
          [
           1
          ],
          [
           21
          ],
          [
           2
          ],
          [
           22
          ],
          [
           4
          ],
          [
           24
          ],
          [
           5
          ],
          [
           25
          ],
          [
           32
          ],
          [
           13
          ],
          [
           33
          ],
          [
           18
          ],
          [
           38
          ],
          [
           17
          ],
          [
           37
          ],
          [
           12
          ],
          [
           15
          ],
          [
           9
          ],
          [
           29
          ],
          [
           39
          ],
          [
           26
          ],
          [
           19
          ],
          [
           23
          ],
          [
           8
          ],
          [
           28
          ],
          [
           3
          ],
          [
           36
          ],
          [
           11
          ],
          [
           31
          ],
          [
           6
          ],
          [
           16
          ],
          [
           20
          ],
          [
           14
          ],
          [
           7
          ],
          [
           10
          ],
          [
           40
          ],
          [
           34
          ],
          [
           27
          ],
          [
           30
          ]
         ],
         "hovertemplate": "is_team=0<br>Start=%{base}<br>Finish=%{x}<br>Resource=%{y}<br>Task=%{customdata[0]}<br>Job=%{marker.color}<extra></extra>",
         "legendgroup": "0",
         "marker": {
          "color": [
           2,
           1,
           2,
           1,
           2,
           1,
           2,
           1,
           2,
           2,
           1,
           2,
           1,
           2,
           1,
           2,
           1,
           1,
           1,
           2,
           2,
           2,
           1,
           2,
           1,
           2,
           1,
           2,
           1,
           2,
           1,
           1,
           1,
           1,
           1,
           1,
           2,
           2,
           2,
           2
          ],
          "coloraxis": "coloraxis",
          "pattern": {
           "shape": ""
          }
         },
         "name": "0",
         "offsetgroup": "0",
         "orientation": "h",
         "showlegend": true,
         "text": [
          35,
          1,
          21,
          2,
          22,
          4,
          24,
          5,
          25,
          32,
          13,
          33,
          18,
          38,
          17,
          37,
          12,
          15,
          9,
          29,
          39,
          26,
          19,
          23,
          8,
          28,
          3,
          36,
          11,
          31,
          6,
          16,
          20,
          14,
          7,
          10,
          40,
          34,
          27,
          30
         ],
         "textposition": "auto",
         "type": "bar",
         "x": [
          360000000,
          115200000,
          115200000,
          126000000,
          126000000,
          201600000,
          201600000,
          151200000,
          151200000,
          147600000,
          118800000,
          118800000,
          93600000,
          93600000,
          309600000,
          309600000,
          147600000,
          360000000,
          165600000,
          165600000,
          208800000,
          25200000,
          208800000,
          345600000,
          338400000,
          338400000,
          345600000,
          291600000,
          194400000,
          194400000,
          25200000,
          291600000,
          18000000,
          338400000,
          468000000,
          187200000,
          18000000,
          338400000,
          468000000,
          187200000
         ],
         "xaxis": "x",
         "y": [
          "0",
          "0",
          "0",
          "0",
          "0",
          "0",
          "0",
          "0",
          "0",
          "0",
          "0",
          "0",
          "0",
          "0",
          "0",
          "0",
          "0",
          "0",
          "1",
          "1",
          "1",
          "1",
          "1",
          "1",
          "1",
          "1",
          "1",
          "1",
          "1",
          "1",
          "1",
          "1",
          "2",
          "2",
          "2",
          "2",
          "3",
          "3",
          "3",
          "3"
         ],
         "yaxis": "y"
        }
       ],
       "layout": {
        "barmode": "overlay",
        "coloraxis": {
         "colorbar": {
          "title": {
           "text": "Job"
          }
         },
         "colorscale": [
          [
           0,
           "#440154"
          ],
          [
           0.1111111111111111,
           "#482878"
          ],
          [
           0.2222222222222222,
           "#3e4989"
          ],
          [
           0.3333333333333333,
           "#31688e"
          ],
          [
           0.4444444444444444,
           "#26828e"
          ],
          [
           0.5555555555555556,
           "#1f9e89"
          ],
          [
           0.6666666666666666,
           "#35b779"
          ],
          [
           0.7777777777777778,
           "#6ece58"
          ],
          [
           0.8888888888888888,
           "#b5de2b"
          ],
          [
           1,
           "#fde725"
          ]
         ]
        },
        "legend": {
         "title": {
          "text": "is_team"
         },
         "tracegroupgap": 0
        },
        "template": {
         "data": {
          "bar": [
           {
            "error_x": {
             "color": "#2a3f5f"
            },
            "error_y": {
             "color": "#2a3f5f"
            },
            "marker": {
             "line": {
              "color": "#E5ECF6",
              "width": 0.5
             },
             "pattern": {
              "fillmode": "overlay",
              "size": 10,
              "solidity": 0.2
             }
            },
            "type": "bar"
           }
          ],
          "barpolar": [
           {
            "marker": {
             "line": {
              "color": "#E5ECF6",
              "width": 0.5
             },
             "pattern": {
              "fillmode": "overlay",
              "size": 10,
              "solidity": 0.2
             }
            },
            "type": "barpolar"
           }
          ],
          "carpet": [
           {
            "aaxis": {
             "endlinecolor": "#2a3f5f",
             "gridcolor": "white",
             "linecolor": "white",
             "minorgridcolor": "white",
             "startlinecolor": "#2a3f5f"
            },
            "baxis": {
             "endlinecolor": "#2a3f5f",
             "gridcolor": "white",
             "linecolor": "white",
             "minorgridcolor": "white",
             "startlinecolor": "#2a3f5f"
            },
            "type": "carpet"
           }
          ],
          "choropleth": [
           {
            "colorbar": {
             "outlinewidth": 0,
             "ticks": ""
            },
            "type": "choropleth"
           }
          ],
          "contour": [
           {
            "colorbar": {
             "outlinewidth": 0,
             "ticks": ""
            },
            "colorscale": [
             [
              0,
              "#0d0887"
             ],
             [
              0.1111111111111111,
              "#46039f"
             ],
             [
              0.2222222222222222,
              "#7201a8"
             ],
             [
              0.3333333333333333,
              "#9c179e"
             ],
             [
              0.4444444444444444,
              "#bd3786"
             ],
             [
              0.5555555555555556,
              "#d8576b"
             ],
             [
              0.6666666666666666,
              "#ed7953"
             ],
             [
              0.7777777777777778,
              "#fb9f3a"
             ],
             [
              0.8888888888888888,
              "#fdca26"
             ],
             [
              1,
              "#f0f921"
             ]
            ],
            "type": "contour"
           }
          ],
          "contourcarpet": [
           {
            "colorbar": {
             "outlinewidth": 0,
             "ticks": ""
            },
            "type": "contourcarpet"
           }
          ],
          "heatmap": [
           {
            "colorbar": {
             "outlinewidth": 0,
             "ticks": ""
            },
            "colorscale": [
             [
              0,
              "#0d0887"
             ],
             [
              0.1111111111111111,
              "#46039f"
             ],
             [
              0.2222222222222222,
              "#7201a8"
             ],
             [
              0.3333333333333333,
              "#9c179e"
             ],
             [
              0.4444444444444444,
              "#bd3786"
             ],
             [
              0.5555555555555556,
              "#d8576b"
             ],
             [
              0.6666666666666666,
              "#ed7953"
             ],
             [
              0.7777777777777778,
              "#fb9f3a"
             ],
             [
              0.8888888888888888,
              "#fdca26"
             ],
             [
              1,
              "#f0f921"
             ]
            ],
            "type": "heatmap"
           }
          ],
          "heatmapgl": [
           {
            "colorbar": {
             "outlinewidth": 0,
             "ticks": ""
            },
            "colorscale": [
             [
              0,
              "#0d0887"
             ],
             [
              0.1111111111111111,
              "#46039f"
             ],
             [
              0.2222222222222222,
              "#7201a8"
             ],
             [
              0.3333333333333333,
              "#9c179e"
             ],
             [
              0.4444444444444444,
              "#bd3786"
             ],
             [
              0.5555555555555556,
              "#d8576b"
             ],
             [
              0.6666666666666666,
              "#ed7953"
             ],
             [
              0.7777777777777778,
              "#fb9f3a"
             ],
             [
              0.8888888888888888,
              "#fdca26"
             ],
             [
              1,
              "#f0f921"
             ]
            ],
            "type": "heatmapgl"
           }
          ],
          "histogram": [
           {
            "marker": {
             "pattern": {
              "fillmode": "overlay",
              "size": 10,
              "solidity": 0.2
             }
            },
            "type": "histogram"
           }
          ],
          "histogram2d": [
           {
            "colorbar": {
             "outlinewidth": 0,
             "ticks": ""
            },
            "colorscale": [
             [
              0,
              "#0d0887"
             ],
             [
              0.1111111111111111,
              "#46039f"
             ],
             [
              0.2222222222222222,
              "#7201a8"
             ],
             [
              0.3333333333333333,
              "#9c179e"
             ],
             [
              0.4444444444444444,
              "#bd3786"
             ],
             [
              0.5555555555555556,
              "#d8576b"
             ],
             [
              0.6666666666666666,
              "#ed7953"
             ],
             [
              0.7777777777777778,
              "#fb9f3a"
             ],
             [
              0.8888888888888888,
              "#fdca26"
             ],
             [
              1,
              "#f0f921"
             ]
            ],
            "type": "histogram2d"
           }
          ],
          "histogram2dcontour": [
           {
            "colorbar": {
             "outlinewidth": 0,
             "ticks": ""
            },
            "colorscale": [
             [
              0,
              "#0d0887"
             ],
             [
              0.1111111111111111,
              "#46039f"
             ],
             [
              0.2222222222222222,
              "#7201a8"
             ],
             [
              0.3333333333333333,
              "#9c179e"
             ],
             [
              0.4444444444444444,
              "#bd3786"
             ],
             [
              0.5555555555555556,
              "#d8576b"
             ],
             [
              0.6666666666666666,
              "#ed7953"
             ],
             [
              0.7777777777777778,
              "#fb9f3a"
             ],
             [
              0.8888888888888888,
              "#fdca26"
             ],
             [
              1,
              "#f0f921"
             ]
            ],
            "type": "histogram2dcontour"
           }
          ],
          "mesh3d": [
           {
            "colorbar": {
             "outlinewidth": 0,
             "ticks": ""
            },
            "type": "mesh3d"
           }
          ],
          "parcoords": [
           {
            "line": {
             "colorbar": {
              "outlinewidth": 0,
              "ticks": ""
             }
            },
            "type": "parcoords"
           }
          ],
          "pie": [
           {
            "automargin": true,
            "type": "pie"
           }
          ],
          "scatter": [
           {
            "fillpattern": {
             "fillmode": "overlay",
             "size": 10,
             "solidity": 0.2
            },
            "type": "scatter"
           }
          ],
          "scatter3d": [
           {
            "line": {
             "colorbar": {
              "outlinewidth": 0,
              "ticks": ""
             }
            },
            "marker": {
             "colorbar": {
              "outlinewidth": 0,
              "ticks": ""
             }
            },
            "type": "scatter3d"
           }
          ],
          "scattercarpet": [
           {
            "marker": {
             "colorbar": {
              "outlinewidth": 0,
              "ticks": ""
             }
            },
            "type": "scattercarpet"
           }
          ],
          "scattergeo": [
           {
            "marker": {
             "colorbar": {
              "outlinewidth": 0,
              "ticks": ""
             }
            },
            "type": "scattergeo"
           }
          ],
          "scattergl": [
           {
            "marker": {
             "colorbar": {
              "outlinewidth": 0,
              "ticks": ""
             }
            },
            "type": "scattergl"
           }
          ],
          "scattermapbox": [
           {
            "marker": {
             "colorbar": {
              "outlinewidth": 0,
              "ticks": ""
             }
            },
            "type": "scattermapbox"
           }
          ],
          "scatterpolar": [
           {
            "marker": {
             "colorbar": {
              "outlinewidth": 0,
              "ticks": ""
             }
            },
            "type": "scatterpolar"
           }
          ],
          "scatterpolargl": [
           {
            "marker": {
             "colorbar": {
              "outlinewidth": 0,
              "ticks": ""
             }
            },
            "type": "scatterpolargl"
           }
          ],
          "scatterternary": [
           {
            "marker": {
             "colorbar": {
              "outlinewidth": 0,
              "ticks": ""
             }
            },
            "type": "scatterternary"
           }
          ],
          "surface": [
           {
            "colorbar": {
             "outlinewidth": 0,
             "ticks": ""
            },
            "colorscale": [
             [
              0,
              "#0d0887"
             ],
             [
              0.1111111111111111,
              "#46039f"
             ],
             [
              0.2222222222222222,
              "#7201a8"
             ],
             [
              0.3333333333333333,
              "#9c179e"
             ],
             [
              0.4444444444444444,
              "#bd3786"
             ],
             [
              0.5555555555555556,
              "#d8576b"
             ],
             [
              0.6666666666666666,
              "#ed7953"
             ],
             [
              0.7777777777777778,
              "#fb9f3a"
             ],
             [
              0.8888888888888888,
              "#fdca26"
             ],
             [
              1,
              "#f0f921"
             ]
            ],
            "type": "surface"
           }
          ],
          "table": [
           {
            "cells": {
             "fill": {
              "color": "#EBF0F8"
             },
             "line": {
              "color": "white"
             }
            },
            "header": {
             "fill": {
              "color": "#C8D4E3"
             },
             "line": {
              "color": "white"
             }
            },
            "type": "table"
           }
          ]
         },
         "layout": {
          "annotationdefaults": {
           "arrowcolor": "#2a3f5f",
           "arrowhead": 0,
           "arrowwidth": 1
          },
          "autotypenumbers": "strict",
          "coloraxis": {
           "colorbar": {
            "outlinewidth": 0,
            "ticks": ""
           }
          },
          "colorscale": {
           "diverging": [
            [
             0,
             "#8e0152"
            ],
            [
             0.1,
             "#c51b7d"
            ],
            [
             0.2,
             "#de77ae"
            ],
            [
             0.3,
             "#f1b6da"
            ],
            [
             0.4,
             "#fde0ef"
            ],
            [
             0.5,
             "#f7f7f7"
            ],
            [
             0.6,
             "#e6f5d0"
            ],
            [
             0.7,
             "#b8e186"
            ],
            [
             0.8,
             "#7fbc41"
            ],
            [
             0.9,
             "#4d9221"
            ],
            [
             1,
             "#276419"
            ]
           ],
           "sequential": [
            [
             0,
             "#0d0887"
            ],
            [
             0.1111111111111111,
             "#46039f"
            ],
            [
             0.2222222222222222,
             "#7201a8"
            ],
            [
             0.3333333333333333,
             "#9c179e"
            ],
            [
             0.4444444444444444,
             "#bd3786"
            ],
            [
             0.5555555555555556,
             "#d8576b"
            ],
            [
             0.6666666666666666,
             "#ed7953"
            ],
            [
             0.7777777777777778,
             "#fb9f3a"
            ],
            [
             0.8888888888888888,
             "#fdca26"
            ],
            [
             1,
             "#f0f921"
            ]
           ],
           "sequentialminus": [
            [
             0,
             "#0d0887"
            ],
            [
             0.1111111111111111,
             "#46039f"
            ],
            [
             0.2222222222222222,
             "#7201a8"
            ],
            [
             0.3333333333333333,
             "#9c179e"
            ],
            [
             0.4444444444444444,
             "#bd3786"
            ],
            [
             0.5555555555555556,
             "#d8576b"
            ],
            [
             0.6666666666666666,
             "#ed7953"
            ],
            [
             0.7777777777777778,
             "#fb9f3a"
            ],
            [
             0.8888888888888888,
             "#fdca26"
            ],
            [
             1,
             "#f0f921"
            ]
           ]
          },
          "colorway": [
           "#636efa",
           "#EF553B",
           "#00cc96",
           "#ab63fa",
           "#FFA15A",
           "#19d3f3",
           "#FF6692",
           "#B6E880",
           "#FF97FF",
           "#FECB52"
          ],
          "font": {
           "color": "#2a3f5f"
          },
          "geo": {
           "bgcolor": "white",
           "lakecolor": "white",
           "landcolor": "#E5ECF6",
           "showlakes": true,
           "showland": true,
           "subunitcolor": "white"
          },
          "hoverlabel": {
           "align": "left"
          },
          "hovermode": "closest",
          "mapbox": {
           "style": "light"
          },
          "paper_bgcolor": "white",
          "plot_bgcolor": "#E5ECF6",
          "polar": {
           "angularaxis": {
            "gridcolor": "white",
            "linecolor": "white",
            "ticks": ""
           },
           "bgcolor": "#E5ECF6",
           "radialaxis": {
            "gridcolor": "white",
            "linecolor": "white",
            "ticks": ""
           }
          },
          "scene": {
           "xaxis": {
            "backgroundcolor": "#E5ECF6",
            "gridcolor": "white",
            "gridwidth": 2,
            "linecolor": "white",
            "showbackground": true,
            "ticks": "",
            "zerolinecolor": "white"
           },
           "yaxis": {
            "backgroundcolor": "#E5ECF6",
            "gridcolor": "white",
            "gridwidth": 2,
            "linecolor": "white",
            "showbackground": true,
            "ticks": "",
            "zerolinecolor": "white"
           },
           "zaxis": {
            "backgroundcolor": "#E5ECF6",
            "gridcolor": "white",
            "gridwidth": 2,
            "linecolor": "white",
            "showbackground": true,
            "ticks": "",
            "zerolinecolor": "white"
           }
          },
          "shapedefaults": {
           "line": {
            "color": "#2a3f5f"
           }
          },
          "ternary": {
           "aaxis": {
            "gridcolor": "white",
            "linecolor": "white",
            "ticks": ""
           },
           "baxis": {
            "gridcolor": "white",
            "linecolor": "white",
            "ticks": ""
           },
           "bgcolor": "#E5ECF6",
           "caxis": {
            "gridcolor": "white",
            "linecolor": "white",
            "ticks": ""
           }
          },
          "title": {
           "x": 0.05
          },
          "xaxis": {
           "automargin": true,
           "gridcolor": "white",
           "linecolor": "white",
           "ticks": "",
           "title": {
            "standoff": 15
           },
           "zerolinecolor": "white",
           "zerolinewidth": 2
          },
          "yaxis": {
           "automargin": true,
           "gridcolor": "white",
           "linecolor": "white",
           "ticks": "",
           "title": {
            "standoff": 15
           },
           "zerolinecolor": "white",
           "zerolinewidth": 2
          }
         }
        },
        "title": {
         "text": "Gantt Schedule for Instance 289 - with team work identifyed as different color texture"
        },
        "xaxis": {
         "anchor": "y",
         "domain": [
          0,
          1
         ],
         "type": "date"
        },
        "yaxis": {
         "anchor": "x",
         "autorange": "reversed",
         "domain": [
          0,
          1
         ],
         "title": {
          "text": "Resource"
         }
        }
       }
      }
     },
     "metadata": {},
     "output_type": "display_data"
    }
   ],
   "source": [
    "df_team = prepare_resources.expand_the_resources(df)\n",
    "gantt.plot_gantt_chart_with_teams(df_team, instance_number)"
   ]
  },
  {
   "cell_type": "code",
   "execution_count": 218,
   "metadata": {},
   "outputs": [
    {
     "data": {
      "application/vnd.plotly.v1+json": {
       "config": {
        "plotlyServerURL": "https://plot.ly"
       },
       "data": [
        {
         "alignmentgroup": "True",
         "base": [
          "2023-02-04T03:00:00",
          "2023-01-30T22:00:00",
          "2023-01-15T02:00:00",
          "2023-01-27T07:00:00",
          "2023-01-23T16:00:00",
          "2023-01-22T13:00:00",
          "2023-01-20T00:00:00",
          "2023-01-18T14:00:00",
          "2023-01-16T20:00:00",
          "2023-01-21T10:00:00",
          "2023-01-11T12:00:00",
          "2023-01-09T03:00:00",
          "2023-01-06T18:00:00",
          "2023-01-05T06:00:00",
          "2023-01-03T18:00:00",
          "2023-01-02T09:00:00",
          "2023-01-01T00:00:00",
          "2023-01-13T07:00:00",
          "2023-01-02T09:00:00",
          "2023-01-18T09:00:00",
          "2023-01-29T19:00:00",
          "2023-01-27T12:00:00",
          "2023-01-25T05:00:00",
          "2023-01-21T19:00:00",
          "2023-01-14T10:00:00",
          "2023-02-06T08:00:00",
          "2023-01-06T10:00:00",
          "2023-01-30T11:00:00",
          "2023-01-30T03:00:00",
          "2023-02-01T22:00:00",
          "2023-02-04T09:00:00",
          "2023-01-10T11:00:00",
          "2023-01-22T13:00:00",
          "2023-01-16T19:00:00",
          "2023-01-11T08:00:00",
          "2023-01-09T03:00:00",
          "2023-01-13T17:00:00",
          "2023-01-23T16:00:00",
          "2023-01-19T04:00:00",
          "2023-01-11T12:00:00"
         ],
         "customdata": [
          [
           35
          ],
          [
           15
          ],
          [
           12
          ],
          [
           37
          ],
          [
           17
          ],
          [
           38
          ],
          [
           33
          ],
          [
           13
          ],
          [
           32
          ],
          [
           18
          ],
          [
           5
          ],
          [
           24
          ],
          [
           4
          ],
          [
           22
          ],
          [
           2
          ],
          [
           21
          ],
          [
           1
          ],
          [
           25
          ],
          [
           3
          ],
          [
           16
          ],
          [
           6
          ],
          [
           31
          ],
          [
           11
          ],
          [
           36
          ],
          [
           28
          ],
          [
           29
          ],
          [
           23
          ],
          [
           19
          ],
          [
           26
          ],
          [
           39
          ],
          [
           9
          ],
          [
           8
          ],
          [
           20
          ],
          [
           14
          ],
          [
           7
          ],
          [
           10
          ],
          [
           27
          ],
          [
           40
          ],
          [
           34
          ],
          [
           30
          ]
         ],
         "hovertemplate": "is_team=0<br>Start=%{base}<br>Finish=%{x}<br>Resource=%{y}<br>Task=%{customdata[0]}<br>Job=%{marker.color}<extra></extra>",
         "legendgroup": "0",
         "marker": {
          "color": [
           2,
           1,
           1,
           2,
           1,
           2,
           2,
           1,
           2,
           1,
           1,
           2,
           1,
           2,
           1,
           2,
           1,
           2,
           1,
           1,
           1,
           2,
           1,
           2,
           2,
           2,
           2,
           1,
           2,
           2,
           1,
           1,
           1,
           1,
           1,
           1,
           2,
           2,
           2,
           2
          ],
          "coloraxis": "coloraxis",
          "pattern": {
           "shape": ""
          }
         },
         "name": "0",
         "offsetgroup": "0",
         "orientation": "h",
         "showlegend": true,
         "text": [
          35,
          15,
          12,
          37,
          17,
          38,
          33,
          13,
          32,
          18,
          5,
          24,
          4,
          22,
          2,
          21,
          1,
          25,
          3,
          16,
          6,
          31,
          11,
          36,
          28,
          29,
          23,
          19,
          26,
          39,
          9,
          8,
          20,
          14,
          7,
          10,
          27,
          40,
          34,
          30
         ],
         "textposition": "auto",
         "type": "bar",
         "x": [
          360000000,
          360000000,
          147600000,
          309600000,
          309600000,
          93600000,
          118800000,
          118800000,
          147600000,
          93600000,
          151200000,
          201600000,
          201600000,
          126000000,
          126000000,
          115200000,
          115200000,
          151200000,
          345600000,
          291600000,
          25200000,
          194400000,
          194400000,
          291600000,
          338400000,
          165600000,
          345600000,
          208800000,
          25200000,
          208800000,
          165600000,
          338400000,
          18000000,
          338400000,
          468000000,
          187200000,
          468000000,
          18000000,
          338400000,
          187200000
         ],
         "xaxis": "x",
         "y": [
          "H-0",
          "H-0",
          "H-0",
          "H-0",
          "H-0",
          "H-0",
          "H-0",
          "H-0",
          "H-0",
          "H-0",
          "H-0",
          "H-0",
          "H-0",
          "H-0",
          "H-0",
          "H-0",
          "H-0",
          "H-0",
          "H-1",
          "H-1",
          "H-1",
          "H-1",
          "H-1",
          "H-1",
          "H-1",
          "H-1",
          "H-1",
          "H-1",
          "H-1",
          "H-1",
          "H-1",
          "H-1",
          "R-2",
          "R-2",
          "R-2",
          "R-2",
          "R-3",
          "R-3",
          "R-3",
          "R-3"
         ],
         "yaxis": "y"
        }
       ],
       "layout": {
        "barmode": "overlay",
        "coloraxis": {
         "colorbar": {
          "title": {
           "text": "Job"
          }
         },
         "colorscale": [
          [
           0,
           "#440154"
          ],
          [
           0.1111111111111111,
           "#482878"
          ],
          [
           0.2222222222222222,
           "#3e4989"
          ],
          [
           0.3333333333333333,
           "#31688e"
          ],
          [
           0.4444444444444444,
           "#26828e"
          ],
          [
           0.5555555555555556,
           "#1f9e89"
          ],
          [
           0.6666666666666666,
           "#35b779"
          ],
          [
           0.7777777777777778,
           "#6ece58"
          ],
          [
           0.8888888888888888,
           "#b5de2b"
          ],
          [
           1,
           "#fde725"
          ]
         ]
        },
        "legend": {
         "title": {
          "text": "is_team"
         },
         "tracegroupgap": 0
        },
        "template": {
         "data": {
          "bar": [
           {
            "error_x": {
             "color": "#2a3f5f"
            },
            "error_y": {
             "color": "#2a3f5f"
            },
            "marker": {
             "line": {
              "color": "#E5ECF6",
              "width": 0.5
             },
             "pattern": {
              "fillmode": "overlay",
              "size": 10,
              "solidity": 0.2
             }
            },
            "type": "bar"
           }
          ],
          "barpolar": [
           {
            "marker": {
             "line": {
              "color": "#E5ECF6",
              "width": 0.5
             },
             "pattern": {
              "fillmode": "overlay",
              "size": 10,
              "solidity": 0.2
             }
            },
            "type": "barpolar"
           }
          ],
          "carpet": [
           {
            "aaxis": {
             "endlinecolor": "#2a3f5f",
             "gridcolor": "white",
             "linecolor": "white",
             "minorgridcolor": "white",
             "startlinecolor": "#2a3f5f"
            },
            "baxis": {
             "endlinecolor": "#2a3f5f",
             "gridcolor": "white",
             "linecolor": "white",
             "minorgridcolor": "white",
             "startlinecolor": "#2a3f5f"
            },
            "type": "carpet"
           }
          ],
          "choropleth": [
           {
            "colorbar": {
             "outlinewidth": 0,
             "ticks": ""
            },
            "type": "choropleth"
           }
          ],
          "contour": [
           {
            "colorbar": {
             "outlinewidth": 0,
             "ticks": ""
            },
            "colorscale": [
             [
              0,
              "#0d0887"
             ],
             [
              0.1111111111111111,
              "#46039f"
             ],
             [
              0.2222222222222222,
              "#7201a8"
             ],
             [
              0.3333333333333333,
              "#9c179e"
             ],
             [
              0.4444444444444444,
              "#bd3786"
             ],
             [
              0.5555555555555556,
              "#d8576b"
             ],
             [
              0.6666666666666666,
              "#ed7953"
             ],
             [
              0.7777777777777778,
              "#fb9f3a"
             ],
             [
              0.8888888888888888,
              "#fdca26"
             ],
             [
              1,
              "#f0f921"
             ]
            ],
            "type": "contour"
           }
          ],
          "contourcarpet": [
           {
            "colorbar": {
             "outlinewidth": 0,
             "ticks": ""
            },
            "type": "contourcarpet"
           }
          ],
          "heatmap": [
           {
            "colorbar": {
             "outlinewidth": 0,
             "ticks": ""
            },
            "colorscale": [
             [
              0,
              "#0d0887"
             ],
             [
              0.1111111111111111,
              "#46039f"
             ],
             [
              0.2222222222222222,
              "#7201a8"
             ],
             [
              0.3333333333333333,
              "#9c179e"
             ],
             [
              0.4444444444444444,
              "#bd3786"
             ],
             [
              0.5555555555555556,
              "#d8576b"
             ],
             [
              0.6666666666666666,
              "#ed7953"
             ],
             [
              0.7777777777777778,
              "#fb9f3a"
             ],
             [
              0.8888888888888888,
              "#fdca26"
             ],
             [
              1,
              "#f0f921"
             ]
            ],
            "type": "heatmap"
           }
          ],
          "heatmapgl": [
           {
            "colorbar": {
             "outlinewidth": 0,
             "ticks": ""
            },
            "colorscale": [
             [
              0,
              "#0d0887"
             ],
             [
              0.1111111111111111,
              "#46039f"
             ],
             [
              0.2222222222222222,
              "#7201a8"
             ],
             [
              0.3333333333333333,
              "#9c179e"
             ],
             [
              0.4444444444444444,
              "#bd3786"
             ],
             [
              0.5555555555555556,
              "#d8576b"
             ],
             [
              0.6666666666666666,
              "#ed7953"
             ],
             [
              0.7777777777777778,
              "#fb9f3a"
             ],
             [
              0.8888888888888888,
              "#fdca26"
             ],
             [
              1,
              "#f0f921"
             ]
            ],
            "type": "heatmapgl"
           }
          ],
          "histogram": [
           {
            "marker": {
             "pattern": {
              "fillmode": "overlay",
              "size": 10,
              "solidity": 0.2
             }
            },
            "type": "histogram"
           }
          ],
          "histogram2d": [
           {
            "colorbar": {
             "outlinewidth": 0,
             "ticks": ""
            },
            "colorscale": [
             [
              0,
              "#0d0887"
             ],
             [
              0.1111111111111111,
              "#46039f"
             ],
             [
              0.2222222222222222,
              "#7201a8"
             ],
             [
              0.3333333333333333,
              "#9c179e"
             ],
             [
              0.4444444444444444,
              "#bd3786"
             ],
             [
              0.5555555555555556,
              "#d8576b"
             ],
             [
              0.6666666666666666,
              "#ed7953"
             ],
             [
              0.7777777777777778,
              "#fb9f3a"
             ],
             [
              0.8888888888888888,
              "#fdca26"
             ],
             [
              1,
              "#f0f921"
             ]
            ],
            "type": "histogram2d"
           }
          ],
          "histogram2dcontour": [
           {
            "colorbar": {
             "outlinewidth": 0,
             "ticks": ""
            },
            "colorscale": [
             [
              0,
              "#0d0887"
             ],
             [
              0.1111111111111111,
              "#46039f"
             ],
             [
              0.2222222222222222,
              "#7201a8"
             ],
             [
              0.3333333333333333,
              "#9c179e"
             ],
             [
              0.4444444444444444,
              "#bd3786"
             ],
             [
              0.5555555555555556,
              "#d8576b"
             ],
             [
              0.6666666666666666,
              "#ed7953"
             ],
             [
              0.7777777777777778,
              "#fb9f3a"
             ],
             [
              0.8888888888888888,
              "#fdca26"
             ],
             [
              1,
              "#f0f921"
             ]
            ],
            "type": "histogram2dcontour"
           }
          ],
          "mesh3d": [
           {
            "colorbar": {
             "outlinewidth": 0,
             "ticks": ""
            },
            "type": "mesh3d"
           }
          ],
          "parcoords": [
           {
            "line": {
             "colorbar": {
              "outlinewidth": 0,
              "ticks": ""
             }
            },
            "type": "parcoords"
           }
          ],
          "pie": [
           {
            "automargin": true,
            "type": "pie"
           }
          ],
          "scatter": [
           {
            "fillpattern": {
             "fillmode": "overlay",
             "size": 10,
             "solidity": 0.2
            },
            "type": "scatter"
           }
          ],
          "scatter3d": [
           {
            "line": {
             "colorbar": {
              "outlinewidth": 0,
              "ticks": ""
             }
            },
            "marker": {
             "colorbar": {
              "outlinewidth": 0,
              "ticks": ""
             }
            },
            "type": "scatter3d"
           }
          ],
          "scattercarpet": [
           {
            "marker": {
             "colorbar": {
              "outlinewidth": 0,
              "ticks": ""
             }
            },
            "type": "scattercarpet"
           }
          ],
          "scattergeo": [
           {
            "marker": {
             "colorbar": {
              "outlinewidth": 0,
              "ticks": ""
             }
            },
            "type": "scattergeo"
           }
          ],
          "scattergl": [
           {
            "marker": {
             "colorbar": {
              "outlinewidth": 0,
              "ticks": ""
             }
            },
            "type": "scattergl"
           }
          ],
          "scattermapbox": [
           {
            "marker": {
             "colorbar": {
              "outlinewidth": 0,
              "ticks": ""
             }
            },
            "type": "scattermapbox"
           }
          ],
          "scatterpolar": [
           {
            "marker": {
             "colorbar": {
              "outlinewidth": 0,
              "ticks": ""
             }
            },
            "type": "scatterpolar"
           }
          ],
          "scatterpolargl": [
           {
            "marker": {
             "colorbar": {
              "outlinewidth": 0,
              "ticks": ""
             }
            },
            "type": "scatterpolargl"
           }
          ],
          "scatterternary": [
           {
            "marker": {
             "colorbar": {
              "outlinewidth": 0,
              "ticks": ""
             }
            },
            "type": "scatterternary"
           }
          ],
          "surface": [
           {
            "colorbar": {
             "outlinewidth": 0,
             "ticks": ""
            },
            "colorscale": [
             [
              0,
              "#0d0887"
             ],
             [
              0.1111111111111111,
              "#46039f"
             ],
             [
              0.2222222222222222,
              "#7201a8"
             ],
             [
              0.3333333333333333,
              "#9c179e"
             ],
             [
              0.4444444444444444,
              "#bd3786"
             ],
             [
              0.5555555555555556,
              "#d8576b"
             ],
             [
              0.6666666666666666,
              "#ed7953"
             ],
             [
              0.7777777777777778,
              "#fb9f3a"
             ],
             [
              0.8888888888888888,
              "#fdca26"
             ],
             [
              1,
              "#f0f921"
             ]
            ],
            "type": "surface"
           }
          ],
          "table": [
           {
            "cells": {
             "fill": {
              "color": "#EBF0F8"
             },
             "line": {
              "color": "white"
             }
            },
            "header": {
             "fill": {
              "color": "#C8D4E3"
             },
             "line": {
              "color": "white"
             }
            },
            "type": "table"
           }
          ]
         },
         "layout": {
          "annotationdefaults": {
           "arrowcolor": "#2a3f5f",
           "arrowhead": 0,
           "arrowwidth": 1
          },
          "autotypenumbers": "strict",
          "coloraxis": {
           "colorbar": {
            "outlinewidth": 0,
            "ticks": ""
           }
          },
          "colorscale": {
           "diverging": [
            [
             0,
             "#8e0152"
            ],
            [
             0.1,
             "#c51b7d"
            ],
            [
             0.2,
             "#de77ae"
            ],
            [
             0.3,
             "#f1b6da"
            ],
            [
             0.4,
             "#fde0ef"
            ],
            [
             0.5,
             "#f7f7f7"
            ],
            [
             0.6,
             "#e6f5d0"
            ],
            [
             0.7,
             "#b8e186"
            ],
            [
             0.8,
             "#7fbc41"
            ],
            [
             0.9,
             "#4d9221"
            ],
            [
             1,
             "#276419"
            ]
           ],
           "sequential": [
            [
             0,
             "#0d0887"
            ],
            [
             0.1111111111111111,
             "#46039f"
            ],
            [
             0.2222222222222222,
             "#7201a8"
            ],
            [
             0.3333333333333333,
             "#9c179e"
            ],
            [
             0.4444444444444444,
             "#bd3786"
            ],
            [
             0.5555555555555556,
             "#d8576b"
            ],
            [
             0.6666666666666666,
             "#ed7953"
            ],
            [
             0.7777777777777778,
             "#fb9f3a"
            ],
            [
             0.8888888888888888,
             "#fdca26"
            ],
            [
             1,
             "#f0f921"
            ]
           ],
           "sequentialminus": [
            [
             0,
             "#0d0887"
            ],
            [
             0.1111111111111111,
             "#46039f"
            ],
            [
             0.2222222222222222,
             "#7201a8"
            ],
            [
             0.3333333333333333,
             "#9c179e"
            ],
            [
             0.4444444444444444,
             "#bd3786"
            ],
            [
             0.5555555555555556,
             "#d8576b"
            ],
            [
             0.6666666666666666,
             "#ed7953"
            ],
            [
             0.7777777777777778,
             "#fb9f3a"
            ],
            [
             0.8888888888888888,
             "#fdca26"
            ],
            [
             1,
             "#f0f921"
            ]
           ]
          },
          "colorway": [
           "#636efa",
           "#EF553B",
           "#00cc96",
           "#ab63fa",
           "#FFA15A",
           "#19d3f3",
           "#FF6692",
           "#B6E880",
           "#FF97FF",
           "#FECB52"
          ],
          "font": {
           "color": "#2a3f5f"
          },
          "geo": {
           "bgcolor": "white",
           "lakecolor": "white",
           "landcolor": "#E5ECF6",
           "showlakes": true,
           "showland": true,
           "subunitcolor": "white"
          },
          "hoverlabel": {
           "align": "left"
          },
          "hovermode": "closest",
          "mapbox": {
           "style": "light"
          },
          "paper_bgcolor": "white",
          "plot_bgcolor": "#E5ECF6",
          "polar": {
           "angularaxis": {
            "gridcolor": "white",
            "linecolor": "white",
            "ticks": ""
           },
           "bgcolor": "#E5ECF6",
           "radialaxis": {
            "gridcolor": "white",
            "linecolor": "white",
            "ticks": ""
           }
          },
          "scene": {
           "xaxis": {
            "backgroundcolor": "#E5ECF6",
            "gridcolor": "white",
            "gridwidth": 2,
            "linecolor": "white",
            "showbackground": true,
            "ticks": "",
            "zerolinecolor": "white"
           },
           "yaxis": {
            "backgroundcolor": "#E5ECF6",
            "gridcolor": "white",
            "gridwidth": 2,
            "linecolor": "white",
            "showbackground": true,
            "ticks": "",
            "zerolinecolor": "white"
           },
           "zaxis": {
            "backgroundcolor": "#E5ECF6",
            "gridcolor": "white",
            "gridwidth": 2,
            "linecolor": "white",
            "showbackground": true,
            "ticks": "",
            "zerolinecolor": "white"
           }
          },
          "shapedefaults": {
           "line": {
            "color": "#2a3f5f"
           }
          },
          "ternary": {
           "aaxis": {
            "gridcolor": "white",
            "linecolor": "white",
            "ticks": ""
           },
           "baxis": {
            "gridcolor": "white",
            "linecolor": "white",
            "ticks": ""
           },
           "bgcolor": "#E5ECF6",
           "caxis": {
            "gridcolor": "white",
            "linecolor": "white",
            "ticks": ""
           }
          },
          "title": {
           "x": 0.05
          },
          "xaxis": {
           "automargin": true,
           "gridcolor": "white",
           "linecolor": "white",
           "ticks": "",
           "title": {
            "standoff": 15
           },
           "zerolinecolor": "white",
           "zerolinewidth": 2
          },
          "yaxis": {
           "automargin": true,
           "gridcolor": "white",
           "linecolor": "white",
           "ticks": "",
           "title": {
            "standoff": 15
           },
           "zerolinecolor": "white",
           "zerolinewidth": 2
          }
         }
        },
        "title": {
         "text": "Gantt Schedule for Instance 289 - with team work identifyed as different color texture"
        },
        "xaxis": {
         "anchor": "y",
         "domain": [
          0,
          1
         ],
         "type": "date"
        },
        "yaxis": {
         "anchor": "x",
         "autorange": "reversed",
         "domain": [
          0,
          1
         ],
         "title": {
          "text": "Resource"
         }
        }
       }
      }
     },
     "metadata": {},
     "output_type": "display_data"
    }
   ],
   "source": [
    "df_team_cat = prepare_resources.add_resource_type(df_team, instance)\n",
    "gantt.plot_gantt_chart_with_teams(df_team_cat, instance_number)"
   ]
  },
  {
   "cell_type": "code",
   "execution_count": 156,
   "metadata": {},
   "outputs": [
    {
     "data": {
      "text/plain": [
       "array([1, 0])"
      ]
     },
     "execution_count": 156,
     "metadata": {},
     "output_type": "execute_result"
    }
   ],
   "source": [
    "ws = 1\n",
    "modes = instance.df_workingspace_resources[\n",
    "    instance.df_workingspace_resources.WorkingSpace == ws\n",
    "].Resource.unique()\n",
    "modes"
   ]
  },
  {
   "cell_type": "code",
   "execution_count": 159,
   "metadata": {},
   "outputs": [
    {
     "data": {
      "text/plain": [
       "0"
      ]
     },
     "execution_count": 159,
     "metadata": {},
     "output_type": "execute_result"
    }
   ],
   "source": [
    "import random\n",
    "\n",
    "random.choice(modes)"
   ]
  },
  {
   "cell_type": "code",
   "execution_count": 165,
   "metadata": {},
   "outputs": [
    {
     "data": {
      "text/plain": [
       "1"
      ]
     },
     "execution_count": 165,
     "metadata": {},
     "output_type": "execute_result"
    }
   ],
   "source": [
    "instance.df_workingspace_id[instance.df_workingspace_id.Id == 1].WorkingSpace.values[0]"
   ]
  },
  {
   "cell_type": "code",
   "execution_count": null,
   "metadata": {},
   "outputs": [],
   "source": []
  }
 ],
 "metadata": {
  "kernelspec": {
   "display_name": ".venv_hm_hrt",
   "language": "python",
   "name": "python3"
  },
  "language_info": {
   "codemirror_mode": {
    "name": "ipython",
    "version": 3
   },
   "file_extension": ".py",
   "mimetype": "text/x-python",
   "name": "python",
   "nbconvert_exporter": "python",
   "pygments_lexer": "ipython3",
   "version": "3.10.4"
  },
  "orig_nbformat": 4,
  "vscode": {
   "interpreter": {
    "hash": "a6289d96d3a41a28093af2b7ef3d7cfe930fbd01b56829a017029cf1de3096c1"
   }
  }
 },
 "nbformat": 4,
 "nbformat_minor": 2
}
