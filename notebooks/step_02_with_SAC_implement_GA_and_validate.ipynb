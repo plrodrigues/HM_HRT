{
 "cells": [
  {
   "attachments": {},
   "cell_type": "markdown",
   "metadata": {},
   "source": [
    "# Development | Implement the different parts and validations of GA"
   ]
  },
  {
   "cell_type": "code",
   "execution_count": null,
   "metadata": {},
   "outputs": [],
   "source": [
    "%load_ext autoreload\n",
    "%autoreload 2\n",
    "%matplotlib inline\n",
    "\n",
    "%matplotlib widget"
   ]
  },
  {
   "cell_type": "code",
   "execution_count": null,
   "metadata": {},
   "outputs": [],
   "source": [
    "import os\n",
    "import numpy as np\n",
    "import matplotlib.pyplot as plt\n",
    "import jupyter_black\n",
    "\n",
    "jupyter_black.load()\n",
    "\n",
    "# Project\n",
    "from src.data_connectors import read_input_files\n",
    "from src.data_connectors.read_input_files import Instance"
   ]
  },
  {
   "cell_type": "code",
   "execution_count": null,
   "metadata": {},
   "outputs": [],
   "source": [
    "instance = 227\n",
    "instances_path = \"../data/input/HRTInstances\"\n",
    "ins_x = read_input_files.read_file(os.path.join(instances_path, f\"Instance_{instance}.txt\"))"
   ]
  },
  {
   "cell_type": "code",
   "execution_count": null,
   "metadata": {},
   "outputs": [],
   "source": [
    "ins_x.df_setup"
   ]
  },
  {
   "cell_type": "code",
   "execution_count": null,
   "metadata": {},
   "outputs": [],
   "source": [
    "ins_x.df_resources"
   ]
  },
  {
   "cell_type": "code",
   "execution_count": null,
   "metadata": {},
   "outputs": [],
   "source": [
    "ins_x.df_workingspace_resources"
   ]
  },
  {
   "cell_type": "code",
   "execution_count": null,
   "metadata": {},
   "outputs": [],
   "source": [
    "ins_x.df_workingspace_id.head()"
   ]
  },
  {
   "attachments": {},
   "cell_type": "markdown",
   "metadata": {},
   "source": [
    "## [Flow](https://miro.com/app/board/uXjVPyl00iw=/)\n",
    "\n",
    "1. Generate **Initial Population**\n",
    "2. Verify if order of genes is violating the precedence\n",
    "    1. Discard those that are violating the precedence\n",
    "3. Duplicate it for all the jobs in the same instance (SAC)\n",
    "4. Create the array of times (start and end), using the resources time estimator for the respective mode allocation\n",
    "5. **Fitness Function**: Compute the total time to complete all the jobs in all working spaces of same instance $\\Longrightarrow C$ \n",
    "6. **Selection**: Retain the genes with lower C (at maximum X)\n",
    "    1. Discard those that have larger C\n",
    "    2. Verify if new population has a significant improvement in total C from previous population.\n",
    "7. **Generate next population**:\n",
    "    1. **Crossover**: from survival chromosomes, create offsprings \n",
    "    2. **Mutation**: add mutation to the created offsprings (initially larger %, and decreases over time).\n",
    "8. Return to point **2**."
   ]
  },
  {
   "attachments": {},
   "cell_type": "markdown",
   "metadata": {},
   "source": [
    "### 0. The chromosome\n",
    "\n",
    "```python\n",
    "chromosome = {\n",
    "    'mode': [0, 1, 2, 2, 1, ... ], # resource ID\n",
    "    'order': [2, 3, 1, 4, 5, ...], # order of tasks of each position\n",
    "    }\n",
    "\n",
    "```"
   ]
  },
  {
   "cell_type": "code",
   "execution_count": null,
   "metadata": {},
   "outputs": [],
   "source": [
    "from src.genetic_algorithm.chromosome import Chromosome"
   ]
  },
  {
   "attachments": {},
   "cell_type": "markdown",
   "metadata": {},
   "source": [
    "### 1. Generate initial population"
   ]
  },
  {
   "attachments": {},
   "cell_type": "markdown",
   "metadata": {},
   "source": [
    "By default, it generates population for 1 working space:\n",
    "\n",
    "**Note**:\n",
    "- *It is important to generate a large first population, because a lot chromosomes might not survived due to feasibility of solutions.*"
   ]
  },
  {
   "cell_type": "code",
   "execution_count": null,
   "metadata": {},
   "outputs": [],
   "source": [
    "from src.genetic_algorithm import first_population\n",
    "\n",
    "# Modes\n",
    "possible_modes = first_population.get_possible_modes(ins_x)\n",
    "\n",
    "# Tasks\n",
    "n_tasks = first_population.get_total_number_of_tasks_per_working_space(ins_x)\n",
    "\n",
    "# Chromosomes\n",
    "chromosomes = first_population.get_first_population(ins_x, possible_modes, n_tasks)\n",
    "print(len(chromosomes))"
   ]
  },
  {
   "attachments": {},
   "cell_type": "markdown",
   "metadata": {},
   "source": [
    "### 2. Verify feasibility of solutions\n",
    "\n",
    "We need to verify:\n",
    "- the precedence is valid\n",
    "- the combination of modes and tasks is possible (the selected mode can perform the associated task) "
   ]
  },
  {
   "cell_type": "code",
   "execution_count": null,
   "metadata": {},
   "outputs": [],
   "source": [
    "from src.genetic_algorithm import feasibility"
   ]
  },
  {
   "cell_type": "code",
   "execution_count": null,
   "metadata": {},
   "outputs": [],
   "source": [
    "ins_x.df_predecessor_sucessor.head()"
   ]
  },
  {
   "cell_type": "code",
   "execution_count": null,
   "metadata": {},
   "outputs": [],
   "source": [
    "precedence_feasible_chromosomes = []\n",
    "for i in range(len(chromosomes)):\n",
    "    chrom = chromosomes[i]\n",
    "    if feasibility.is_chromosome_precedence_feasible(ins_x, chrom):\n",
    "        precedence_feasible_chromosomes.append(chrom)\n",
    "\n",
    "print(f\"From {len(chromosomes)} to {len(precedence_feasible_chromosomes)}\")"
   ]
  },
  {
   "cell_type": "code",
   "execution_count": null,
   "metadata": {},
   "outputs": [],
   "source": []
  },
  {
   "cell_type": "code",
   "execution_count": null,
   "metadata": {},
   "outputs": [],
   "source": [
    "task_mode_feasible_chromosomes = []\n",
    "for i in range(len(precedence_feasible_chromosomes)):\n",
    "    chrom = precedence_feasible_chromosomes[i]\n",
    "    if feasibility.is_chromosome_task_mode_feasible(ins_x, chrom):\n",
    "        task_mode_feasible_chromosomes.append(chrom)\n",
    "\n",
    "print(f\"From {len(precedence_feasible_chromosomes)} to {len(task_mode_feasible_chromosomes)}\")"
   ]
  },
  {
   "cell_type": "code",
   "execution_count": null,
   "metadata": {},
   "outputs": [],
   "source": []
  },
  {
   "attachments": {},
   "cell_type": "markdown",
   "metadata": {},
   "source": [
    "### 3. Increment duplication with possible extra working spaces\n",
    "\n",
    "1. e.g. if other working spaces exist, duplicate the working modes, and duplicate the orders"
   ]
  },
  {
   "cell_type": "code",
   "execution_count": null,
   "metadata": {},
   "outputs": [],
   "source": [
    "from src.genetic_algorithm import replication"
   ]
  },
  {
   "cell_type": "code",
   "execution_count": null,
   "metadata": {},
   "outputs": [],
   "source": [
    "# Generate new orders\n",
    "chromosome = task_mode_feasible_chromosomes[0]\n",
    "chromosome"
   ]
  },
  {
   "cell_type": "code",
   "execution_count": null,
   "metadata": {},
   "outputs": [],
   "source": [
    "chromosome_with_replication = replication.update_chromosome_with_replication(ins_x, chromosome)"
   ]
  },
  {
   "cell_type": "code",
   "execution_count": null,
   "metadata": {},
   "outputs": [],
   "source": [
    "chromosome_with_replication"
   ]
  },
  {
   "cell_type": "code",
   "execution_count": null,
   "metadata": {},
   "outputs": [],
   "source": [
    "# for all feasible chromosomes\n",
    "replicated_chromosomes = []\n",
    "for chromosome in task_mode_feasible_chromosomes:\n",
    "    replicated_chromosomes.append(replication.update_chromosome_with_replication(ins_x, chromosome))\n",
    "\n",
    "len(replicated_chromosomes)"
   ]
  },
  {
   "cell_type": "code",
   "execution_count": null,
   "metadata": {},
   "outputs": [],
   "source": [
    "replicated_chromosomes[:10]"
   ]
  },
  {
   "cell_type": "code",
   "execution_count": null,
   "metadata": {},
   "outputs": [],
   "source": []
  },
  {
   "attachments": {},
   "cell_type": "markdown",
   "metadata": {},
   "source": [
    "### 4. Get notion of start and end times\n",
    "\n",
    "1. Go task by task, and get the start and end time, based on allocation of current mode, and based on precedence\n",
    "2. Compute total timespan - which is the maximum value of endtimes"
   ]
  },
  {
   "cell_type": "code",
   "execution_count": null,
   "metadata": {},
   "outputs": [],
   "source": [
    "from src.genetic_algorithm import time_allocation"
   ]
  },
  {
   "cell_type": "code",
   "execution_count": null,
   "metadata": {},
   "outputs": [],
   "source": [
    "# for all replicated chromosomes\n",
    "time_allocated_chromosomes = []\n",
    "for chromosome in replicated_chromosomes:\n",
    "    time_allocated_chromosomes.append(time_allocation.get_all_time_allocations(ins_x, chromosome))\n",
    "\n",
    "len(time_allocated_chromosomes)"
   ]
  },
  {
   "cell_type": "code",
   "execution_count": null,
   "metadata": {},
   "outputs": [],
   "source": [
    "# for all results\n",
    "makespan_all_chromosomes = []\n",
    "for chromosome_time_allocation in time_allocated_chromosomes:\n",
    "    makespan_all_chromosomes.append(time_allocation.find_makespan(chromosome_time_allocation))\n",
    "\n",
    "len(makespan_all_chromosomes)"
   ]
  },
  {
   "cell_type": "code",
   "execution_count": null,
   "metadata": {},
   "outputs": [],
   "source": [
    "min(makespan_all_chromosomes)"
   ]
  },
  {
   "cell_type": "code",
   "execution_count": null,
   "metadata": {},
   "outputs": [],
   "source": [
    "plt.figure()\n",
    "plt.hist(makespan_all_chromosomes, bins=len(makespan_all_chromosomes))\n",
    "plt.show()"
   ]
  },
  {
   "cell_type": "code",
   "execution_count": null,
   "metadata": {},
   "outputs": [],
   "source": []
  },
  {
   "attachments": {},
   "cell_type": "markdown",
   "metadata": {},
   "source": [
    "### 5. Keep fittest chromosomes \n",
    "\n",
    "Let's keep the best 100"
   ]
  },
  {
   "cell_type": "code",
   "execution_count": null,
   "metadata": {},
   "outputs": [],
   "source": [
    "from src.genetic_algorithm import fitness"
   ]
  },
  {
   "cell_type": "code",
   "execution_count": null,
   "metadata": {},
   "outputs": [],
   "source": [
    "fittest_chromosomes, fittest_makespan = fitness.keep_fittest_n_chromosomes(\n",
    "    task_mode_feasible_chromosomes, makespan_all_chromosomes, 100\n",
    ")\n",
    "len(fittest_chromosomes)"
   ]
  },
  {
   "cell_type": "code",
   "execution_count": null,
   "metadata": {},
   "outputs": [],
   "source": []
  },
  {
   "attachments": {},
   "cell_type": "markdown",
   "metadata": {},
   "source": [
    "### 6. Is new population better than previous one?"
   ]
  },
  {
   "cell_type": "code",
   "execution_count": null,
   "metadata": {},
   "outputs": [],
   "source": [
    "# if this is the first population\n",
    "previous_population_makespan = None\n",
    "this_population_makespan = fittest_chromosomes\n",
    "\n",
    "should_we_continue = fitness.is_this_population_better_than_previous_one(\n",
    "    previous_population_makespan, this_population_makespan\n",
    ")\n",
    "print(f\"Should we continue iterating? {should_we_continue}\")"
   ]
  },
  {
   "cell_type": "code",
   "execution_count": null,
   "metadata": {},
   "outputs": [],
   "source": []
  },
  {
   "attachments": {},
   "cell_type": "markdown",
   "metadata": {},
   "source": [
    "### 7. Generate next population\n",
    "\n",
    "with: \n",
    "1. Crossover\n",
    "2. Mutation"
   ]
  },
  {
   "cell_type": "code",
   "execution_count": null,
   "metadata": {},
   "outputs": [],
   "source": [
    "from src.genetic_algorithm import next_population"
   ]
  },
  {
   "attachments": {},
   "cell_type": "markdown",
   "metadata": {},
   "source": [
    "#### 7.1. Crossover\n",
    "\n",
    "- **One-Point Crossover**:\n",
    "    1. select a random crossover point along the length of the chromosomes \n",
    "    2. split into 2 proportions on that point, and swapp them between the two parent chromosomes to generate the 2 offsprings.\n",
    "\n",
    "- **Two-Point Crossover**: similar to one-point crossover, but with two crossover points.\n",
    "\n",
    "- **Uniform Crossover**: \n",
    "    1. Given a probability, select points from each parent and populate for the offsprings.\n",
    "\n",
    "- **Arithmetic Crossover** is not possible given the current experiment.\n"
   ]
  },
  {
   "cell_type": "code",
   "execution_count": null,
   "metadata": {},
   "outputs": [],
   "source": [
    "new_generation = next_population.generate_next_population_with_crossover(\n",
    "    fittest_chromosomes, fittest_makespan\n",
    ")"
   ]
  },
  {
   "cell_type": "code",
   "execution_count": null,
   "metadata": {},
   "outputs": [],
   "source": [
    "len(new_generation)"
   ]
  },
  {
   "attachments": {},
   "cell_type": "markdown",
   "metadata": {},
   "source": [
    "#### 7.2. Mutation\n",
    "\n",
    "Swap mutation: This technique randomly selects two genes within a chromosome and swaps their positions.\n",
    "\n",
    "Scramble mutation: This technique randomly selects a subset of genes within a chromosome and shuffles their order.\n",
    "\n",
    "Inversion mutation: This technique randomly selects a subset of genes within a chromosome and reverses their order."
   ]
  },
  {
   "cell_type": "code",
   "execution_count": null,
   "metadata": {},
   "outputs": [],
   "source": [
    "new_mutated_population = []\n",
    "probability = 0.4\n",
    "for chromosome in new_generation:\n",
    "    new_mutated_population.append(\n",
    "        next_population.swap_mutation_at_probability(chromosome, probability)\n",
    "    )"
   ]
  },
  {
   "cell_type": "code",
   "execution_count": null,
   "metadata": {},
   "outputs": [],
   "source": []
  }
 ],
 "metadata": {
  "kernelspec": {
   "display_name": ".venv_hm_hrt",
   "language": "python",
   "name": "python3"
  },
  "language_info": {
   "codemirror_mode": {
    "name": "ipython",
    "version": 3
   },
   "file_extension": ".py",
   "mimetype": "text/x-python",
   "name": "python",
   "nbconvert_exporter": "python",
   "pygments_lexer": "ipython3",
   "version": "3.10.4"
  },
  "orig_nbformat": 4,
  "vscode": {
   "interpreter": {
    "hash": "a6289d96d3a41a28093af2b7ef3d7cfe930fbd01b56829a017029cf1de3096c1"
   }
  }
 },
 "nbformat": 4,
 "nbformat_minor": 2
}
