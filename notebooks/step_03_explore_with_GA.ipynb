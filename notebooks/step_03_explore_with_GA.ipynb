{
 "cells": [
  {
   "attachments": {},
   "cell_type": "markdown",
   "metadata": {},
   "source": [
    "# Different data structures"
   ]
  },
  {
   "cell_type": "code",
   "execution_count": 108,
   "metadata": {},
   "outputs": [
    {
     "name": "stdout",
     "output_type": "stream",
     "text": [
      "The autoreload extension is already loaded. To reload it, use:\n",
      "  %reload_ext autoreload\n"
     ]
    }
   ],
   "source": [
    "%load_ext autoreload\n",
    "%autoreload 2\n",
    "%matplotlib inline\n",
    "\n",
    "%matplotlib widget"
   ]
  },
  {
   "cell_type": "code",
   "execution_count": 109,
   "metadata": {},
   "outputs": [],
   "source": [
    "import os\n",
    "import numpy as np\n",
    "import matplotlib.pyplot as plt\n",
    "import jupyter_black\n",
    "\n",
    "jupyter_black.load()\n",
    "\n",
    "# Project\n",
    "from src.data_connectors import read_input_files"
   ]
  },
  {
   "cell_type": "code",
   "execution_count": 110,
   "metadata": {},
   "outputs": [],
   "source": [
    "instance = 333\n",
    "instances_path = \"../data/input/HRTInstances\"\n",
    "ins_x = read_input_files.read_file(os.path.join(instances_path, f\"Instance_{instance}.txt\"))"
   ]
  },
  {
   "cell_type": "code",
   "execution_count": 111,
   "metadata": {},
   "outputs": [
    {
     "data": {
      "text/html": [
       "<div>\n",
       "<style scoped>\n",
       "    .dataframe tbody tr th:only-of-type {\n",
       "        vertical-align: middle;\n",
       "    }\n",
       "\n",
       "    .dataframe tbody tr th {\n",
       "        vertical-align: top;\n",
       "    }\n",
       "\n",
       "    .dataframe thead th {\n",
       "        text-align: right;\n",
       "    }\n",
       "</style>\n",
       "<table border=\"1\" class=\"dataframe\">\n",
       "  <thead>\n",
       "    <tr style=\"text-align: right;\">\n",
       "      <th></th>\n",
       "      <th>Humans</th>\n",
       "      <th>Robots</th>\n",
       "      <th>WorkingSpaces</th>\n",
       "    </tr>\n",
       "  </thead>\n",
       "  <tbody>\n",
       "    <tr>\n",
       "      <th>0</th>\n",
       "      <td>2</td>\n",
       "      <td>3</td>\n",
       "      <td>3</td>\n",
       "    </tr>\n",
       "  </tbody>\n",
       "</table>\n",
       "</div>"
      ],
      "text/plain": [
       "  Humans Robots WorkingSpaces\n",
       "0      2      3             3"
      ]
     },
     "execution_count": 111,
     "metadata": {},
     "output_type": "execute_result"
    }
   ],
   "source": [
    "ins_x.df_setup"
   ]
  },
  {
   "cell_type": "code",
   "execution_count": 112,
   "metadata": {},
   "outputs": [
    {
     "data": {
      "text/html": [
       "<div>\n",
       "<style scoped>\n",
       "    .dataframe tbody tr th:only-of-type {\n",
       "        vertical-align: middle;\n",
       "    }\n",
       "\n",
       "    .dataframe tbody tr th {\n",
       "        vertical-align: top;\n",
       "    }\n",
       "\n",
       "    .dataframe thead th {\n",
       "        text-align: right;\n",
       "    }\n",
       "</style>\n",
       "<table border=\"1\" class=\"dataframe\">\n",
       "  <thead>\n",
       "    <tr style=\"text-align: right;\">\n",
       "      <th></th>\n",
       "      <th>Type</th>\n",
       "      <th>Id</th>\n",
       "    </tr>\n",
       "  </thead>\n",
       "  <tbody>\n",
       "    <tr>\n",
       "      <th>0</th>\n",
       "      <td>H</td>\n",
       "      <td>0</td>\n",
       "    </tr>\n",
       "    <tr>\n",
       "      <th>1</th>\n",
       "      <td>H</td>\n",
       "      <td>1</td>\n",
       "    </tr>\n",
       "    <tr>\n",
       "      <th>2</th>\n",
       "      <td>R</td>\n",
       "      <td>2</td>\n",
       "    </tr>\n",
       "    <tr>\n",
       "      <th>3</th>\n",
       "      <td>R</td>\n",
       "      <td>3</td>\n",
       "    </tr>\n",
       "    <tr>\n",
       "      <th>4</th>\n",
       "      <td>R</td>\n",
       "      <td>4</td>\n",
       "    </tr>\n",
       "  </tbody>\n",
       "</table>\n",
       "</div>"
      ],
      "text/plain": [
       "  Type  Id\n",
       "0    H   0\n",
       "1    H   1\n",
       "2    R   2\n",
       "3    R   3\n",
       "4    R   4"
      ]
     },
     "execution_count": 112,
     "metadata": {},
     "output_type": "execute_result"
    }
   ],
   "source": [
    "ins_x.df_resources"
   ]
  },
  {
   "cell_type": "code",
   "execution_count": 113,
   "metadata": {},
   "outputs": [
    {
     "data": {
      "text/html": [
       "<div>\n",
       "<style scoped>\n",
       "    .dataframe tbody tr th:only-of-type {\n",
       "        vertical-align: middle;\n",
       "    }\n",
       "\n",
       "    .dataframe tbody tr th {\n",
       "        vertical-align: top;\n",
       "    }\n",
       "\n",
       "    .dataframe thead th {\n",
       "        text-align: right;\n",
       "    }\n",
       "</style>\n",
       "<table border=\"1\" class=\"dataframe\">\n",
       "  <thead>\n",
       "    <tr style=\"text-align: right;\">\n",
       "      <th></th>\n",
       "      <th>WorkingSpace</th>\n",
       "      <th>Resource</th>\n",
       "    </tr>\n",
       "  </thead>\n",
       "  <tbody>\n",
       "    <tr>\n",
       "      <th>0</th>\n",
       "      <td>1</td>\n",
       "      <td>2</td>\n",
       "    </tr>\n",
       "    <tr>\n",
       "      <th>1</th>\n",
       "      <td>1</td>\n",
       "      <td>0</td>\n",
       "    </tr>\n",
       "    <tr>\n",
       "      <th>2</th>\n",
       "      <td>1</td>\n",
       "      <td>1</td>\n",
       "    </tr>\n",
       "    <tr>\n",
       "      <th>3</th>\n",
       "      <td>2</td>\n",
       "      <td>3</td>\n",
       "    </tr>\n",
       "    <tr>\n",
       "      <th>4</th>\n",
       "      <td>2</td>\n",
       "      <td>0</td>\n",
       "    </tr>\n",
       "    <tr>\n",
       "      <th>5</th>\n",
       "      <td>2</td>\n",
       "      <td>1</td>\n",
       "    </tr>\n",
       "    <tr>\n",
       "      <th>6</th>\n",
       "      <td>3</td>\n",
       "      <td>4</td>\n",
       "    </tr>\n",
       "    <tr>\n",
       "      <th>7</th>\n",
       "      <td>3</td>\n",
       "      <td>0</td>\n",
       "    </tr>\n",
       "    <tr>\n",
       "      <th>8</th>\n",
       "      <td>3</td>\n",
       "      <td>1</td>\n",
       "    </tr>\n",
       "  </tbody>\n",
       "</table>\n",
       "</div>"
      ],
      "text/plain": [
       "   WorkingSpace  Resource\n",
       "0             1         2\n",
       "1             1         0\n",
       "2             1         1\n",
       "3             2         3\n",
       "4             2         0\n",
       "5             2         1\n",
       "6             3         4\n",
       "7             3         0\n",
       "8             3         1"
      ]
     },
     "execution_count": 113,
     "metadata": {},
     "output_type": "execute_result"
    }
   ],
   "source": [
    "ins_x.df_workingspace_resources"
   ]
  },
  {
   "cell_type": "code",
   "execution_count": 114,
   "metadata": {},
   "outputs": [
    {
     "data": {
      "text/html": [
       "<div>\n",
       "<style scoped>\n",
       "    .dataframe tbody tr th:only-of-type {\n",
       "        vertical-align: middle;\n",
       "    }\n",
       "\n",
       "    .dataframe tbody tr th {\n",
       "        vertical-align: top;\n",
       "    }\n",
       "\n",
       "    .dataframe thead th {\n",
       "        text-align: right;\n",
       "    }\n",
       "</style>\n",
       "<table border=\"1\" class=\"dataframe\">\n",
       "  <thead>\n",
       "    <tr style=\"text-align: right;\">\n",
       "      <th></th>\n",
       "      <th>WorkingSpace</th>\n",
       "      <th>Id</th>\n",
       "    </tr>\n",
       "  </thead>\n",
       "  <tbody>\n",
       "    <tr>\n",
       "      <th>0</th>\n",
       "      <td>1</td>\n",
       "      <td>1</td>\n",
       "    </tr>\n",
       "    <tr>\n",
       "      <th>1</th>\n",
       "      <td>1</td>\n",
       "      <td>2</td>\n",
       "    </tr>\n",
       "    <tr>\n",
       "      <th>2</th>\n",
       "      <td>1</td>\n",
       "      <td>3</td>\n",
       "    </tr>\n",
       "    <tr>\n",
       "      <th>3</th>\n",
       "      <td>1</td>\n",
       "      <td>4</td>\n",
       "    </tr>\n",
       "    <tr>\n",
       "      <th>4</th>\n",
       "      <td>1</td>\n",
       "      <td>5</td>\n",
       "    </tr>\n",
       "  </tbody>\n",
       "</table>\n",
       "</div>"
      ],
      "text/plain": [
       "   WorkingSpace  Id\n",
       "0             1   1\n",
       "1             1   2\n",
       "2             1   3\n",
       "3             1   4\n",
       "4             1   5"
      ]
     },
     "execution_count": 114,
     "metadata": {},
     "output_type": "execute_result"
    }
   ],
   "source": [
    "ins_x.df_workingspace_id.head()"
   ]
  },
  {
   "attachments": {},
   "cell_type": "markdown",
   "metadata": {},
   "source": [
    "## [Flow](https://miro.com/app/board/uXjVPyl00iw=/)\n",
    "\n",
    "1. Generate **Initial Population**\n",
    "2. Verify if order of genes is violating the precedence\n",
    "    1. Discard those that are violating the precedence\n",
    "3. Duplicate it for all the jobs in the same instance (SAC)\n",
    "4. Create the array of times (start and end), using the resources time estimator for the respective mode allocation\n",
    "5. **Fitness Function**: Compute the total time to complete all the jobs in all working spaces of same instance $\\Longrightarrow C$ \n",
    "6. **Selection**: Retain the genes with lower C (at maximum X)\n",
    "    1. Discard those that have larger C\n",
    "    2. Verify if new population has a significant improvement in total C from previous population.\n",
    "7. **Generate next population**:\n",
    "    1. **Crossover**: from survival chromosomes, create offsprings \n",
    "    2. **Mutation**: add mutation to the created offsprings (initially larger %, and decreases over time).\n",
    "8. Return to point **2**."
   ]
  },
  {
   "attachments": {},
   "cell_type": "markdown",
   "metadata": {},
   "source": [
    "### 0. The chromosome\n",
    "\n",
    "```python\n",
    "chromosome = {\n",
    "    'mode': [0, 1, 2, 2, 1, ... ], # resource ID\n",
    "    'order': [2, 3, 1, 4, 5, ...], # order of tasks of each position\n",
    "    }\n",
    "\n",
    "```"
   ]
  },
  {
   "cell_type": "code",
   "execution_count": 115,
   "metadata": {},
   "outputs": [],
   "source": [
    "from src.genetic_algorithm.chromosome import Chromosome"
   ]
  },
  {
   "attachments": {},
   "cell_type": "markdown",
   "metadata": {},
   "source": [
    "### 1. Generate initial population"
   ]
  },
  {
   "attachments": {},
   "cell_type": "markdown",
   "metadata": {},
   "source": [
    "By default, it generates population for 1 working space:\n",
    "\n",
    "**Note**:\n",
    "- *It is important to generate a large first population, because a lot chromosomes might not survived due to feasibility of solutions.*"
   ]
  },
  {
   "cell_type": "code",
   "execution_count": 116,
   "metadata": {},
   "outputs": [
    {
     "name": "stdout",
     "output_type": "stream",
     "text": [
      "Possible modes: ['0' '1' '2' '0-2' '1-2']\n",
      "Number of tasks: 20\n",
      "Total size of first population: 6600\n"
     ]
    }
   ],
   "source": [
    "from src.genetic_algorithm import first_population\n",
    "\n",
    "# Modes\n",
    "\n",
    "possible_modes = first_population.get_possible_modes(ins_x)\n",
    "# Tasks\n",
    "n_tasks = first_population.get_total_number_of_tasks_per_working_space(ins_x)\n",
    "\n",
    "# Chromosomes\n",
    "chromosomes = first_population.get_first_population(possible_modes, n_tasks)"
   ]
  },
  {
   "cell_type": "code",
   "execution_count": null,
   "metadata": {},
   "outputs": [],
   "source": []
  },
  {
   "attachments": {},
   "cell_type": "markdown",
   "metadata": {},
   "source": [
    "### 2. Verify feasibility of solutions\n",
    "\n",
    "We need to verify:\n",
    "- the precedence is valid\n",
    "- the combination of modes and tasks is possible (the selected mode can perform the associated task) "
   ]
  },
  {
   "cell_type": "code",
   "execution_count": 117,
   "metadata": {},
   "outputs": [],
   "source": [
    "from src.genetic_algorithm import feasibility"
   ]
  },
  {
   "cell_type": "code",
   "execution_count": 118,
   "metadata": {},
   "outputs": [
    {
     "data": {
      "text/html": [
       "<div>\n",
       "<style scoped>\n",
       "    .dataframe tbody tr th:only-of-type {\n",
       "        vertical-align: middle;\n",
       "    }\n",
       "\n",
       "    .dataframe tbody tr th {\n",
       "        vertical-align: top;\n",
       "    }\n",
       "\n",
       "    .dataframe thead th {\n",
       "        text-align: right;\n",
       "    }\n",
       "</style>\n",
       "<table border=\"1\" class=\"dataframe\">\n",
       "  <thead>\n",
       "    <tr style=\"text-align: right;\">\n",
       "      <th></th>\n",
       "      <th>Predecessor</th>\n",
       "      <th>Sucessor</th>\n",
       "    </tr>\n",
       "  </thead>\n",
       "  <tbody>\n",
       "    <tr>\n",
       "      <th>0</th>\n",
       "      <td>1</td>\n",
       "      <td>2</td>\n",
       "    </tr>\n",
       "    <tr>\n",
       "      <th>1</th>\n",
       "      <td>2</td>\n",
       "      <td>3</td>\n",
       "    </tr>\n",
       "    <tr>\n",
       "      <th>2</th>\n",
       "      <td>3</td>\n",
       "      <td>4</td>\n",
       "    </tr>\n",
       "    <tr>\n",
       "      <th>3</th>\n",
       "      <td>1</td>\n",
       "      <td>4</td>\n",
       "    </tr>\n",
       "    <tr>\n",
       "      <th>4</th>\n",
       "      <td>1</td>\n",
       "      <td>5</td>\n",
       "    </tr>\n",
       "  </tbody>\n",
       "</table>\n",
       "</div>"
      ],
      "text/plain": [
       "   Predecessor  Sucessor\n",
       "0            1         2\n",
       "1            2         3\n",
       "2            3         4\n",
       "3            1         4\n",
       "4            1         5"
      ]
     },
     "execution_count": 118,
     "metadata": {},
     "output_type": "execute_result"
    }
   ],
   "source": [
    "ins_x.df_predecessor_sucessor.head()"
   ]
  },
  {
   "cell_type": "code",
   "execution_count": 119,
   "metadata": {},
   "outputs": [
    {
     "name": "stdout",
     "output_type": "stream",
     "text": [
      "From 6600 to 110\n"
     ]
    }
   ],
   "source": [
    "precedence_feasible_chromosomes = []\n",
    "for i in range(len(chromosomes)):\n",
    "    chrom = chromosomes[i]\n",
    "    if feasibility.is_chromosome_precedence_feasible(ins_x, chrom):\n",
    "        precedence_feasible_chromosomes.append(chrom)\n",
    "\n",
    "print(f\"From {len(chromosomes)} to {len(precedence_feasible_chromosomes)}\")"
   ]
  },
  {
   "cell_type": "code",
   "execution_count": 120,
   "metadata": {},
   "outputs": [
    {
     "name": "stdout",
     "output_type": "stream",
     "text": [
      "From 110 to 110\n"
     ]
    }
   ],
   "source": [
    "task_mode_feasible_chromosomes = []\n",
    "for i in range(len(precedence_feasible_chromosomes)):\n",
    "    chrom = precedence_feasible_chromosomes[i]\n",
    "    if feasibility.is_chromosome_task_mode_feasible(ins_x, chrom):\n",
    "        task_mode_feasible_chromosomes.append(chrom)\n",
    "\n",
    "print(f\"From {len(precedence_feasible_chromosomes)} to {len(task_mode_feasible_chromosomes)}\")"
   ]
  },
  {
   "cell_type": "code",
   "execution_count": null,
   "metadata": {},
   "outputs": [],
   "source": []
  },
  {
   "attachments": {},
   "cell_type": "markdown",
   "metadata": {},
   "source": [
    "### 3. Increment duplication with possible extra working spaces\n",
    "\n",
    "1. e.g. if other working spaces exist, duplicate the working modes, and duplicate the orders"
   ]
  },
  {
   "cell_type": "code",
   "execution_count": 121,
   "metadata": {},
   "outputs": [],
   "source": [
    "from src.genetic_algorithm import replication"
   ]
  },
  {
   "cell_type": "code",
   "execution_count": 122,
   "metadata": {},
   "outputs": [
    {
     "data": {
      "text/plain": [
       "Chromosome(mode=['0', '0', '0', '0', '0', '0', '0', '0', '0', '0', '0', '0', '0', '0', '0', '0', '0', '0', '0', '0'], order=[0, 1, 2, 3, 4, 5, 6, 7, 8, 9, 10, 11, 12, 13, 14, 15, 16, 17, 18, 19])"
      ]
     },
     "execution_count": 122,
     "metadata": {},
     "output_type": "execute_result"
    }
   ],
   "source": [
    "# Generate new orders\n",
    "chromosome = task_mode_feasible_chromosomes[0]\n",
    "chromosome"
   ]
  },
  {
   "cell_type": "code",
   "execution_count": 123,
   "metadata": {},
   "outputs": [],
   "source": [
    "chromosome_with_replication = replication.update_chromosome_with_replication(ins_x, chromosome)"
   ]
  },
  {
   "cell_type": "code",
   "execution_count": 124,
   "metadata": {},
   "outputs": [
    {
     "data": {
      "text/plain": [
       "Chromosome(mode=['0', '0', '0', '0', '0', '0', '0', '0', '0', '0', '0', '0', '0', '0', '0', '0', '0', '0', '0', '0', '0', '0', '0', '0', '0', '0', '0', '0', '0', '0', '0', '0', '0', '0', '0', '0', '0', '0', '0', '0', '0', '0', '0', '0', '0', '0', '0', '0', '0', '0', '0', '0', '0', '0', '0', '0', '0', '0', '0', '0'], order=[0, 3, 6, 9, 12, 15, 18, 21, 24, 27, 30, 33, 36, 39, 42, 45, 48, 51, 54, 57, 1, 4, 7, 10, 13, 16, 19, 22, 25, 28, 31, 34, 37, 40, 43, 46, 49, 52, 55, 58, 2, 5, 8, 11, 14, 17, 20, 23, 26, 29, 32, 35, 38, 41, 44, 47, 50, 53, 56, 59])"
      ]
     },
     "execution_count": 124,
     "metadata": {},
     "output_type": "execute_result"
    }
   ],
   "source": [
    "chromosome_with_replication"
   ]
  },
  {
   "cell_type": "code",
   "execution_count": 125,
   "metadata": {},
   "outputs": [
    {
     "data": {
      "text/plain": [
       "110"
      ]
     },
     "execution_count": 125,
     "metadata": {},
     "output_type": "execute_result"
    }
   ],
   "source": [
    "# for all feasible chromosomes\n",
    "replicated_chromosomes = []\n",
    "for chromosome in task_mode_feasible_chromosomes:\n",
    "    replicated_chromosomes.append(replication.update_chromosome_with_replication(ins_x, chromosome))\n",
    "\n",
    "len(replicated_chromosomes)"
   ]
  },
  {
   "cell_type": "code",
   "execution_count": 126,
   "metadata": {},
   "outputs": [
    {
     "data": {
      "text/plain": [
       "[Chromosome(mode=['0', '0', '0', '0', '0', '0', '0', '0', '0', '0', '0', '0', '0', '0', '0', '0', '0', '0', '0', '0', '0', '0', '0', '0', '0', '0', '0', '0', '0', '0', '0', '0', '0', '0', '0', '0', '0', '0', '0', '0', '0', '0', '0', '0', '0', '0', '0', '0', '0', '0', '0', '0', '0', '0', '0', '0', '0', '0', '0', '0'], order=[0, 3, 6, 9, 12, 15, 18, 21, 24, 27, 30, 33, 36, 39, 42, 45, 48, 51, 54, 57, 1, 4, 7, 10, 13, 16, 19, 22, 25, 28, 31, 34, 37, 40, 43, 46, 49, 52, 55, 58, 2, 5, 8, 11, 14, 17, 20, 23, 26, 29, 32, 35, 38, 41, 44, 47, 50, 53, 56, 59]),\n",
       " Chromosome(mode=['1', '1', '1', '1', '1', '1', '1', '1', '1', '1', '1', '1', '1', '1', '1', '1', '1', '1', '1', '1', '1', '1', '1', '1', '1', '1', '1', '1', '1', '1', '1', '1', '1', '1', '1', '1', '1', '1', '1', '1', '1', '1', '1', '1', '1', '1', '1', '1', '1', '1', '1', '1', '1', '1', '1', '1', '1', '1', '1', '1'], order=[0, 3, 6, 9, 12, 15, 18, 21, 24, 27, 30, 33, 36, 39, 42, 45, 48, 51, 54, 57, 1, 4, 7, 10, 13, 16, 19, 22, 25, 28, 31, 34, 37, 40, 43, 46, 49, 52, 55, 58, 2, 5, 8, 11, 14, 17, 20, 23, 26, 29, 32, 35, 38, 41, 44, 47, 50, 53, 56, 59]),\n",
       " Chromosome(mode=['2', '2', '2', '2', '2', '2', '2', '2', '2', '2', '2', '2', '2', '2', '2', '2', '2', '2', '2', '2', '3', '3', '3', '3', '3', '3', '3', '3', '3', '3', '3', '3', '3', '3', '3', '3', '3', '3', '3', '3', '4', '4', '4', '4', '4', '4', '4', '4', '4', '4', '4', '4', '4', '4', '4', '4', '4', '4', '4', '4'], order=[0, 3, 6, 9, 12, 15, 18, 21, 24, 27, 30, 33, 36, 39, 42, 45, 48, 51, 54, 57, 1, 4, 7, 10, 13, 16, 19, 22, 25, 28, 31, 34, 37, 40, 43, 46, 49, 52, 55, 58, 2, 5, 8, 11, 14, 17, 20, 23, 26, 29, 32, 35, 38, 41, 44, 47, 50, 53, 56, 59]),\n",
       " Chromosome(mode=['0-2', '0-2', '0-2', '0-2', '0-2', '0-2', '0-2', '0-2', '0-2', '0-2', '0-2', '0-2', '0-2', '0-2', '0-2', '0-2', '0-2', '0-2', '0-2', '0-2', '0-3', '0-3', '0-3', '0-3', '0-3', '0-3', '0-3', '0-3', '0-3', '0-3', '0-3', '0-3', '0-3', '0-3', '0-3', '0-3', '0-3', '0-3', '0-3', '0-3', '0-4', '0-4', '0-4', '0-4', '0-4', '0-4', '0-4', '0-4', '0-4', '0-4', '0-4', '0-4', '0-4', '0-4', '0-4', '0-4', '0-4', '0-4', '0-4', '0-4'], order=[0, 3, 6, 9, 12, 15, 18, 21, 24, 27, 30, 33, 36, 39, 42, 45, 48, 51, 54, 57, 1, 4, 7, 10, 13, 16, 19, 22, 25, 28, 31, 34, 37, 40, 43, 46, 49, 52, 55, 58, 2, 5, 8, 11, 14, 17, 20, 23, 26, 29, 32, 35, 38, 41, 44, 47, 50, 53, 56, 59]),\n",
       " Chromosome(mode=['1-2', '1-2', '1-2', '1-2', '1-2', '1-2', '1-2', '1-2', '1-2', '1-2', '1-2', '1-2', '1-2', '1-2', '1-2', '1-2', '1-2', '1-2', '1-2', '1-2', '1-3', '1-3', '1-3', '1-3', '1-3', '1-3', '1-3', '1-3', '1-3', '1-3', '1-3', '1-3', '1-3', '1-3', '1-3', '1-3', '1-3', '1-3', '1-3', '1-3', '1-4', '1-4', '1-4', '1-4', '1-4', '1-4', '1-4', '1-4', '1-4', '1-4', '1-4', '1-4', '1-4', '1-4', '1-4', '1-4', '1-4', '1-4', '1-4', '1-4'], order=[0, 3, 6, 9, 12, 15, 18, 21, 24, 27, 30, 33, 36, 39, 42, 45, 48, 51, 54, 57, 1, 4, 7, 10, 13, 16, 19, 22, 25, 28, 31, 34, 37, 40, 43, 46, 49, 52, 55, 58, 2, 5, 8, 11, 14, 17, 20, 23, 26, 29, 32, 35, 38, 41, 44, 47, 50, 53, 56, 59]),\n",
       " Chromosome(mode=['0', '0', '0', '0', '0', '0', '0', '0', '0', '0', '0', '0', '0', '0', '0', '0', '0', '0', '0', '0', '0', '0', '0', '0', '0', '0', '0', '0', '0', '0', '0', '0', '0', '0', '0', '0', '0', '0', '0', '0', '0', '0', '0', '0', '0', '0', '0', '0', '0', '0', '0', '0', '0', '0', '0', '0', '0', '0', '0', '0'], order=[0, 3, 6, 12, 9, 15, 18, 21, 27, 24, 30, 33, 36, 42, 39, 45, 48, 51, 57, 54, 1, 4, 7, 13, 10, 16, 19, 22, 28, 25, 31, 34, 37, 43, 40, 46, 49, 52, 58, 55, 2, 5, 8, 14, 11, 17, 20, 23, 29, 26, 32, 35, 38, 44, 41, 47, 50, 53, 59, 56]),\n",
       " Chromosome(mode=['1', '1', '1', '1', '1', '1', '1', '1', '1', '1', '1', '1', '1', '1', '1', '1', '1', '1', '1', '1', '1', '1', '1', '1', '1', '1', '1', '1', '1', '1', '1', '1', '1', '1', '1', '1', '1', '1', '1', '1', '1', '1', '1', '1', '1', '1', '1', '1', '1', '1', '1', '1', '1', '1', '1', '1', '1', '1', '1', '1'], order=[0, 3, 6, 12, 9, 15, 18, 21, 27, 24, 30, 33, 36, 42, 39, 45, 48, 51, 57, 54, 1, 4, 7, 13, 10, 16, 19, 22, 28, 25, 31, 34, 37, 43, 40, 46, 49, 52, 58, 55, 2, 5, 8, 14, 11, 17, 20, 23, 29, 26, 32, 35, 38, 44, 41, 47, 50, 53, 59, 56]),\n",
       " Chromosome(mode=['2', '2', '2', '2', '2', '2', '2', '2', '2', '2', '2', '2', '2', '2', '2', '2', '2', '2', '2', '2', '3', '3', '3', '3', '3', '3', '3', '3', '3', '3', '3', '3', '3', '3', '3', '3', '3', '3', '3', '3', '4', '4', '4', '4', '4', '4', '4', '4', '4', '4', '4', '4', '4', '4', '4', '4', '4', '4', '4', '4'], order=[0, 3, 6, 12, 9, 15, 18, 21, 27, 24, 30, 33, 36, 42, 39, 45, 48, 51, 57, 54, 1, 4, 7, 13, 10, 16, 19, 22, 28, 25, 31, 34, 37, 43, 40, 46, 49, 52, 58, 55, 2, 5, 8, 14, 11, 17, 20, 23, 29, 26, 32, 35, 38, 44, 41, 47, 50, 53, 59, 56]),\n",
       " Chromosome(mode=['0-2', '0-2', '0-2', '0-2', '0-2', '0-2', '0-2', '0-2', '0-2', '0-2', '0-2', '0-2', '0-2', '0-2', '0-2', '0-2', '0-2', '0-2', '0-2', '0-2', '0-3', '0-3', '0-3', '0-3', '0-3', '0-3', '0-3', '0-3', '0-3', '0-3', '0-3', '0-3', '0-3', '0-3', '0-3', '0-3', '0-3', '0-3', '0-3', '0-3', '0-4', '0-4', '0-4', '0-4', '0-4', '0-4', '0-4', '0-4', '0-4', '0-4', '0-4', '0-4', '0-4', '0-4', '0-4', '0-4', '0-4', '0-4', '0-4', '0-4'], order=[0, 3, 6, 12, 9, 15, 18, 21, 27, 24, 30, 33, 36, 42, 39, 45, 48, 51, 57, 54, 1, 4, 7, 13, 10, 16, 19, 22, 28, 25, 31, 34, 37, 43, 40, 46, 49, 52, 58, 55, 2, 5, 8, 14, 11, 17, 20, 23, 29, 26, 32, 35, 38, 44, 41, 47, 50, 53, 59, 56]),\n",
       " Chromosome(mode=['1-2', '1-2', '1-2', '1-2', '1-2', '1-2', '1-2', '1-2', '1-2', '1-2', '1-2', '1-2', '1-2', '1-2', '1-2', '1-2', '1-2', '1-2', '1-2', '1-2', '1-3', '1-3', '1-3', '1-3', '1-3', '1-3', '1-3', '1-3', '1-3', '1-3', '1-3', '1-3', '1-3', '1-3', '1-3', '1-3', '1-3', '1-3', '1-3', '1-3', '1-4', '1-4', '1-4', '1-4', '1-4', '1-4', '1-4', '1-4', '1-4', '1-4', '1-4', '1-4', '1-4', '1-4', '1-4', '1-4', '1-4', '1-4', '1-4', '1-4'], order=[0, 3, 6, 12, 9, 15, 18, 21, 27, 24, 30, 33, 36, 42, 39, 45, 48, 51, 57, 54, 1, 4, 7, 13, 10, 16, 19, 22, 28, 25, 31, 34, 37, 43, 40, 46, 49, 52, 58, 55, 2, 5, 8, 14, 11, 17, 20, 23, 29, 26, 32, 35, 38, 44, 41, 47, 50, 53, 59, 56])]"
      ]
     },
     "execution_count": 126,
     "metadata": {},
     "output_type": "execute_result"
    }
   ],
   "source": [
    "replicated_chromosomes[:10]"
   ]
  },
  {
   "cell_type": "code",
   "execution_count": null,
   "metadata": {},
   "outputs": [],
   "source": []
  },
  {
   "attachments": {},
   "cell_type": "markdown",
   "metadata": {},
   "source": [
    "### 4. Get notion of start and end times\n",
    "\n",
    "1. Go task by task, and get the start and end time, based on allocation of current mode, and based on precedence\n",
    "2. Compute total timespan - which is the maximum value of endtimes"
   ]
  },
  {
   "cell_type": "code",
   "execution_count": 127,
   "metadata": {},
   "outputs": [],
   "source": [
    "from src.genetic_algorithm import time_allocation"
   ]
  },
  {
   "cell_type": "code",
   "execution_count": 128,
   "metadata": {},
   "outputs": [
    {
     "data": {
      "text/plain": [
       "110"
      ]
     },
     "execution_count": 128,
     "metadata": {},
     "output_type": "execute_result"
    }
   ],
   "source": [
    "# for all replicated chromosomes\n",
    "time_allocated_chromosomes = []\n",
    "for chromosome in replicated_chromosomes:\n",
    "    time_allocated_chromosomes.append(time_allocation.get_all_time_allocations(ins_x, chromosome))\n",
    "\n",
    "len(time_allocated_chromosomes)"
   ]
  },
  {
   "cell_type": "code",
   "execution_count": 129,
   "metadata": {},
   "outputs": [
    {
     "data": {
      "text/plain": [
       "110"
      ]
     },
     "execution_count": 129,
     "metadata": {},
     "output_type": "execute_result"
    }
   ],
   "source": [
    "# for all results\n",
    "makespan_all_chromosomes = []\n",
    "for chromosome_time_allocation in time_allocated_chromosomes:\n",
    "    makespan_all_chromosomes.append(time_allocation.find_makespan(chromosome_time_allocation))\n",
    "\n",
    "len(makespan_all_chromosomes)"
   ]
  },
  {
   "cell_type": "code",
   "execution_count": 130,
   "metadata": {},
   "outputs": [
    {
     "data": {
      "text/plain": [
       "1123"
      ]
     },
     "execution_count": 130,
     "metadata": {},
     "output_type": "execute_result"
    }
   ],
   "source": [
    "min(makespan_all_chromosomes)"
   ]
  },
  {
   "cell_type": "code",
   "execution_count": 156,
   "metadata": {},
   "outputs": [
    {
     "data": {
      "application/vnd.jupyter.widget-view+json": {
       "model_id": "e74eee4095184554a4ca8340a524eb46",
       "version_major": 2,
       "version_minor": 0
      },
      "image/png": "[encoded data removed]",
      "text/html": [
       "\n",
       "            <div style=\"display: inline-block;\">\n",
       "                <div class=\"jupyter-widgets widget-label\" style=\"text-align: center;\">\n",
       "                    Figure\n",
       "                </div>\n",
       "                <img src='data:image/png;base64,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' width=640.0/>\n",
       "            </div>\n",
       "        "
      ],
      "text/plain": [
       "Canvas(toolbar=Toolbar(toolitems=[('Home', 'Reset original view', 'home', 'home'), ('Back', 'Back to previous …"
      ]
     },
     "metadata": {},
     "output_type": "display_data"
    }
   ],
   "source": [
    "plt.figure()\n",
    "plt.hist(makespan_all_chromosomes, bins=len(makespan_all_chromosomes))\n",
    "plt.show()"
   ]
  },
  {
   "cell_type": "code",
   "execution_count": null,
   "metadata": {},
   "outputs": [],
   "source": []
  },
  {
   "attachments": {},
   "cell_type": "markdown",
   "metadata": {},
   "source": [
    "### 5. Keep fittest chromosomes \n",
    "\n",
    "Let's keep the best 100"
   ]
  },
  {
   "cell_type": "code",
   "execution_count": 157,
   "metadata": {},
   "outputs": [],
   "source": [
    "from src.genetic_algorithm import fitness"
   ]
  },
  {
   "cell_type": "code",
   "execution_count": 158,
   "metadata": {},
   "outputs": [
    {
     "data": {
      "text/plain": [
       "99"
      ]
     },
     "execution_count": 158,
     "metadata": {},
     "output_type": "execute_result"
    }
   ],
   "source": [
    "fittest_chromosomes, fittest_makespan = fitness.keep_fittest_n_chromosomes(\n",
    "    task_mode_feasible_chromosomes, makespan_all_chromosomes, 100\n",
    ")\n",
    "len(fittest_chromosomes)"
   ]
  },
  {
   "cell_type": "code",
   "execution_count": null,
   "metadata": {},
   "outputs": [],
   "source": []
  },
  {
   "attachments": {},
   "cell_type": "markdown",
   "metadata": {},
   "source": [
    "### 6. Is new population better than previous one?"
   ]
  },
  {
   "cell_type": "code",
   "execution_count": 159,
   "metadata": {},
   "outputs": [
    {
     "name": "stdout",
     "output_type": "stream",
     "text": [
      "Should we continue iterating? True\n"
     ]
    }
   ],
   "source": [
    "# if this is the first population\n",
    "previous_population_makespan = None\n",
    "this_population_makespan = fittest_chromosomes\n",
    "\n",
    "should_we_continue = fitness.is_this_population_better_than_previous_one(\n",
    "    previous_population_makespan, this_population_makespan\n",
    ")\n",
    "print(f\"Should we continue iterating? {should_we_continue}\")"
   ]
  },
  {
   "cell_type": "code",
   "execution_count": null,
   "metadata": {},
   "outputs": [],
   "source": []
  },
  {
   "attachments": {},
   "cell_type": "markdown",
   "metadata": {},
   "source": [
    "### 7. Generate next population\n",
    "\n",
    "with: \n",
    "1. Crossover\n",
    "2. Mutation"
   ]
  },
  {
   "cell_type": "code",
   "execution_count": 160,
   "metadata": {},
   "outputs": [],
   "source": [
    "from src.genetic_algorithm import next_population"
   ]
  },
  {
   "attachments": {},
   "cell_type": "markdown",
   "metadata": {},
   "source": [
    "#### 7.1. Crossover\n",
    "\n",
    "- **One-Point Crossover**:\n",
    "    1. select a random crossover point along the length of the chromosomes \n",
    "    2. split into 2 proportions on that point, and swapp them between the two parent chromosomes to generate the 2 offsprings.\n",
    "\n",
    "- **Two-Point Crossover**: similar to one-point crossover, but with two crossover points.\n",
    "\n",
    "- **Uniform Crossover**: \n",
    "    1. Given a probability, select points from each parent and populate for the offsprings.\n",
    "\n",
    "- **Arithmetic Crossover** is not possible given the current experiment.\n"
   ]
  },
  {
   "cell_type": "code",
   "execution_count": 161,
   "metadata": {},
   "outputs": [],
   "source": [
    "new_generation = next_population.generate_next_population_with_crossover(\n",
    "    fittest_chromosomes, fittest_makespan\n",
    ")"
   ]
  },
  {
   "cell_type": "code",
   "execution_count": 162,
   "metadata": {},
   "outputs": [
    {
     "data": {
      "text/plain": [
       "196"
      ]
     },
     "execution_count": 162,
     "metadata": {},
     "output_type": "execute_result"
    }
   ],
   "source": [
    "len(new_generation)"
   ]
  },
  {
   "attachments": {},
   "cell_type": "markdown",
   "metadata": {},
   "source": [
    "#### 7.2. Mutation\n",
    "\n",
    "Swap mutation: This technique randomly selects two genes within a chromosome and swaps their positions.\n",
    "\n",
    "Scramble mutation: This technique randomly selects a subset of genes within a chromosome and shuffles their order.\n",
    "\n",
    "Inversion mutation: This technique randomly selects a subset of genes within a chromosome and reverses their order."
   ]
  },
  {
   "cell_type": "code",
   "execution_count": 176,
   "metadata": {},
   "outputs": [],
   "source": [
    "new_mutated_population = []\n",
    "probability = 0.4\n",
    "for chromosome in new_generation:\n",
    "    new_mutated_population.append(\n",
    "        next_population.swap_mutation_at_probability(chromosome, probability)\n",
    "    )"
   ]
  },
  {
   "cell_type": "code",
   "execution_count": null,
   "metadata": {},
   "outputs": [],
   "source": []
  },
  {
   "cell_type": "code",
   "execution_count": null,
   "metadata": {},
   "outputs": [],
   "source": []
  },
  {
   "cell_type": "code",
   "execution_count": null,
   "metadata": {},
   "outputs": [],
   "source": []
  }
 ],
 "metadata": {
  "kernelspec": {
   "display_name": ".venv_hm_hrt",
   "language": "python",
   "name": "python3"
  },
  "language_info": {
   "codemirror_mode": {
    "name": "ipython",
    "version": 3
   },
   "file_extension": ".py",
   "mimetype": "text/x-python",
   "name": "python",
   "nbconvert_exporter": "python",
   "pygments_lexer": "ipython3",
   "version": "3.10.4"
  },
  "orig_nbformat": 4,
  "vscode": {
   "interpreter": {
    "hash": "a6289d96d3a41a28093af2b7ef3d7cfe930fbd01b56829a017029cf1de3096c1"
   }
  }
 },
 "nbformat": 4,
 "nbformat_minor": 2
}
