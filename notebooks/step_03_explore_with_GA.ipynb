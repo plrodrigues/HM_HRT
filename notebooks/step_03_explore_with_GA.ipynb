{
 "cells": [
  {
   "attachments": {},
   "cell_type": "markdown",
   "metadata": {},
   "source": [
    "# Different data structures"
   ]
  },
  {
   "cell_type": "code",
   "execution_count": 1,
   "metadata": {},
   "outputs": [],
   "source": [
    "%load_ext autoreload\n",
    "%autoreload 2\n",
    "%matplotlib inline\n",
    "\n",
    "%matplotlib widget"
   ]
  },
  {
   "cell_type": "code",
   "execution_count": 2,
   "metadata": {},
   "outputs": [
    {
     "data": {
      "text/html": [
       "\n",
       "                <script type=\"application/javascript\" id=\"jupyter_black\">\n",
       "                (function() {\n",
       "                    if (window.IPython === undefined) {\n",
       "                        return\n",
       "                    }\n",
       "                    var msg = \"WARNING: it looks like you might have loaded \" +\n",
       "                        \"jupyter_black in a non-lab notebook with \" +\n",
       "                        \"`is_lab=True`. Please double check, and if \" +\n",
       "                        \"loading with `%load_ext` please review the README!\"\n",
       "                    console.log(msg)\n",
       "                    alert(msg)\n",
       "                })()\n",
       "                </script>\n",
       "                "
      ],
      "text/plain": [
       "<IPython.core.display.HTML object>"
      ]
     },
     "metadata": {},
     "output_type": "display_data"
    }
   ],
   "source": [
    "import os\n",
    "import numpy as np\n",
    "import pandas as pd\n",
    "import matplotlib.pyplot as plt\n",
    "from dataclasses import dataclass\n",
    "import jupyter_black\n",
    "\n",
    "jupyter_black.load()\n",
    "\n",
    "# Project\n",
    "from src.data_connectors import read_input_files\n",
    "from src.data_preparation import search_space\n",
    "from src.data_connectors.read_input_files import Instance"
   ]
  },
  {
   "cell_type": "code",
   "execution_count": 3,
   "metadata": {},
   "outputs": [],
   "source": [
    "instance = 333\n",
    "instances_path = \"../data/input/HRTInstances\"\n",
    "ins_x = read_input_files.read_file(\n",
    "    os.path.join(instances_path, f\"Instance_{instance}.txt\")\n",
    ")"
   ]
  },
  {
   "cell_type": "code",
   "execution_count": 4,
   "metadata": {},
   "outputs": [
    {
     "data": {
      "text/html": [
       "<div>\n",
       "<style scoped>\n",
       "    .dataframe tbody tr th:only-of-type {\n",
       "        vertical-align: middle;\n",
       "    }\n",
       "\n",
       "    .dataframe tbody tr th {\n",
       "        vertical-align: top;\n",
       "    }\n",
       "\n",
       "    .dataframe thead th {\n",
       "        text-align: right;\n",
       "    }\n",
       "</style>\n",
       "<table border=\"1\" class=\"dataframe\">\n",
       "  <thead>\n",
       "    <tr style=\"text-align: right;\">\n",
       "      <th></th>\n",
       "      <th>Humans</th>\n",
       "      <th>Robots</th>\n",
       "      <th>WorkingSpaces</th>\n",
       "    </tr>\n",
       "  </thead>\n",
       "  <tbody>\n",
       "    <tr>\n",
       "      <th>0</th>\n",
       "      <td>2</td>\n",
       "      <td>3</td>\n",
       "      <td>3</td>\n",
       "    </tr>\n",
       "  </tbody>\n",
       "</table>\n",
       "</div>"
      ],
      "text/plain": [
       "  Humans Robots WorkingSpaces\n",
       "0      2      3             3"
      ]
     },
     "execution_count": 4,
     "metadata": {},
     "output_type": "execute_result"
    }
   ],
   "source": [
    "ins_x.df_setup"
   ]
  },
  {
   "cell_type": "code",
   "execution_count": 5,
   "metadata": {},
   "outputs": [
    {
     "data": {
      "text/html": [
       "<div>\n",
       "<style scoped>\n",
       "    .dataframe tbody tr th:only-of-type {\n",
       "        vertical-align: middle;\n",
       "    }\n",
       "\n",
       "    .dataframe tbody tr th {\n",
       "        vertical-align: top;\n",
       "    }\n",
       "\n",
       "    .dataframe thead th {\n",
       "        text-align: right;\n",
       "    }\n",
       "</style>\n",
       "<table border=\"1\" class=\"dataframe\">\n",
       "  <thead>\n",
       "    <tr style=\"text-align: right;\">\n",
       "      <th></th>\n",
       "      <th>Type</th>\n",
       "      <th>Id</th>\n",
       "    </tr>\n",
       "  </thead>\n",
       "  <tbody>\n",
       "    <tr>\n",
       "      <th>0</th>\n",
       "      <td>H</td>\n",
       "      <td>0</td>\n",
       "    </tr>\n",
       "    <tr>\n",
       "      <th>1</th>\n",
       "      <td>H</td>\n",
       "      <td>1</td>\n",
       "    </tr>\n",
       "    <tr>\n",
       "      <th>2</th>\n",
       "      <td>R</td>\n",
       "      <td>2</td>\n",
       "    </tr>\n",
       "    <tr>\n",
       "      <th>3</th>\n",
       "      <td>R</td>\n",
       "      <td>3</td>\n",
       "    </tr>\n",
       "    <tr>\n",
       "      <th>4</th>\n",
       "      <td>R</td>\n",
       "      <td>4</td>\n",
       "    </tr>\n",
       "  </tbody>\n",
       "</table>\n",
       "</div>"
      ],
      "text/plain": [
       "  Type  Id\n",
       "0    H   0\n",
       "1    H   1\n",
       "2    R   2\n",
       "3    R   3\n",
       "4    R   4"
      ]
     },
     "execution_count": 5,
     "metadata": {},
     "output_type": "execute_result"
    }
   ],
   "source": [
    "ins_x.df_resources"
   ]
  },
  {
   "cell_type": "code",
   "execution_count": 6,
   "metadata": {},
   "outputs": [
    {
     "data": {
      "text/html": [
       "<div>\n",
       "<style scoped>\n",
       "    .dataframe tbody tr th:only-of-type {\n",
       "        vertical-align: middle;\n",
       "    }\n",
       "\n",
       "    .dataframe tbody tr th {\n",
       "        vertical-align: top;\n",
       "    }\n",
       "\n",
       "    .dataframe thead th {\n",
       "        text-align: right;\n",
       "    }\n",
       "</style>\n",
       "<table border=\"1\" class=\"dataframe\">\n",
       "  <thead>\n",
       "    <tr style=\"text-align: right;\">\n",
       "      <th></th>\n",
       "      <th>WorkingSpace</th>\n",
       "      <th>Resource</th>\n",
       "    </tr>\n",
       "  </thead>\n",
       "  <tbody>\n",
       "    <tr>\n",
       "      <th>0</th>\n",
       "      <td>1</td>\n",
       "      <td>2</td>\n",
       "    </tr>\n",
       "    <tr>\n",
       "      <th>1</th>\n",
       "      <td>1</td>\n",
       "      <td>0</td>\n",
       "    </tr>\n",
       "    <tr>\n",
       "      <th>2</th>\n",
       "      <td>1</td>\n",
       "      <td>1</td>\n",
       "    </tr>\n",
       "    <tr>\n",
       "      <th>3</th>\n",
       "      <td>2</td>\n",
       "      <td>3</td>\n",
       "    </tr>\n",
       "    <tr>\n",
       "      <th>4</th>\n",
       "      <td>2</td>\n",
       "      <td>0</td>\n",
       "    </tr>\n",
       "    <tr>\n",
       "      <th>5</th>\n",
       "      <td>2</td>\n",
       "      <td>1</td>\n",
       "    </tr>\n",
       "    <tr>\n",
       "      <th>6</th>\n",
       "      <td>3</td>\n",
       "      <td>4</td>\n",
       "    </tr>\n",
       "    <tr>\n",
       "      <th>7</th>\n",
       "      <td>3</td>\n",
       "      <td>0</td>\n",
       "    </tr>\n",
       "    <tr>\n",
       "      <th>8</th>\n",
       "      <td>3</td>\n",
       "      <td>1</td>\n",
       "    </tr>\n",
       "  </tbody>\n",
       "</table>\n",
       "</div>"
      ],
      "text/plain": [
       "   WorkingSpace  Resource\n",
       "0             1         2\n",
       "1             1         0\n",
       "2             1         1\n",
       "3             2         3\n",
       "4             2         0\n",
       "5             2         1\n",
       "6             3         4\n",
       "7             3         0\n",
       "8             3         1"
      ]
     },
     "execution_count": 6,
     "metadata": {},
     "output_type": "execute_result"
    }
   ],
   "source": [
    "ins_x.df_workingspace_resources"
   ]
  },
  {
   "cell_type": "code",
   "execution_count": 7,
   "metadata": {},
   "outputs": [
    {
     "data": {
      "text/html": [
       "<div>\n",
       "<style scoped>\n",
       "    .dataframe tbody tr th:only-of-type {\n",
       "        vertical-align: middle;\n",
       "    }\n",
       "\n",
       "    .dataframe tbody tr th {\n",
       "        vertical-align: top;\n",
       "    }\n",
       "\n",
       "    .dataframe thead th {\n",
       "        text-align: right;\n",
       "    }\n",
       "</style>\n",
       "<table border=\"1\" class=\"dataframe\">\n",
       "  <thead>\n",
       "    <tr style=\"text-align: right;\">\n",
       "      <th></th>\n",
       "      <th>WorkingSpace</th>\n",
       "      <th>Id</th>\n",
       "    </tr>\n",
       "  </thead>\n",
       "  <tbody>\n",
       "    <tr>\n",
       "      <th>0</th>\n",
       "      <td>1</td>\n",
       "      <td>1</td>\n",
       "    </tr>\n",
       "    <tr>\n",
       "      <th>1</th>\n",
       "      <td>1</td>\n",
       "      <td>2</td>\n",
       "    </tr>\n",
       "    <tr>\n",
       "      <th>2</th>\n",
       "      <td>1</td>\n",
       "      <td>3</td>\n",
       "    </tr>\n",
       "    <tr>\n",
       "      <th>3</th>\n",
       "      <td>1</td>\n",
       "      <td>4</td>\n",
       "    </tr>\n",
       "    <tr>\n",
       "      <th>4</th>\n",
       "      <td>1</td>\n",
       "      <td>5</td>\n",
       "    </tr>\n",
       "  </tbody>\n",
       "</table>\n",
       "</div>"
      ],
      "text/plain": [
       "   WorkingSpace  Id\n",
       "0             1   1\n",
       "1             1   2\n",
       "2             1   3\n",
       "3             1   4\n",
       "4             1   5"
      ]
     },
     "execution_count": 7,
     "metadata": {},
     "output_type": "execute_result"
    }
   ],
   "source": [
    "ins_x.df_workingspace_id.head()"
   ]
  },
  {
   "attachments": {},
   "cell_type": "markdown",
   "metadata": {},
   "source": [
    "## [Flow](https://miro.com/app/board/uXjVPyl00iw=/)\n",
    "\n",
    "1. Generate **Initial Population**\n",
    "2. Verify if order of genes is violating the precedence\n",
    "    1. Discard those that are violating the precedence\n",
    "3. Create the array of times (start and end), using the resources time estimator for the respective mode allocation\n",
    "4. Duplicate it for all the jobs in the same instance (SAC)\n",
    "5. **Fitness Function**: Compute the total time to complete all the jobs in all working spaces of same instance $\\Longrightarrow C$ \n",
    "6. **Selection**: Retain the genes with lower C (at maximum X)\n",
    "    1. Discard those that have larger C\n",
    "    2. Verify if new population has a significant improvement in total C from previous population.\n",
    "7. **Generate next population**:\n",
    "    1. **Crossover**: from survival chromosomes, create offsprings \n",
    "    2. **Mutation**: add mutation to the created offsprings (initially larger %, and decreases over time).\n",
    "8. Return to point **2**."
   ]
  },
  {
   "attachments": {},
   "cell_type": "markdown",
   "metadata": {},
   "source": [
    "### 0. The chromosome\n",
    "\n",
    "```python\n",
    "chromosome = {\n",
    "    'mode': [0, 1, 2, 2, 1, ... ], # resource ID\n",
    "    'order': [2, 3, 1, 4, 5, ...], # order of tasks of each position\n",
    "    }\n",
    "\n",
    "```"
   ]
  },
  {
   "cell_type": "code",
   "execution_count": 8,
   "metadata": {},
   "outputs": [],
   "source": [
    "from src.genetic_algorithm.chromosome import Chromosome"
   ]
  },
  {
   "attachments": {},
   "cell_type": "markdown",
   "metadata": {},
   "source": [
    "### 1. Generate initial population"
   ]
  },
  {
   "attachments": {},
   "cell_type": "markdown",
   "metadata": {},
   "source": [
    "By default, it generates population for 1 working space:\n",
    "\n",
    "**Note**:\n",
    "- *It is important to generate a large first population, because a lot chromosomes might not survived due to feasibility of solutions.*"
   ]
  },
  {
   "cell_type": "code",
   "execution_count": 9,
   "metadata": {},
   "outputs": [
    {
     "name": "stdout",
     "output_type": "stream",
     "text": [
      "Possible modes: ['0' '1' '2' '0-2' '1-2']\n",
      "Number of tasks: 20\n",
      "Total size of first population: 6600\n"
     ]
    }
   ],
   "source": [
    "from src.genetic_algorithm import first_population\n",
    "\n",
    "# Modes\n",
    "\n",
    "possible_modes = first_population.get_possible_modes(ins_x)\n",
    "# Tasks\n",
    "n_tasks = first_population.get_total_number_of_tasks_per_working_space(ins_x)\n",
    "\n",
    "# Chromosomes\n",
    "chromosomes = first_population.get_first_population(possible_modes, n_tasks)"
   ]
  },
  {
   "cell_type": "code",
   "execution_count": null,
   "metadata": {},
   "outputs": [],
   "source": []
  },
  {
   "attachments": {},
   "cell_type": "markdown",
   "metadata": {},
   "source": [
    "### 2. Verify feasibility of solutions\n",
    "\n",
    "We need to verify:\n",
    "- the precedence is valid\n",
    "- the combination of modes and tasks is possible (the selected mode can perform the associated task) "
   ]
  },
  {
   "cell_type": "code",
   "execution_count": 10,
   "metadata": {},
   "outputs": [],
   "source": [
    "from src.genetic_algorithm import feasibility"
   ]
  },
  {
   "cell_type": "code",
   "execution_count": 11,
   "metadata": {},
   "outputs": [
    {
     "data": {
      "text/html": [
       "<div>\n",
       "<style scoped>\n",
       "    .dataframe tbody tr th:only-of-type {\n",
       "        vertical-align: middle;\n",
       "    }\n",
       "\n",
       "    .dataframe tbody tr th {\n",
       "        vertical-align: top;\n",
       "    }\n",
       "\n",
       "    .dataframe thead th {\n",
       "        text-align: right;\n",
       "    }\n",
       "</style>\n",
       "<table border=\"1\" class=\"dataframe\">\n",
       "  <thead>\n",
       "    <tr style=\"text-align: right;\">\n",
       "      <th></th>\n",
       "      <th>Predecessor</th>\n",
       "      <th>Sucessor</th>\n",
       "    </tr>\n",
       "  </thead>\n",
       "  <tbody>\n",
       "    <tr>\n",
       "      <th>0</th>\n",
       "      <td>1</td>\n",
       "      <td>2</td>\n",
       "    </tr>\n",
       "    <tr>\n",
       "      <th>1</th>\n",
       "      <td>2</td>\n",
       "      <td>3</td>\n",
       "    </tr>\n",
       "    <tr>\n",
       "      <th>2</th>\n",
       "      <td>3</td>\n",
       "      <td>4</td>\n",
       "    </tr>\n",
       "    <tr>\n",
       "      <th>3</th>\n",
       "      <td>1</td>\n",
       "      <td>4</td>\n",
       "    </tr>\n",
       "    <tr>\n",
       "      <th>4</th>\n",
       "      <td>1</td>\n",
       "      <td>5</td>\n",
       "    </tr>\n",
       "  </tbody>\n",
       "</table>\n",
       "</div>"
      ],
      "text/plain": [
       "   Predecessor  Sucessor\n",
       "0            1         2\n",
       "1            2         3\n",
       "2            3         4\n",
       "3            1         4\n",
       "4            1         5"
      ]
     },
     "execution_count": 11,
     "metadata": {},
     "output_type": "execute_result"
    }
   ],
   "source": [
    "ins_x.df_predecessor_sucessor.head()"
   ]
  },
  {
   "cell_type": "code",
   "execution_count": 12,
   "metadata": {},
   "outputs": [
    {
     "name": "stdout",
     "output_type": "stream",
     "text": [
      "From 6600 to 110\n"
     ]
    }
   ],
   "source": [
    "precedence_feasible_chromosomes = []\n",
    "for i in range(len(chromosomes)):\n",
    "    chrom = chromosomes[i]\n",
    "    if feasibility.is_chromosome_precedence_feasible(ins_x, chrom):\n",
    "        precedence_feasible_chromosomes.append(chrom)\n",
    "\n",
    "print(f\"From {len(chromosomes)} to {len(precedence_feasible_chromosomes)}\")"
   ]
  },
  {
   "cell_type": "code",
   "execution_count": 13,
   "metadata": {},
   "outputs": [
    {
     "name": "stdout",
     "output_type": "stream",
     "text": [
      "From 110 to 110\n"
     ]
    }
   ],
   "source": [
    "task_mode_feasible_chromosomes = []\n",
    "for i in range(len(precedence_feasible_chromosomes)):\n",
    "    chrom = precedence_feasible_chromosomes[i]\n",
    "    if feasibility.is_chromosome_task_mode_feasible(ins_x, chrom):\n",
    "        task_mode_feasible_chromosomes.append(chrom)\n",
    "\n",
    "print(\n",
    "    f\"From {len(precedence_feasible_chromosomes)} to {len(task_mode_feasible_chromosomes)}\"\n",
    ")"
   ]
  },
  {
   "cell_type": "code",
   "execution_count": null,
   "metadata": {},
   "outputs": [],
   "source": []
  },
  {
   "attachments": {},
   "cell_type": "markdown",
   "metadata": {},
   "source": [
    "### 3. Increment duplication with possible extra working spaces\n",
    "\n",
    "1. e.g. if other working spaces exist, duplicate the working modes, and duplicate the orders"
   ]
  },
  {
   "cell_type": "code",
   "execution_count": 87,
   "metadata": {},
   "outputs": [],
   "source": [
    "from src.genetic_algorithm import replication"
   ]
  },
  {
   "cell_type": "code",
   "execution_count": 88,
   "metadata": {},
   "outputs": [
    {
     "data": {
      "text/plain": [
       "Chromosome(mode=['0', '0', '0', '0', '0', '0', '0', '0', '0', '0', '0', '0', '0', '0', '0', '0', '0', '0', '0', '0'], order=[0, 1, 2, 3, 4, 5, 6, 7, 8, 9, 10, 11, 12, 13, 14, 15, 16, 17, 18, 19])"
      ]
     },
     "execution_count": 88,
     "metadata": {},
     "output_type": "execute_result"
    }
   ],
   "source": [
    "# Generate new orders\n",
    "chromosome = task_mode_feasible_chromosomes[0]\n",
    "chromosome"
   ]
  },
  {
   "cell_type": "code",
   "execution_count": 89,
   "metadata": {},
   "outputs": [],
   "source": [
    "chromosome_with_replication = replication.update_chromosome_with_replication(\n",
    "    ins_x, chromosome\n",
    ")"
   ]
  },
  {
   "cell_type": "code",
   "execution_count": 90,
   "metadata": {},
   "outputs": [
    {
     "data": {
      "text/plain": [
       "Chromosome(mode=['0', '0', '0', '0', '0', '0', '0', '0', '0', '0', '0', '0', '0', '0', '0', '0', '0', '0', '0', '0', '0', '0', '0', '0', '0', '0', '0', '0', '0', '0', '0', '0', '0', '0', '0', '0', '0', '0', '0', '0', '0', '0', '0', '0', '0', '0', '0', '0', '0', '0', '0', '0', '0', '0', '0', '0', '0', '0', '0', '0'], order=[0, 3, 6, 9, 12, 15, 18, 21, 24, 27, 30, 33, 36, 39, 42, 45, 48, 51, 54, 57, 1, 4, 7, 10, 13, 16, 19, 22, 25, 28, 31, 34, 37, 40, 43, 46, 49, 52, 55, 58, 2, 5, 8, 11, 14, 17, 20, 23, 26, 29, 32, 35, 38, 41, 44, 47, 50, 53, 56, 59])"
      ]
     },
     "execution_count": 90,
     "metadata": {},
     "output_type": "execute_result"
    }
   ],
   "source": [
    "chromosome_with_replication"
   ]
  },
  {
   "cell_type": "code",
   "execution_count": null,
   "metadata": {},
   "outputs": [],
   "source": [
    "# for all feasible chromosomes\n",
    "replicated_chromosomes = []\n",
    "for chromosome in task_mode_feasible_chromosomes:\n",
    "    replicated_chromosomes.append(\n",
    "        replication.update_chromosome_with_replication(ins_x, chromosome)\n",
    "    )"
   ]
  },
  {
   "cell_type": "code",
   "execution_count": null,
   "metadata": {},
   "outputs": [],
   "source": []
  },
  {
   "cell_type": "code",
   "execution_count": null,
   "metadata": {},
   "outputs": [],
   "source": []
  },
  {
   "cell_type": "code",
   "execution_count": null,
   "metadata": {},
   "outputs": [],
   "source": []
  },
  {
   "cell_type": "code",
   "execution_count": null,
   "metadata": {},
   "outputs": [],
   "source": []
  },
  {
   "attachments": {},
   "cell_type": "markdown",
   "metadata": {},
   "source": [
    "### 3. Get notion of start and end times\n",
    "\n",
    "1. Go task by task"
   ]
  },
  {
   "cell_type": "code",
   "execution_count": 14,
   "metadata": {},
   "outputs": [
    {
     "data": {
      "text/plain": [
       "[Chromosome(mode=['0', '0', '0', '0', '0', '0', '0', '0', '0', '0', '0', '0', '0', '0', '0', '0', '0', '0', '0', '0'], order=[0, 1, 2, 3, 4, 5, 6, 7, 8, 9, 10, 11, 12, 13, 14, 15, 16, 17, 18, 19]),\n",
       " Chromosome(mode=['1', '1', '1', '1', '1', '1', '1', '1', '1', '1', '1', '1', '1', '1', '1', '1', '1', '1', '1', '1'], order=[0, 1, 2, 3, 4, 5, 6, 7, 8, 9, 10, 11, 12, 13, 14, 15, 16, 17, 18, 19]),\n",
       " Chromosome(mode=['2', '2', '2', '2', '2', '2', '2', '2', '2', '2', '2', '2', '2', '2', '2', '2', '2', '2', '2', '2'], order=[0, 1, 2, 3, 4, 5, 6, 7, 8, 9, 10, 11, 12, 13, 14, 15, 16, 17, 18, 19]),\n",
       " Chromosome(mode=['0-2', '0-2', '0-2', '0-2', '0-2', '0-2', '0-2', '0-2', '0-2', '0-2', '0-2', '0-2', '0-2', '0-2', '0-2', '0-2', '0-2', '0-2', '0-2', '0-2'], order=[0, 1, 2, 3, 4, 5, 6, 7, 8, 9, 10, 11, 12, 13, 14, 15, 16, 17, 18, 19]),\n",
       " Chromosome(mode=['1-2', '1-2', '1-2', '1-2', '1-2', '1-2', '1-2', '1-2', '1-2', '1-2', '1-2', '1-2', '1-2', '1-2', '1-2', '1-2', '1-2', '1-2', '1-2', '1-2'], order=[0, 1, 2, 3, 4, 5, 6, 7, 8, 9, 10, 11, 12, 13, 14, 15, 16, 17, 18, 19]),\n",
       " Chromosome(mode=['0', '0', '0', '0', '0', '0', '0', '0', '0', '0', '0', '0', '0', '0', '0', '0', '0', '0', '0', '0'], order=[0, 1, 2, 4, 3, 5, 6, 7, 9, 8, 10, 11, 12, 14, 13, 15, 16, 17, 19, 18]),\n",
       " Chromosome(mode=['1', '1', '1', '1', '1', '1', '1', '1', '1', '1', '1', '1', '1', '1', '1', '1', '1', '1', '1', '1'], order=[0, 1, 2, 4, 3, 5, 6, 7, 9, 8, 10, 11, 12, 14, 13, 15, 16, 17, 19, 18]),\n",
       " Chromosome(mode=['2', '2', '2', '2', '2', '2', '2', '2', '2', '2', '2', '2', '2', '2', '2', '2', '2', '2', '2', '2'], order=[0, 1, 2, 4, 3, 5, 6, 7, 9, 8, 10, 11, 12, 14, 13, 15, 16, 17, 19, 18]),\n",
       " Chromosome(mode=['0-2', '0-2', '0-2', '0-2', '0-2', '0-2', '0-2', '0-2', '0-2', '0-2', '0-2', '0-2', '0-2', '0-2', '0-2', '0-2', '0-2', '0-2', '0-2', '0-2'], order=[0, 1, 2, 4, 3, 5, 6, 7, 9, 8, 10, 11, 12, 14, 13, 15, 16, 17, 19, 18]),\n",
       " Chromosome(mode=['1-2', '1-2', '1-2', '1-2', '1-2', '1-2', '1-2', '1-2', '1-2', '1-2', '1-2', '1-2', '1-2', '1-2', '1-2', '1-2', '1-2', '1-2', '1-2', '1-2'], order=[0, 1, 2, 4, 3, 5, 6, 7, 9, 8, 10, 11, 12, 14, 13, 15, 16, 17, 19, 18]),\n",
       " Chromosome(mode=['0', '0', '2', '0', '1-2', '0', '2', '1', '1-2', '0', '1', '1', '1', '0', '2', '0', '2', '0', '1', '2'], order=[0, 1, 2, 3, 4, 5, 6, 7, 8, 9, 10, 11, 12, 13, 14, 15, 16, 17, 18, 19]),\n",
       " Chromosome(mode=['1-2', '0', '0', '0-2', '0', '1-2', '2', '1', '1-2', '0-2', '1', '1-2', '1', '0-2', '2', '1-2', '1', '1', '0-2', '2'], order=[0, 1, 2, 4, 3, 5, 6, 7, 9, 8, 10, 11, 12, 14, 13, 15, 16, 17, 19, 18]),\n",
       " Chromosome(mode=['2', '1', '0-2', '1-2', '0-2', '0', '1', '0-2', '1', '0-2', '2', '0-2', '2', '1-2', '0', '0', '1', '0-2', '0-2', '1-2'], order=[0, 1, 2, 3, 4, 5, 6, 7, 8, 9, 10, 11, 12, 13, 14, 15, 16, 17, 18, 19]),\n",
       " Chromosome(mode=['1', '0', '2', '1-2', '0', '1-2', '1-2', '2', '1-2', '2', '0-2', '2', '1', '0', '1', '1-2', '0-2', '0', '0-2', '2'], order=[0, 1, 2, 4, 3, 5, 6, 7, 9, 8, 10, 11, 12, 14, 13, 15, 16, 17, 19, 18]),\n",
       " Chromosome(mode=['1', '1', '1', '1', '1-2', '1-2', '0-2', '2', '0', '1-2', '1', '1-2', '0', '0-2', '1', '1', '2', '2', '0', '0-2'], order=[0, 1, 2, 3, 4, 5, 6, 7, 8, 9, 10, 11, 12, 13, 14, 15, 16, 17, 18, 19]),\n",
       " Chromosome(mode=['1', '1', '1', '1', '0', '0-2', '2', '0-2', '0', '2', '0', '2', '2', '0-2', '0-2', '1', '2', '1-2', '0', '0'], order=[0, 1, 2, 4, 3, 5, 6, 7, 9, 8, 10, 11, 12, 14, 13, 15, 16, 17, 19, 18]),\n",
       " Chromosome(mode=['2', '0', '0', '1-2', '0-2', '0', '1', '1-2', '1-2', '0', '0', '0-2', '0', '0', '2', '0', '0', '0', '1', '2'], order=[0, 1, 2, 3, 4, 5, 6, 7, 8, 9, 10, 11, 12, 13, 14, 15, 16, 17, 18, 19]),\n",
       " Chromosome(mode=['1', '2', '2', '1-2', '0', '1', '0-2', '2', '1-2', '0', '2', '1-2', '2', '1', '0', '2', '1-2', '0-2', '0', '2'], order=[0, 1, 2, 4, 3, 5, 6, 7, 9, 8, 10, 11, 12, 14, 13, 15, 16, 17, 19, 18]),\n",
       " Chromosome(mode=['0', '2', '2', '2', '0-2', '1-2', '0', '0', '0', '0-2', '0-2', '0', '2', '0-2', '1', '0-2', '0', '0', '0-2', '1'], order=[0, 1, 2, 3, 4, 5, 6, 7, 8, 9, 10, 11, 12, 13, 14, 15, 16, 17, 18, 19]),\n",
       " Chromosome(mode=['1', '0-2', '2', '0', '0', '2', '2', '1-2', '2', '1-2', '1', '1-2', '2', '1', '2', '0-2', '1', '2', '2', '1-2'], order=[0, 1, 2, 4, 3, 5, 6, 7, 9, 8, 10, 11, 12, 14, 13, 15, 16, 17, 19, 18]),\n",
       " Chromosome(mode=['1', '1', '1', '2', '2', '0-2', '2', '2', '1-2', '2', '1', '1-2', '1-2', '0-2', '0-2', '0', '1-2', '1', '1', '1'], order=[0, 1, 2, 3, 4, 5, 6, 7, 8, 9, 10, 11, 12, 13, 14, 15, 16, 17, 18, 19]),\n",
       " Chromosome(mode=['0-2', '0-2', '1-2', '2', '1-2', '0-2', '2', '0', '0', '0', '2', '0-2', '1', '0-2', '0-2', '1', '0-2', '0-2', '1-2', '1-2'], order=[0, 1, 2, 4, 3, 5, 6, 7, 9, 8, 10, 11, 12, 14, 13, 15, 16, 17, 19, 18]),\n",
       " Chromosome(mode=['1-2', '1-2', '1', '0-2', '0', '1', '2', '0-2', '1', '0', '0-2', '1', '0', '0', '2', '1', '0-2', '1-2', '0-2', '0-2'], order=[0, 1, 2, 3, 4, 5, 6, 7, 8, 9, 10, 11, 12, 13, 14, 15, 16, 17, 18, 19]),\n",
       " Chromosome(mode=['1', '0', '2', '1', '1', '0-2', '0', '1-2', '1-2', '1', '0-2', '2', '2', '2', '0', '0', '1-2', '1-2', '1', '0'], order=[0, 1, 2, 4, 3, 5, 6, 7, 9, 8, 10, 11, 12, 14, 13, 15, 16, 17, 19, 18]),\n",
       " Chromosome(mode=['1-2', '1', '0-2', '2', '2', '1', '2', '2', '0', '2', '1', '1-2', '0-2', '1-2', '2', '0-2', '1-2', '0-2', '1', '2'], order=[0, 1, 2, 3, 4, 5, 6, 7, 8, 9, 10, 11, 12, 13, 14, 15, 16, 17, 18, 19]),\n",
       " Chromosome(mode=['2', '1-2', '0-2', '0-2', '0-2', '2', '0-2', '0-2', '1-2', '2', '0', '1-2', '1', '1', '0', '1-2', '2', '0', '2', '0-2'], order=[0, 1, 2, 4, 3, 5, 6, 7, 9, 8, 10, 11, 12, 14, 13, 15, 16, 17, 19, 18]),\n",
       " Chromosome(mode=['0-2', '0', '0', '1-2', '2', '0', '0', '1-2', '1', '1', '1-2', '0-2', '1', '1-2', '0', '1', '2', '2', '0', '0'], order=[0, 1, 2, 3, 4, 5, 6, 7, 8, 9, 10, 11, 12, 13, 14, 15, 16, 17, 18, 19]),\n",
       " Chromosome(mode=['2', '0-2', '0-2', '1-2', '0-2', '2', '0-2', '1-2', '0-2', '0-2', '1-2', '1-2', '2', '0-2', '0', '0-2', '1-2', '1-2', '0', '0'], order=[0, 1, 2, 4, 3, 5, 6, 7, 9, 8, 10, 11, 12, 14, 13, 15, 16, 17, 19, 18]),\n",
       " Chromosome(mode=['1', '0-2', '1', '1', '0', '0', '1-2', '1-2', '0', '0', '0-2', '1-2', '1-2', '1-2', '1-2', '1', '1-2', '2', '0', '0-2'], order=[0, 1, 2, 3, 4, 5, 6, 7, 8, 9, 10, 11, 12, 13, 14, 15, 16, 17, 18, 19]),\n",
       " Chromosome(mode=['1', '1', '2', '1-2', '2', '0', '1-2', '1', '0-2', '2', '1', '0', '0-2', '2', '1', '1-2', '2', '2', '2', '2'], order=[0, 1, 2, 4, 3, 5, 6, 7, 9, 8, 10, 11, 12, 14, 13, 15, 16, 17, 19, 18]),\n",
       " Chromosome(mode=['1', '0', '1-2', '2', '2', '1', '0', '0', '0', '1-2', '1-2', '2', '0', '1-2', '0', '1-2', '0-2', '1', '1-2', '1-2'], order=[0, 1, 2, 3, 4, 5, 6, 7, 8, 9, 10, 11, 12, 13, 14, 15, 16, 17, 18, 19]),\n",
       " Chromosome(mode=['0', '0-2', '1-2', '1', '1', '0', '1', '0-2', '1-2', '2', '2', '1-2', '2', '0', '0', '1-2', '0', '2', '2', '2'], order=[0, 1, 2, 4, 3, 5, 6, 7, 9, 8, 10, 11, 12, 14, 13, 15, 16, 17, 19, 18]),\n",
       " Chromosome(mode=['0-2', '1', '1-2', '2', '2', '2', '2', '1', '1', '1', '1-2', '1', '1-2', '1-2', '0-2', '0-2', '1', '1', '0-2', '0-2'], order=[0, 1, 2, 3, 4, 5, 6, 7, 8, 9, 10, 11, 12, 13, 14, 15, 16, 17, 18, 19]),\n",
       " Chromosome(mode=['0', '0', '1', '1-2', '1-2', '1', '1', '1-2', '0', '0-2', '1-2', '0-2', '0', '2', '0-2', '0', '1-2', '2', '2', '0-2'], order=[0, 1, 2, 4, 3, 5, 6, 7, 9, 8, 10, 11, 12, 14, 13, 15, 16, 17, 19, 18]),\n",
       " Chromosome(mode=['1-2', '2', '0-2', '0-2', '1', '0', '0-2', '2', '1-2', '1', '0', '1-2', '1-2', '1', '0-2', '0-2', '2', '0-2', '0', '2'], order=[0, 1, 2, 3, 4, 5, 6, 7, 8, 9, 10, 11, 12, 13, 14, 15, 16, 17, 18, 19]),\n",
       " Chromosome(mode=['0', '1', '0', '2', '1-2', '1-2', '1', '0-2', '1', '2', '2', '2', '2', '1-2', '1-2', '1', '2', '1-2', '1-2', '1-2'], order=[0, 1, 2, 4, 3, 5, 6, 7, 9, 8, 10, 11, 12, 14, 13, 15, 16, 17, 19, 18]),\n",
       " Chromosome(mode=['0-2', '1', '0', '0-2', '0', '1', '0', '2', '0', '0-2', '1', '1', '1', '2', '1', '0', '2', '0', '1-2', '0'], order=[0, 1, 2, 3, 4, 5, 6, 7, 8, 9, 10, 11, 12, 13, 14, 15, 16, 17, 18, 19]),\n",
       " Chromosome(mode=['0-2', '0-2', '2', '0-2', '1-2', '1-2', '0-2', '0', '1', '0', '1', '0-2', '1-2', '1-2', '1', '1-2', '1', '0-2', '0', '1'], order=[0, 1, 2, 4, 3, 5, 6, 7, 9, 8, 10, 11, 12, 14, 13, 15, 16, 17, 19, 18]),\n",
       " Chromosome(mode=['0-2', '1-2', '0', '1', '1', '0', '0-2', '2', '1-2', '2', '1-2', '0-2', '1', '0', '1-2', '2', '2', '1-2', '0', '1'], order=[0, 1, 2, 3, 4, 5, 6, 7, 8, 9, 10, 11, 12, 13, 14, 15, 16, 17, 18, 19]),\n",
       " Chromosome(mode=['1', '1-2', '1-2', '2', '1-2', '0-2', '0', '2', '0-2', '0', '0-2', '1-2', '1', '0-2', '0-2', '2', '1-2', '2', '1', '1'], order=[0, 1, 2, 4, 3, 5, 6, 7, 9, 8, 10, 11, 12, 14, 13, 15, 16, 17, 19, 18]),\n",
       " Chromosome(mode=['2', '1', '2', '0-2', '1', '1', '2', '0-2', '1-2', '1', '0-2', '0', '1', '2', '0-2', '2', '2', '0', '0', '0-2'], order=[0, 1, 2, 3, 4, 5, 6, 7, 8, 9, 10, 11, 12, 13, 14, 15, 16, 17, 18, 19]),\n",
       " Chromosome(mode=['0-2', '0', '1-2', '1', '2', '0', '2', '0', '2', '1', '1', '0-2', '1', '1', '1', '1', '0-2', '0', '1', '1'], order=[0, 1, 2, 4, 3, 5, 6, 7, 9, 8, 10, 11, 12, 14, 13, 15, 16, 17, 19, 18]),\n",
       " Chromosome(mode=['0', '1-2', '1', '1-2', '2', '1', '1', '1', '2', '0', '1-2', '1', '0-2', '2', '1-2', '1-2', '0', '0', '2', '0-2'], order=[0, 1, 2, 3, 4, 5, 6, 7, 8, 9, 10, 11, 12, 13, 14, 15, 16, 17, 18, 19]),\n",
       " Chromosome(mode=['0-2', '0', '1-2', '0-2', '1', '1-2', '2', '0', '1-2', '2', '0-2', '2', '1', '0', '0', '0', '0-2', '1-2', '0-2', '0-2'], order=[0, 1, 2, 4, 3, 5, 6, 7, 9, 8, 10, 11, 12, 14, 13, 15, 16, 17, 19, 18]),\n",
       " Chromosome(mode=['0', '1', '1-2', '0-2', '0', '0-2', '1', '1', '2', '1-2', '1-2', '1-2', '1', '1', '1', '1-2', '0-2', '2', '1', '1-2'], order=[0, 1, 2, 3, 4, 5, 6, 7, 8, 9, 10, 11, 12, 13, 14, 15, 16, 17, 18, 19]),\n",
       " Chromosome(mode=['0-2', '0-2', '2', '1', '1', '1-2', '0-2', '1-2', '1', '1', '0', '2', '0', '0', '0', '0', '2', '0', '0', '0-2'], order=[0, 1, 2, 4, 3, 5, 6, 7, 9, 8, 10, 11, 12, 14, 13, 15, 16, 17, 19, 18]),\n",
       " Chromosome(mode=['0', '2', '0', '2', '1-2', '0-2', '0-2', '2', '1', '1-2', '0-2', '0', '1', '2', '0', '0', '1-2', '2', '1', '0'], order=[0, 1, 2, 3, 4, 5, 6, 7, 8, 9, 10, 11, 12, 13, 14, 15, 16, 17, 18, 19]),\n",
       " Chromosome(mode=['2', '0', '1', '1-2', '0', '1-2', '1-2', '0', '1-2', '1-2', '0', '1-2', '0', '2', '0', '1', '0-2', '0', '1', '0'], order=[0, 1, 2, 4, 3, 5, 6, 7, 9, 8, 10, 11, 12, 14, 13, 15, 16, 17, 19, 18]),\n",
       " Chromosome(mode=['1-2', '1-2', '0', '0', '1', '0', '2', '2', '0-2', '2', '0', '0', '1-2', '0-2', '1-2', '0', '1-2', '1', '0', '0-2'], order=[0, 1, 2, 3, 4, 5, 6, 7, 8, 9, 10, 11, 12, 13, 14, 15, 16, 17, 18, 19]),\n",
       " Chromosome(mode=['1', '2', '0-2', '1-2', '0-2', '1', '1-2', '0-2', '2', '0-2', '0-2', '1-2', '0-2', '0-2', '0-2', '2', '1-2', '1', '1', '2'], order=[0, 1, 2, 4, 3, 5, 6, 7, 9, 8, 10, 11, 12, 14, 13, 15, 16, 17, 19, 18]),\n",
       " Chromosome(mode=['0', '0', '0-2', '1-2', '1-2', '0-2', '1', '1', '0-2', '2', '1-2', '0', '0', '0', '1', '0-2', '0', '2', '0', '0'], order=[0, 1, 2, 3, 4, 5, 6, 7, 8, 9, 10, 11, 12, 13, 14, 15, 16, 17, 18, 19]),\n",
       " Chromosome(mode=['1', '1', '0-2', '0', '1', '1', '2', '0-2', '0-2', '0-2', '2', '2', '2', '0-2', '0', '2', '1-2', '2', '1-2', '1'], order=[0, 1, 2, 4, 3, 5, 6, 7, 9, 8, 10, 11, 12, 14, 13, 15, 16, 17, 19, 18]),\n",
       " Chromosome(mode=['1', '0-2', '0', '2', '0-2', '0-2', '0', '1-2', '2', '1', '1', '0-2', '1-2', '0', '1-2', '1-2', '2', '1', '1', '1-2'], order=[0, 1, 2, 3, 4, 5, 6, 7, 8, 9, 10, 11, 12, 13, 14, 15, 16, 17, 18, 19]),\n",
       " Chromosome(mode=['1-2', '0-2', '2', '0-2', '1', '0-2', '2', '1', '0', '1', '1', '1', '0', '2', '1-2', '2', '1-2', '0', '0', '2'], order=[0, 1, 2, 4, 3, 5, 6, 7, 9, 8, 10, 11, 12, 14, 13, 15, 16, 17, 19, 18]),\n",
       " Chromosome(mode=['1-2', '1-2', '1-2', '1', '2', '1-2', '0', '1-2', '2', '0-2', '1-2', '0-2', '2', '1', '1-2', '1', '1', '0-2', '2', '1'], order=[0, 1, 2, 3, 4, 5, 6, 7, 8, 9, 10, 11, 12, 13, 14, 15, 16, 17, 18, 19]),\n",
       " Chromosome(mode=['1', '0-2', '2', '0', '1', '0', '0-2', '0', '1', '2', '1-2', '2', '0', '0-2', '1-2', '2', '1', '0-2', '2', '1-2'], order=[0, 1, 2, 4, 3, 5, 6, 7, 9, 8, 10, 11, 12, 14, 13, 15, 16, 17, 19, 18]),\n",
       " Chromosome(mode=['0', '1-2', '1-2', '1', '1-2', '2', '0', '1-2', '0-2', '2', '1-2', '1-2', '1-2', '0', '1-2', '1', '0-2', '1', '1-2', '1-2'], order=[0, 1, 2, 3, 4, 5, 6, 7, 8, 9, 10, 11, 12, 13, 14, 15, 16, 17, 18, 19]),\n",
       " Chromosome(mode=['1-2', '0-2', '2', '0-2', '0-2', '0-2', '0', '1', '0-2', '2', '1', '0-2', '1-2', '1-2', '1', '1', '2', '2', '0-2', '0'], order=[0, 1, 2, 4, 3, 5, 6, 7, 9, 8, 10, 11, 12, 14, 13, 15, 16, 17, 19, 18]),\n",
       " Chromosome(mode=['2', '0-2', '2', '0', '2', '1', '2', '1-2', '1-2', '1', '0', '0-2', '0', '2', '2', '1', '0-2', '1-2', '2', '0-2'], order=[0, 1, 2, 3, 4, 5, 6, 7, 8, 9, 10, 11, 12, 13, 14, 15, 16, 17, 18, 19]),\n",
       " Chromosome(mode=['1', '2', '0-2', '2', '1', '1-2', '1-2', '1', '1', '0', '2', '1', '1', '0-2', '2', '1-2', '1-2', '1-2', '2', '0-2'], order=[0, 1, 2, 4, 3, 5, 6, 7, 9, 8, 10, 11, 12, 14, 13, 15, 16, 17, 19, 18]),\n",
       " Chromosome(mode=['0-2', '0-2', '1-2', '1', '1-2', '2', '2', '0', '1-2', '1-2', '1', '0-2', '0', '2', '2', '1-2', '1-2', '1', '0-2', '1'], order=[0, 1, 2, 3, 4, 5, 6, 7, 8, 9, 10, 11, 12, 13, 14, 15, 16, 17, 18, 19]),\n",
       " Chromosome(mode=['1', '0-2', '0', '0', '0-2', '1-2', '0', '2', '1-2', '1-2', '0-2', '0-2', '2', '1', '1-2', '1', '0', '0', '2', '1-2'], order=[0, 1, 2, 4, 3, 5, 6, 7, 9, 8, 10, 11, 12, 14, 13, 15, 16, 17, 19, 18]),\n",
       " Chromosome(mode=['0', '0', '2', '0', '1-2', '0', '0-2', '1-2', '0-2', '2', '1-2', '2', '2', '0-2', '1-2', '1', '1', '1', '1-2', '0-2'], order=[0, 1, 2, 3, 4, 5, 6, 7, 8, 9, 10, 11, 12, 13, 14, 15, 16, 17, 18, 19]),\n",
       " Chromosome(mode=['0-2', '0', '1', '2', '1', '2', '2', '1-2', '1-2', '2', '0', '1-2', '0-2', '1-2', '0', '1-2', '1', '0', '1-2', '1-2'], order=[0, 1, 2, 4, 3, 5, 6, 7, 9, 8, 10, 11, 12, 14, 13, 15, 16, 17, 19, 18]),\n",
       " Chromosome(mode=['0', '2', '0', '2', '0', '0-2', '0-2', '0-2', '0-2', '0-2', '0', '1-2', '1', '0-2', '1', '1', '0', '1-2', '0', '0-2'], order=[0, 1, 2, 3, 4, 5, 6, 7, 8, 9, 10, 11, 12, 13, 14, 15, 16, 17, 18, 19]),\n",
       " Chromosome(mode=['0', '0-2', '2', '0', '0', '0', '2', '0', '0', '2', '0', '2', '1-2', '0', '0', '2', '0-2', '1-2', '1-2', '1'], order=[0, 1, 2, 4, 3, 5, 6, 7, 9, 8, 10, 11, 12, 14, 13, 15, 16, 17, 19, 18]),\n",
       " Chromosome(mode=['1', '0', '1-2', '0', '0', '1', '0-2', '1', '0', '1', '0', '1', '2', '0-2', '1-2', '0-2', '2', '0-2', '2', '0'], order=[0, 1, 2, 3, 4, 5, 6, 7, 8, 9, 10, 11, 12, 13, 14, 15, 16, 17, 18, 19]),\n",
       " Chromosome(mode=['0', '1-2', '1', '0', '0', '2', '0', '1-2', '2', '1-2', '0-2', '2', '1', '2', '1', '0', '1', '0-2', '0-2', '1'], order=[0, 1, 2, 4, 3, 5, 6, 7, 9, 8, 10, 11, 12, 14, 13, 15, 16, 17, 19, 18]),\n",
       " Chromosome(mode=['1', '0-2', '1-2', '1-2', '1', '1', '0', '0', '2', '1-2', '2', '1', '2', '0', '0', '2', '0-2', '0', '2', '0'], order=[0, 1, 2, 3, 4, 5, 6, 7, 8, 9, 10, 11, 12, 13, 14, 15, 16, 17, 18, 19]),\n",
       " Chromosome(mode=['1-2', '0-2', '1', '1-2', '1', '1', '0-2', '0-2', '0-2', '0', '1-2', '0-2', '0-2', '0-2', '0-2', '1-2', '0-2', '1', '0-2', '0'], order=[0, 1, 2, 4, 3, 5, 6, 7, 9, 8, 10, 11, 12, 14, 13, 15, 16, 17, 19, 18]),\n",
       " Chromosome(mode=['2', '0-2', '0', '0', '1-2', '1', '1-2', '1', '0-2', '2', '2', '1-2', '0-2', '1-2', '2', '0-2', '0-2', '1-2', '0-2', '1-2'], order=[0, 1, 2, 3, 4, 5, 6, 7, 8, 9, 10, 11, 12, 13, 14, 15, 16, 17, 18, 19]),\n",
       " Chromosome(mode=['1', '1', '1-2', '1', '1-2', '2', '2', '2', '1-2', '1', '2', '0', '0', '1', '1-2', '0', '2', '2', '1', '1-2'], order=[0, 1, 2, 4, 3, 5, 6, 7, 9, 8, 10, 11, 12, 14, 13, 15, 16, 17, 19, 18]),\n",
       " Chromosome(mode=['2', '0-2', '0', '1', '0-2', '2', '2', '1-2', '0', '1', '0', '2', '2', '1', '2', '1-2', '1-2', '0-2', '0', '2'], order=[0, 1, 2, 3, 4, 5, 6, 7, 8, 9, 10, 11, 12, 13, 14, 15, 16, 17, 18, 19]),\n",
       " Chromosome(mode=['1', '0', '2', '2', '1', '0-2', '1', '1-2', '1', '1-2', '1', '1-2', '2', '2', '1', '0-2', '0-2', '2', '1-2', '2'], order=[0, 1, 2, 4, 3, 5, 6, 7, 9, 8, 10, 11, 12, 14, 13, 15, 16, 17, 19, 18]),\n",
       " Chromosome(mode=['0-2', '1', '1-2', '0', '2', '1-2', '2', '0-2', '0-2', '2', '1', '2', '1', '0-2', '0-2', '0', '0', '0', '2', '1'], order=[0, 1, 2, 3, 4, 5, 6, 7, 8, 9, 10, 11, 12, 13, 14, 15, 16, 17, 18, 19]),\n",
       " Chromosome(mode=['1', '2', '1-2', '1-2', '1', '0-2', '1-2', '2', '0-2', '1', '0-2', '1-2', '2', '0-2', '0', '1', '2', '1-2', '1-2', '1-2'], order=[0, 1, 2, 4, 3, 5, 6, 7, 9, 8, 10, 11, 12, 14, 13, 15, 16, 17, 19, 18]),\n",
       " Chromosome(mode=['0-2', '1-2', '2', '2', '1-2', '0', '1-2', '1-2', '1-2', '0-2', '1-2', '2', '2', '1', '2', '1', '1', '0', '1', '0-2'], order=[0, 1, 2, 3, 4, 5, 6, 7, 8, 9, 10, 11, 12, 13, 14, 15, 16, 17, 18, 19]),\n",
       " Chromosome(mode=['2', '0-2', '1', '0-2', '0-2', '2', '0-2', '2', '0-2', '2', '1', '2', '1', '0-2', '2', '1', '0-2', '1', '1-2', '1-2'], order=[0, 1, 2, 4, 3, 5, 6, 7, 9, 8, 10, 11, 12, 14, 13, 15, 16, 17, 19, 18]),\n",
       " Chromosome(mode=['1', '0', '1', '0', '0', '1-2', '1-2', '2', '0', '0', '0-2', '1', '2', '2', '1-2', '1-2', '0-2', '0', '2', '1-2'], order=[0, 1, 2, 3, 4, 5, 6, 7, 8, 9, 10, 11, 12, 13, 14, 15, 16, 17, 18, 19]),\n",
       " Chromosome(mode=['0-2', '0-2', '1', '1', '1-2', '1-2', '0', '1', '0', '1-2', '2', '2', '0-2', '1-2', '1', '1', '0-2', '0', '0-2', '0-2'], order=[0, 1, 2, 4, 3, 5, 6, 7, 9, 8, 10, 11, 12, 14, 13, 15, 16, 17, 19, 18]),\n",
       " Chromosome(mode=['1-2', '1-2', '2', '1-2', '0-2', '2', '1', '2', '2', '2', '0', '1-2', '0-2', '1-2', '2', '0-2', '1-2', '0-2', '0-2', '0'], order=[0, 1, 2, 3, 4, 5, 6, 7, 8, 9, 10, 11, 12, 13, 14, 15, 16, 17, 18, 19]),\n",
       " Chromosome(mode=['0-2', '1', '0-2', '0-2', '1-2', '2', '0', '2', '1', '1-2', '2', '1-2', '1-2', '0', '2', '2', '1-2', '0', '0-2', '0'], order=[0, 1, 2, 4, 3, 5, 6, 7, 9, 8, 10, 11, 12, 14, 13, 15, 16, 17, 19, 18]),\n",
       " Chromosome(mode=['2', '1', '2', '0', '0-2', '1-2', '2', '1', '1-2', '1', '0', '1', '2', '0', '0', '0-2', '1-2', '2', '1', '1-2'], order=[0, 1, 2, 3, 4, 5, 6, 7, 8, 9, 10, 11, 12, 13, 14, 15, 16, 17, 18, 19]),\n",
       " Chromosome(mode=['1', '1-2', '0', '0', '2', '1-2', '1-2', '2', '0', '1', '0-2', '0-2', '2', '0', '2', '1-2', '0', '0', '0', '0-2'], order=[0, 1, 2, 4, 3, 5, 6, 7, 9, 8, 10, 11, 12, 14, 13, 15, 16, 17, 19, 18]),\n",
       " Chromosome(mode=['0-2', '0', '2', '0', '0', '2', '0', '0', '1-2', '1-2', '2', '0', '0', '0', '0-2', '0-2', '0-2', '0', '0-2', '0-2'], order=[0, 1, 2, 3, 4, 5, 6, 7, 8, 9, 10, 11, 12, 13, 14, 15, 16, 17, 18, 19]),\n",
       " Chromosome(mode=['0-2', '1-2', '1-2', '0-2', '1-2', '0', '1-2', '0-2', '0', '0', '1-2', '0', '0-2', '1', '0-2', '0', '0', '2', '0-2', '1-2'], order=[0, 1, 2, 4, 3, 5, 6, 7, 9, 8, 10, 11, 12, 14, 13, 15, 16, 17, 19, 18]),\n",
       " Chromosome(mode=['1', '0', '1-2', '0', '1', '0', '1-2', '2', '1', '0-2', '1-2', '0-2', '1', '2', '0', '0', '0-2', '2', '0-2', '0'], order=[0, 1, 2, 3, 4, 5, 6, 7, 8, 9, 10, 11, 12, 13, 14, 15, 16, 17, 18, 19]),\n",
       " Chromosome(mode=['1-2', '1-2', '2', '0-2', '1', '2', '1-2', '0-2', '2', '0', '1', '0-2', '1-2', '1-2', '0', '0', '0-2', '1-2', '0-2', '1-2'], order=[0, 1, 2, 4, 3, 5, 6, 7, 9, 8, 10, 11, 12, 14, 13, 15, 16, 17, 19, 18]),\n",
       " Chromosome(mode=['0', '1', '1-2', '0-2', '0', '1-2', '1-2', '2', '0-2', '0', '0', '2', '1', '1-2', '2', '1-2', '1-2', '0-2', '0-2', '1'], order=[0, 1, 2, 3, 4, 5, 6, 7, 8, 9, 10, 11, 12, 13, 14, 15, 16, 17, 18, 19]),\n",
       " Chromosome(mode=['1', '0-2', '2', '2', '0-2', '0-2', '0-2', '1', '0', '2', '1-2', '0-2', '2', '1-2', '0-2', '1-2', '2', '1', '1-2', '0-2'], order=[0, 1, 2, 4, 3, 5, 6, 7, 9, 8, 10, 11, 12, 14, 13, 15, 16, 17, 19, 18]),\n",
       " Chromosome(mode=['2', '1-2', '0', '0', '0-2', '0', '0', '1', '2', '0', '1', '1-2', '0-2', '0-2', '2', '1-2', '2', '0', '0-2', '0-2'], order=[0, 1, 2, 3, 4, 5, 6, 7, 8, 9, 10, 11, 12, 13, 14, 15, 16, 17, 18, 19]),\n",
       " Chromosome(mode=['0', '1-2', '2', '0-2', '0-2', '0-2', '1-2', '1-2', '1-2', '1', '0', '1', '2', '1-2', '0', '0-2', '2', '2', '2', '0-2'], order=[0, 1, 2, 4, 3, 5, 6, 7, 9, 8, 10, 11, 12, 14, 13, 15, 16, 17, 19, 18]),\n",
       " Chromosome(mode=['1', '0', '1', '1-2', '0', '0', '1-2', '2', '0', '1-2', '0', '0-2', '0', '1', '1-2', '0-2', '2', '1-2', '0', '0-2'], order=[0, 1, 2, 3, 4, 5, 6, 7, 8, 9, 10, 11, 12, 13, 14, 15, 16, 17, 18, 19]),\n",
       " Chromosome(mode=['2', '0-2', '1', '1', '1', '1-2', '0', '1-2', '0-2', '1-2', '2', '1-2', '2', '1-2', '0', '0-2', '2', '1-2', '0', '2'], order=[0, 1, 2, 4, 3, 5, 6, 7, 9, 8, 10, 11, 12, 14, 13, 15, 16, 17, 19, 18]),\n",
       " Chromosome(mode=['0', '1', '2', '0-2', '0-2', '1-2', '1-2', '2', '1', '0-2', '0-2', '0-2', '0', '0', '2', '0', '1-2', '0', '2', '2'], order=[0, 1, 2, 3, 4, 5, 6, 7, 8, 9, 10, 11, 12, 13, 14, 15, 16, 17, 18, 19]),\n",
       " Chromosome(mode=['2', '0-2', '1-2', '1-2', '0', '1-2', '0-2', '0', '0', '0', '2', '2', '1', '1', '0', '2', '0', '2', '1', '1-2'], order=[0, 1, 2, 4, 3, 5, 6, 7, 9, 8, 10, 11, 12, 14, 13, 15, 16, 17, 19, 18]),\n",
       " Chromosome(mode=['2', '2', '0', '0-2', '2', '0', '1-2', '0-2', '0-2', '1-2', '0-2', '0-2', '0-2', '0', '0', '2', '1', '0', '2', '1'], order=[0, 1, 2, 3, 4, 5, 6, 7, 8, 9, 10, 11, 12, 13, 14, 15, 16, 17, 18, 19]),\n",
       " Chromosome(mode=['2', '1-2', '2', '1-2', '1', '0', '0-2', '0-2', '0', '1-2', '1-2', '0', '2', '0', '2', '1-2', '0-2', '0-2', '0', '0-2'], order=[0, 1, 2, 4, 3, 5, 6, 7, 9, 8, 10, 11, 12, 14, 13, 15, 16, 17, 19, 18]),\n",
       " Chromosome(mode=['0', '0', '0-2', '2', '2', '1', '0', '0', '0-2', '0', '0', '2', '1-2', '1-2', '1', '2', '1', '1-2', '1', '1-2'], order=[0, 1, 2, 3, 4, 5, 6, 7, 8, 9, 10, 11, 12, 13, 14, 15, 16, 17, 18, 19]),\n",
       " Chromosome(mode=['0-2', '0', '1', '0-2', '1-2', '0-2', '0', '0-2', '0', '1-2', '1', '2', '1-2', '1-2', '2', '2', '2', '1-2', '0', '0'], order=[0, 1, 2, 4, 3, 5, 6, 7, 9, 8, 10, 11, 12, 14, 13, 15, 16, 17, 19, 18]),\n",
       " Chromosome(mode=['0', '0-2', '1', '1', '0-2', '0-2', '2', '2', '1', '0-2', '0-2', '0', '0', '0', '2', '2', '0', '0', '1', '0'], order=[0, 1, 2, 3, 4, 5, 6, 7, 8, 9, 10, 11, 12, 13, 14, 15, 16, 17, 18, 19]),\n",
       " Chromosome(mode=['0-2', '1', '2', '0-2', '0-2', '1-2', '2', '1', '2', '1', '1-2', '0-2', '1', '1', '0', '2', '0-2', '1-2', '0-2', '0'], order=[0, 1, 2, 4, 3, 5, 6, 7, 9, 8, 10, 11, 12, 14, 13, 15, 16, 17, 19, 18]),\n",
       " Chromosome(mode=['1-2', '0', '0-2', '0', '1-2', '1-2', '1', '1', '2', '1', '2', '0-2', '1', '2', '2', '2', '2', '1-2', '1-2', '1-2'], order=[0, 1, 2, 3, 4, 5, 6, 7, 8, 9, 10, 11, 12, 13, 14, 15, 16, 17, 18, 19]),\n",
       " Chromosome(mode=['1-2', '1', '2', '0-2', '0', '0', '1-2', '1', '0', '1-2', '2', '0-2', '1-2', '1-2', '0', '1-2', '0-2', '0-2', '0-2', '1-2'], order=[0, 1, 2, 4, 3, 5, 6, 7, 9, 8, 10, 11, 12, 14, 13, 15, 16, 17, 19, 18]),\n",
       " Chromosome(mode=['1', '1-2', '1-2', '2', '1', '1', '0-2', '0-2', '0-2', '1', '0', '2', '2', '0-2', '1', '1-2', '0', '0', '0-2', '0-2'], order=[0, 1, 2, 3, 4, 5, 6, 7, 8, 9, 10, 11, 12, 13, 14, 15, 16, 17, 18, 19]),\n",
       " Chromosome(mode=['0-2', '2', '2', '0', '1-2', '0-2', '1-2', '1', '0-2', '1-2', '0', '1', '0', '1-2', '1', '2', '2', '0-2', '1-2', '2'], order=[0, 1, 2, 4, 3, 5, 6, 7, 9, 8, 10, 11, 12, 14, 13, 15, 16, 17, 19, 18]),\n",
       " Chromosome(mode=['0-2', '1', '2', '2', '1', '2', '0-2', '2', '0', '0', '1', '1', '1-2', '1-2', '0-2', '2', '0', '2', '0', '0'], order=[0, 1, 2, 3, 4, 5, 6, 7, 8, 9, 10, 11, 12, 13, 14, 15, 16, 17, 18, 19]),\n",
       " Chromosome(mode=['0', '0-2', '0-2', '0-2', '1', '0', '2', '2', '0-2', '0', '1', '0', '2', '2', '1', '2', '0', '0-2', '2', '0-2'], order=[0, 1, 2, 4, 3, 5, 6, 7, 9, 8, 10, 11, 12, 14, 13, 15, 16, 17, 19, 18]),\n",
       " Chromosome(mode=['0-2', '0-2', '2', '0-2', '2', '0-2', '2', '0', '0-2', '0-2', '0', '1-2', '0-2', '0-2', '2', '2', '0-2', '1-2', '0-2', '2'], order=[0, 1, 2, 3, 4, 5, 6, 7, 8, 9, 10, 11, 12, 13, 14, 15, 16, 17, 18, 19]),\n",
       " Chromosome(mode=['0-2', '1', '0', '2', '1-2', '0', '0-2', '2', '1', '2', '2', '2', '0', '0', '1', '0', '2', '2', '0', '0'], order=[0, 1, 2, 4, 3, 5, 6, 7, 9, 8, 10, 11, 12, 14, 13, 15, 16, 17, 19, 18])]"
      ]
     },
     "execution_count": 14,
     "metadata": {},
     "output_type": "execute_result"
    }
   ],
   "source": [
    "task_mode_feasible_chromosomes"
   ]
  },
  {
   "cell_type": "code",
   "execution_count": null,
   "metadata": {},
   "outputs": [],
   "source": []
  },
  {
   "cell_type": "code",
   "execution_count": null,
   "metadata": {},
   "outputs": [],
   "source": []
  }
 ],
 "metadata": {
  "kernelspec": {
   "display_name": ".venv_hm_hrt",
   "language": "python",
   "name": "python3"
  },
  "language_info": {
   "codemirror_mode": {
    "name": "ipython",
    "version": 3
   },
   "file_extension": ".py",
   "mimetype": "text/x-python",
   "name": "python",
   "nbconvert_exporter": "python",
   "pygments_lexer": "ipython3",
   "version": "3.10.4"
  },
  "orig_nbformat": 4,
  "vscode": {
   "interpreter": {
    "hash": "a6289d96d3a41a28093af2b7ef3d7cfe930fbd01b56829a017029cf1de3096c1"
   }
  }
 },
 "nbformat": 4,
 "nbformat_minor": 2
}
