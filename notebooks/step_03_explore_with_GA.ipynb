{
 "cells": [
  {
   "attachments": {},
   "cell_type": "markdown",
   "metadata": {},
   "source": [
    "# Different data structures"
   ]
  },
  {
   "cell_type": "code",
   "execution_count": 1,
   "metadata": {},
   "outputs": [],
   "source": [
    "%load_ext autoreload\n",
    "%autoreload 2\n",
    "%matplotlib inline\n",
    "\n",
    "%matplotlib widget"
   ]
  },
  {
   "cell_type": "code",
   "execution_count": 2,
   "metadata": {},
   "outputs": [
    {
     "data": {
      "text/html": [
       "\n",
       "                <script type=\"application/javascript\" id=\"jupyter_black\">\n",
       "                (function() {\n",
       "                    if (window.IPython === undefined) {\n",
       "                        return\n",
       "                    }\n",
       "                    var msg = \"WARNING: it looks like you might have loaded \" +\n",
       "                        \"jupyter_black in a non-lab notebook with \" +\n",
       "                        \"`is_lab=True`. Please double check, and if \" +\n",
       "                        \"loading with `%load_ext` please review the README!\"\n",
       "                    console.log(msg)\n",
       "                    alert(msg)\n",
       "                })()\n",
       "                </script>\n",
       "                "
      ],
      "text/plain": [
       "<IPython.core.display.HTML object>"
      ]
     },
     "metadata": {},
     "output_type": "display_data"
    }
   ],
   "source": [
    "import os\n",
    "import numpy as np\n",
    "import pandas as pd\n",
    "import matplotlib.pyplot as plt\n",
    "from dataclasses import dataclass\n",
    "import jupyter_black\n",
    "\n",
    "jupyter_black.load()\n",
    "\n",
    "# Project\n",
    "from src.data_connectors import read_input_files\n",
    "from src.data_preparation import search_space\n",
    "from src.data_connectors.read_input_files import Instance"
   ]
  },
  {
   "cell_type": "code",
   "execution_count": 3,
   "metadata": {},
   "outputs": [],
   "source": [
    "instance = 333\n",
    "instances_path = \"../data/input/HRTInstances\"\n",
    "ins_x = read_input_files.read_file(\n",
    "    os.path.join(instances_path, f\"Instance_{instance}.txt\")\n",
    ")"
   ]
  },
  {
   "cell_type": "code",
   "execution_count": 4,
   "metadata": {},
   "outputs": [
    {
     "data": {
      "text/html": [
       "<div>\n",
       "<style scoped>\n",
       "    .dataframe tbody tr th:only-of-type {\n",
       "        vertical-align: middle;\n",
       "    }\n",
       "\n",
       "    .dataframe tbody tr th {\n",
       "        vertical-align: top;\n",
       "    }\n",
       "\n",
       "    .dataframe thead th {\n",
       "        text-align: right;\n",
       "    }\n",
       "</style>\n",
       "<table border=\"1\" class=\"dataframe\">\n",
       "  <thead>\n",
       "    <tr style=\"text-align: right;\">\n",
       "      <th></th>\n",
       "      <th>Humans</th>\n",
       "      <th>Robots</th>\n",
       "      <th>WorkingSpaces</th>\n",
       "    </tr>\n",
       "  </thead>\n",
       "  <tbody>\n",
       "    <tr>\n",
       "      <th>0</th>\n",
       "      <td>2</td>\n",
       "      <td>3</td>\n",
       "      <td>3</td>\n",
       "    </tr>\n",
       "  </tbody>\n",
       "</table>\n",
       "</div>"
      ],
      "text/plain": [
       "  Humans Robots WorkingSpaces\n",
       "0      2      3             3"
      ]
     },
     "execution_count": 4,
     "metadata": {},
     "output_type": "execute_result"
    }
   ],
   "source": [
    "ins_x.df_setup"
   ]
  },
  {
   "cell_type": "code",
   "execution_count": 5,
   "metadata": {},
   "outputs": [
    {
     "data": {
      "text/html": [
       "<div>\n",
       "<style scoped>\n",
       "    .dataframe tbody tr th:only-of-type {\n",
       "        vertical-align: middle;\n",
       "    }\n",
       "\n",
       "    .dataframe tbody tr th {\n",
       "        vertical-align: top;\n",
       "    }\n",
       "\n",
       "    .dataframe thead th {\n",
       "        text-align: right;\n",
       "    }\n",
       "</style>\n",
       "<table border=\"1\" class=\"dataframe\">\n",
       "  <thead>\n",
       "    <tr style=\"text-align: right;\">\n",
       "      <th></th>\n",
       "      <th>Type</th>\n",
       "      <th>Id</th>\n",
       "    </tr>\n",
       "  </thead>\n",
       "  <tbody>\n",
       "    <tr>\n",
       "      <th>0</th>\n",
       "      <td>H</td>\n",
       "      <td>0</td>\n",
       "    </tr>\n",
       "    <tr>\n",
       "      <th>1</th>\n",
       "      <td>H</td>\n",
       "      <td>1</td>\n",
       "    </tr>\n",
       "    <tr>\n",
       "      <th>2</th>\n",
       "      <td>R</td>\n",
       "      <td>2</td>\n",
       "    </tr>\n",
       "    <tr>\n",
       "      <th>3</th>\n",
       "      <td>R</td>\n",
       "      <td>3</td>\n",
       "    </tr>\n",
       "    <tr>\n",
       "      <th>4</th>\n",
       "      <td>R</td>\n",
       "      <td>4</td>\n",
       "    </tr>\n",
       "  </tbody>\n",
       "</table>\n",
       "</div>"
      ],
      "text/plain": [
       "  Type  Id\n",
       "0    H   0\n",
       "1    H   1\n",
       "2    R   2\n",
       "3    R   3\n",
       "4    R   4"
      ]
     },
     "execution_count": 5,
     "metadata": {},
     "output_type": "execute_result"
    }
   ],
   "source": [
    "ins_x.df_resources"
   ]
  },
  {
   "cell_type": "code",
   "execution_count": 6,
   "metadata": {},
   "outputs": [
    {
     "data": {
      "text/html": [
       "<div>\n",
       "<style scoped>\n",
       "    .dataframe tbody tr th:only-of-type {\n",
       "        vertical-align: middle;\n",
       "    }\n",
       "\n",
       "    .dataframe tbody tr th {\n",
       "        vertical-align: top;\n",
       "    }\n",
       "\n",
       "    .dataframe thead th {\n",
       "        text-align: right;\n",
       "    }\n",
       "</style>\n",
       "<table border=\"1\" class=\"dataframe\">\n",
       "  <thead>\n",
       "    <tr style=\"text-align: right;\">\n",
       "      <th></th>\n",
       "      <th>WorkingSpace</th>\n",
       "      <th>Resource</th>\n",
       "    </tr>\n",
       "  </thead>\n",
       "  <tbody>\n",
       "    <tr>\n",
       "      <th>0</th>\n",
       "      <td>1</td>\n",
       "      <td>2</td>\n",
       "    </tr>\n",
       "    <tr>\n",
       "      <th>1</th>\n",
       "      <td>1</td>\n",
       "      <td>0</td>\n",
       "    </tr>\n",
       "    <tr>\n",
       "      <th>2</th>\n",
       "      <td>1</td>\n",
       "      <td>1</td>\n",
       "    </tr>\n",
       "    <tr>\n",
       "      <th>3</th>\n",
       "      <td>2</td>\n",
       "      <td>3</td>\n",
       "    </tr>\n",
       "    <tr>\n",
       "      <th>4</th>\n",
       "      <td>2</td>\n",
       "      <td>0</td>\n",
       "    </tr>\n",
       "    <tr>\n",
       "      <th>5</th>\n",
       "      <td>2</td>\n",
       "      <td>1</td>\n",
       "    </tr>\n",
       "    <tr>\n",
       "      <th>6</th>\n",
       "      <td>3</td>\n",
       "      <td>4</td>\n",
       "    </tr>\n",
       "    <tr>\n",
       "      <th>7</th>\n",
       "      <td>3</td>\n",
       "      <td>0</td>\n",
       "    </tr>\n",
       "    <tr>\n",
       "      <th>8</th>\n",
       "      <td>3</td>\n",
       "      <td>1</td>\n",
       "    </tr>\n",
       "  </tbody>\n",
       "</table>\n",
       "</div>"
      ],
      "text/plain": [
       "   WorkingSpace  Resource\n",
       "0             1         2\n",
       "1             1         0\n",
       "2             1         1\n",
       "3             2         3\n",
       "4             2         0\n",
       "5             2         1\n",
       "6             3         4\n",
       "7             3         0\n",
       "8             3         1"
      ]
     },
     "execution_count": 6,
     "metadata": {},
     "output_type": "execute_result"
    }
   ],
   "source": [
    "ins_x.df_workingspace_resources"
   ]
  },
  {
   "cell_type": "code",
   "execution_count": 7,
   "metadata": {},
   "outputs": [
    {
     "data": {
      "text/html": [
       "<div>\n",
       "<style scoped>\n",
       "    .dataframe tbody tr th:only-of-type {\n",
       "        vertical-align: middle;\n",
       "    }\n",
       "\n",
       "    .dataframe tbody tr th {\n",
       "        vertical-align: top;\n",
       "    }\n",
       "\n",
       "    .dataframe thead th {\n",
       "        text-align: right;\n",
       "    }\n",
       "</style>\n",
       "<table border=\"1\" class=\"dataframe\">\n",
       "  <thead>\n",
       "    <tr style=\"text-align: right;\">\n",
       "      <th></th>\n",
       "      <th>WorkingSpace</th>\n",
       "      <th>Id</th>\n",
       "    </tr>\n",
       "  </thead>\n",
       "  <tbody>\n",
       "    <tr>\n",
       "      <th>0</th>\n",
       "      <td>1</td>\n",
       "      <td>1</td>\n",
       "    </tr>\n",
       "    <tr>\n",
       "      <th>1</th>\n",
       "      <td>1</td>\n",
       "      <td>2</td>\n",
       "    </tr>\n",
       "    <tr>\n",
       "      <th>2</th>\n",
       "      <td>1</td>\n",
       "      <td>3</td>\n",
       "    </tr>\n",
       "    <tr>\n",
       "      <th>3</th>\n",
       "      <td>1</td>\n",
       "      <td>4</td>\n",
       "    </tr>\n",
       "    <tr>\n",
       "      <th>4</th>\n",
       "      <td>1</td>\n",
       "      <td>5</td>\n",
       "    </tr>\n",
       "  </tbody>\n",
       "</table>\n",
       "</div>"
      ],
      "text/plain": [
       "   WorkingSpace  Id\n",
       "0             1   1\n",
       "1             1   2\n",
       "2             1   3\n",
       "3             1   4\n",
       "4             1   5"
      ]
     },
     "execution_count": 7,
     "metadata": {},
     "output_type": "execute_result"
    }
   ],
   "source": [
    "ins_x.df_workingspace_id.head()"
   ]
  },
  {
   "attachments": {},
   "cell_type": "markdown",
   "metadata": {},
   "source": [
    "## [Flow](https://miro.com/app/board/uXjVPyl00iw=/)\n",
    "\n",
    "1. Generate **Initial Population**\n",
    "2. Verify if order of genes is violating the precedence\n",
    "    1. Discard those that are violating the precedence\n",
    "3. Duplicate it for all the jobs in the same instance (SAC)\n",
    "4. Create the array of times (start and end), using the resources time estimator for the respective mode allocation\n",
    "5. **Fitness Function**: Compute the total time to complete all the jobs in all working spaces of same instance $\\Longrightarrow C$ \n",
    "6. **Selection**: Retain the genes with lower C (at maximum X)\n",
    "    1. Discard those that have larger C\n",
    "    2. Verify if new population has a significant improvement in total C from previous population.\n",
    "7. **Generate next population**:\n",
    "    1. **Crossover**: from survival chromosomes, create offsprings \n",
    "    2. **Mutation**: add mutation to the created offsprings (initially larger %, and decreases over time).\n",
    "8. Return to point **2**."
   ]
  },
  {
   "attachments": {},
   "cell_type": "markdown",
   "metadata": {},
   "source": [
    "### 0. The chromosome\n",
    "\n",
    "```python\n",
    "chromosome = {\n",
    "    'mode': [0, 1, 2, 2, 1, ... ], # resource ID\n",
    "    'order': [2, 3, 1, 4, 5, ...], # order of tasks of each position\n",
    "    }\n",
    "\n",
    "```"
   ]
  },
  {
   "cell_type": "code",
   "execution_count": 8,
   "metadata": {},
   "outputs": [],
   "source": [
    "from src.genetic_algorithm.chromosome import Chromosome"
   ]
  },
  {
   "attachments": {},
   "cell_type": "markdown",
   "metadata": {},
   "source": [
    "### 1. Generate initial population"
   ]
  },
  {
   "attachments": {},
   "cell_type": "markdown",
   "metadata": {},
   "source": [
    "By default, it generates population for 1 working space:\n",
    "\n",
    "**Note**:\n",
    "- *It is important to generate a large first population, because a lot chromosomes might not survived due to feasibility of solutions.*"
   ]
  },
  {
   "cell_type": "code",
   "execution_count": 9,
   "metadata": {},
   "outputs": [
    {
     "name": "stdout",
     "output_type": "stream",
     "text": [
      "Possible modes: ['0' '1' '2' '0-2' '1-2']\n",
      "Number of tasks: 20\n",
      "Total size of first population: 6600\n"
     ]
    }
   ],
   "source": [
    "from src.genetic_algorithm import first_population\n",
    "\n",
    "# Modes\n",
    "\n",
    "possible_modes = first_population.get_possible_modes(ins_x)\n",
    "# Tasks\n",
    "n_tasks = first_population.get_total_number_of_tasks_per_working_space(ins_x)\n",
    "\n",
    "# Chromosomes\n",
    "chromosomes = first_population.get_first_population(possible_modes, n_tasks)"
   ]
  },
  {
   "cell_type": "code",
   "execution_count": null,
   "metadata": {},
   "outputs": [],
   "source": []
  },
  {
   "attachments": {},
   "cell_type": "markdown",
   "metadata": {},
   "source": [
    "### 2. Verify feasibility of solutions\n",
    "\n",
    "We need to verify:\n",
    "- the precedence is valid\n",
    "- the combination of modes and tasks is possible (the selected mode can perform the associated task) "
   ]
  },
  {
   "cell_type": "code",
   "execution_count": 10,
   "metadata": {},
   "outputs": [],
   "source": [
    "from src.genetic_algorithm import feasibility"
   ]
  },
  {
   "cell_type": "code",
   "execution_count": 11,
   "metadata": {},
   "outputs": [
    {
     "data": {
      "text/html": [
       "<div>\n",
       "<style scoped>\n",
       "    .dataframe tbody tr th:only-of-type {\n",
       "        vertical-align: middle;\n",
       "    }\n",
       "\n",
       "    .dataframe tbody tr th {\n",
       "        vertical-align: top;\n",
       "    }\n",
       "\n",
       "    .dataframe thead th {\n",
       "        text-align: right;\n",
       "    }\n",
       "</style>\n",
       "<table border=\"1\" class=\"dataframe\">\n",
       "  <thead>\n",
       "    <tr style=\"text-align: right;\">\n",
       "      <th></th>\n",
       "      <th>Predecessor</th>\n",
       "      <th>Sucessor</th>\n",
       "    </tr>\n",
       "  </thead>\n",
       "  <tbody>\n",
       "    <tr>\n",
       "      <th>0</th>\n",
       "      <td>1</td>\n",
       "      <td>2</td>\n",
       "    </tr>\n",
       "    <tr>\n",
       "      <th>1</th>\n",
       "      <td>2</td>\n",
       "      <td>3</td>\n",
       "    </tr>\n",
       "    <tr>\n",
       "      <th>2</th>\n",
       "      <td>3</td>\n",
       "      <td>4</td>\n",
       "    </tr>\n",
       "    <tr>\n",
       "      <th>3</th>\n",
       "      <td>1</td>\n",
       "      <td>4</td>\n",
       "    </tr>\n",
       "    <tr>\n",
       "      <th>4</th>\n",
       "      <td>1</td>\n",
       "      <td>5</td>\n",
       "    </tr>\n",
       "  </tbody>\n",
       "</table>\n",
       "</div>"
      ],
      "text/plain": [
       "   Predecessor  Sucessor\n",
       "0            1         2\n",
       "1            2         3\n",
       "2            3         4\n",
       "3            1         4\n",
       "4            1         5"
      ]
     },
     "execution_count": 11,
     "metadata": {},
     "output_type": "execute_result"
    }
   ],
   "source": [
    "ins_x.df_predecessor_sucessor.head()"
   ]
  },
  {
   "cell_type": "code",
   "execution_count": 12,
   "metadata": {},
   "outputs": [
    {
     "name": "stdout",
     "output_type": "stream",
     "text": [
      "From 6600 to 110\n"
     ]
    }
   ],
   "source": [
    "precedence_feasible_chromosomes = []\n",
    "for i in range(len(chromosomes)):\n",
    "    chrom = chromosomes[i]\n",
    "    if feasibility.is_chromosome_precedence_feasible(ins_x, chrom):\n",
    "        precedence_feasible_chromosomes.append(chrom)\n",
    "\n",
    "print(f\"From {len(chromosomes)} to {len(precedence_feasible_chromosomes)}\")"
   ]
  },
  {
   "cell_type": "code",
   "execution_count": 13,
   "metadata": {},
   "outputs": [
    {
     "name": "stdout",
     "output_type": "stream",
     "text": [
      "From 110 to 110\n"
     ]
    }
   ],
   "source": [
    "task_mode_feasible_chromosomes = []\n",
    "for i in range(len(precedence_feasible_chromosomes)):\n",
    "    chrom = precedence_feasible_chromosomes[i]\n",
    "    if feasibility.is_chromosome_task_mode_feasible(ins_x, chrom):\n",
    "        task_mode_feasible_chromosomes.append(chrom)\n",
    "\n",
    "print(\n",
    "    f\"From {len(precedence_feasible_chromosomes)} to {len(task_mode_feasible_chromosomes)}\"\n",
    ")"
   ]
  },
  {
   "cell_type": "code",
   "execution_count": null,
   "metadata": {},
   "outputs": [],
   "source": []
  },
  {
   "attachments": {},
   "cell_type": "markdown",
   "metadata": {},
   "source": [
    "### 3. Increment duplication with possible extra working spaces\n",
    "\n",
    "1. e.g. if other working spaces exist, duplicate the working modes, and duplicate the orders"
   ]
  },
  {
   "cell_type": "code",
   "execution_count": 103,
   "metadata": {},
   "outputs": [],
   "source": [
    "from src.genetic_algorithm import replication"
   ]
  },
  {
   "cell_type": "code",
   "execution_count": 104,
   "metadata": {},
   "outputs": [
    {
     "data": {
      "text/plain": [
       "Chromosome(mode=['0', '0', '0', '0', '0', '0', '0', '0', '0', '0', '0', '0', '0', '0', '0', '0', '0', '0', '0', '0'], order=[0, 1, 2, 3, 4, 5, 6, 7, 8, 9, 10, 11, 12, 13, 14, 15, 16, 17, 18, 19])"
      ]
     },
     "execution_count": 104,
     "metadata": {},
     "output_type": "execute_result"
    }
   ],
   "source": [
    "# Generate new orders\n",
    "chromosome = task_mode_feasible_chromosomes[0]\n",
    "chromosome"
   ]
  },
  {
   "cell_type": "code",
   "execution_count": 105,
   "metadata": {},
   "outputs": [],
   "source": [
    "chromosome_with_replication = replication.update_chromosome_with_replication(\n",
    "    ins_x, chromosome\n",
    ")"
   ]
  },
  {
   "cell_type": "code",
   "execution_count": 106,
   "metadata": {},
   "outputs": [
    {
     "data": {
      "text/plain": [
       "Chromosome(mode=['0', '0', '0', '0', '0', '0', '0', '0', '0', '0', '0', '0', '0', '0', '0', '0', '0', '0', '0', '0', '0', '0', '0', '0', '0', '0', '0', '0', '0', '0', '0', '0', '0', '0', '0', '0', '0', '0', '0', '0', '0', '0', '0', '0', '0', '0', '0', '0', '0', '0', '0', '0', '0', '0', '0', '0', '0', '0', '0', '0'], order=[0, 3, 6, 9, 12, 15, 18, 21, 24, 27, 30, 33, 36, 39, 42, 45, 48, 51, 54, 57, 1, 4, 7, 10, 13, 16, 19, 22, 25, 28, 31, 34, 37, 40, 43, 46, 49, 52, 55, 58, 2, 5, 8, 11, 14, 17, 20, 23, 26, 29, 32, 35, 38, 41, 44, 47, 50, 53, 56, 59])"
      ]
     },
     "execution_count": 106,
     "metadata": {},
     "output_type": "execute_result"
    }
   ],
   "source": [
    "chromosome_with_replication"
   ]
  },
  {
   "cell_type": "code",
   "execution_count": 109,
   "metadata": {},
   "outputs": [
    {
     "data": {
      "text/plain": [
       "110"
      ]
     },
     "execution_count": 109,
     "metadata": {},
     "output_type": "execute_result"
    }
   ],
   "source": [
    "# for all feasible chromosomes\n",
    "replicated_chromosomes = []\n",
    "for chromosome in task_mode_feasible_chromosomes:\n",
    "    replicated_chromosomes.append(\n",
    "        replication.update_chromosome_with_replication(ins_x, chromosome)\n",
    "    )\n",
    "\n",
    "len(replicated_chromosomes)"
   ]
  },
  {
   "cell_type": "code",
   "execution_count": 242,
   "metadata": {},
   "outputs": [
    {
     "data": {
      "text/plain": [
       "[Chromosome(mode=['0', '0', '0', '0', '0', '0', '0', '0', '0', '0', '0', '0', '0', '0', '0', '0', '0', '0', '0', '0', '0', '0', '0', '0', '0', '0', '0', '0', '0', '0', '0', '0', '0', '0', '0', '0', '0', '0', '0', '0', '0', '0', '0', '0', '0', '0', '0', '0', '0', '0', '0', '0', '0', '0', '0', '0', '0', '0', '0', '0'], order=[0, 3, 6, 9, 12, 15, 18, 21, 24, 27, 30, 33, 36, 39, 42, 45, 48, 51, 54, 57, 1, 4, 7, 10, 13, 16, 19, 22, 25, 28, 31, 34, 37, 40, 43, 46, 49, 52, 55, 58, 2, 5, 8, 11, 14, 17, 20, 23, 26, 29, 32, 35, 38, 41, 44, 47, 50, 53, 56, 59]),\n",
       " Chromosome(mode=['1', '1', '1', '1', '1', '1', '1', '1', '1', '1', '1', '1', '1', '1', '1', '1', '1', '1', '1', '1', '1', '1', '1', '1', '1', '1', '1', '1', '1', '1', '1', '1', '1', '1', '1', '1', '1', '1', '1', '1', '1', '1', '1', '1', '1', '1', '1', '1', '1', '1', '1', '1', '1', '1', '1', '1', '1', '1', '1', '1'], order=[0, 3, 6, 9, 12, 15, 18, 21, 24, 27, 30, 33, 36, 39, 42, 45, 48, 51, 54, 57, 1, 4, 7, 10, 13, 16, 19, 22, 25, 28, 31, 34, 37, 40, 43, 46, 49, 52, 55, 58, 2, 5, 8, 11, 14, 17, 20, 23, 26, 29, 32, 35, 38, 41, 44, 47, 50, 53, 56, 59]),\n",
       " Chromosome(mode=['2', '2', '2', '2', '2', '2', '2', '2', '2', '2', '2', '2', '2', '2', '2', '2', '2', '2', '2', '2', '3', '3', '3', '3', '3', '3', '3', '3', '3', '3', '3', '3', '3', '3', '3', '3', '3', '3', '3', '3', '4', '4', '4', '4', '4', '4', '4', '4', '4', '4', '4', '4', '4', '4', '4', '4', '4', '4', '4', '4'], order=[0, 3, 6, 9, 12, 15, 18, 21, 24, 27, 30, 33, 36, 39, 42, 45, 48, 51, 54, 57, 1, 4, 7, 10, 13, 16, 19, 22, 25, 28, 31, 34, 37, 40, 43, 46, 49, 52, 55, 58, 2, 5, 8, 11, 14, 17, 20, 23, 26, 29, 32, 35, 38, 41, 44, 47, 50, 53, 56, 59]),\n",
       " Chromosome(mode=['0-2', '0-2', '0-2', '0-2', '0-2', '0-2', '0-2', '0-2', '0-2', '0-2', '0-2', '0-2', '0-2', '0-2', '0-2', '0-2', '0-2', '0-2', '0-2', '0-2', '0-3', '0-3', '0-3', '0-3', '0-3', '0-3', '0-3', '0-3', '0-3', '0-3', '0-3', '0-3', '0-3', '0-3', '0-3', '0-3', '0-3', '0-3', '0-3', '0-3', '0-4', '0-4', '0-4', '0-4', '0-4', '0-4', '0-4', '0-4', '0-4', '0-4', '0-4', '0-4', '0-4', '0-4', '0-4', '0-4', '0-4', '0-4', '0-4', '0-4'], order=[0, 3, 6, 9, 12, 15, 18, 21, 24, 27, 30, 33, 36, 39, 42, 45, 48, 51, 54, 57, 1, 4, 7, 10, 13, 16, 19, 22, 25, 28, 31, 34, 37, 40, 43, 46, 49, 52, 55, 58, 2, 5, 8, 11, 14, 17, 20, 23, 26, 29, 32, 35, 38, 41, 44, 47, 50, 53, 56, 59]),\n",
       " Chromosome(mode=['1-2', '1-2', '1-2', '1-2', '1-2', '1-2', '1-2', '1-2', '1-2', '1-2', '1-2', '1-2', '1-2', '1-2', '1-2', '1-2', '1-2', '1-2', '1-2', '1-2', '1-3', '1-3', '1-3', '1-3', '1-3', '1-3', '1-3', '1-3', '1-3', '1-3', '1-3', '1-3', '1-3', '1-3', '1-3', '1-3', '1-3', '1-3', '1-3', '1-3', '1-4', '1-4', '1-4', '1-4', '1-4', '1-4', '1-4', '1-4', '1-4', '1-4', '1-4', '1-4', '1-4', '1-4', '1-4', '1-4', '1-4', '1-4', '1-4', '1-4'], order=[0, 3, 6, 9, 12, 15, 18, 21, 24, 27, 30, 33, 36, 39, 42, 45, 48, 51, 54, 57, 1, 4, 7, 10, 13, 16, 19, 22, 25, 28, 31, 34, 37, 40, 43, 46, 49, 52, 55, 58, 2, 5, 8, 11, 14, 17, 20, 23, 26, 29, 32, 35, 38, 41, 44, 47, 50, 53, 56, 59]),\n",
       " Chromosome(mode=['0', '0', '0', '0', '0', '0', '0', '0', '0', '0', '0', '0', '0', '0', '0', '0', '0', '0', '0', '0', '0', '0', '0', '0', '0', '0', '0', '0', '0', '0', '0', '0', '0', '0', '0', '0', '0', '0', '0', '0', '0', '0', '0', '0', '0', '0', '0', '0', '0', '0', '0', '0', '0', '0', '0', '0', '0', '0', '0', '0'], order=[0, 3, 6, 12, 9, 15, 18, 21, 27, 24, 30, 33, 36, 42, 39, 45, 48, 51, 57, 54, 1, 4, 7, 13, 10, 16, 19, 22, 28, 25, 31, 34, 37, 43, 40, 46, 49, 52, 58, 55, 2, 5, 8, 14, 11, 17, 20, 23, 29, 26, 32, 35, 38, 44, 41, 47, 50, 53, 59, 56]),\n",
       " Chromosome(mode=['1', '1', '1', '1', '1', '1', '1', '1', '1', '1', '1', '1', '1', '1', '1', '1', '1', '1', '1', '1', '1', '1', '1', '1', '1', '1', '1', '1', '1', '1', '1', '1', '1', '1', '1', '1', '1', '1', '1', '1', '1', '1', '1', '1', '1', '1', '1', '1', '1', '1', '1', '1', '1', '1', '1', '1', '1', '1', '1', '1'], order=[0, 3, 6, 12, 9, 15, 18, 21, 27, 24, 30, 33, 36, 42, 39, 45, 48, 51, 57, 54, 1, 4, 7, 13, 10, 16, 19, 22, 28, 25, 31, 34, 37, 43, 40, 46, 49, 52, 58, 55, 2, 5, 8, 14, 11, 17, 20, 23, 29, 26, 32, 35, 38, 44, 41, 47, 50, 53, 59, 56]),\n",
       " Chromosome(mode=['2', '2', '2', '2', '2', '2', '2', '2', '2', '2', '2', '2', '2', '2', '2', '2', '2', '2', '2', '2', '3', '3', '3', '3', '3', '3', '3', '3', '3', '3', '3', '3', '3', '3', '3', '3', '3', '3', '3', '3', '4', '4', '4', '4', '4', '4', '4', '4', '4', '4', '4', '4', '4', '4', '4', '4', '4', '4', '4', '4'], order=[0, 3, 6, 12, 9, 15, 18, 21, 27, 24, 30, 33, 36, 42, 39, 45, 48, 51, 57, 54, 1, 4, 7, 13, 10, 16, 19, 22, 28, 25, 31, 34, 37, 43, 40, 46, 49, 52, 58, 55, 2, 5, 8, 14, 11, 17, 20, 23, 29, 26, 32, 35, 38, 44, 41, 47, 50, 53, 59, 56]),\n",
       " Chromosome(mode=['0-2', '0-2', '0-2', '0-2', '0-2', '0-2', '0-2', '0-2', '0-2', '0-2', '0-2', '0-2', '0-2', '0-2', '0-2', '0-2', '0-2', '0-2', '0-2', '0-2', '0-3', '0-3', '0-3', '0-3', '0-3', '0-3', '0-3', '0-3', '0-3', '0-3', '0-3', '0-3', '0-3', '0-3', '0-3', '0-3', '0-3', '0-3', '0-3', '0-3', '0-4', '0-4', '0-4', '0-4', '0-4', '0-4', '0-4', '0-4', '0-4', '0-4', '0-4', '0-4', '0-4', '0-4', '0-4', '0-4', '0-4', '0-4', '0-4', '0-4'], order=[0, 3, 6, 12, 9, 15, 18, 21, 27, 24, 30, 33, 36, 42, 39, 45, 48, 51, 57, 54, 1, 4, 7, 13, 10, 16, 19, 22, 28, 25, 31, 34, 37, 43, 40, 46, 49, 52, 58, 55, 2, 5, 8, 14, 11, 17, 20, 23, 29, 26, 32, 35, 38, 44, 41, 47, 50, 53, 59, 56]),\n",
       " Chromosome(mode=['1-2', '1-2', '1-2', '1-2', '1-2', '1-2', '1-2', '1-2', '1-2', '1-2', '1-2', '1-2', '1-2', '1-2', '1-2', '1-2', '1-2', '1-2', '1-2', '1-2', '1-3', '1-3', '1-3', '1-3', '1-3', '1-3', '1-3', '1-3', '1-3', '1-3', '1-3', '1-3', '1-3', '1-3', '1-3', '1-3', '1-3', '1-3', '1-3', '1-3', '1-4', '1-4', '1-4', '1-4', '1-4', '1-4', '1-4', '1-4', '1-4', '1-4', '1-4', '1-4', '1-4', '1-4', '1-4', '1-4', '1-4', '1-4', '1-4', '1-4'], order=[0, 3, 6, 12, 9, 15, 18, 21, 27, 24, 30, 33, 36, 42, 39, 45, 48, 51, 57, 54, 1, 4, 7, 13, 10, 16, 19, 22, 28, 25, 31, 34, 37, 43, 40, 46, 49, 52, 58, 55, 2, 5, 8, 14, 11, 17, 20, 23, 29, 26, 32, 35, 38, 44, 41, 47, 50, 53, 59, 56])]"
      ]
     },
     "execution_count": 242,
     "metadata": {},
     "output_type": "execute_result"
    }
   ],
   "source": [
    "replicated_chromosomes[:10]"
   ]
  },
  {
   "cell_type": "code",
   "execution_count": null,
   "metadata": {},
   "outputs": [],
   "source": []
  },
  {
   "attachments": {},
   "cell_type": "markdown",
   "metadata": {},
   "source": [
    "### 4. Get notion of start and end times\n",
    "\n",
    "1. Go task by task, and get the start and end time, based on allocation of current mode, and based on precedence\n",
    "2. Compute total timespan - which is the maximum value of endtimes"
   ]
  },
  {
   "cell_type": "code",
   "execution_count": 221,
   "metadata": {},
   "outputs": [],
   "source": [
    "from src.genetic_algorithm import time_allocation"
   ]
  },
  {
   "cell_type": "code",
   "execution_count": 224,
   "metadata": {},
   "outputs": [
    {
     "data": {
      "text/plain": [
       "110"
      ]
     },
     "execution_count": 224,
     "metadata": {},
     "output_type": "execute_result"
    }
   ],
   "source": [
    "# for all replicated chromosomes\n",
    "time_allocated_chromosomes = []\n",
    "for chromosome in replicated_chromosomes:\n",
    "    time_allocated_chromosomes.append(\n",
    "        time_allocation.get_all_time_allocations(ins_x, chromosome)\n",
    "    )\n",
    "\n",
    "len(time_allocated_chromosomes)"
   ]
  },
  {
   "cell_type": "code",
   "execution_count": 233,
   "metadata": {},
   "outputs": [
    {
     "data": {
      "text/plain": [
       "110"
      ]
     },
     "execution_count": 233,
     "metadata": {},
     "output_type": "execute_result"
    }
   ],
   "source": [
    "# for all results\n",
    "makespan_all_chromosomes = []\n",
    "for chromosome_time_allocation in time_allocated_chromosomes:\n",
    "    makespan_all_chromosomes.append(\n",
    "        time_allocation.find_makespan(chromosome_time_allocation)\n",
    "    )\n",
    "\n",
    "len(makespan_all_chromosomes)"
   ]
  },
  {
   "cell_type": "code",
   "execution_count": 235,
   "metadata": {},
   "outputs": [
    {
     "data": {
      "text/plain": [
       "449"
      ]
     },
     "execution_count": 235,
     "metadata": {},
     "output_type": "execute_result"
    }
   ],
   "source": [
    "min(makespan_all_chromosomes)"
   ]
  },
  {
   "cell_type": "code",
   "execution_count": 240,
   "metadata": {},
   "outputs": [
    {
     "data": {
      "application/vnd.jupyter.widget-view+json": {
       "model_id": "50c8685a6a7d47859f3ed2c3eabcd380",
       "version_major": 2,
       "version_minor": 0
      },
      "image/png": "[encoded data removed]",
      "text/html": [
       "\n",
       "            <div style=\"display: inline-block;\">\n",
       "                <div class=\"jupyter-widgets widget-label\" style=\"text-align: center;\">\n",
       "                    Figure\n",
       "                </div>\n",
       "                <img src='data:image/png;base64,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' width=640.0/>\n",
       "            </div>\n",
       "        "
      ],
      "text/plain": [
       "Canvas(toolbar=Toolbar(toolitems=[('Home', 'Reset original view', 'home', 'home'), ('Back', 'Back to previous …"
      ]
     },
     "metadata": {},
     "output_type": "display_data"
    }
   ],
   "source": [
    "plt.figure()\n",
    "plt.hist(makespan_all_chromosomes, bins=len(makespan_all_chromosomes))\n",
    "plt.show()"
   ]
  },
  {
   "attachments": {},
   "cell_type": "markdown",
   "metadata": {},
   "source": [
    "# TEst"
   ]
  },
  {
   "cell_type": "code",
   "execution_count": 243,
   "metadata": {},
   "outputs": [
    {
     "data": {
      "text/plain": [
       "[0, 1, 2, 3, 4, 5, 6, 7, 8, 9]"
      ]
     },
     "execution_count": 243,
     "metadata": {},
     "output_type": "execute_result"
    }
   ],
   "source": [
    "tasks = [x for x in range(10)]\n",
    "tasks"
   ]
  },
  {
   "cell_type": "code",
   "execution_count": 244,
   "metadata": {},
   "outputs": [
    {
     "data": {
      "text/plain": [
       "[0, 2, 4, 6, 8, 1, 3, 5, 7, 9]"
      ]
     },
     "execution_count": 244,
     "metadata": {},
     "output_type": "execute_result"
    }
   ],
   "source": [
    "order = [0, 2, 4, 6, 8, 1, 3, 5, 7, 9]\n",
    "order"
   ]
  },
  {
   "cell_type": "code",
   "execution_count": 249,
   "metadata": {},
   "outputs": [
    {
     "data": {
      "text/plain": [
       "6"
      ]
     },
     "execution_count": 249,
     "metadata": {},
     "output_type": "execute_result"
    }
   ],
   "source": [
    "i = 3\n",
    "task_i = tasks[order.index(i)]\n",
    "task_i"
   ]
  },
  {
   "cell_type": "code",
   "execution_count": null,
   "metadata": {},
   "outputs": [],
   "source": []
  }
 ],
 "metadata": {
  "kernelspec": {
   "display_name": ".venv_hm_hrt",
   "language": "python",
   "name": "python3"
  },
  "language_info": {
   "codemirror_mode": {
    "name": "ipython",
    "version": 3
   },
   "file_extension": ".py",
   "mimetype": "text/x-python",
   "name": "python",
   "nbconvert_exporter": "python",
   "pygments_lexer": "ipython3",
   "version": "3.10.4"
  },
  "orig_nbformat": 4,
  "vscode": {
   "interpreter": {
    "hash": "a6289d96d3a41a28093af2b7ef3d7cfe930fbd01b56829a017029cf1de3096c1"
   }
  }
 },
 "nbformat": 4,
 "nbformat_minor": 2
}
