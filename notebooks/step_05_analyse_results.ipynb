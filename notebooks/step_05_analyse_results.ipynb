{
 "cells": [
  {
   "attachments": {},
   "cell_type": "markdown",
   "metadata": {},
   "source": [
    "# Analyse the GA results"
   ]
  },
  {
   "cell_type": "code",
   "execution_count": 218,
   "metadata": {},
   "outputs": [
    {
     "name": "stdout",
     "output_type": "stream",
     "text": [
      "The autoreload extension is already loaded. To reload it, use:\n",
      "  %reload_ext autoreload\n"
     ]
    }
   ],
   "source": [
    "%load_ext autoreload\n",
    "%autoreload 2\n",
    "%matplotlib inline\n",
    "\n",
    "%matplotlib widget"
   ]
  },
  {
   "cell_type": "code",
   "execution_count": 235,
   "metadata": {},
   "outputs": [],
   "source": [
    "import os\n",
    "import numpy as np\n",
    "import pandas as pd\n",
    "import logging\n",
    "import pickle\n",
    "import jupyter_black\n",
    "from tqdm import tqdm\n",
    "\n",
    "from src.data_connectors import write_solution_files\n",
    "from src.data_connectors import read_input_files\n",
    "from src.data_connectors import read_solutions_files\n",
    "from src.genetic_algorithm import constants\n",
    "\n",
    "jupyter_black.load()\n",
    "\n",
    "logging.basicConfig()\n",
    "logging.getLogger().setLevel(logging.INFO)"
   ]
  },
  {
   "attachments": {},
   "cell_type": "markdown",
   "metadata": {},
   "source": [
    "## Read the results"
   ]
  },
  {
   "cell_type": "code",
   "execution_count": 220,
   "metadata": {},
   "outputs": [],
   "source": [
    "# filename = \"../data/solutions/all_ga_MMTSP_SAC_swap.pkl\"\n",
    "# filename = \"../data/solutions/all_ga_MMTSP_SAC_sorted_paretns.pkl\"\n",
    "filename = \"../data/solutions/all_ga_MMTSP_SAC.pkl\"\n",
    "with open(filename, \"rb\") as f:\n",
    "    loaded_results = pickle.load(f)"
   ]
  },
  {
   "cell_type": "code",
   "execution_count": 221,
   "metadata": {},
   "outputs": [
    {
     "data": {
      "text/plain": [
       "120"
      ]
     },
     "execution_count": 221,
     "metadata": {},
     "output_type": "execute_result"
    }
   ],
   "source": [
    "len(loaded_results)"
   ]
  },
  {
   "cell_type": "code",
   "execution_count": 222,
   "metadata": {},
   "outputs": [
    {
     "data": {
      "text/plain": [
       "217"
      ]
     },
     "execution_count": 222,
     "metadata": {},
     "output_type": "execute_result"
    }
   ],
   "source": [
    "# First instance\n",
    "loaded_results[0][-1]"
   ]
  },
  {
   "cell_type": "code",
   "execution_count": 223,
   "metadata": {},
   "outputs": [
    {
     "data": {
      "text/plain": [
       "336"
      ]
     },
     "execution_count": 223,
     "metadata": {},
     "output_type": "execute_result"
    }
   ],
   "source": [
    "# Last instance\n",
    "loaded_results[-1][-1]"
   ]
  },
  {
   "attachments": {},
   "cell_type": "markdown",
   "metadata": {},
   "source": [
    "### Get Latency results"
   ]
  },
  {
   "cell_type": "code",
   "execution_count": 247,
   "metadata": {},
   "outputs": [],
   "source": [
    "latencies = []\n",
    "for instance_number in constants.INSTANCES_LIST:\n",
    "    latency = read_solutions_files.read_latency_from_solutions_header(\n",
    "        filename=f\"../data/solutions/MMTSP-SAC/solution_{instance_number}.txt\"\n",
    "    )\n",
    "    latencies.append(latency)"
   ]
  },
  {
   "attachments": {},
   "cell_type": "markdown",
   "metadata": {},
   "source": [
    "## Process results\n",
    "\n",
    "list[all_surviving_chromosomes, all_surviving_makespans, best_makespan, duration_until_best_makespan]"
   ]
  },
  {
   "cell_type": "code",
   "execution_count": 224,
   "metadata": {},
   "outputs": [
    {
     "name": "stderr",
     "output_type": "stream",
     "text": [
      "4it [00:00, 13.06it/s]\n"
     ]
    }
   ],
   "source": [
    "instances_path = \"../data/input/HRTInstances/\"\n",
    "instances_list = [x for x in range(217, 221)]\n",
    "\n",
    "times_of_best_results = []\n",
    "\n",
    "for best, instance_number in tqdm(zip(loaded_results, instances_list)):\n",
    "    ins_x = ins_x = read_input_files.read_file(\n",
    "        os.path.join(instances_path, f\"Instance_{instance_number}.txt\")\n",
    "    )\n",
    "    times_of_best_results.append(write_solution_files.find_times_of_best_solution(ins_x, best))"
   ]
  },
  {
   "cell_type": "code",
   "execution_count": 225,
   "metadata": {},
   "outputs": [
    {
     "data": {
      "text/plain": [
       "4"
      ]
     },
     "execution_count": 225,
     "metadata": {},
     "output_type": "execute_result"
    }
   ],
   "source": [
    "len(times_of_best_results)"
   ]
  },
  {
   "cell_type": "code",
   "execution_count": 226,
   "metadata": {},
   "outputs": [
    {
     "data": {
      "text/plain": [
       "{'2': {21: (0, 1), 28: (74, 84), 31: (85, 90), 36: (836, 841), 39: (842, 936)},\n",
       " '1': {1: (0, 1), 8: (38, 48), 11: (49, 54), 16: (791, 796), 19: (797, 891)},\n",
       " '0': {2: (2, 37),\n",
       "  22: (38, 73),\n",
       "  3: (74, 79),\n",
       "  23: (80, 85),\n",
       "  4: (86, 116),\n",
       "  24: (117, 147),\n",
       "  5: (148, 247),\n",
       "  25: (248, 347),\n",
       "  6: (348, 384),\n",
       "  26: (385, 421),\n",
       "  7: (422, 463),\n",
       "  27: (464, 505),\n",
       "  9: (506, 526),\n",
       "  29: (527, 547),\n",
       "  10: (548, 646),\n",
       "  30: (647, 745),\n",
       "  12: (746, 790),\n",
       "  32: (791, 835),\n",
       "  13: (836, 883),\n",
       "  33: (884, 931),\n",
       "  14: (932, 969),\n",
       "  34: (970, 1007),\n",
       "  15: (1008, 1069),\n",
       "  35: (1070, 1131),\n",
       "  17: (1132, 1162),\n",
       "  37: (1163, 1193),\n",
       "  18: (1194, 1221),\n",
       "  38: (1222, 1249),\n",
       "  20: (1250, 1338),\n",
       "  40: (1339, 1427)}}"
      ]
     },
     "execution_count": 226,
     "metadata": {},
     "output_type": "execute_result"
    }
   ],
   "source": [
    "times_of_best_results[0]"
   ]
  },
  {
   "attachments": {},
   "cell_type": "markdown",
   "metadata": {},
   "source": [
    "## Optimal Solutions"
   ]
  },
  {
   "cell_type": "code",
   "execution_count": 227,
   "metadata": {},
   "outputs": [
    {
     "data": {
      "text/html": [
       "<div>\n",
       "<style scoped>\n",
       "    .dataframe tbody tr th:only-of-type {\n",
       "        vertical-align: middle;\n",
       "    }\n",
       "\n",
       "    .dataframe tbody tr th {\n",
       "        vertical-align: top;\n",
       "    }\n",
       "\n",
       "    .dataframe thead th {\n",
       "        text-align: right;\n",
       "    }\n",
       "</style>\n",
       "<table border=\"1\" class=\"dataframe\">\n",
       "  <thead>\n",
       "    <tr style=\"text-align: right;\">\n",
       "      <th></th>\n",
       "      <th>Instance</th>\n",
       "      <th>Humans</th>\n",
       "      <th>Robots</th>\n",
       "      <th>Robot Eligibility</th>\n",
       "      <th>Optimal solution</th>\n",
       "      <th>Best known solution</th>\n",
       "      <th>Lower bound</th>\n",
       "    </tr>\n",
       "  </thead>\n",
       "  <tbody>\n",
       "    <tr>\n",
       "      <th>0</th>\n",
       "      <td>217</td>\n",
       "      <td>1</td>\n",
       "      <td>2</td>\n",
       "      <td>0,25</td>\n",
       "      <td>1397.0</td>\n",
       "      <td>1397</td>\n",
       "      <td>1397</td>\n",
       "    </tr>\n",
       "    <tr>\n",
       "      <th>1</th>\n",
       "      <td>218</td>\n",
       "      <td>1</td>\n",
       "      <td>2</td>\n",
       "      <td>0,5</td>\n",
       "      <td>865.0</td>\n",
       "      <td>865</td>\n",
       "      <td>865</td>\n",
       "    </tr>\n",
       "    <tr>\n",
       "      <th>2</th>\n",
       "      <td>219</td>\n",
       "      <td>1</td>\n",
       "      <td>2</td>\n",
       "      <td>1</td>\n",
       "      <td>529.0</td>\n",
       "      <td>529</td>\n",
       "      <td>529</td>\n",
       "    </tr>\n",
       "    <tr>\n",
       "      <th>3</th>\n",
       "      <td>220</td>\n",
       "      <td>1</td>\n",
       "      <td>2</td>\n",
       "      <td>0,25</td>\n",
       "      <td>3316.0</td>\n",
       "      <td>3316</td>\n",
       "      <td>3316</td>\n",
       "    </tr>\n",
       "    <tr>\n",
       "      <th>4</th>\n",
       "      <td>221</td>\n",
       "      <td>1</td>\n",
       "      <td>2</td>\n",
       "      <td>0,5</td>\n",
       "      <td>2476.0</td>\n",
       "      <td>2476</td>\n",
       "      <td>2476</td>\n",
       "    </tr>\n",
       "  </tbody>\n",
       "</table>\n",
       "</div>"
      ],
      "text/plain": [
       "   Instance  Humans  Robots Robot Eligibility  Optimal solution  \\\n",
       "0       217       1       2              0,25            1397.0   \n",
       "1       218       1       2               0,5             865.0   \n",
       "2       219       1       2                 1             529.0   \n",
       "3       220       1       2              0,25            3316.0   \n",
       "4       221       1       2               0,5            2476.0   \n",
       "\n",
       "   Best known solution  Lower bound  \n",
       "0                 1397         1397  \n",
       "1                  865          865  \n",
       "2                  529          529  \n",
       "3                 3316         3316  \n",
       "4                 2476         2476  "
      ]
     },
     "execution_count": 227,
     "metadata": {},
     "output_type": "execute_result"
    }
   ],
   "source": [
    "df_optimal = pd.read_csv(\"../data/solutions/optimal/OptimalSolutions.csv\", sep=\";\", header=1)\n",
    "\n",
    "df_optimal.head()"
   ]
  },
  {
   "cell_type": "code",
   "execution_count": 228,
   "metadata": {},
   "outputs": [],
   "source": [
    "def get_gap(df_optimal: pd.DataFrame, instance_number: int, best: tuple) -> float:\n",
    "    lower_bound = df_optimal[df_optimal.Instance == instance_number][\"Lower bound\"].values[0]\n",
    "    ins_result = best[2]\n",
    "    gap = (ins_result - lower_bound) / lower_bound * 100\n",
    "    logging.debug(f\"Lower Bound: {lower_bound}, Result {ins_result}\")\n",
    "    logging.debug(f\"Instance {instance_number} has Gap % = {gap:.2f} %\")\n",
    "    return gap"
   ]
  },
  {
   "cell_type": "code",
   "execution_count": 229,
   "metadata": {},
   "outputs": [
    {
     "name": "stderr",
     "output_type": "stream",
     "text": [
      "100%|██████████| 120/120 [00:00<00:00, 2866.48it/s]\n"
     ]
    }
   ],
   "source": [
    "instances_list = [x for x in range(217, 336)]\n",
    "\n",
    "pct_deviation_from_best = []\n",
    "\n",
    "for best in tqdm(loaded_results):\n",
    "    instance_number = best[-1]\n",
    "    optimal = df_optimal[df_optimal.Instance == instance_number][\"Optimal solution\"].values[0]\n",
    "    best_know = df_optimal[df_optimal.Instance == instance_number][\"Best known solution\"].values[0]\n",
    "    logging.debug(f\"Optimal: {optimal}, Best Known: {best_know}\")\n",
    "    gap = get_gap(df_optimal, instance_number, best)\n",
    "    logging.debug(f\"Instance {instance_number} has Gap % = {gap:.2f} %\")"
   ]
  },
  {
   "cell_type": "code",
   "execution_count": null,
   "metadata": {},
   "outputs": [],
   "source": []
  },
  {
   "attachments": {},
   "cell_type": "markdown",
   "metadata": {},
   "source": [
    "## Group by type"
   ]
  },
  {
   "cell_type": "code",
   "execution_count": 230,
   "metadata": {},
   "outputs": [
    {
     "name": "stderr",
     "output_type": "stream",
     "text": [
      "100%|██████████| 120/120 [00:00<00:00, 64893.82it/s]\n",
      "100%|██████████| 120/120 [00:00<00:00, 63048.54it/s]\n",
      "100%|██████████| 120/120 [00:00<00:00, 68853.14it/s]\n",
      "100%|██████████| 120/120 [00:00<00:00, 66699.77it/s]\n",
      "100%|██████████| 120/120 [00:00<00:00, 66532.25it/s]\n",
      "100%|██████████| 120/120 [00:00<00:00, 67028.43it/s]\n",
      "100%|██████████| 120/120 [00:00<00:00, 66479.52it/s]\n",
      "100%|██████████| 120/120 [00:00<00:00, 66086.72it/s]\n",
      "100%|██████████| 120/120 [00:00<00:00, 67001.66it/s]\n",
      "100%|██████████| 120/120 [00:00<00:00, 58647.92it/s]\n",
      "100%|██████████| 120/120 [00:00<00:00, 64977.60it/s]\n",
      "100%|██████████| 120/120 [00:00<00:00, 66400.59it/s]\n",
      "12it [00:00, 299.41it/s]\n"
     ]
    }
   ],
   "source": [
    "df_instance_groups = (\n",
    "    df_optimal.groupby([\"Humans\", \"Robots\", \"Robot Eligibility\"]).Instance.apply(list).reset_index()\n",
    ")\n",
    "df_instance_groups\n",
    "\n",
    "\n",
    "all_gaps = []\n",
    "all_is_optimal = []\n",
    "all_lower_gaps = []\n",
    "for idx, row_group in tqdm(df_instance_groups.iterrows()):\n",
    "    gap_group = []\n",
    "    is_optimal_group = []\n",
    "    lower_gaps = []\n",
    "    for best in tqdm(loaded_results):\n",
    "        instance_number = best[-1]\n",
    "        if instance_number in row_group.Instance:\n",
    "            gap_x = get_gap(df_optimal, instance_number, best)\n",
    "            gap_group.append(gap_x)\n",
    "            if gap_x == 0:\n",
    "                is_optimal_group.append(1)\n",
    "            else:\n",
    "                is_optimal_group.append(0)\n",
    "            if gap_x <= 10:\n",
    "                lower_gaps.append(1)\n",
    "            else:\n",
    "                lower_gaps.append(0)\n",
    "\n",
    "    all_gaps.append(gap_group)\n",
    "    all_is_optimal.append(is_optimal_group)\n",
    "    all_lower_gaps.append(lower_gaps)\n",
    "\n",
    "df_instance_groups[\"Gaps\"] = all_gaps\n",
    "df_instance_groups[\"optimals\"] = all_is_optimal\n",
    "df_instance_groups[\"lower_gaps\"] = all_lower_gaps\n",
    "df_instance_groups[\"Gaps%\"] = round(df_instance_groups[\"Gaps\"].apply(lambda x: sum(x) / len(x)), 2)\n",
    "df_instance_groups[\"# optimals\"] = df_instance_groups[\"optimals\"].apply(lambda x: sum(x))\n",
    "df_instance_groups[\"# all_lower_gaps\"] = df_instance_groups[\"lower_gaps\"].apply(lambda x: sum(x))"
   ]
  },
  {
   "cell_type": "code",
   "execution_count": 231,
   "metadata": {},
   "outputs": [
    {
     "data": {
      "text/plain": [
       "32.760640583474974"
      ]
     },
     "execution_count": 231,
     "metadata": {},
     "output_type": "execute_result"
    }
   ],
   "source": [
    "np.mean(all_gaps)"
   ]
  },
  {
   "cell_type": "code",
   "execution_count": 232,
   "metadata": {},
   "outputs": [
    {
     "data": {
      "text/plain": [
       "26.799644979226"
      ]
     },
     "execution_count": 232,
     "metadata": {},
     "output_type": "execute_result"
    }
   ],
   "source": [
    "np.std(all_gaps)"
   ]
  },
  {
   "cell_type": "code",
   "execution_count": 233,
   "metadata": {},
   "outputs": [
    {
     "data": {
      "text/html": [
       "<div>\n",
       "<style scoped>\n",
       "    .dataframe tbody tr th:only-of-type {\n",
       "        vertical-align: middle;\n",
       "    }\n",
       "\n",
       "    .dataframe tbody tr th {\n",
       "        vertical-align: top;\n",
       "    }\n",
       "\n",
       "    .dataframe thead th {\n",
       "        text-align: right;\n",
       "    }\n",
       "</style>\n",
       "<table border=\"1\" class=\"dataframe\">\n",
       "  <thead>\n",
       "    <tr style=\"text-align: right;\">\n",
       "      <th></th>\n",
       "      <th>Humans</th>\n",
       "      <th>Robots</th>\n",
       "      <th>Robot Eligibility</th>\n",
       "      <th>Instance</th>\n",
       "      <th>Gaps</th>\n",
       "      <th>optimals</th>\n",
       "      <th>lower_gaps</th>\n",
       "      <th>Gaps%</th>\n",
       "      <th># optimals</th>\n",
       "      <th># all_lower_gaps</th>\n",
       "    </tr>\n",
       "  </thead>\n",
       "  <tbody>\n",
       "    <tr>\n",
       "      <th>0</th>\n",
       "      <td>1</td>\n",
       "      <td>2</td>\n",
       "      <td>0,25</td>\n",
       "      <td>[217, 220, 229, 232, 241, 244, 253, 256, 265, ...</td>\n",
       "      <td>[2.1474588403722263, 2.261761158021713, 10.086...</td>\n",
       "      <td>[0, 0, 0, 0, 0, 0, 0, 0, 0, 0]</td>\n",
       "      <td>[1, 1, 0, 0, 0, 0, 0, 0, 0, 0]</td>\n",
       "      <td>15.46</td>\n",
       "      <td>0</td>\n",
       "      <td>2</td>\n",
       "    </tr>\n",
       "    <tr>\n",
       "      <th>1</th>\n",
       "      <td>1</td>\n",
       "      <td>2</td>\n",
       "      <td>0,5</td>\n",
       "      <td>[218, 221, 230, 233, 242, 245, 254, 257, 266, ...</td>\n",
       "      <td>[3.9306358381502893, 5.775444264943457, 7.8549...</td>\n",
       "      <td>[0, 0, 0, 0, 0, 0, 0, 0, 0, 0]</td>\n",
       "      <td>[1, 1, 1, 1, 1, 1, 0, 0, 1, 0]</td>\n",
       "      <td>14.96</td>\n",
       "      <td>0</td>\n",
       "      <td>7</td>\n",
       "    </tr>\n",
       "    <tr>\n",
       "      <th>2</th>\n",
       "      <td>1</td>\n",
       "      <td>2</td>\n",
       "      <td>1</td>\n",
       "      <td>[219, 222, 231, 234, 243, 246, 255, 258, 267, ...</td>\n",
       "      <td>[22.306238185255197, 14.576271186440678, 8.232...</td>\n",
       "      <td>[0, 0, 0, 0, 0, 0, 0, 0, 0, 0]</td>\n",
       "      <td>[0, 0, 1, 0, 0, 0, 0, 0, 1, 0]</td>\n",
       "      <td>34.45</td>\n",
       "      <td>0</td>\n",
       "      <td>2</td>\n",
       "    </tr>\n",
       "    <tr>\n",
       "      <th>3</th>\n",
       "      <td>1</td>\n",
       "      <td>3</td>\n",
       "      <td>0,25</td>\n",
       "      <td>[223, 226, 235, 238, 247, 250, 259, 262, 271, ...</td>\n",
       "      <td>[1.7275225755791126, 2.319376026272578, 7.9790...</td>\n",
       "      <td>[0, 0, 0, 0, 0, 0, 0, 0, 0, 0]</td>\n",
       "      <td>[1, 1, 1, 1, 0, 1, 0, 1, 1, 1]</td>\n",
       "      <td>8.72</td>\n",
       "      <td>0</td>\n",
       "      <td>8</td>\n",
       "    </tr>\n",
       "    <tr>\n",
       "      <th>4</th>\n",
       "      <td>1</td>\n",
       "      <td>3</td>\n",
       "      <td>0,5</td>\n",
       "      <td>[224, 227, 236, 239, 248, 251, 260, 263, 272, ...</td>\n",
       "      <td>[1.5271195365982098, 5.405405405405405, 4.4159...</td>\n",
       "      <td>[0, 0, 0, 0, 0, 0, 0, 0, 0, 0]</td>\n",
       "      <td>[1, 1, 1, 0, 0, 0, 0, 0, 0, 1]</td>\n",
       "      <td>20.08</td>\n",
       "      <td>0</td>\n",
       "      <td>4</td>\n",
       "    </tr>\n",
       "    <tr>\n",
       "      <th>5</th>\n",
       "      <td>1</td>\n",
       "      <td>3</td>\n",
       "      <td>1</td>\n",
       "      <td>[225, 228, 237, 240, 249, 252, 261, 264, 273, ...</td>\n",
       "      <td>[14.727540500736378, 33.13990973565441, 19.629...</td>\n",
       "      <td>[0, 0, 0, 0, 0, 0, 0, 0, 0, 0]</td>\n",
       "      <td>[0, 0, 0, 0, 0, 0, 0, 0, 0, 0]</td>\n",
       "      <td>39.92</td>\n",
       "      <td>0</td>\n",
       "      <td>0</td>\n",
       "    </tr>\n",
       "    <tr>\n",
       "      <th>6</th>\n",
       "      <td>2</td>\n",
       "      <td>2</td>\n",
       "      <td>0,25</td>\n",
       "      <td>[277, 280, 289, 292, 301, 304, 313, 316, 325, ...</td>\n",
       "      <td>[8.960176991150442, 17.404737384140063, 10.807...</td>\n",
       "      <td>[0, 0, 0, 0, 0, 0, 0, 0, 0, 0]</td>\n",
       "      <td>[1, 0, 0, 0, 0, 0, 1, 0, 0, 0]</td>\n",
       "      <td>33.08</td>\n",
       "      <td>0</td>\n",
       "      <td>2</td>\n",
       "    </tr>\n",
       "    <tr>\n",
       "      <th>7</th>\n",
       "      <td>2</td>\n",
       "      <td>2</td>\n",
       "      <td>0,5</td>\n",
       "      <td>[278, 281, 290, 293, 302, 305, 314, 317, 326, ...</td>\n",
       "      <td>[8.362369337979095, 28.043282236248874, 27.748...</td>\n",
       "      <td>[0, 0, 0, 0, 0, 0, 0, 0, 0, 0]</td>\n",
       "      <td>[1, 0, 0, 0, 0, 0, 0, 0, 0, 0]</td>\n",
       "      <td>37.39</td>\n",
       "      <td>0</td>\n",
       "      <td>1</td>\n",
       "    </tr>\n",
       "    <tr>\n",
       "      <th>8</th>\n",
       "      <td>2</td>\n",
       "      <td>2</td>\n",
       "      <td>1</td>\n",
       "      <td>[279, 282, 291, 294, 303, 306, 315, 318, 327, ...</td>\n",
       "      <td>[25.510204081632654, 30.857142857142854, 26.40...</td>\n",
       "      <td>[0, 0, 0, 0, 0, 0, 0, 0, 0, 0]</td>\n",
       "      <td>[0, 0, 0, 0, 0, 0, 0, 0, 0, 0]</td>\n",
       "      <td>47.43</td>\n",
       "      <td>0</td>\n",
       "      <td>0</td>\n",
       "    </tr>\n",
       "    <tr>\n",
       "      <th>9</th>\n",
       "      <td>2</td>\n",
       "      <td>3</td>\n",
       "      <td>0,25</td>\n",
       "      <td>[283, 286, 295, 298, 307, 310, 319, 322, 331, ...</td>\n",
       "      <td>[3.1847133757961785, 11.877107530910454, 31.25...</td>\n",
       "      <td>[0, 0, 0, 0, 0, 0, 0, 0, 0, 0]</td>\n",
       "      <td>[1, 0, 0, 0, 0, 0, 0, 0, 0, 0]</td>\n",
       "      <td>37.50</td>\n",
       "      <td>0</td>\n",
       "      <td>1</td>\n",
       "    </tr>\n",
       "    <tr>\n",
       "      <th>10</th>\n",
       "      <td>2</td>\n",
       "      <td>3</td>\n",
       "      <td>0,5</td>\n",
       "      <td>[284, 287, 296, 299, 308, 311, 320, 323, 332, ...</td>\n",
       "      <td>[18.66883116883117, 71.11220472440945, 13.8954...</td>\n",
       "      <td>[0, 0, 0, 0, 0, 0, 0, 0, 0, 0]</td>\n",
       "      <td>[0, 0, 0, 0, 0, 0, 0, 0, 0, 0]</td>\n",
       "      <td>48.54</td>\n",
       "      <td>0</td>\n",
       "      <td>0</td>\n",
       "    </tr>\n",
       "    <tr>\n",
       "      <th>11</th>\n",
       "      <td>2</td>\n",
       "      <td>3</td>\n",
       "      <td>1</td>\n",
       "      <td>[285, 288, 297, 300, 309, 312, 321, 324, 333, ...</td>\n",
       "      <td>[24.029126213592235, 45.932621199671324, 24.05...</td>\n",
       "      <td>[0, 0, 0, 0, 0, 0, 0, 0, 0, 0]</td>\n",
       "      <td>[0, 0, 0, 0, 0, 0, 0, 0, 0, 0]</td>\n",
       "      <td>55.59</td>\n",
       "      <td>0</td>\n",
       "      <td>0</td>\n",
       "    </tr>\n",
       "  </tbody>\n",
       "</table>\n",
       "</div>"
      ],
      "text/plain": [
       "    Humans  Robots Robot Eligibility  \\\n",
       "0        1       2              0,25   \n",
       "1        1       2               0,5   \n",
       "2        1       2                 1   \n",
       "3        1       3              0,25   \n",
       "4        1       3               0,5   \n",
       "5        1       3                 1   \n",
       "6        2       2              0,25   \n",
       "7        2       2               0,5   \n",
       "8        2       2                 1   \n",
       "9        2       3              0,25   \n",
       "10       2       3               0,5   \n",
       "11       2       3                 1   \n",
       "\n",
       "                                             Instance  \\\n",
       "0   [217, 220, 229, 232, 241, 244, 253, 256, 265, ...   \n",
       "1   [218, 221, 230, 233, 242, 245, 254, 257, 266, ...   \n",
       "2   [219, 222, 231, 234, 243, 246, 255, 258, 267, ...   \n",
       "3   [223, 226, 235, 238, 247, 250, 259, 262, 271, ...   \n",
       "4   [224, 227, 236, 239, 248, 251, 260, 263, 272, ...   \n",
       "5   [225, 228, 237, 240, 249, 252, 261, 264, 273, ...   \n",
       "6   [277, 280, 289, 292, 301, 304, 313, 316, 325, ...   \n",
       "7   [278, 281, 290, 293, 302, 305, 314, 317, 326, ...   \n",
       "8   [279, 282, 291, 294, 303, 306, 315, 318, 327, ...   \n",
       "9   [283, 286, 295, 298, 307, 310, 319, 322, 331, ...   \n",
       "10  [284, 287, 296, 299, 308, 311, 320, 323, 332, ...   \n",
       "11  [285, 288, 297, 300, 309, 312, 321, 324, 333, ...   \n",
       "\n",
       "                                                 Gaps  \\\n",
       "0   [2.1474588403722263, 2.261761158021713, 10.086...   \n",
       "1   [3.9306358381502893, 5.775444264943457, 7.8549...   \n",
       "2   [22.306238185255197, 14.576271186440678, 8.232...   \n",
       "3   [1.7275225755791126, 2.319376026272578, 7.9790...   \n",
       "4   [1.5271195365982098, 5.405405405405405, 4.4159...   \n",
       "5   [14.727540500736378, 33.13990973565441, 19.629...   \n",
       "6   [8.960176991150442, 17.404737384140063, 10.807...   \n",
       "7   [8.362369337979095, 28.043282236248874, 27.748...   \n",
       "8   [25.510204081632654, 30.857142857142854, 26.40...   \n",
       "9   [3.1847133757961785, 11.877107530910454, 31.25...   \n",
       "10  [18.66883116883117, 71.11220472440945, 13.8954...   \n",
       "11  [24.029126213592235, 45.932621199671324, 24.05...   \n",
       "\n",
       "                          optimals                      lower_gaps  Gaps%  \\\n",
       "0   [0, 0, 0, 0, 0, 0, 0, 0, 0, 0]  [1, 1, 0, 0, 0, 0, 0, 0, 0, 0]  15.46   \n",
       "1   [0, 0, 0, 0, 0, 0, 0, 0, 0, 0]  [1, 1, 1, 1, 1, 1, 0, 0, 1, 0]  14.96   \n",
       "2   [0, 0, 0, 0, 0, 0, 0, 0, 0, 0]  [0, 0, 1, 0, 0, 0, 0, 0, 1, 0]  34.45   \n",
       "3   [0, 0, 0, 0, 0, 0, 0, 0, 0, 0]  [1, 1, 1, 1, 0, 1, 0, 1, 1, 1]   8.72   \n",
       "4   [0, 0, 0, 0, 0, 0, 0, 0, 0, 0]  [1, 1, 1, 0, 0, 0, 0, 0, 0, 1]  20.08   \n",
       "5   [0, 0, 0, 0, 0, 0, 0, 0, 0, 0]  [0, 0, 0, 0, 0, 0, 0, 0, 0, 0]  39.92   \n",
       "6   [0, 0, 0, 0, 0, 0, 0, 0, 0, 0]  [1, 0, 0, 0, 0, 0, 1, 0, 0, 0]  33.08   \n",
       "7   [0, 0, 0, 0, 0, 0, 0, 0, 0, 0]  [1, 0, 0, 0, 0, 0, 0, 0, 0, 0]  37.39   \n",
       "8   [0, 0, 0, 0, 0, 0, 0, 0, 0, 0]  [0, 0, 0, 0, 0, 0, 0, 0, 0, 0]  47.43   \n",
       "9   [0, 0, 0, 0, 0, 0, 0, 0, 0, 0]  [1, 0, 0, 0, 0, 0, 0, 0, 0, 0]  37.50   \n",
       "10  [0, 0, 0, 0, 0, 0, 0, 0, 0, 0]  [0, 0, 0, 0, 0, 0, 0, 0, 0, 0]  48.54   \n",
       "11  [0, 0, 0, 0, 0, 0, 0, 0, 0, 0]  [0, 0, 0, 0, 0, 0, 0, 0, 0, 0]  55.59   \n",
       "\n",
       "    # optimals  # all_lower_gaps  \n",
       "0            0                 2  \n",
       "1            0                 7  \n",
       "2            0                 2  \n",
       "3            0                 8  \n",
       "4            0                 4  \n",
       "5            0                 0  \n",
       "6            0                 2  \n",
       "7            0                 1  \n",
       "8            0                 0  \n",
       "9            0                 1  \n",
       "10           0                 0  \n",
       "11           0                 0  "
      ]
     },
     "execution_count": 233,
     "metadata": {},
     "output_type": "execute_result"
    }
   ],
   "source": [
    "df_instance_groups"
   ]
  },
  {
   "cell_type": "code",
   "execution_count": 234,
   "metadata": {},
   "outputs": [
    {
     "data": {
      "text/plain": [
       "27"
      ]
     },
     "execution_count": 234,
     "metadata": {},
     "output_type": "execute_result"
    }
   ],
   "source": [
    "df_instance_groups[\"# all_lower_gaps\"].sum()"
   ]
  },
  {
   "cell_type": "code",
   "execution_count": 248,
   "metadata": {},
   "outputs": [
    {
     "data": {
      "text/plain": [
       "172.98583333333335"
      ]
     },
     "execution_count": 248,
     "metadata": {},
     "output_type": "execute_result"
    }
   ],
   "source": [
    "np.mean(latencies)"
   ]
  },
  {
   "cell_type": "code",
   "execution_count": 257,
   "metadata": {},
   "outputs": [
    {
     "data": {
      "text/plain": [
       "2.8830972222222226"
      ]
     },
     "execution_count": 257,
     "metadata": {},
     "output_type": "execute_result"
    }
   ],
   "source": [
    "np.mean(latencies) / 60"
   ]
  },
  {
   "cell_type": "code",
   "execution_count": 250,
   "metadata": {},
   "outputs": [
    {
     "data": {
      "text/plain": [
       "5.766194444444445"
      ]
     },
     "execution_count": 250,
     "metadata": {},
     "output_type": "execute_result"
    }
   ],
   "source": [
    "np.sum(latencies) / 60 / 60"
   ]
  },
  {
   "cell_type": "code",
   "execution_count": 260,
   "metadata": {},
   "outputs": [
    {
     "data": {
      "text/plain": [
       "20"
      ]
     },
     "execution_count": 260,
     "metadata": {},
     "output_type": "execute_result"
    }
   ],
   "source": [
    "len([x for x in latencies if x < 60])"
   ]
  },
  {
   "cell_type": "code",
   "execution_count": 261,
   "metadata": {},
   "outputs": [
    {
     "data": {
      "text/plain": [
       "120"
      ]
     },
     "execution_count": 261,
     "metadata": {},
     "output_type": "execute_result"
    }
   ],
   "source": [
    "len(latencies)"
   ]
  },
  {
   "cell_type": "code",
   "execution_count": 262,
   "metadata": {},
   "outputs": [
    {
     "data": {
      "text/plain": [
       "0.16666666666666666"
      ]
     },
     "execution_count": 262,
     "metadata": {},
     "output_type": "execute_result"
    }
   ],
   "source": [
    "20 / 120"
   ]
  },
  {
   "cell_type": "code",
   "execution_count": null,
   "metadata": {},
   "outputs": [],
   "source": []
  }
 ],
 "metadata": {
  "kernelspec": {
   "display_name": ".venv_hm_hrt",
   "language": "python",
   "name": "python3"
  },
  "language_info": {
   "codemirror_mode": {
    "name": "ipython",
    "version": 3
   },
   "file_extension": ".py",
   "mimetype": "text/x-python",
   "name": "python",
   "nbconvert_exporter": "python",
   "pygments_lexer": "ipython3",
   "version": "3.10.4"
  },
  "orig_nbformat": 4,
  "vscode": {
   "interpreter": {
    "hash": "a6289d96d3a41a28093af2b7ef3d7cfe930fbd01b56829a017029cf1de3096c1"
   }
  }
 },
 "nbformat": 4,
 "nbformat_minor": 2
}
