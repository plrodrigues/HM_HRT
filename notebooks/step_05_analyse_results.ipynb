{
 "cells": [
  {
   "attachments": {},
   "cell_type": "markdown",
   "metadata": {},
   "source": [
    "# Analyse the GA results"
   ]
  },
  {
   "cell_type": "code",
   "execution_count": 42,
   "metadata": {},
   "outputs": [
    {
     "name": "stdout",
     "output_type": "stream",
     "text": [
      "The autoreload extension is already loaded. To reload it, use:\n",
      "  %reload_ext autoreload\n"
     ]
    }
   ],
   "source": [
    "%load_ext autoreload\n",
    "%autoreload 2\n",
    "%matplotlib inline\n",
    "\n",
    "%matplotlib widget"
   ]
  },
  {
   "cell_type": "code",
   "execution_count": 43,
   "metadata": {},
   "outputs": [],
   "source": [
    "import os\n",
    "import numpy as np\n",
    "import pandas as pd\n",
    "import logging\n",
    "import pickle\n",
    "import jupyter_black\n",
    "from tqdm import tqdm\n",
    "\n",
    "from src.data_connectors import write_solution_files\n",
    "from src.data_connectors import read_input_files\n",
    "\n",
    "jupyter_black.load()\n",
    "\n",
    "logging.basicConfig()\n",
    "logging.getLogger().setLevel(logging.INFO)"
   ]
  },
  {
   "attachments": {},
   "cell_type": "markdown",
   "metadata": {},
   "source": [
    "## Read the results"
   ]
  },
  {
   "cell_type": "code",
   "execution_count": 44,
   "metadata": {},
   "outputs": [],
   "source": [
    "with open(\"../data/solutions/all_ga.pkl\", \"rb\") as f:\n",
    "    loaded_results = pickle.load(f)"
   ]
  },
  {
   "cell_type": "code",
   "execution_count": 45,
   "metadata": {},
   "outputs": [
    {
     "data": {
      "text/plain": [
       "4"
      ]
     },
     "execution_count": 45,
     "metadata": {},
     "output_type": "execute_result"
    }
   ],
   "source": [
    "len(loaded_results)"
   ]
  },
  {
   "cell_type": "code",
   "execution_count": 55,
   "metadata": {},
   "outputs": [
    {
     "data": {
      "text/plain": [
       "217"
      ]
     },
     "execution_count": 55,
     "metadata": {},
     "output_type": "execute_result"
    }
   ],
   "source": [
    "loaded_results[0][-1]"
   ]
  },
  {
   "attachments": {},
   "cell_type": "markdown",
   "metadata": {},
   "source": [
    "## Process results\n",
    "\n",
    "list[all_surviving_chromosomes, all_surviving_makespans, best_makespan, duration_until_best_makespan]"
   ]
  },
  {
   "cell_type": "code",
   "execution_count": 46,
   "metadata": {},
   "outputs": [
    {
     "name": "stderr",
     "output_type": "stream",
     "text": [
      "4it [00:00, 12.81it/s]\n"
     ]
    }
   ],
   "source": [
    "instances_path = \"../data/input/HRTInstances/\"\n",
    "instances_list = [x for x in range(217, 221)]\n",
    "\n",
    "times_of_best_results = []\n",
    "\n",
    "for best, instance_number in tqdm(zip(loaded_results, instances_list)):\n",
    "    ins_x = ins_x = read_input_files.read_file(\n",
    "        os.path.join(instances_path, f\"Instance_{instance_number}.txt\")\n",
    "    )\n",
    "    times_of_best_results.append(write_solution_files.find_times_of_best_solution(ins_x, best))"
   ]
  },
  {
   "cell_type": "code",
   "execution_count": 47,
   "metadata": {},
   "outputs": [
    {
     "data": {
      "text/plain": [
       "{'1': {1: (0, 1), 8: (38, 48), 11: (49, 54), 16: (419, 424), 19: (425, 519)},\n",
       " '2': {21: (0, 1),\n",
       "  28: (751, 761),\n",
       "  31: (762, 767),\n",
       "  36: (1132, 1137),\n",
       "  39: (1138, 1232)},\n",
       " '0': {2: (2, 37),\n",
       "  3: (38, 43),\n",
       "  4: (44, 74),\n",
       "  5: (75, 174),\n",
       "  6: (175, 211),\n",
       "  7: (212, 253),\n",
       "  9: (254, 274),\n",
       "  10: (275, 373),\n",
       "  12: (374, 418),\n",
       "  13: (419, 466),\n",
       "  14: (467, 504),\n",
       "  15: (505, 566),\n",
       "  17: (567, 597),\n",
       "  18: (598, 625),\n",
       "  20: (626, 714),\n",
       "  22: (715, 750),\n",
       "  23: (751, 756),\n",
       "  24: (757, 787),\n",
       "  25: (788, 887),\n",
       "  26: (888, 924),\n",
       "  27: (925, 966),\n",
       "  29: (967, 987),\n",
       "  30: (988, 1086),\n",
       "  32: (1087, 1131),\n",
       "  33: (1132, 1179),\n",
       "  34: (1180, 1217),\n",
       "  35: (1218, 1279),\n",
       "  37: (1280, 1310),\n",
       "  38: (1311, 1338),\n",
       "  40: (1339, 1427)}}"
      ]
     },
     "execution_count": 47,
     "metadata": {},
     "output_type": "execute_result"
    }
   ],
   "source": [
    "times_of_best_results[0]"
   ]
  },
  {
   "attachments": {},
   "cell_type": "markdown",
   "metadata": {},
   "source": [
    "## Optimal Solutions"
   ]
  },
  {
   "cell_type": "code",
   "execution_count": 48,
   "metadata": {},
   "outputs": [],
   "source": [
    "df_optimal = pd.read_csv(\"../data/solutions/optimal/OptimalSolutions.csv\", sep=\";\", header=1)"
   ]
  },
  {
   "cell_type": "code",
   "execution_count": 49,
   "metadata": {},
   "outputs": [
    {
     "data": {
      "text/html": [
       "<div>\n",
       "<style scoped>\n",
       "    .dataframe tbody tr th:only-of-type {\n",
       "        vertical-align: middle;\n",
       "    }\n",
       "\n",
       "    .dataframe tbody tr th {\n",
       "        vertical-align: top;\n",
       "    }\n",
       "\n",
       "    .dataframe thead th {\n",
       "        text-align: right;\n",
       "    }\n",
       "</style>\n",
       "<table border=\"1\" class=\"dataframe\">\n",
       "  <thead>\n",
       "    <tr style=\"text-align: right;\">\n",
       "      <th></th>\n",
       "      <th>Instance</th>\n",
       "      <th>Humans</th>\n",
       "      <th>Robots</th>\n",
       "      <th>Robot Eligibility</th>\n",
       "      <th>Optimal solution</th>\n",
       "      <th>Best known solution</th>\n",
       "      <th>Lower bound</th>\n",
       "    </tr>\n",
       "  </thead>\n",
       "  <tbody>\n",
       "    <tr>\n",
       "      <th>0</th>\n",
       "      <td>217</td>\n",
       "      <td>1</td>\n",
       "      <td>2</td>\n",
       "      <td>0,25</td>\n",
       "      <td>1397.0</td>\n",
       "      <td>1397</td>\n",
       "      <td>1397</td>\n",
       "    </tr>\n",
       "    <tr>\n",
       "      <th>1</th>\n",
       "      <td>218</td>\n",
       "      <td>1</td>\n",
       "      <td>2</td>\n",
       "      <td>0,5</td>\n",
       "      <td>865.0</td>\n",
       "      <td>865</td>\n",
       "      <td>865</td>\n",
       "    </tr>\n",
       "    <tr>\n",
       "      <th>2</th>\n",
       "      <td>219</td>\n",
       "      <td>1</td>\n",
       "      <td>2</td>\n",
       "      <td>1</td>\n",
       "      <td>529.0</td>\n",
       "      <td>529</td>\n",
       "      <td>529</td>\n",
       "    </tr>\n",
       "    <tr>\n",
       "      <th>3</th>\n",
       "      <td>220</td>\n",
       "      <td>1</td>\n",
       "      <td>2</td>\n",
       "      <td>0,25</td>\n",
       "      <td>3316.0</td>\n",
       "      <td>3316</td>\n",
       "      <td>3316</td>\n",
       "    </tr>\n",
       "    <tr>\n",
       "      <th>4</th>\n",
       "      <td>221</td>\n",
       "      <td>1</td>\n",
       "      <td>2</td>\n",
       "      <td>0,5</td>\n",
       "      <td>2476.0</td>\n",
       "      <td>2476</td>\n",
       "      <td>2476</td>\n",
       "    </tr>\n",
       "  </tbody>\n",
       "</table>\n",
       "</div>"
      ],
      "text/plain": [
       "   Instance  Humans  Robots Robot Eligibility  Optimal solution  \\\n",
       "0       217       1       2              0,25            1397.0   \n",
       "1       218       1       2               0,5             865.0   \n",
       "2       219       1       2                 1             529.0   \n",
       "3       220       1       2              0,25            3316.0   \n",
       "4       221       1       2               0,5            2476.0   \n",
       "\n",
       "   Best known solution  Lower bound  \n",
       "0                 1397         1397  \n",
       "1                  865          865  \n",
       "2                  529          529  \n",
       "3                 3316         3316  \n",
       "4                 2476         2476  "
      ]
     },
     "execution_count": 49,
     "metadata": {},
     "output_type": "execute_result"
    }
   ],
   "source": [
    "df_optimal.head()"
   ]
  },
  {
   "cell_type": "code",
   "execution_count": 50,
   "metadata": {},
   "outputs": [],
   "source": [
    "def get_gap(df_optimal: pd.DataFrame, instance_number: int, best: tuple) -> float:\n",
    "    lower_bound = df_optimal[df_optimal.Instance == instance_number][\"Lower bound\"].values[0]\n",
    "    ins_result = best[2]\n",
    "    gap = round((ins_result - lower_bound) / lower_bound * 100, 2)\n",
    "    logging.info(f\"Lower Bound: {lower_bound}, Result {ins_result}\")\n",
    "    logging.info(f\"Instance {instance_number} has Gap % = {gap} %\")\n",
    "    return gap"
   ]
  },
  {
   "cell_type": "code",
   "execution_count": 51,
   "metadata": {},
   "outputs": [
    {
     "name": "stderr",
     "output_type": "stream",
     "text": [
      "0it [00:00, ?it/s]INFO:root:Optimal: 1397.0, Best Known: 1397\n",
      "INFO:root:Lower Bound: 1397, Result 1427\n",
      "INFO:root:Instance 217 has Gap % = 2.15 %\n",
      "INFO:root:Optimal: 865.0, Best Known: 865\n",
      "INFO:root:Lower Bound: 865, Result 1159\n",
      "INFO:root:Instance 218 has Gap % = 33.99 %\n",
      "INFO:root:Optimal: 529.0, Best Known: 529\n",
      "INFO:root:Lower Bound: 529, Result 741\n",
      "INFO:root:Instance 219 has Gap % = 40.08 %\n",
      "INFO:root:Optimal: 3316.0, Best Known: 3316\n",
      "INFO:root:Lower Bound: 3316, Result 3599\n",
      "INFO:root:Instance 220 has Gap % = 8.53 %\n",
      "4it [00:00, 724.78it/s]\n"
     ]
    }
   ],
   "source": [
    "instances_list = [x for x in range(217, 221)]\n",
    "\n",
    "pct_deviation_from_best = []\n",
    "\n",
    "for best, instance_number in tqdm(zip(loaded_results, instances_list)):\n",
    "    optimal = df_optimal[df_optimal.Instance == instance_number][\"Optimal solution\"].values[0]\n",
    "    best_know = df_optimal[df_optimal.Instance == instance_number][\"Best known solution\"].values[0]\n",
    "    logging.info(f\"Optimal: {optimal}, Best Known: {best_know}\")\n",
    "    get_gap(df_optimal, instance_number, best)"
   ]
  },
  {
   "attachments": {},
   "cell_type": "markdown",
   "metadata": {},
   "source": [
    "## Group by type"
   ]
  },
  {
   "cell_type": "code",
   "execution_count": 52,
   "metadata": {},
   "outputs": [
    {
     "data": {
      "text/html": [
       "<div>\n",
       "<style scoped>\n",
       "    .dataframe tbody tr th:only-of-type {\n",
       "        vertical-align: middle;\n",
       "    }\n",
       "\n",
       "    .dataframe tbody tr th {\n",
       "        vertical-align: top;\n",
       "    }\n",
       "\n",
       "    .dataframe thead th {\n",
       "        text-align: right;\n",
       "    }\n",
       "</style>\n",
       "<table border=\"1\" class=\"dataframe\">\n",
       "  <thead>\n",
       "    <tr style=\"text-align: right;\">\n",
       "      <th></th>\n",
       "      <th>Humans</th>\n",
       "      <th>Robots</th>\n",
       "      <th>Robot Eligibility</th>\n",
       "      <th>Instance</th>\n",
       "    </tr>\n",
       "  </thead>\n",
       "  <tbody>\n",
       "    <tr>\n",
       "      <th>0</th>\n",
       "      <td>1</td>\n",
       "      <td>2</td>\n",
       "      <td>0,25</td>\n",
       "      <td>[217, 220, 229, 232, 241, 244, 253, 256, 265, ...</td>\n",
       "    </tr>\n",
       "    <tr>\n",
       "      <th>1</th>\n",
       "      <td>1</td>\n",
       "      <td>2</td>\n",
       "      <td>0,5</td>\n",
       "      <td>[218, 221, 230, 233, 242, 245, 254, 257, 266, ...</td>\n",
       "    </tr>\n",
       "    <tr>\n",
       "      <th>2</th>\n",
       "      <td>1</td>\n",
       "      <td>2</td>\n",
       "      <td>1</td>\n",
       "      <td>[219, 222, 231, 234, 243, 246, 255, 258, 267, ...</td>\n",
       "    </tr>\n",
       "    <tr>\n",
       "      <th>3</th>\n",
       "      <td>1</td>\n",
       "      <td>3</td>\n",
       "      <td>0,25</td>\n",
       "      <td>[223, 226, 235, 238, 247, 250, 259, 262, 271, ...</td>\n",
       "    </tr>\n",
       "    <tr>\n",
       "      <th>4</th>\n",
       "      <td>1</td>\n",
       "      <td>3</td>\n",
       "      <td>0,5</td>\n",
       "      <td>[224, 227, 236, 239, 248, 251, 260, 263, 272, ...</td>\n",
       "    </tr>\n",
       "    <tr>\n",
       "      <th>5</th>\n",
       "      <td>1</td>\n",
       "      <td>3</td>\n",
       "      <td>1</td>\n",
       "      <td>[225, 228, 237, 240, 249, 252, 261, 264, 273, ...</td>\n",
       "    </tr>\n",
       "    <tr>\n",
       "      <th>6</th>\n",
       "      <td>2</td>\n",
       "      <td>2</td>\n",
       "      <td>0,25</td>\n",
       "      <td>[277, 280, 289, 292, 301, 304, 313, 316, 325, ...</td>\n",
       "    </tr>\n",
       "    <tr>\n",
       "      <th>7</th>\n",
       "      <td>2</td>\n",
       "      <td>2</td>\n",
       "      <td>0,5</td>\n",
       "      <td>[278, 281, 290, 293, 302, 305, 314, 317, 326, ...</td>\n",
       "    </tr>\n",
       "    <tr>\n",
       "      <th>8</th>\n",
       "      <td>2</td>\n",
       "      <td>2</td>\n",
       "      <td>1</td>\n",
       "      <td>[279, 282, 291, 294, 303, 306, 315, 318, 327, ...</td>\n",
       "    </tr>\n",
       "    <tr>\n",
       "      <th>9</th>\n",
       "      <td>2</td>\n",
       "      <td>3</td>\n",
       "      <td>0,25</td>\n",
       "      <td>[283, 286, 295, 298, 307, 310, 319, 322, 331, ...</td>\n",
       "    </tr>\n",
       "    <tr>\n",
       "      <th>10</th>\n",
       "      <td>2</td>\n",
       "      <td>3</td>\n",
       "      <td>0,5</td>\n",
       "      <td>[284, 287, 296, 299, 308, 311, 320, 323, 332, ...</td>\n",
       "    </tr>\n",
       "    <tr>\n",
       "      <th>11</th>\n",
       "      <td>2</td>\n",
       "      <td>3</td>\n",
       "      <td>1</td>\n",
       "      <td>[285, 288, 297, 300, 309, 312, 321, 324, 333, ...</td>\n",
       "    </tr>\n",
       "  </tbody>\n",
       "</table>\n",
       "</div>"
      ],
      "text/plain": [
       "    Humans  Robots Robot Eligibility  \\\n",
       "0        1       2              0,25   \n",
       "1        1       2               0,5   \n",
       "2        1       2                 1   \n",
       "3        1       3              0,25   \n",
       "4        1       3               0,5   \n",
       "5        1       3                 1   \n",
       "6        2       2              0,25   \n",
       "7        2       2               0,5   \n",
       "8        2       2                 1   \n",
       "9        2       3              0,25   \n",
       "10       2       3               0,5   \n",
       "11       2       3                 1   \n",
       "\n",
       "                                             Instance  \n",
       "0   [217, 220, 229, 232, 241, 244, 253, 256, 265, ...  \n",
       "1   [218, 221, 230, 233, 242, 245, 254, 257, 266, ...  \n",
       "2   [219, 222, 231, 234, 243, 246, 255, 258, 267, ...  \n",
       "3   [223, 226, 235, 238, 247, 250, 259, 262, 271, ...  \n",
       "4   [224, 227, 236, 239, 248, 251, 260, 263, 272, ...  \n",
       "5   [225, 228, 237, 240, 249, 252, 261, 264, 273, ...  \n",
       "6   [277, 280, 289, 292, 301, 304, 313, 316, 325, ...  \n",
       "7   [278, 281, 290, 293, 302, 305, 314, 317, 326, ...  \n",
       "8   [279, 282, 291, 294, 303, 306, 315, 318, 327, ...  \n",
       "9   [283, 286, 295, 298, 307, 310, 319, 322, 331, ...  \n",
       "10  [284, 287, 296, 299, 308, 311, 320, 323, 332, ...  \n",
       "11  [285, 288, 297, 300, 309, 312, 321, 324, 333, ...  "
      ]
     },
     "execution_count": 52,
     "metadata": {},
     "output_type": "execute_result"
    }
   ],
   "source": [
    "instance_groups = (\n",
    "    df_optimal.groupby([\"Humans\", \"Robots\", \"Robot Eligibility\"]).Instance.apply(list).reset_index()\n",
    ")\n",
    "instance_groups"
   ]
  },
  {
   "cell_type": "code",
   "execution_count": 53,
   "metadata": {},
   "outputs": [
    {
     "name": "stderr",
     "output_type": "stream",
     "text": [
      "0it [00:00, ?it/s]\n"
     ]
    },
    {
     "ename": "TypeError",
     "evalue": "get_gap() missing 1 required positional argument: 'best'",
     "output_type": "error",
     "traceback": [
      "\u001b[0;31m---------------------------------------------------------------------------\u001b[0m",
      "\u001b[0;31mTypeError\u001b[0m                                 Traceback (most recent call last)",
      "Cell \u001b[0;32mIn[53], line 4\u001b[0m\n\u001b[1;32m      2\u001b[0m gap_group \u001b[39m=\u001b[39m []\n\u001b[1;32m      3\u001b[0m \u001b[39mfor\u001b[39;00m ins_x \u001b[39min\u001b[39;00m row_group\u001b[39m.\u001b[39mInstance:\n\u001b[0;32m----> 4\u001b[0m     gap_x \u001b[39m=\u001b[39m get_gap(df_optimal, ins_x, )\n",
      "\u001b[0;31mTypeError\u001b[0m: get_gap() missing 1 required positional argument: 'best'"
     ]
    }
   ],
   "source": [
    "for idx, row_group in tqdm(instance_groups.iterrows()):\n",
    "    gap_group = []\n",
    "    for ins_x in row_group.Instance:\n",
    "        gap_x = get_gap(\n",
    "            df_optimal,\n",
    "            ins_x, \n",
    "        )"
   ]
  },
  {
   "cell_type": "code",
   "execution_count": null,
   "metadata": {},
   "outputs": [],
   "source": []
  }
 ],
 "metadata": {
  "kernelspec": {
   "display_name": ".venv_hm_hrt",
   "language": "python",
   "name": "python3"
  },
  "language_info": {
   "codemirror_mode": {
    "name": "ipython",
    "version": 3
   },
   "file_extension": ".py",
   "mimetype": "text/x-python",
   "name": "python",
   "nbconvert_exporter": "python",
   "pygments_lexer": "ipython3",
   "version": "3.10.4"
  },
  "orig_nbformat": 4,
  "vscode": {
   "interpreter": {
    "hash": "a6289d96d3a41a28093af2b7ef3d7cfe930fbd01b56829a017029cf1de3096c1"
   }
  }
 },
 "nbformat": 4,
 "nbformat_minor": 2
}
