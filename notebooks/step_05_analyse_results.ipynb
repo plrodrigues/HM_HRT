{
 "cells": [
  {
   "attachments": {},
   "cell_type": "markdown",
   "metadata": {},
   "source": [
    "# Analyse the GA results"
   ]
  },
  {
   "cell_type": "code",
   "execution_count": 14,
   "metadata": {},
   "outputs": [
    {
     "name": "stdout",
     "output_type": "stream",
     "text": [
      "The autoreload extension is already loaded. To reload it, use:\n",
      "  %reload_ext autoreload\n"
     ]
    }
   ],
   "source": [
    "%load_ext autoreload\n",
    "%autoreload 2\n",
    "%matplotlib inline\n",
    "\n",
    "%matplotlib widget"
   ]
  },
  {
   "cell_type": "code",
   "execution_count": 15,
   "metadata": {},
   "outputs": [],
   "source": [
    "import os\n",
    "import numpy as np\n",
    "import pandas as pd\n",
    "import logging\n",
    "import pickle\n",
    "import jupyter_black\n",
    "from tqdm import tqdm\n",
    "\n",
    "from src.data_connectors import write_solution_files\n",
    "from src.data_connectors import read_input_files\n",
    "\n",
    "jupyter_black.load()\n",
    "\n",
    "logging.basicConfig()\n",
    "logging.getLogger().setLevel(logging.INFO)"
   ]
  },
  {
   "attachments": {},
   "cell_type": "markdown",
   "metadata": {},
   "source": [
    "## Read the results"
   ]
  },
  {
   "cell_type": "code",
   "execution_count": 3,
   "metadata": {},
   "outputs": [],
   "source": [
    "with open(\"../data/solutions/all_ga_MMTSP_SAC.pkl\", \"rb\") as f:\n",
    "    loaded_results = pickle.load(f)"
   ]
  },
  {
   "cell_type": "code",
   "execution_count": 4,
   "metadata": {},
   "outputs": [
    {
     "data": {
      "text/plain": [
       "120"
      ]
     },
     "execution_count": 4,
     "metadata": {},
     "output_type": "execute_result"
    }
   ],
   "source": [
    "len(loaded_results)"
   ]
  },
  {
   "cell_type": "code",
   "execution_count": 5,
   "metadata": {},
   "outputs": [
    {
     "data": {
      "text/plain": [
       "217"
      ]
     },
     "execution_count": 5,
     "metadata": {},
     "output_type": "execute_result"
    }
   ],
   "source": [
    "# First instance\n",
    "loaded_results[0][-1]"
   ]
  },
  {
   "cell_type": "code",
   "execution_count": 6,
   "metadata": {},
   "outputs": [
    {
     "data": {
      "text/plain": [
       "336"
      ]
     },
     "execution_count": 6,
     "metadata": {},
     "output_type": "execute_result"
    }
   ],
   "source": [
    "# Last instance\n",
    "loaded_results[-1][-1]"
   ]
  },
  {
   "attachments": {},
   "cell_type": "markdown",
   "metadata": {},
   "source": [
    "## Process results\n",
    "\n",
    "list[all_surviving_chromosomes, all_surviving_makespans, best_makespan, duration_until_best_makespan]"
   ]
  },
  {
   "cell_type": "code",
   "execution_count": 7,
   "metadata": {},
   "outputs": [
    {
     "name": "stderr",
     "output_type": "stream",
     "text": [
      "4it [00:00, 12.23it/s]\n"
     ]
    }
   ],
   "source": [
    "instances_path = \"../data/input/HRTInstances/\"\n",
    "instances_list = [x for x in range(217, 221)]\n",
    "\n",
    "times_of_best_results = []\n",
    "\n",
    "for best, instance_number in tqdm(zip(loaded_results, instances_list)):\n",
    "    ins_x = ins_x = read_input_files.read_file(\n",
    "        os.path.join(instances_path, f\"Instance_{instance_number}.txt\")\n",
    "    )\n",
    "    times_of_best_results.append(write_solution_files.find_times_of_best_solution(ins_x, best))"
   ]
  },
  {
   "cell_type": "code",
   "execution_count": 8,
   "metadata": {},
   "outputs": [
    {
     "data": {
      "text/plain": [
       "{'1': {1: (0, 1), 8: (38, 48), 11: (49, 54), 16: (419, 424), 19: (425, 519)},\n",
       " '0': {2: (2, 37),\n",
       "  3: (38, 43),\n",
       "  4: (44, 74),\n",
       "  5: (75, 174),\n",
       "  6: (175, 211),\n",
       "  7: (212, 253),\n",
       "  9: (254, 274),\n",
       "  10: (275, 373),\n",
       "  12: (374, 418),\n",
       "  13: (419, 466),\n",
       "  14: (467, 504),\n",
       "  15: (505, 566),\n",
       "  17: (567, 597),\n",
       "  18: (598, 625),\n",
       "  20: (626, 714),\n",
       "  22: (715, 750),\n",
       "  23: (751, 756),\n",
       "  24: (757, 787),\n",
       "  25: (788, 887),\n",
       "  26: (888, 924),\n",
       "  27: (925, 966),\n",
       "  29: (967, 987),\n",
       "  30: (988, 1086),\n",
       "  32: (1087, 1131),\n",
       "  33: (1132, 1179),\n",
       "  34: (1180, 1217),\n",
       "  35: (1218, 1279),\n",
       "  37: (1280, 1310),\n",
       "  38: (1311, 1338),\n",
       "  40: (1339, 1427)},\n",
       " '2': {21: (0, 1),\n",
       "  28: (751, 761),\n",
       "  31: (762, 767),\n",
       "  36: (1132, 1137),\n",
       "  39: (1138, 1232)}}"
      ]
     },
     "execution_count": 8,
     "metadata": {},
     "output_type": "execute_result"
    }
   ],
   "source": [
    "times_of_best_results[0]"
   ]
  },
  {
   "attachments": {},
   "cell_type": "markdown",
   "metadata": {},
   "source": [
    "## Optimal Solutions"
   ]
  },
  {
   "cell_type": "code",
   "execution_count": 9,
   "metadata": {},
   "outputs": [
    {
     "data": {
      "text/html": [
       "<div>\n",
       "<style scoped>\n",
       "    .dataframe tbody tr th:only-of-type {\n",
       "        vertical-align: middle;\n",
       "    }\n",
       "\n",
       "    .dataframe tbody tr th {\n",
       "        vertical-align: top;\n",
       "    }\n",
       "\n",
       "    .dataframe thead th {\n",
       "        text-align: right;\n",
       "    }\n",
       "</style>\n",
       "<table border=\"1\" class=\"dataframe\">\n",
       "  <thead>\n",
       "    <tr style=\"text-align: right;\">\n",
       "      <th></th>\n",
       "      <th>Instance</th>\n",
       "      <th>Humans</th>\n",
       "      <th>Robots</th>\n",
       "      <th>Robot Eligibility</th>\n",
       "      <th>Optimal solution</th>\n",
       "      <th>Best known solution</th>\n",
       "      <th>Lower bound</th>\n",
       "    </tr>\n",
       "  </thead>\n",
       "  <tbody>\n",
       "    <tr>\n",
       "      <th>0</th>\n",
       "      <td>217</td>\n",
       "      <td>1</td>\n",
       "      <td>2</td>\n",
       "      <td>0,25</td>\n",
       "      <td>1397.0</td>\n",
       "      <td>1397</td>\n",
       "      <td>1397</td>\n",
       "    </tr>\n",
       "    <tr>\n",
       "      <th>1</th>\n",
       "      <td>218</td>\n",
       "      <td>1</td>\n",
       "      <td>2</td>\n",
       "      <td>0,5</td>\n",
       "      <td>865.0</td>\n",
       "      <td>865</td>\n",
       "      <td>865</td>\n",
       "    </tr>\n",
       "    <tr>\n",
       "      <th>2</th>\n",
       "      <td>219</td>\n",
       "      <td>1</td>\n",
       "      <td>2</td>\n",
       "      <td>1</td>\n",
       "      <td>529.0</td>\n",
       "      <td>529</td>\n",
       "      <td>529</td>\n",
       "    </tr>\n",
       "    <tr>\n",
       "      <th>3</th>\n",
       "      <td>220</td>\n",
       "      <td>1</td>\n",
       "      <td>2</td>\n",
       "      <td>0,25</td>\n",
       "      <td>3316.0</td>\n",
       "      <td>3316</td>\n",
       "      <td>3316</td>\n",
       "    </tr>\n",
       "    <tr>\n",
       "      <th>4</th>\n",
       "      <td>221</td>\n",
       "      <td>1</td>\n",
       "      <td>2</td>\n",
       "      <td>0,5</td>\n",
       "      <td>2476.0</td>\n",
       "      <td>2476</td>\n",
       "      <td>2476</td>\n",
       "    </tr>\n",
       "  </tbody>\n",
       "</table>\n",
       "</div>"
      ],
      "text/plain": [
       "   Instance  Humans  Robots Robot Eligibility  Optimal solution  \\\n",
       "0       217       1       2              0,25            1397.0   \n",
       "1       218       1       2               0,5             865.0   \n",
       "2       219       1       2                 1             529.0   \n",
       "3       220       1       2              0,25            3316.0   \n",
       "4       221       1       2               0,5            2476.0   \n",
       "\n",
       "   Best known solution  Lower bound  \n",
       "0                 1397         1397  \n",
       "1                  865          865  \n",
       "2                  529          529  \n",
       "3                 3316         3316  \n",
       "4                 2476         2476  "
      ]
     },
     "execution_count": 9,
     "metadata": {},
     "output_type": "execute_result"
    }
   ],
   "source": [
    "df_optimal = pd.read_csv(\"../data/solutions/optimal/OptimalSolutions.csv\", sep=\";\", header=1)\n",
    "\n",
    "df_optimal.head()"
   ]
  },
  {
   "cell_type": "code",
   "execution_count": 10,
   "metadata": {},
   "outputs": [],
   "source": [
    "def get_gap(df_optimal: pd.DataFrame, instance_number: int, best: tuple) -> float:\n",
    "    lower_bound = df_optimal[df_optimal.Instance == instance_number][\"Lower bound\"].values[0]\n",
    "    ins_result = best[2]\n",
    "    gap = (ins_result - lower_bound) / lower_bound * 100\n",
    "    logging.debug(f\"Lower Bound: {lower_bound}, Result {ins_result}\")\n",
    "    logging.debug(f\"Instance {instance_number} has Gap % = {gap:.2f} %\")\n",
    "    return gap"
   ]
  },
  {
   "cell_type": "code",
   "execution_count": 11,
   "metadata": {},
   "outputs": [
    {
     "name": "stderr",
     "output_type": "stream",
     "text": [
      "  0%|          | 0/120 [00:00<?, ?it/s]INFO:root:Instance 217 has Gap % = 2.15 %\n",
      "INFO:root:Instance 218 has Gap % = 24.51 %\n",
      "INFO:root:Instance 219 has Gap % = 28.36 %\n",
      "INFO:root:Instance 220 has Gap % = 6.60 %\n",
      "INFO:root:Instance 221 has Gap % = 23.10 %\n",
      "INFO:root:Instance 222 has Gap % = 47.53 %\n",
      "INFO:root:Instance 223 has Gap % = 8.09 %\n",
      "INFO:root:Instance 224 has Gap % = 6.42 %\n",
      "INFO:root:Instance 225 has Gap % = 36.23 %\n",
      "INFO:root:Instance 226 has Gap % = 2.63 %\n",
      "INFO:root:Instance 227 has Gap % = 14.97 %\n",
      "INFO:root:Instance 228 has Gap % = 42.10 %\n",
      "INFO:root:Instance 229 has Gap % = 23.27 %\n",
      "INFO:root:Instance 230 has Gap % = 31.62 %\n",
      "INFO:root:Instance 231 has Gap % = 46.39 %\n",
      "INFO:root:Instance 232 has Gap % = 16.42 %\n",
      "INFO:root:Instance 233 has Gap % = 11.40 %\n",
      "INFO:root:Instance 234 has Gap % = 54.49 %\n",
      "INFO:root:Instance 235 has Gap % = 7.98 %\n",
      "INFO:root:Instance 236 has Gap % = 20.30 %\n",
      "INFO:root:Instance 237 has Gap % = 30.60 %\n",
      "INFO:root:Instance 238 has Gap % = 11.11 %\n",
      "INFO:root:Instance 239 has Gap % = 37.47 %\n",
      "INFO:root:Instance 240 has Gap % = 73.06 %\n",
      "INFO:root:Instance 241 has Gap % = 21.59 %\n",
      "INFO:root:Instance 242 has Gap % = 16.00 %\n",
      "INFO:root:Instance 243 has Gap % = 32.68 %\n",
      "INFO:root:Instance 244 has Gap % = 11.53 %\n",
      "INFO:root:Instance 245 has Gap % = 28.59 %\n",
      "INFO:root:Instance 246 has Gap % = 55.21 %\n",
      "INFO:root:Instance 247 has Gap % = 23.31 %\n",
      "INFO:root:Instance 248 has Gap % = 45.46 %\n",
      "INFO:root:Instance 249 has Gap % = 52.73 %\n",
      "INFO:root:Instance 250 has Gap % = 9.17 %\n",
      "INFO:root:Instance 251 has Gap % = 32.86 %\n",
      "INFO:root:Instance 252 has Gap % = 79.83 %\n",
      "INFO:root:Instance 253 has Gap % = 34.43 %\n",
      "INFO:root:Instance 254 has Gap % = 50.81 %\n",
      "INFO:root:Instance 255 has Gap % = 51.10 %\n",
      "INFO:root:Instance 256 has Gap % = 36.09 %\n",
      "INFO:root:Instance 257 has Gap % = 60.12 %\n",
      "INFO:root:Instance 258 has Gap % = 77.82 %\n",
      "INFO:root:Instance 259 has Gap % = 27.58 %\n",
      "INFO:root:Instance 260 has Gap % = 49.29 %\n",
      "INFO:root:Instance 261 has Gap % = 28.75 %\n",
      "INFO:root:Instance 262 has Gap % = 9.85 %\n",
      "INFO:root:Instance 263 has Gap % = 67.83 %\n",
      "INFO:root:Instance 264 has Gap % = 85.02 %\n",
      "INFO:root:Instance 265 has Gap % = 27.38 %\n",
      "INFO:root:Instance 266 has Gap % = 42.90 %\n",
      "INFO:root:Instance 267 has Gap % = 32.17 %\n",
      "INFO:root:Instance 268 has Gap % = 28.41 %\n",
      "INFO:root:Instance 269 has Gap % = 38.55 %\n",
      "INFO:root:Instance 270 has Gap % = 70.33 %\n",
      "INFO:root:Instance 271 has Gap % = 12.30 %\n",
      "INFO:root:Instance 272 has Gap % = 51.13 %\n",
      "INFO:root:Instance 273 has Gap % = 42.00 %\n",
      "INFO:root:Instance 274 has Gap % = 8.13 %\n",
      "INFO:root:Instance 275 has Gap % = 17.75 %\n",
      "INFO:root:Instance 276 has Gap % = 106.93 %\n",
      "INFO:root:Instance 277 has Gap % = 44.25 %\n",
      "INFO:root:Instance 278 has Gap % = 11.85 %\n",
      "INFO:root:Instance 279 has Gap % = 65.31 %\n",
      "INFO:root:Instance 280 has Gap % = 10.92 %\n",
      "INFO:root:Instance 281 has Gap % = 41.21 %\n",
      "INFO:root:Instance 282 has Gap % = 55.09 %\n",
      "INFO:root:Instance 283 has Gap % = 11.68 %\n",
      "INFO:root:Instance 284 has Gap % = 55.84 %\n",
      "INFO:root:Instance 285 has Gap % = 72.82 %\n",
      "INFO:root:Instance 286 has Gap % = 7.98 %\n",
      "INFO:root:Instance 287 has Gap % = 37.40 %\n",
      "INFO:root:Instance 288 has Gap % = 83.07 %\n",
      "INFO:root:Instance 289 has Gap % = 23.23 %\n",
      "INFO:root:Instance 290 has Gap % = 47.38 %\n",
      "INFO:root:Instance 291 has Gap % = 67.52 %\n",
      "INFO:root:Instance 292 has Gap % = 13.69 %\n",
      "INFO:root:Instance 293 has Gap % = 51.23 %\n",
      "INFO:root:Instance 294 has Gap % = 60.79 %\n",
      "INFO:root:Instance 295 has Gap % = 44.01 %\n",
      "INFO:root:Instance 296 has Gap % = 34.56 %\n",
      "INFO:root:Instance 297 has Gap % = 41.51 %\n",
      " 68%|██████▊   | 81/120 [00:00<00:00, 802.99it/s]INFO:root:Instance 298 has Gap % = 26.48 %\n",
      "INFO:root:Instance 299 has Gap % = 50.62 %\n",
      "INFO:root:Instance 300 has Gap % = 104.06 %\n",
      "INFO:root:Instance 301 has Gap % = 42.93 %\n",
      "INFO:root:Instance 302 has Gap % = 55.51 %\n",
      "INFO:root:Instance 303 has Gap % = 71.51 %\n",
      "INFO:root:Instance 304 has Gap % = 25.91 %\n",
      "INFO:root:Instance 305 has Gap % = 42.74 %\n",
      "INFO:root:Instance 306 has Gap % = 63.95 %\n",
      "INFO:root:Instance 307 has Gap % = 37.86 %\n",
      "INFO:root:Instance 308 has Gap % = 83.67 %\n",
      "INFO:root:Instance 309 has Gap % = 115.50 %\n",
      "INFO:root:Instance 310 has Gap % = 19.14 %\n",
      "INFO:root:Instance 311 has Gap % = 47.51 %\n",
      "INFO:root:Instance 312 has Gap % = 93.86 %\n",
      "INFO:root:Instance 313 has Gap % = 47.00 %\n",
      "INFO:root:Instance 314 has Gap % = 87.83 %\n",
      "INFO:root:Instance 315 has Gap % = 51.54 %\n",
      "INFO:root:Instance 316 has Gap % = 56.51 %\n",
      "INFO:root:Instance 317 has Gap % = 41.83 %\n",
      "INFO:root:Instance 318 has Gap % = 55.92 %\n",
      "INFO:root:Instance 319 has Gap % = 73.18 %\n",
      "INFO:root:Instance 320 has Gap % = 38.28 %\n",
      "INFO:root:Instance 321 has Gap % = 66.67 %\n",
      "INFO:root:Instance 322 has Gap % = 61.12 %\n",
      "INFO:root:Instance 323 has Gap % = 62.48 %\n",
      "INFO:root:Instance 324 has Gap % = 101.74 %\n",
      "INFO:root:Instance 325 has Gap % = 32.40 %\n",
      "INFO:root:Instance 326 has Gap % = 44.62 %\n",
      "INFO:root:Instance 327 has Gap % = 55.47 %\n",
      "INFO:root:Instance 328 has Gap % = 63.96 %\n",
      "INFO:root:Instance 329 has Gap % = 51.03 %\n",
      "INFO:root:Instance 330 has Gap % = 73.01 %\n",
      "INFO:root:Instance 331 has Gap % = 23.85 %\n",
      "INFO:root:Instance 332 has Gap % = 48.07 %\n",
      "INFO:root:Instance 333 has Gap % = 77.69 %\n",
      "INFO:root:Instance 334 has Gap % = 23.20 %\n",
      "INFO:root:Instance 335 has Gap % = 45.07 %\n",
      "INFO:root:Instance 336 has Gap % = 99.18 %\n",
      "100%|██████████| 120/120 [00:00<00:00, 727.30it/s]\n"
     ]
    }
   ],
   "source": [
    "instances_list = [x for x in range(217, 336)]\n",
    "\n",
    "pct_deviation_from_best = []\n",
    "\n",
    "for best in tqdm(loaded_results):\n",
    "    instance_number = best[-1]\n",
    "    optimal = df_optimal[df_optimal.Instance == instance_number][\"Optimal solution\"].values[0]\n",
    "    best_know = df_optimal[df_optimal.Instance == instance_number][\"Best known solution\"].values[0]\n",
    "    logging.debug(f\"Optimal: {optimal}, Best Known: {best_know}\")\n",
    "    gap = get_gap(df_optimal, instance_number, best)\n",
    "    logging.info(f\"Instance {instance_number} has Gap % = {gap:.2f} %\")"
   ]
  },
  {
   "attachments": {},
   "cell_type": "markdown",
   "metadata": {},
   "source": [
    "## Group by type"
   ]
  },
  {
   "cell_type": "code",
   "execution_count": 12,
   "metadata": {},
   "outputs": [
    {
     "name": "stderr",
     "output_type": "stream",
     "text": [
      "100%|██████████| 120/120 [00:00<00:00, 8295.83it/s]\n",
      "100%|██████████| 120/120 [00:00<00:00, 8871.67it/s]\n",
      "100%|██████████| 120/120 [00:00<00:00, 8633.66it/s]\n",
      "100%|██████████| 120/120 [00:00<00:00, 8470.35it/s]\n",
      "100%|██████████| 120/120 [00:00<00:00, 8896.92it/s]\n",
      "100%|██████████| 120/120 [00:00<00:00, 8775.77it/s]\n",
      "100%|██████████| 120/120 [00:00<00:00, 8653.70it/s]\n",
      "100%|██████████| 120/120 [00:00<00:00, 7910.42it/s]\n",
      "100%|██████████| 120/120 [00:00<00:00, 5680.97it/s]\n",
      "100%|██████████| 120/120 [00:00<00:00, 5144.49it/s]\n",
      "100%|██████████| 120/120 [00:00<00:00, 7103.47it/s]\n",
      "100%|██████████| 120/120 [00:00<00:00, 7981.30it/s]\n",
      "12it [00:00, 52.43it/s]\n"
     ]
    }
   ],
   "source": [
    "df_instance_groups = (\n",
    "    df_optimal.groupby([\"Humans\", \"Robots\", \"Robot Eligibility\"]).Instance.apply(list).reset_index()\n",
    ")\n",
    "df_instance_groups\n",
    "\n",
    "\n",
    "all_gaps = []\n",
    "for idx, row_group in tqdm(df_instance_groups.iterrows()):\n",
    "    gap_group = []\n",
    "    for best in tqdm(loaded_results):\n",
    "        instance_number = best[-1]\n",
    "        gap_x = get_gap(df_optimal, instance_number, best)\n",
    "        gap_group.append(gap_x)\n",
    "    all_gaps.append(gap_group)\n",
    "\n",
    "df_instance_groups[\"Gaps\"] = all_gaps\n",
    "df_instance_groups[\"Gaps%\"] = df_instance_groups[\"Gaps\"].apply(lambda x: sum(x) / len(x))"
   ]
  },
  {
   "cell_type": "code",
   "execution_count": 19,
   "metadata": {},
   "outputs": [
    {
     "data": {
      "text/html": [
       "<div>\n",
       "<style scoped>\n",
       "    .dataframe tbody tr th:only-of-type {\n",
       "        vertical-align: middle;\n",
       "    }\n",
       "\n",
       "    .dataframe tbody tr th {\n",
       "        vertical-align: top;\n",
       "    }\n",
       "\n",
       "    .dataframe thead th {\n",
       "        text-align: right;\n",
       "    }\n",
       "</style>\n",
       "<table border=\"1\" class=\"dataframe\">\n",
       "  <thead>\n",
       "    <tr style=\"text-align: right;\">\n",
       "      <th></th>\n",
       "      <th>Humans</th>\n",
       "      <th>Robots</th>\n",
       "      <th>Robot Eligibility</th>\n",
       "      <th>Instance</th>\n",
       "      <th>Gaps</th>\n",
       "      <th>Gaps%</th>\n",
       "    </tr>\n",
       "  </thead>\n",
       "  <tbody>\n",
       "    <tr>\n",
       "      <th>0</th>\n",
       "      <td>1</td>\n",
       "      <td>2</td>\n",
       "      <td>0,25</td>\n",
       "      <td>[217, 220, 229, 232, 241, 244, 253, 256, 265, ...</td>\n",
       "      <td>[2.1474588403722263, 24.508670520231213, 28.35...</td>\n",
       "      <td>43.472149</td>\n",
       "    </tr>\n",
       "    <tr>\n",
       "      <th>1</th>\n",
       "      <td>1</td>\n",
       "      <td>2</td>\n",
       "      <td>0,5</td>\n",
       "      <td>[218, 221, 230, 233, 242, 245, 254, 257, 266, ...</td>\n",
       "      <td>[2.1474588403722263, 24.508670520231213, 28.35...</td>\n",
       "      <td>43.472149</td>\n",
       "    </tr>\n",
       "    <tr>\n",
       "      <th>2</th>\n",
       "      <td>1</td>\n",
       "      <td>2</td>\n",
       "      <td>1</td>\n",
       "      <td>[219, 222, 231, 234, 243, 246, 255, 258, 267, ...</td>\n",
       "      <td>[2.1474588403722263, 24.508670520231213, 28.35...</td>\n",
       "      <td>43.472149</td>\n",
       "    </tr>\n",
       "    <tr>\n",
       "      <th>3</th>\n",
       "      <td>1</td>\n",
       "      <td>3</td>\n",
       "      <td>0,25</td>\n",
       "      <td>[223, 226, 235, 238, 247, 250, 259, 262, 271, ...</td>\n",
       "      <td>[2.1474588403722263, 24.508670520231213, 28.35...</td>\n",
       "      <td>43.472149</td>\n",
       "    </tr>\n",
       "    <tr>\n",
       "      <th>4</th>\n",
       "      <td>1</td>\n",
       "      <td>3</td>\n",
       "      <td>0,5</td>\n",
       "      <td>[224, 227, 236, 239, 248, 251, 260, 263, 272, ...</td>\n",
       "      <td>[2.1474588403722263, 24.508670520231213, 28.35...</td>\n",
       "      <td>43.472149</td>\n",
       "    </tr>\n",
       "    <tr>\n",
       "      <th>5</th>\n",
       "      <td>1</td>\n",
       "      <td>3</td>\n",
       "      <td>1</td>\n",
       "      <td>[225, 228, 237, 240, 249, 252, 261, 264, 273, ...</td>\n",
       "      <td>[2.1474588403722263, 24.508670520231213, 28.35...</td>\n",
       "      <td>43.472149</td>\n",
       "    </tr>\n",
       "    <tr>\n",
       "      <th>6</th>\n",
       "      <td>2</td>\n",
       "      <td>2</td>\n",
       "      <td>0,25</td>\n",
       "      <td>[277, 280, 289, 292, 301, 304, 313, 316, 325, ...</td>\n",
       "      <td>[2.1474588403722263, 24.508670520231213, 28.35...</td>\n",
       "      <td>43.472149</td>\n",
       "    </tr>\n",
       "    <tr>\n",
       "      <th>7</th>\n",
       "      <td>2</td>\n",
       "      <td>2</td>\n",
       "      <td>0,5</td>\n",
       "      <td>[278, 281, 290, 293, 302, 305, 314, 317, 326, ...</td>\n",
       "      <td>[2.1474588403722263, 24.508670520231213, 28.35...</td>\n",
       "      <td>43.472149</td>\n",
       "    </tr>\n",
       "    <tr>\n",
       "      <th>8</th>\n",
       "      <td>2</td>\n",
       "      <td>2</td>\n",
       "      <td>1</td>\n",
       "      <td>[279, 282, 291, 294, 303, 306, 315, 318, 327, ...</td>\n",
       "      <td>[2.1474588403722263, 24.508670520231213, 28.35...</td>\n",
       "      <td>43.472149</td>\n",
       "    </tr>\n",
       "    <tr>\n",
       "      <th>9</th>\n",
       "      <td>2</td>\n",
       "      <td>3</td>\n",
       "      <td>0,25</td>\n",
       "      <td>[283, 286, 295, 298, 307, 310, 319, 322, 331, ...</td>\n",
       "      <td>[2.1474588403722263, 24.508670520231213, 28.35...</td>\n",
       "      <td>43.472149</td>\n",
       "    </tr>\n",
       "    <tr>\n",
       "      <th>10</th>\n",
       "      <td>2</td>\n",
       "      <td>3</td>\n",
       "      <td>0,5</td>\n",
       "      <td>[284, 287, 296, 299, 308, 311, 320, 323, 332, ...</td>\n",
       "      <td>[2.1474588403722263, 24.508670520231213, 28.35...</td>\n",
       "      <td>43.472149</td>\n",
       "    </tr>\n",
       "    <tr>\n",
       "      <th>11</th>\n",
       "      <td>2</td>\n",
       "      <td>3</td>\n",
       "      <td>1</td>\n",
       "      <td>[285, 288, 297, 300, 309, 312, 321, 324, 333, ...</td>\n",
       "      <td>[2.1474588403722263, 24.508670520231213, 28.35...</td>\n",
       "      <td>43.472149</td>\n",
       "    </tr>\n",
       "  </tbody>\n",
       "</table>\n",
       "</div>"
      ],
      "text/plain": [
       "    Humans  Robots Robot Eligibility  \\\n",
       "0        1       2              0,25   \n",
       "1        1       2               0,5   \n",
       "2        1       2                 1   \n",
       "3        1       3              0,25   \n",
       "4        1       3               0,5   \n",
       "5        1       3                 1   \n",
       "6        2       2              0,25   \n",
       "7        2       2               0,5   \n",
       "8        2       2                 1   \n",
       "9        2       3              0,25   \n",
       "10       2       3               0,5   \n",
       "11       2       3                 1   \n",
       "\n",
       "                                             Instance  \\\n",
       "0   [217, 220, 229, 232, 241, 244, 253, 256, 265, ...   \n",
       "1   [218, 221, 230, 233, 242, 245, 254, 257, 266, ...   \n",
       "2   [219, 222, 231, 234, 243, 246, 255, 258, 267, ...   \n",
       "3   [223, 226, 235, 238, 247, 250, 259, 262, 271, ...   \n",
       "4   [224, 227, 236, 239, 248, 251, 260, 263, 272, ...   \n",
       "5   [225, 228, 237, 240, 249, 252, 261, 264, 273, ...   \n",
       "6   [277, 280, 289, 292, 301, 304, 313, 316, 325, ...   \n",
       "7   [278, 281, 290, 293, 302, 305, 314, 317, 326, ...   \n",
       "8   [279, 282, 291, 294, 303, 306, 315, 318, 327, ...   \n",
       "9   [283, 286, 295, 298, 307, 310, 319, 322, 331, ...   \n",
       "10  [284, 287, 296, 299, 308, 311, 320, 323, 332, ...   \n",
       "11  [285, 288, 297, 300, 309, 312, 321, 324, 333, ...   \n",
       "\n",
       "                                                 Gaps      Gaps%  \n",
       "0   [2.1474588403722263, 24.508670520231213, 28.35...  43.472149  \n",
       "1   [2.1474588403722263, 24.508670520231213, 28.35...  43.472149  \n",
       "2   [2.1474588403722263, 24.508670520231213, 28.35...  43.472149  \n",
       "3   [2.1474588403722263, 24.508670520231213, 28.35...  43.472149  \n",
       "4   [2.1474588403722263, 24.508670520231213, 28.35...  43.472149  \n",
       "5   [2.1474588403722263, 24.508670520231213, 28.35...  43.472149  \n",
       "6   [2.1474588403722263, 24.508670520231213, 28.35...  43.472149  \n",
       "7   [2.1474588403722263, 24.508670520231213, 28.35...  43.472149  \n",
       "8   [2.1474588403722263, 24.508670520231213, 28.35...  43.472149  \n",
       "9   [2.1474588403722263, 24.508670520231213, 28.35...  43.472149  \n",
       "10  [2.1474588403722263, 24.508670520231213, 28.35...  43.472149  \n",
       "11  [2.1474588403722263, 24.508670520231213, 28.35...  43.472149  "
      ]
     },
     "execution_count": 19,
     "metadata": {},
     "output_type": "execute_result"
    }
   ],
   "source": [
    "df_instance_groups"
   ]
  },
  {
   "cell_type": "code",
   "execution_count": null,
   "metadata": {},
   "outputs": [],
   "source": []
  }
 ],
 "metadata": {
  "kernelspec": {
   "display_name": ".venv_hm_hrt",
   "language": "python",
   "name": "python3"
  },
  "language_info": {
   "codemirror_mode": {
    "name": "ipython",
    "version": 3
   },
   "file_extension": ".py",
   "mimetype": "text/x-python",
   "name": "python",
   "nbconvert_exporter": "python",
   "pygments_lexer": "ipython3",
   "version": "3.10.4"
  },
  "orig_nbformat": 4,
  "vscode": {
   "interpreter": {
    "hash": "a6289d96d3a41a28093af2b7ef3d7cfe930fbd01b56829a017029cf1de3096c1"
   }
  }
 },
 "nbformat": 4,
 "nbformat_minor": 2
}
