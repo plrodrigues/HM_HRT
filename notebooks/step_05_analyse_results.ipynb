{
 "cells": [
  {
   "attachments": {},
   "cell_type": "markdown",
   "metadata": {},
   "source": [
    "# Analyse the GA results"
   ]
  },
  {
   "cell_type": "code",
   "execution_count": 94,
   "metadata": {},
   "outputs": [
    {
     "name": "stdout",
     "output_type": "stream",
     "text": [
      "The autoreload extension is already loaded. To reload it, use:\n",
      "  %reload_ext autoreload\n"
     ]
    }
   ],
   "source": [
    "%load_ext autoreload\n",
    "%autoreload 2\n",
    "%matplotlib inline\n",
    "\n",
    "%matplotlib widget"
   ]
  },
  {
   "cell_type": "code",
   "execution_count": 95,
   "metadata": {},
   "outputs": [],
   "source": [
    "import os\n",
    "import numpy as np\n",
    "import pandas as pd\n",
    "import logging\n",
    "import pickle\n",
    "import jupyter_black\n",
    "from tqdm import tqdm\n",
    "\n",
    "from src.data_connectors import write_solution_files\n",
    "from src.data_connectors import read_input_files\n",
    "from src.data_connectors import read_solutions_files\n",
    "from src.genetic_algorithm import constants\n",
    "\n",
    "jupyter_black.load()\n",
    "\n",
    "logging.basicConfig()\n",
    "logging.getLogger().setLevel(logging.INFO)"
   ]
  },
  {
   "attachments": {},
   "cell_type": "markdown",
   "metadata": {},
   "source": [
    "## Read the results"
   ]
  },
  {
   "cell_type": "code",
   "execution_count": 96,
   "metadata": {},
   "outputs": [],
   "source": [
    "# filename = \"../data/solutions/all_ga_MMTSP_SAC_swap.pkl\"\n",
    "# filename = \"../data/solutions/all_ga_MMTSP_SAC_sorted_paretns.pkl\"\n",
    "filename = \"../data/solutions/all_ga_MMTSP_SAC_best.pkl\"\n",
    "filename = \"../data/solutions/all_ga_MMTSP_SAC.pkl\"\n",
    "with open(filename, \"rb\") as f:\n",
    "    loaded_results = pickle.load(f)"
   ]
  },
  {
   "cell_type": "code",
   "execution_count": 97,
   "metadata": {},
   "outputs": [
    {
     "data": {
      "text/plain": [
       "120"
      ]
     },
     "execution_count": 97,
     "metadata": {},
     "output_type": "execute_result"
    }
   ],
   "source": [
    "len(loaded_results)"
   ]
  },
  {
   "cell_type": "code",
   "execution_count": 98,
   "metadata": {},
   "outputs": [
    {
     "data": {
      "text/plain": [
       "217"
      ]
     },
     "execution_count": 98,
     "metadata": {},
     "output_type": "execute_result"
    }
   ],
   "source": [
    "# First instance\n",
    "loaded_results[0][-1]"
   ]
  },
  {
   "cell_type": "code",
   "execution_count": 99,
   "metadata": {},
   "outputs": [
    {
     "data": {
      "text/plain": [
       "336"
      ]
     },
     "execution_count": 99,
     "metadata": {},
     "output_type": "execute_result"
    }
   ],
   "source": [
    "# Last instance\n",
    "loaded_results[-1][-1]"
   ]
  },
  {
   "attachments": {},
   "cell_type": "markdown",
   "metadata": {},
   "source": [
    "### Get Latency results"
   ]
  },
  {
   "cell_type": "code",
   "execution_count": 100,
   "metadata": {},
   "outputs": [],
   "source": [
    "latencies = []\n",
    "for instance_number in constants.INSTANCES_LIST:\n",
    "    latency = read_solutions_files.read_latency_from_solutions_header(\n",
    "        filename=f\"../data/solutions/MMTSP-SAC/solution_{instance_number}.txt\"\n",
    "    )\n",
    "    latencies.append(latency)"
   ]
  },
  {
   "attachments": {},
   "cell_type": "markdown",
   "metadata": {},
   "source": [
    "## Process results\n",
    "\n",
    "list[all_surviving_chromosomes, all_surviving_makespans, best_makespan, duration_until_best_makespan]"
   ]
  },
  {
   "cell_type": "code",
   "execution_count": 101,
   "metadata": {},
   "outputs": [
    {
     "name": "stderr",
     "output_type": "stream",
     "text": [
      "120it [00:18,  6.55it/s]\n"
     ]
    }
   ],
   "source": [
    "instances_path = \"../data/input/HRTInstances/\"\n",
    "instances_list = constants.INSTANCES_LIST\n",
    "\n",
    "times_of_best_results = []\n",
    "\n",
    "for best, instance_number in tqdm(zip(loaded_results, instances_list)):\n",
    "    ins_x = ins_x = read_input_files.read_file(\n",
    "        os.path.join(instances_path, f\"Instance_{instance_number}.txt\")\n",
    "    )\n",
    "    times_of_best_results.append(write_solution_files.find_times_of_best_solution(ins_x, best))"
   ]
  },
  {
   "cell_type": "code",
   "execution_count": 102,
   "metadata": {},
   "outputs": [
    {
     "data": {
      "text/plain": [
       "120"
      ]
     },
     "execution_count": 102,
     "metadata": {},
     "output_type": "execute_result"
    }
   ],
   "source": [
    "# Number of isntances\n",
    "len(times_of_best_results)"
   ]
  },
  {
   "cell_type": "code",
   "execution_count": 103,
   "metadata": {},
   "outputs": [
    {
     "data": {
      "text/plain": [
       "{'0': {2: (2, 37),\n",
       "  22: (38, 73),\n",
       "  3: (74, 79),\n",
       "  23: (80, 85),\n",
       "  4: (86, 116),\n",
       "  24: (117, 147),\n",
       "  5: (148, 247),\n",
       "  25: (248, 347),\n",
       "  6: (348, 384),\n",
       "  26: (385, 421),\n",
       "  7: (422, 463),\n",
       "  27: (464, 505),\n",
       "  9: (506, 526),\n",
       "  29: (527, 547),\n",
       "  10: (548, 646),\n",
       "  30: (647, 745),\n",
       "  12: (746, 790),\n",
       "  32: (791, 835),\n",
       "  13: (836, 883),\n",
       "  33: (884, 931),\n",
       "  14: (932, 969),\n",
       "  34: (970, 1007),\n",
       "  15: (1008, 1069),\n",
       "  35: (1070, 1131),\n",
       "  17: (1132, 1162),\n",
       "  37: (1163, 1193),\n",
       "  18: (1194, 1221),\n",
       "  38: (1222, 1249),\n",
       "  20: (1250, 1338),\n",
       "  40: (1339, 1427)},\n",
       " '1': {1: (0, 1), 8: (38, 48), 11: (49, 54), 16: (791, 796), 19: (797, 891)},\n",
       " '2': {21: (0, 1), 28: (74, 84), 31: (85, 90), 36: (836, 841), 39: (842, 936)}}"
      ]
     },
     "execution_count": 103,
     "metadata": {},
     "output_type": "execute_result"
    }
   ],
   "source": [
    "# Structure of resuts\n",
    "times_of_best_results[0]"
   ]
  },
  {
   "attachments": {},
   "cell_type": "markdown",
   "metadata": {},
   "source": [
    "## Optimal Solutions"
   ]
  },
  {
   "cell_type": "code",
   "execution_count": 104,
   "metadata": {},
   "outputs": [
    {
     "data": {
      "text/html": [
       "<div>\n",
       "<style scoped>\n",
       "    .dataframe tbody tr th:only-of-type {\n",
       "        vertical-align: middle;\n",
       "    }\n",
       "\n",
       "    .dataframe tbody tr th {\n",
       "        vertical-align: top;\n",
       "    }\n",
       "\n",
       "    .dataframe thead th {\n",
       "        text-align: right;\n",
       "    }\n",
       "</style>\n",
       "<table border=\"1\" class=\"dataframe\">\n",
       "  <thead>\n",
       "    <tr style=\"text-align: right;\">\n",
       "      <th></th>\n",
       "      <th>Instance</th>\n",
       "      <th>Humans</th>\n",
       "      <th>Robots</th>\n",
       "      <th>Robot Eligibility</th>\n",
       "      <th>Optimal solution</th>\n",
       "      <th>Best known solution</th>\n",
       "      <th>Lower bound</th>\n",
       "    </tr>\n",
       "  </thead>\n",
       "  <tbody>\n",
       "    <tr>\n",
       "      <th>0</th>\n",
       "      <td>217</td>\n",
       "      <td>1</td>\n",
       "      <td>2</td>\n",
       "      <td>0,25</td>\n",
       "      <td>1397.0</td>\n",
       "      <td>1397</td>\n",
       "      <td>1397</td>\n",
       "    </tr>\n",
       "    <tr>\n",
       "      <th>1</th>\n",
       "      <td>218</td>\n",
       "      <td>1</td>\n",
       "      <td>2</td>\n",
       "      <td>0,5</td>\n",
       "      <td>865.0</td>\n",
       "      <td>865</td>\n",
       "      <td>865</td>\n",
       "    </tr>\n",
       "    <tr>\n",
       "      <th>2</th>\n",
       "      <td>219</td>\n",
       "      <td>1</td>\n",
       "      <td>2</td>\n",
       "      <td>1</td>\n",
       "      <td>529.0</td>\n",
       "      <td>529</td>\n",
       "      <td>529</td>\n",
       "    </tr>\n",
       "    <tr>\n",
       "      <th>3</th>\n",
       "      <td>220</td>\n",
       "      <td>1</td>\n",
       "      <td>2</td>\n",
       "      <td>0,25</td>\n",
       "      <td>3316.0</td>\n",
       "      <td>3316</td>\n",
       "      <td>3316</td>\n",
       "    </tr>\n",
       "    <tr>\n",
       "      <th>4</th>\n",
       "      <td>221</td>\n",
       "      <td>1</td>\n",
       "      <td>2</td>\n",
       "      <td>0,5</td>\n",
       "      <td>2476.0</td>\n",
       "      <td>2476</td>\n",
       "      <td>2476</td>\n",
       "    </tr>\n",
       "  </tbody>\n",
       "</table>\n",
       "</div>"
      ],
      "text/plain": [
       "   Instance  Humans  Robots Robot Eligibility  Optimal solution  \\\n",
       "0       217       1       2              0,25            1397.0   \n",
       "1       218       1       2               0,5             865.0   \n",
       "2       219       1       2                 1             529.0   \n",
       "3       220       1       2              0,25            3316.0   \n",
       "4       221       1       2               0,5            2476.0   \n",
       "\n",
       "   Best known solution  Lower bound  \n",
       "0                 1397         1397  \n",
       "1                  865          865  \n",
       "2                  529          529  \n",
       "3                 3316         3316  \n",
       "4                 2476         2476  "
      ]
     },
     "execution_count": 104,
     "metadata": {},
     "output_type": "execute_result"
    }
   ],
   "source": [
    "df_optimal = pd.read_csv(\"../data/solutions/optimal/OptimalSolutions.csv\", sep=\";\", header=1)\n",
    "\n",
    "df_optimal.head()"
   ]
  },
  {
   "cell_type": "code",
   "execution_count": 105,
   "metadata": {},
   "outputs": [],
   "source": [
    "def get_gap(df_optimal: pd.DataFrame, instance_number: int, best: tuple) -> float:\n",
    "    lower_bound = df_optimal[df_optimal.Instance == instance_number][\"Lower bound\"].values[0]\n",
    "    ins_result = best[2]\n",
    "    gap = (ins_result + 1 - lower_bound) / lower_bound * 100\n",
    "    logging.debug(f\"Lower Bound: {lower_bound}, Result {ins_result}\")\n",
    "    logging.debug(f\"Instance {instance_number} has Gap % = {gap:.2f} %\")\n",
    "    return gap"
   ]
  },
  {
   "cell_type": "code",
   "execution_count": 107,
   "metadata": {},
   "outputs": [
    {
     "name": "stderr",
     "output_type": "stream",
     "text": [
      "100%|██████████| 120/120 [00:00<00:00, 3211.20it/s]\n"
     ]
    }
   ],
   "source": [
    "instances_list = [x for x in range(217, 336)]\n",
    "\n",
    "pct_deviation_from_best = []\n",
    "\n",
    "for best in tqdm(loaded_results):\n",
    "    instance_number = best[-1]\n",
    "    optimal = df_optimal[df_optimal.Instance == instance_number][\"Optimal solution\"].values[0]\n",
    "    best_know = df_optimal[df_optimal.Instance == instance_number][\"Best known solution\"].values[0]\n",
    "    logging.debug(f\"Optimal: {optimal}, Best Known: {best_know}\")\n",
    "    gap = get_gap(df_optimal, instance_number, best)\n",
    "    logging.debug(f\"Instance {instance_number} has Gap % = {gap:.2f} %\")"
   ]
  },
  {
   "cell_type": "code",
   "execution_count": null,
   "metadata": {},
   "outputs": [],
   "source": []
  },
  {
   "attachments": {},
   "cell_type": "markdown",
   "metadata": {},
   "source": [
    "## Group by type"
   ]
  },
  {
   "cell_type": "code",
   "execution_count": 108,
   "metadata": {},
   "outputs": [
    {
     "name": "stderr",
     "output_type": "stream",
     "text": [
      "100%|██████████| 120/120 [00:00<00:00, 58086.15it/s]\n",
      "100%|██████████| 120/120 [00:00<00:00, 63493.94it/s]\n",
      "100%|██████████| 120/120 [00:00<00:00, 58477.57it/s]\n",
      "100%|██████████| 120/120 [00:00<00:00, 39330.82it/s]\n",
      "100%|██████████| 120/120 [00:00<00:00, 29368.45it/s]\n",
      "100%|██████████| 120/120 [00:00<00:00, 51259.44it/s]\n",
      "100%|██████████| 120/120 [00:00<00:00, 35681.02it/s]\n",
      "100%|██████████| 120/120 [00:00<00:00, 52060.04it/s]\n",
      "100%|██████████| 120/120 [00:00<00:00, 58736.90it/s]\n",
      "100%|██████████| 120/120 [00:00<00:00, 59947.17it/s]\n",
      "100%|██████████| 120/120 [00:00<00:00, 57693.31it/s]\n",
      "100%|██████████| 120/120 [00:00<00:00, 41194.67it/s]\n",
      "12it [00:00, 125.03it/s]\n"
     ]
    }
   ],
   "source": [
    "df_instance_groups = (\n",
    "    df_optimal.groupby([\"Humans\", \"Robots\", \"Robot Eligibility\"]).Instance.apply(list).reset_index()\n",
    ")\n",
    "df_instance_groups\n",
    "\n",
    "\n",
    "all_gaps = []\n",
    "all_gaps_sequence = []\n",
    "all_is_optimal = []\n",
    "all_lower_gaps = []\n",
    "all_ids_lower_gaps = []\n",
    "for idx, row_group in tqdm(df_instance_groups.iterrows()):\n",
    "    gap_group = []\n",
    "    is_optimal_group = []\n",
    "    lower_gaps = []\n",
    "    ids_lower_gaps = []\n",
    "    for best in tqdm(loaded_results):\n",
    "        instance_number = best[-1]\n",
    "        if instance_number in row_group.Instance:\n",
    "            gap_x = get_gap(df_optimal, instance_number, best)\n",
    "            gap_group.append(gap_x)\n",
    "            if gap_x <= 0:\n",
    "                is_optimal_group.append(1)\n",
    "            else:\n",
    "                is_optimal_group.append(0)\n",
    "            if gap_x <= 10:\n",
    "                lower_gaps.append(1)\n",
    "                ids_lower_gaps.append(instance_number)\n",
    "            else:\n",
    "                lower_gaps.append(0)\n",
    "                ids_lower_gaps.append(0)\n",
    "\n",
    "    all_gaps.append(gap_group)\n",
    "    all_gaps_sequence.extend(gap_group)\n",
    "    all_is_optimal.append(is_optimal_group)\n",
    "    all_lower_gaps.append(lower_gaps)\n",
    "    all_ids_lower_gaps.extend(ids_lower_gaps)\n",
    "\n",
    "df_instance_groups[\"Gaps\"] = all_gaps\n",
    "df_instance_groups[\"optimals\"] = all_is_optimal\n",
    "df_instance_groups[\"lower_gaps\"] = all_lower_gaps\n",
    "df_instance_groups[\"Gaps%\"] = round(df_instance_groups[\"Gaps\"].apply(lambda x: sum(x) / len(x)), 2)\n",
    "df_instance_groups[\"# optimals\"] = df_instance_groups[\"optimals\"].apply(lambda x: sum(x))\n",
    "df_instance_groups[\"# all_lower_gaps\"] = df_instance_groups[\"lower_gaps\"].apply(lambda x: sum(x))"
   ]
  },
  {
   "cell_type": "code",
   "execution_count": 123,
   "metadata": {},
   "outputs": [
    {
     "data": {
      "text/plain": [
       "37.59125701860223"
      ]
     },
     "execution_count": 123,
     "metadata": {},
     "output_type": "execute_result"
    }
   ],
   "source": [
    "# Mean Gaps\n",
    "np.mean(all_gaps)"
   ]
  },
  {
   "cell_type": "code",
   "execution_count": 110,
   "metadata": {},
   "outputs": [
    {
     "data": {
      "text/plain": [
       "25.291489276746727"
      ]
     },
     "execution_count": 110,
     "metadata": {},
     "output_type": "execute_result"
    }
   ],
   "source": [
    "# STD Gaps\n",
    "np.std(all_gaps)"
   ]
  },
  {
   "cell_type": "code",
   "execution_count": 122,
   "metadata": {},
   "outputs": [
    {
     "data": {
      "text/html": [
       "<div>\n",
       "<style scoped>\n",
       "    .dataframe tbody tr th:only-of-type {\n",
       "        vertical-align: middle;\n",
       "    }\n",
       "\n",
       "    .dataframe tbody tr th {\n",
       "        vertical-align: top;\n",
       "    }\n",
       "\n",
       "    .dataframe thead th {\n",
       "        text-align: right;\n",
       "    }\n",
       "</style>\n",
       "<table border=\"1\" class=\"dataframe\">\n",
       "  <thead>\n",
       "    <tr style=\"text-align: right;\">\n",
       "      <th></th>\n",
       "      <th>Humans</th>\n",
       "      <th>Robots</th>\n",
       "      <th>Robot Eligibility</th>\n",
       "      <th>Instance</th>\n",
       "      <th>Gaps</th>\n",
       "      <th>optimals</th>\n",
       "      <th>lower_gaps</th>\n",
       "      <th>Gaps%</th>\n",
       "      <th># optimals</th>\n",
       "      <th># all_lower_gaps</th>\n",
       "    </tr>\n",
       "  </thead>\n",
       "  <tbody>\n",
       "    <tr>\n",
       "      <th>0</th>\n",
       "      <td>1</td>\n",
       "      <td>2</td>\n",
       "      <td>0,25</td>\n",
       "      <td>[217, 220, 229, 232, 241, 244, 253, 256, 265, ...</td>\n",
       "      <td>[2.219040801717967, 2.2919179734620023, 10.158...</td>\n",
       "      <td>[0, 0, 0, 0, 0, 0, 0, 0, 0, 0]</td>\n",
       "      <td>[1, 1, 0, 0, 0, 0, 0, 0, 0, 0]</td>\n",
       "      <td>17.59</td>\n",
       "      <td>0</td>\n",
       "      <td>2</td>\n",
       "    </tr>\n",
       "    <tr>\n",
       "      <th>1</th>\n",
       "      <td>1</td>\n",
       "      <td>2</td>\n",
       "      <td>0,5</td>\n",
       "      <td>[218, 221, 230, 233, 242, 245, 254, 257, 266, ...</td>\n",
       "      <td>[13.0635838150289, 5.815831987075929, 10.17119...</td>\n",
       "      <td>[0, 0, 0, 0, 0, 0, 0, 0, 0, 0]</td>\n",
       "      <td>[0, 1, 0, 1, 1, 0, 0, 0, 0, 0]</td>\n",
       "      <td>19.05</td>\n",
       "      <td>0</td>\n",
       "      <td>3</td>\n",
       "    </tr>\n",
       "    <tr>\n",
       "      <th>2</th>\n",
       "      <td>1</td>\n",
       "      <td>2</td>\n",
       "      <td>1</td>\n",
       "      <td>[219, 222, 231, 234, 243, 246, 255, 258, 267, ...</td>\n",
       "      <td>[22.495274102079396, 50.98305084745762, 22.489...</td>\n",
       "      <td>[0, 0, 0, 0, 0, 0, 0, 0, 0, 0]</td>\n",
       "      <td>[0, 0, 0, 0, 0, 0, 0, 0, 0, 0]</td>\n",
       "      <td>43.59</td>\n",
       "      <td>0</td>\n",
       "      <td>0</td>\n",
       "    </tr>\n",
       "    <tr>\n",
       "      <th>3</th>\n",
       "      <td>1</td>\n",
       "      <td>3</td>\n",
       "      <td>0,25</td>\n",
       "      <td>[223, 226, 235, 238, 247, 250, 259, 262, 271, ...</td>\n",
       "      <td>[1.76678445229682, 2.3399014778325125, 8.03149...</td>\n",
       "      <td>[0, 0, 0, 0, 0, 0, 0, 0, 0, 0]</td>\n",
       "      <td>[1, 1, 1, 1, 0, 1, 0, 1, 0, 1]</td>\n",
       "      <td>10.11</td>\n",
       "      <td>0</td>\n",
       "      <td>7</td>\n",
       "    </tr>\n",
       "    <tr>\n",
       "      <th>4</th>\n",
       "      <td>1</td>\n",
       "      <td>3</td>\n",
       "      <td>0,5</td>\n",
       "      <td>[224, 227, 236, 239, 248, 251, 260, 263, 272, ...</td>\n",
       "      <td>[1.7377567140600316, 8.277027027027026, 4.4871...</td>\n",
       "      <td>[0, 0, 0, 0, 0, 0, 0, 0, 0, 0]</td>\n",
       "      <td>[1, 1, 1, 0, 0, 0, 0, 0, 0, 1]</td>\n",
       "      <td>20.47</td>\n",
       "      <td>0</td>\n",
       "      <td>4</td>\n",
       "    </tr>\n",
       "    <tr>\n",
       "      <th>5</th>\n",
       "      <td>1</td>\n",
       "      <td>3</td>\n",
       "      <td>1</td>\n",
       "      <td>[225, 228, 237, 240, 249, 252, 261, 264, 273, ...</td>\n",
       "      <td>[21.354933726067745, 44.74532559638942, 34.157...</td>\n",
       "      <td>[0, 0, 0, 0, 0, 0, 0, 0, 0, 0]</td>\n",
       "      <td>[0, 0, 0, 0, 0, 0, 0, 0, 0, 0]</td>\n",
       "      <td>48.16</td>\n",
       "      <td>0</td>\n",
       "      <td>0</td>\n",
       "    </tr>\n",
       "    <tr>\n",
       "      <th>6</th>\n",
       "      <td>2</td>\n",
       "      <td>2</td>\n",
       "      <td>0,25</td>\n",
       "      <td>[277, 280, 289, 292, 301, 304, 313, 316, 325, ...</td>\n",
       "      <td>[13.274336283185843, 16.735324407826983, 18.38...</td>\n",
       "      <td>[0, 0, 0, 0, 0, 0, 0, 0, 0, 0]</td>\n",
       "      <td>[0, 0, 0, 0, 0, 0, 0, 0, 0, 0]</td>\n",
       "      <td>30.50</td>\n",
       "      <td>0</td>\n",
       "      <td>0</td>\n",
       "    </tr>\n",
       "    <tr>\n",
       "      <th>7</th>\n",
       "      <td>2</td>\n",
       "      <td>2</td>\n",
       "      <td>0,5</td>\n",
       "      <td>[278, 281, 290, 293, 302, 305, 314, 317, 326, ...</td>\n",
       "      <td>[8.362369337979095, 45.53651938683498, 20.6806...</td>\n",
       "      <td>[0, 0, 0, 0, 0, 0, 0, 0, 0, 0]</td>\n",
       "      <td>[1, 0, 0, 0, 0, 0, 0, 0, 0, 0]</td>\n",
       "      <td>45.89</td>\n",
       "      <td>0</td>\n",
       "      <td>1</td>\n",
       "    </tr>\n",
       "    <tr>\n",
       "      <th>8</th>\n",
       "      <td>2</td>\n",
       "      <td>2</td>\n",
       "      <td>1</td>\n",
       "      <td>[279, 282, 291, 294, 303, 306, 315, 318, 327, ...</td>\n",
       "      <td>[43.53741496598639, 85.25714285714285, 76.1682...</td>\n",
       "      <td>[0, 0, 0, 0, 0, 0, 0, 0, 0, 0]</td>\n",
       "      <td>[0, 0, 0, 0, 0, 0, 0, 0, 0, 0]</td>\n",
       "      <td>66.47</td>\n",
       "      <td>0</td>\n",
       "      <td>0</td>\n",
       "    </tr>\n",
       "    <tr>\n",
       "      <th>9</th>\n",
       "      <td>2</td>\n",
       "      <td>3</td>\n",
       "      <td>0,25</td>\n",
       "      <td>[283, 286, 295, 298, 307, 310, 319, 322, 331, ...</td>\n",
       "      <td>[3.821656050955414, 14.911952041963284, 35.616...</td>\n",
       "      <td>[0, 0, 0, 0, 0, 0, 0, 0, 0, 0]</td>\n",
       "      <td>[1, 0, 0, 0, 0, 0, 0, 0, 0, 0]</td>\n",
       "      <td>31.04</td>\n",
       "      <td>0</td>\n",
       "      <td>1</td>\n",
       "    </tr>\n",
       "    <tr>\n",
       "      <th>10</th>\n",
       "      <td>2</td>\n",
       "      <td>3</td>\n",
       "      <td>0,5</td>\n",
       "      <td>[284, 287, 296, 299, 308, 311, 320, 323, 332, ...</td>\n",
       "      <td>[23.376623376623375, 44.832677165354326, 22.68...</td>\n",
       "      <td>[0, 0, 0, 0, 0, 0, 0, 0, 0, 0]</td>\n",
       "      <td>[0, 0, 0, 0, 0, 0, 0, 0, 0, 0]</td>\n",
       "      <td>46.32</td>\n",
       "      <td>0</td>\n",
       "      <td>0</td>\n",
       "    </tr>\n",
       "    <tr>\n",
       "      <th>11</th>\n",
       "      <td>2</td>\n",
       "      <td>3</td>\n",
       "      <td>1</td>\n",
       "      <td>[285, 288, 297, 300, 309, 312, 321, 324, 333, ...</td>\n",
       "      <td>[68.44660194174757, 63.7633525061627, 27.59433...</td>\n",
       "      <td>[0, 0, 0, 0, 0, 0, 0, 0, 0, 0]</td>\n",
       "      <td>[0, 0, 0, 0, 0, 0, 0, 0, 0, 0]</td>\n",
       "      <td>71.93</td>\n",
       "      <td>0</td>\n",
       "      <td>0</td>\n",
       "    </tr>\n",
       "  </tbody>\n",
       "</table>\n",
       "</div>"
      ],
      "text/plain": [
       "    Humans  Robots Robot Eligibility  \\\n",
       "0        1       2              0,25   \n",
       "1        1       2               0,5   \n",
       "2        1       2                 1   \n",
       "3        1       3              0,25   \n",
       "4        1       3               0,5   \n",
       "5        1       3                 1   \n",
       "6        2       2              0,25   \n",
       "7        2       2               0,5   \n",
       "8        2       2                 1   \n",
       "9        2       3              0,25   \n",
       "10       2       3               0,5   \n",
       "11       2       3                 1   \n",
       "\n",
       "                                             Instance  \\\n",
       "0   [217, 220, 229, 232, 241, 244, 253, 256, 265, ...   \n",
       "1   [218, 221, 230, 233, 242, 245, 254, 257, 266, ...   \n",
       "2   [219, 222, 231, 234, 243, 246, 255, 258, 267, ...   \n",
       "3   [223, 226, 235, 238, 247, 250, 259, 262, 271, ...   \n",
       "4   [224, 227, 236, 239, 248, 251, 260, 263, 272, ...   \n",
       "5   [225, 228, 237, 240, 249, 252, 261, 264, 273, ...   \n",
       "6   [277, 280, 289, 292, 301, 304, 313, 316, 325, ...   \n",
       "7   [278, 281, 290, 293, 302, 305, 314, 317, 326, ...   \n",
       "8   [279, 282, 291, 294, 303, 306, 315, 318, 327, ...   \n",
       "9   [283, 286, 295, 298, 307, 310, 319, 322, 331, ...   \n",
       "10  [284, 287, 296, 299, 308, 311, 320, 323, 332, ...   \n",
       "11  [285, 288, 297, 300, 309, 312, 321, 324, 333, ...   \n",
       "\n",
       "                                                 Gaps  \\\n",
       "0   [2.219040801717967, 2.2919179734620023, 10.158...   \n",
       "1   [13.0635838150289, 5.815831987075929, 10.17119...   \n",
       "2   [22.495274102079396, 50.98305084745762, 22.489...   \n",
       "3   [1.76678445229682, 2.3399014778325125, 8.03149...   \n",
       "4   [1.7377567140600316, 8.277027027027026, 4.4871...   \n",
       "5   [21.354933726067745, 44.74532559638942, 34.157...   \n",
       "6   [13.274336283185843, 16.735324407826983, 18.38...   \n",
       "7   [8.362369337979095, 45.53651938683498, 20.6806...   \n",
       "8   [43.53741496598639, 85.25714285714285, 76.1682...   \n",
       "9   [3.821656050955414, 14.911952041963284, 35.616...   \n",
       "10  [23.376623376623375, 44.832677165354326, 22.68...   \n",
       "11  [68.44660194174757, 63.7633525061627, 27.59433...   \n",
       "\n",
       "                          optimals                      lower_gaps  Gaps%  \\\n",
       "0   [0, 0, 0, 0, 0, 0, 0, 0, 0, 0]  [1, 1, 0, 0, 0, 0, 0, 0, 0, 0]  17.59   \n",
       "1   [0, 0, 0, 0, 0, 0, 0, 0, 0, 0]  [0, 1, 0, 1, 1, 0, 0, 0, 0, 0]  19.05   \n",
       "2   [0, 0, 0, 0, 0, 0, 0, 0, 0, 0]  [0, 0, 0, 0, 0, 0, 0, 0, 0, 0]  43.59   \n",
       "3   [0, 0, 0, 0, 0, 0, 0, 0, 0, 0]  [1, 1, 1, 1, 0, 1, 0, 1, 0, 1]  10.11   \n",
       "4   [0, 0, 0, 0, 0, 0, 0, 0, 0, 0]  [1, 1, 1, 0, 0, 0, 0, 0, 0, 1]  20.47   \n",
       "5   [0, 0, 0, 0, 0, 0, 0, 0, 0, 0]  [0, 0, 0, 0, 0, 0, 0, 0, 0, 0]  48.16   \n",
       "6   [0, 0, 0, 0, 0, 0, 0, 0, 0, 0]  [0, 0, 0, 0, 0, 0, 0, 0, 0, 0]  30.50   \n",
       "7   [0, 0, 0, 0, 0, 0, 0, 0, 0, 0]  [1, 0, 0, 0, 0, 0, 0, 0, 0, 0]  45.89   \n",
       "8   [0, 0, 0, 0, 0, 0, 0, 0, 0, 0]  [0, 0, 0, 0, 0, 0, 0, 0, 0, 0]  66.47   \n",
       "9   [0, 0, 0, 0, 0, 0, 0, 0, 0, 0]  [1, 0, 0, 0, 0, 0, 0, 0, 0, 0]  31.04   \n",
       "10  [0, 0, 0, 0, 0, 0, 0, 0, 0, 0]  [0, 0, 0, 0, 0, 0, 0, 0, 0, 0]  46.32   \n",
       "11  [0, 0, 0, 0, 0, 0, 0, 0, 0, 0]  [0, 0, 0, 0, 0, 0, 0, 0, 0, 0]  71.93   \n",
       "\n",
       "    # optimals  # all_lower_gaps  \n",
       "0            0                 2  \n",
       "1            0                 3  \n",
       "2            0                 0  \n",
       "3            0                 7  \n",
       "4            0                 4  \n",
       "5            0                 0  \n",
       "6            0                 0  \n",
       "7            0                 1  \n",
       "8            0                 0  \n",
       "9            0                 1  \n",
       "10           0                 0  \n",
       "11           0                 0  "
      ]
     },
     "execution_count": 122,
     "metadata": {},
     "output_type": "execute_result"
    }
   ],
   "source": [
    "# Results\n",
    "df_instance_groups"
   ]
  },
  {
   "cell_type": "code",
   "execution_count": 112,
   "metadata": {},
   "outputs": [
    {
     "data": {
      "text/plain": [
       "18"
      ]
     },
     "execution_count": 112,
     "metadata": {},
     "output_type": "execute_result"
    }
   ],
   "source": [
    "# Number of instances \n",
    "df_instance_groups[\"# all_lower_gaps\"].sum()"
   ]
  },
  {
   "cell_type": "code",
   "execution_count": 113,
   "metadata": {},
   "outputs": [
    {
     "data": {
      "text/plain": [
       "210.40291666666664"
      ]
     },
     "execution_count": 113,
     "metadata": {},
     "output_type": "execute_result"
    }
   ],
   "source": [
    "# Mean latency (per instance) \n",
    "np.mean(latencies)"
   ]
  },
  {
   "cell_type": "code",
   "execution_count": 114,
   "metadata": {},
   "outputs": [
    {
     "data": {
      "text/plain": [
       "3.5067152777777775"
      ]
     },
     "execution_count": 114,
     "metadata": {},
     "output_type": "execute_result"
    }
   ],
   "source": [
    "# Mean Latency (per instance) in minutes\n",
    "np.mean(latencies) / 60"
   ]
  },
  {
   "cell_type": "code",
   "execution_count": 115,
   "metadata": {},
   "outputs": [
    {
     "data": {
      "text/plain": [
       "7.013430555555555"
      ]
     },
     "execution_count": 115,
     "metadata": {},
     "output_type": "execute_result"
    }
   ],
   "source": [
    "# Total latency in houra\n",
    "np.sum(latencies) / 60 / 60"
   ]
  },
  {
   "cell_type": "code",
   "execution_count": 116,
   "metadata": {},
   "outputs": [
    {
     "data": {
      "text/plain": [
       "21"
      ]
     },
     "execution_count": 116,
     "metadata": {},
     "output_type": "execute_result"
    }
   ],
   "source": [
    "# Total instances with results in less than 1 minute\n",
    "len([x for x in latencies if x < 60])"
   ]
  },
  {
   "cell_type": "code",
   "execution_count": 126,
   "metadata": {},
   "outputs": [
    {
     "data": {
      "text/plain": [
       "18"
      ]
     },
     "execution_count": 126,
     "metadata": {},
     "output_type": "execute_result"
    }
   ],
   "source": [
    "# Instance with lower gaps\n",
    "all_lower_gaps_than_10 = [x for x, y in zip(all_gaps_sequence, all_ids_lower_gaps) if y != 0]\n",
    "# Number of instance with lower gaps\n",
    "all_ids_lower_gaps = [x for x in all_ids_lower_gaps if x > 0]\n",
    "len(all_ids_lower_gaps)"
   ]
  },
  {
   "cell_type": "code",
   "execution_count": 128,
   "metadata": {},
   "outputs": [
    {
     "data": {
      "text/plain": [
       "5.993867694116094"
      ]
     },
     "execution_count": 128,
     "metadata": {},
     "output_type": "execute_result"
    }
   ],
   "source": [
    "# Mean value of instances with lower gap\n",
    "np.mean(all_lower_gaps_than_10)"
   ]
  }
 ],
 "metadata": {
  "kernelspec": {
   "display_name": ".venv_hm_hrt",
   "language": "python",
   "name": "python3"
  },
  "language_info": {
   "codemirror_mode": {
    "name": "ipython",
    "version": 3
   },
   "file_extension": ".py",
   "mimetype": "text/x-python",
   "name": "python",
   "nbconvert_exporter": "python",
   "pygments_lexer": "ipython3",
   "version": "3.10.4"
  },
  "orig_nbformat": 4,
  "vscode": {
   "interpreter": {
    "hash": "a6289d96d3a41a28093af2b7ef3d7cfe930fbd01b56829a017029cf1de3096c1"
   }
  }
 },
 "nbformat": 4,
 "nbformat_minor": 2
}
